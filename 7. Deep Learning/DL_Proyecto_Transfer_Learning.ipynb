{
  "nbformat": 4,
  "nbformat_minor": 0,
  "metadata": {
    "colab": {
      "provenance": []
    },
    "kernelspec": {
      "name": "python3",
      "display_name": "Python 3"
    }
  },
  "cells": [
    {
      "cell_type": "markdown",
      "metadata": {
        "id": "q6Fd9QhdHmb_"
      },
      "source": [
        "# Deep Learning\n",
        "# **Capstone Transfer Learning**\n",
        "\n"
      ]
    },
    {
      "cell_type": "markdown",
      "metadata": {
        "id": "vQBeevv7vnp6"
      },
      "source": [
        "El aprendizaje por transferencia (**Transfer Learning**) es un método de aprendizaje automático en el que un modelo desarrollado para una tarea se reutiliza como punto de partida para un modelo en una segunda tarea.\n",
        "\n",
        "Es un enfoque popular en el aprendizaje profundo en el que los modelos previamente entrenados se utilizan como punto de partida para resolver problemas de visión computacional y tareas de procesamiento del lenguaje natural, dados los vastos recursos informáticos y de tiempo necesarios para desarrollar modelos de redes neuronales para estos problemas."
      ]
    },
    {
      "cell_type": "markdown",
      "source": [
        "## Importancia de Transfer Learning\n",
        "\n",
        "Transfer Learning permite aprovechar la experiencia de la comunidad de usuarios de Deep Learning. Modelos populares previamente entrenados ofrecen una arquitectura sólida y evitan la necesidad de empezar desde cero. Transfer Learning es una técnica común de aprendizaje supervisado, ya que:\n",
        "\n",
        "* Permite entrenar modelos con menos datos etiquetados reutilizando modelos populares ya entrenados con conjuntos de datos de gran tamaño.\n",
        "\n",
        "* Ayuda a reducir el tiempo de entrenamiento y los recursos informáticos. Con Transfer Learning, los pesos de la red neuronal no se aprenden desde cero, dado que el modelo previamente entrenado ya los ha aprendido con los aprendizajes anteriores.\n",
        "\n",
        "* Puede utilizar arquitecturas de modelos desarrolladas por la comunidad de investigadores de Deep Learning, incluidas arquitecturas populares tales como GoogLeNet y YOLO.\n",
        "\n",
        "<img src='https://drive.google.com/uc?export=view&id=1TQIIbYrc6Lha6052_piYwDg10eYOu2_S' width=\"600\" align=\"center\" style=\"margin-right: 20px\">"
      ],
      "metadata": {
        "id": "ekeX-rksDPjS"
      }
    },
    {
      "cell_type": "markdown",
      "metadata": {
        "id": "T_7YHPR-IDE9"
      },
      "source": [
        "## ¿Qué es Transfer Learning?\n",
        "\n",
        "La transferencia de aprendizaje y la adaptación de dominio se refieren a la\n",
        "situación en la que lo que se ha aprendido en un entorno ... posteriormente se explota para mejorar la generalización en otro entorno.\n",
        "\n",
        "1. Bengio, Y., Goodfellow, I., & Courville, A. (2017). Deep learning (Vol. 1). Massachusetts, USA:: MIT press.\n",
        "\n",
        "El aprendizaje por transferencia es la mejora del aprendizaje en una nueva tarea mediante la transferencia de conocimientos de una tarea relacionada que ya se ha aprendido.\n",
        "\n",
        "2. Olivas, E. S., Guerrero, J. D. M., Martinez-Sober, M., Magdalena-Benedito, J. R., & Serrano, L. (Eds.). (2009). Handbook of research on machine learning applications and trends: Algorithms, methods, and techniques: Algorithms, methods, and techniques. IGI Global.\n",
        "\n",
        "El aprendizaje por transferencia está relacionado con problemas como el aprendizaje multitarea y la deriva de conceptos y no es exclusivamente un área de estudio para el aprendizaje profundo.\n",
        "\n",
        "Sin embargo, el aprendizaje por transferencia es popular en el aprendizaje profundo dados los enormes recursos necesarios para entrenar modelos de aprendizaje profundo o los grandes y desafiantes conjuntos de datos en los que se entrenan los modelos de aprendizaje profundo.\n",
        "\n"
      ]
    },
    {
      "cell_type": "markdown",
      "metadata": {
        "id": "B3GkcH-7JwiF"
      },
      "source": [
        "El aprendizaje por transferencia solo funciona en el aprendizaje profundo si las características del modelo aprendidas en la primera tarea son generales.\n",
        "\n",
        "<img src='https://drive.google.com/uc?export=view&id=1qUfvP-YW5KoW48548ywZzhpBF4-uUuFy' width=\"600\" align=\"center\" style=\"margin-right: 20px\">\n",
        "\n",
        "\n",
        "\n",
        "\n",
        "\n"
      ]
    },
    {
      "cell_type": "markdown",
      "source": [
        "### ¿Entrenamiento Desde Cero o Transfer Learning?\n",
        "\n",
        "Para crear un modelo de Deep Learning, puede entrenar el modelo desde cero o realizar Transfer Learning con un modelo previamente entrenado.\n",
        "\n",
        "Desarrollar y entrenar un modelo desde cero funciona mejor para tareas muy específicas donde no se puedan utilizar modelos preexistentes. La desventaja de este enfoque es que generalmente requiere una gran cantidad de datos para obtener resultados precisos. Crear un modelo desde cero también funciona bien en casos donde redes más pequeñas pueden lograr la precisión deseada. Por ejemplo, las redes neuronales recurrentes (RNN) y las redes de memoria a corto-largo plazo (LSTM) son particularmente efectivas con datos secuenciales que varían en longitud, y resuelven problemas tales como clasificación de señales y predicción de series temporales.\n",
        "\n",
        "Transfer Learning es útil en tareas para las que existen diversos modelos previamente entrenados. Por ejemplo, muchas redes neuronales convolucionales (CNN) populares se entrenan previamente con el conjunto de datos ImageNet, que contiene más de 14 millones de imágenes y miles de clases de imágenes. Si necesita clasificar imágenes de flores (o cualquier imagen no incluida en el conjunto de datos ImageNet) y tiene un número limitado de imágenes de flores, puede transferir las capas y pesos de una red SqueezeNet, reemplazar las capas finales y volver a entrenar el modelo con las imágenes que tiene.\n",
        "\n",
        "Este enfoque de Transfer Learning ayuda a lograr mayor precisión en menos tiempo.\n",
        "\n"
      ],
      "metadata": {
        "id": "EZ3R39x4FWtw"
      }
    },
    {
      "cell_type": "markdown",
      "metadata": {
        "id": "6lQ_lxO_L5pZ"
      },
      "source": [
        "El objetivo de la transferencia de aprendizaje es mejorar el aprendizaje en la tarea objetivo aprovechando el conocimiento de la tarea de origen.\n",
        "\n",
        "Hay tres medidas comunes mediante las cuales la transferencia puede mejorar el aprendizaje:\n",
        "\n",
        "1. El rendimiento inicial alcanzable en la tarea objetivo utilizando solo el conocimiento transferido.\n",
        "2. Cantidad de tiempo que se necesita para aprender completamente la tarea objetivo dado el conocimiento transferido en comparación con la cantidad de  tiempo en aprenderlo desde cero.\n",
        "3. Nivel de rendimiento final alcanzable en la tarea objetivo al nivel final sin traspaso.\n",
        "\n",
        "<img src='https://drive.google.com/uc?export=view&id=1zsA9JaTsW_PRdFmzO7OSEwYzN1NXv8C5' width=\"600\" align=\"center\" style=\"margin-right: 20px\">"
      ]
    },
    {
      "cell_type": "markdown",
      "metadata": {
        "id": "fH-NZ9q_NEkc"
      },
      "source": [
        "La forma de aprendizaje por transferencia que se utiliza en el aprendizaje profundo se denomina transferencia inductiva. Aquí es donde el alcance de los posibles modelos se reduce de una manera beneficiosa mediante el uso de un modelo que se ajusta a una tarea diferente pero relacionada. Otra área importante está en el contexto del aprendizaje por refuerzo e implica la extensión de algoritmos como Q-learning y búsqueda de políticas.\n",
        "\n",
        "En una tarea de aprendizaje inductivo, el objetivo es inducir un modelo predictivo a partir de un conjunto de ejemplos de entrenamiento. (Mitchell, 1997). A menudo, el objetivo es la clasificación, es decir, asignar etiquetas de clase a los ejemplos. Ejemplos de Los sistemas de clasificación son redes neuronales artificiales y aprendices de reglas simbólicas.\n",
        "\n",
        "Mitchell, T. (1997). Machine learning. New York: McGraw-Hill."
      ]
    },
    {
      "cell_type": "markdown",
      "metadata": {
        "id": "crIwmBH6SJXT"
      },
      "source": [
        "Metodología\n",
        "\n",
        "1. Seleccione el modelo de origen. Se elige un modelo de origen entrenado previamente entre los modelos disponibles. Muchas instituciones de investigación publican modelos en conjuntos de datos grandes y desafiantes que pueden incluirse en el grupo de modelos candidatos entre los que elegir.\n",
        "\n",
        "2. Modelo de reutilización. El modelo previamente entrenado se puede utilizar como punto de partida para un modelo en la segunda tarea de interés. Esto puede implicar el uso total o parcial del modelo, según la técnica de modelado utilizada.\n",
        "\n",
        "3. Sintonizar modelo. Opcionalmente, el modelo puede necesitar ser adaptado o refinado en los datos del par de entrada-salida disponibles para la tarea de interés."
      ]
    },
    {
      "cell_type": "markdown",
      "metadata": {
        "id": "wSVxq-6rN-qu"
      },
      "source": [
        "#<font color='green'>**Capstone Deep Learning**</font>\n",
        "\n",
        "Este capstone consiste en entrenar un modelo para clasificar imágenes de perros y gatos. Para ello deberá utilizar transfer learning y fine tuning (ajuste fino)para construir su clasificador. Para crear su modelo de deep learning, deberá seguir los siguientes pasos:\n",
        "\n",
        "1. **Seleccione el modelo de origen**. Debe elegir un modelo de origen entrenado previamente entre los modelos disponibles. Muchas instituciones de investigación publican modelos en conjuntos de datos grandes y desafiantes que pueden incluirse en el grupo de modelos candidatos entre los que elegir.\n",
        "\n",
        "2. **Modelo de reutilización**. El modelo elegido (que ha sido previamente entrenado para una tarea de propósito general) se puede utilizar como punto de partida para un modelo en la segunda tarea de interés, en este caso para construir el clasificador de perros y gatos. Esto puede implicar el uso total o parcial del modelo, según la técnica de modelado utilizada.\n",
        "\n",
        "3. **Sintonizar modelo**. Opcionalmente, el modelo puede necesitar ser adaptado o refinado en los datos del par de entrada-salida disponibles para la tarea de interés.\n",
        "\n",
        "Utilizando el dataset de entrenamiento compartido en el link siguiente y un modelo preentrenado como por ejemplo **inceptionv3** o **resnet**, resuelva el problema de clasificacione de imagenes de perros y gatos.\n",
        "\n",
        "Conjunto de entrenamiento:\n",
        " * https://drive.google.com/drive/folders/1ggWZk2Ywpg4oFgux-s32rOuWg6LLG2_M?usp=sharing\n",
        "\n",
        "Posteriormente verifiquelo con el siguiente conjunto de datos.\n",
        "\n",
        "Conjunto de prueba:\n",
        "* https://drive.google.com/drive/folders/1QgDd4-MpVPkZJIHqoeoU2J1BjL2UHVaC?usp=sharing\n",
        "\n",
        "Se sugiere utilizar dos aproximaciones:\n",
        "\n",
        "1. **Transfer Learning**: tome una ConvNet que haya sido previamente entrenada en ImageNet por ejemplo, elimine la última capa fully connected y luego trate el resto de ConvNet como un extractor de características para el nuevo conjunto de datos. Una vez que extraiga las características de todas las imágenes, entrene un clasificador para el nuevo conjunto de datos.\n",
        "\n",
        "Este metodo se puede mejorar utilizando\n",
        "\n",
        "2. **Ajuste fino**: reemplace y reentrene el clasificador en la parte superior de ConvNet, y también ajuste los pesos de la red preentrenada mediante retropropagación.\n",
        "\n",
        "Una vez construido su clasificador, entregue las métricas de performance de su modelo. En este caso, matriz de confusión, accuracy, precisión y recall. Recuerde que el resultado de su modelo debe ser evaluado sobre el conjunto de prueba. Además deberá graficar las curvas asociadas al proceso de entrenamiento del modelo.\n",
        "\n",
        "Evalúe y analice los resultados obtenidos."
      ]
    }
  ]
}