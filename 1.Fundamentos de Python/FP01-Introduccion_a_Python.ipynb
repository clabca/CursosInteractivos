{
 "cells": [
  {
   "cell_type": "markdown",
   "metadata": {
    "id": "ukqkTxThSKu5"
   },
   "source": [
    "# **Introducción a Python**\n",
    "# FP01. Introducción a Python"
   ]
  },
  {
   "cell_type": "markdown",
   "metadata": {
    "id": "e__p9PGPyird"
   },
   "source": [
    "## <font color='orange'>Cómo aprenderemos Python?</font>\n",
    "Durante el presente curso, ustedes recibirán un entrenamiento para convertirse en agentes secretos de criptografía. Conocerán las reglas y secretos de Python a fondo y lograrán desarrollar un proyecto final en el cual desarrollarán una máquina [Enigma](https://es.wikipedia.org/wiki/Enigma_(máquina)). Con esta máquina criptográfica deberán descifrar el desafío final del curso.\n",
    "\n",
    "Mucha suerte aprendices de hackers!!"
   ]
  },
  {
   "cell_type": "markdown",
   "metadata": {},
   "source": [
    "## <font color='blue'>**Caja Interactiva de Jupyter**</font>\n",
    "Usaremos Cuadernos de Jupyter para aprender interactivamente. \n",
    "Para ejecutar lo que vas programando aprieta **Control + Enter**."
   ]
  },
  {
   "cell_type": "code",
   "execution_count": null,
   "metadata": {},
   "outputs": [],
   "source": [
    "# Esta es una Celda de Jupyter que contiene un ejemplo de código Python.\n",
    "# El código imprime \"¡Hola, mundo!\" en la salida estándar.\n",
    "\n",
    "\n",
    "print(\"¡Hola, mundo!\")\n",
    "\n",
    "\n",
    "# Puedes ejecutar este código teniendo activa esta celda y presionando Ctrl+Enter.\n",
    "# Si estás utilizando un entorno de Jupyter Notebook, asegúrate de que la celda esté activa.\n",
    "# Este es un ejemplo básico para familiarizarte con la sintaxis de Python.\n",
    "# Puedes modificar el mensaje dentro de las comillas para imprimir algo diferente.\n",
    "\n",
    "# ahora Control+Enter para ejecutar la celda\n",
    "# El resultado debería ser:\n",
    "# ¡Hola, mundo!"
   ]
  },
  {
   "cell_type": "code",
   "execution_count": null,
   "metadata": {},
   "outputs": [],
   "source": [
    "# Si ves el mensaje anterior, significa que el código se ejecutó correctamente.\n",
    "# Hagamos un pequeño ejercicio: cambia el mensaje a \"¡Hola, Python!\" y vuelve a ejecutar la celda.\n",
    "# Esto te ayudará a entender cómo funciona la ejecución de celdas en Jupyter.\n",
    "# Ejecuta con Ctrl+Enter teniendo activa esta celda.\n",
    "\n",
    "\n",
    "print(\"¡Hola, Python!\")\n"
   ]
  },
  {
   "cell_type": "code",
   "execution_count": null,
   "metadata": {},
   "outputs": [],
   "source": [
    "# ahora Ejecuta esta celda nuevamente con Ctrl+Enter.\n",
    "\n",
    "3+4"
   ]
  },
  {
   "cell_type": "markdown",
   "metadata": {},
   "source": [
    "# si te dio 7 , ya sabes Ejecutar Codigo Python. #"
   ]
  },
  {
   "cell_type": "markdown",
   "metadata": {
    "id": "pCqshoFASKu7"
   },
   "source": [
    "## <font color='blue'>**El Zen de Python**</font>\n",
    "El veterano pytonista Tim Peters, canaliza sucintamente los principios rectores para el diseño de Python en 19 aforismos. Se le conoce como **El Zen de Python**."
   ]
  },
  {
   "cell_type": "code",
   "execution_count": null,
   "metadata": {
    "colab": {
     "base_uri": "https://localhost:8080/"
    },
    "executionInfo": {
     "elapsed": 27,
     "status": "ok",
     "timestamp": 1694133503720,
     "user": {
      "displayName": "Carol Diaz",
      "userId": "03863088177087652040"
     },
     "user_tz": 180
    },
    "id": "cIZbli-wSKu8",
    "outputId": "3f685836-914d-4509-e423-a1443160097a"
   },
   "outputs": [],
   "source": [
    "# El Zen de Python\n",
    "import this"
   ]
  },
  {
   "cell_type": "markdown",
   "metadata": {
    "id": "j6TcNepCSKvA"
   },
   "source": [
    "## <font color='blue'>**Variables**</font>"
   ]
  },
  {
   "cell_type": "markdown",
   "metadata": {
    "id": "FsZ3ne33SKvC"
   },
   "source": [
    "Un nombre que se usa para denotar algo o un valor se llama variable. En Python, las variables se pueden declarar y se le pueden asignar valores de la siguiente manera,"
   ]
  },
  {
   "cell_type": "code",
   "execution_count": null,
   "metadata": {
    "executionInfo": {
     "elapsed": 776,
     "status": "ok",
     "timestamp": 1694133665891,
     "user": {
      "displayName": "Carol Diaz",
      "userId": "03863088177087652040"
     },
     "user_tz": 180
    },
    "id": "boRLkp-2SKvD"
   },
   "outputs": [],
   "source": [
    "x = 2\n",
    "y = 5\n",
    "xy = 'Hey'"
   ]
  },
  {
   "cell_type": "code",
   "execution_count": null,
   "metadata": {
    "colab": {
     "base_uri": "https://localhost:8080/"
    },
    "executionInfo": {
     "elapsed": 12,
     "status": "ok",
     "timestamp": 1694133682030,
     "user": {
      "displayName": "Carol Diaz",
      "userId": "03863088177087652040"
     },
     "user_tz": 180
    },
    "id": "m-xNhpDQSKvG",
    "outputId": "56da1980-61bd-473c-b96b-e7f8ddac686a"
   },
   "outputs": [],
   "source": [
    "# Aquí usamos nuestra primera función: print()\n",
    "\n",
    "print(x + y, xy)"
   ]
  },
  {
   "cell_type": "markdown",
   "metadata": {
    "id": "3v_UgKKkSKvI"
   },
   "source": [
    "Multiples variables pueden ser asignadas con el mismo valor."
   ]
  },
  {
   "cell_type": "code",
   "execution_count": null,
   "metadata": {
    "executionInfo": {
     "elapsed": 5,
     "status": "ok",
     "timestamp": 1694133684392,
     "user": {
      "displayName": "Carol Diaz",
      "userId": "03863088177087652040"
     },
     "user_tz": 180
    },
    "id": "5mIoxxN9SKvJ"
   },
   "outputs": [],
   "source": [
    "x = y = 20"
   ]
  },
  {
   "cell_type": "code",
   "execution_count": null,
   "metadata": {
    "colab": {
     "base_uri": "https://localhost:8080/"
    },
    "executionInfo": {
     "elapsed": 486,
     "status": "ok",
     "timestamp": 1694133687256,
     "user": {
      "displayName": "Carol Diaz",
      "userId": "03863088177087652040"
     },
     "user_tz": 180
    },
    "id": "H_-JtHX1SKvM",
    "outputId": "d629f925-d3bf-447e-80ec-4220423ebbca"
   },
   "outputs": [],
   "source": [
    "print(x, y)"
   ]
  },
  {
   "cell_type": "markdown",
   "metadata": {
    "id": "72RcAngJSKvP"
   },
   "source": [
    "Si has programado en otros lenguajes, probablemente aprendiste que las variables eran una suerte de \"caja\" en la cual guardabas algo. En Python ese concepto es algo distinto. Mira:"
   ]
  },
  {
   "cell_type": "code",
   "execution_count": null,
   "metadata": {
    "executionInfo": {
     "elapsed": 364,
     "status": "ok",
     "timestamp": 1694133698874,
     "user": {
      "displayName": "Carol Diaz",
      "userId": "03863088177087652040"
     },
     "user_tz": 180
    },
    "id": "4JemAWBcSKvP"
   },
   "outputs": [],
   "source": [
    "a = 1"
   ]
  },
  {
   "cell_type": "code",
   "execution_count": null,
   "metadata": {
    "colab": {
     "base_uri": "https://localhost:8080/"
    },
    "executionInfo": {
     "elapsed": 343,
     "status": "ok",
     "timestamp": 1694133702421,
     "user": {
      "displayName": "Carol Diaz",
      "userId": "03863088177087652040"
     },
     "user_tz": 180
    },
    "id": "lamwRl8ISKvS",
    "outputId": "d44bb7ac-d8f8-4a76-ef7b-cfa7af0b5397"
   },
   "outputs": [],
   "source": [
    "id(a)"
   ]
  },
  {
   "cell_type": "markdown",
   "metadata": {
    "id": "3pUY587JyeNv"
   },
   "source": [
    "Si te fijas el identificador de $a$, `id(a)`, nos da un valor. Si asigno 1 a otra variable, en este caso $b$, te darás cuenta que se obtiene el mismo identificador. En Python las variables apuntan a direcciones de memoria en las cuales se almacenan objetos."
   ]
  },
  {
   "cell_type": "code",
   "execution_count": null,
   "metadata": {
    "executionInfo": {
     "elapsed": 14,
     "status": "ok",
     "timestamp": 1694133705352,
     "user": {
      "displayName": "Carol Diaz",
      "userId": "03863088177087652040"
     },
     "user_tz": 180
    },
    "id": "yvvt-KgESKvV"
   },
   "outputs": [],
   "source": [
    "b = 1"
   ]
  },
  {
   "cell_type": "code",
   "execution_count": null,
   "metadata": {
    "colab": {
     "base_uri": "https://localhost:8080/"
    },
    "executionInfo": {
     "elapsed": 12,
     "status": "ok",
     "timestamp": 1694133707095,
     "user": {
      "displayName": "Carol Diaz",
      "userId": "03863088177087652040"
     },
     "user_tz": 180
    },
    "id": "svNrsowiSKvY",
    "outputId": "b6962cd7-468d-4593-fa27-370e376e17ef"
   },
   "outputs": [],
   "source": [
    "id(b)"
   ]
  },
  {
   "cell_type": "code",
   "execution_count": null,
   "metadata": {
    "colab": {
     "base_uri": "https://localhost:8080/"
    },
    "executionInfo": {
     "elapsed": 12,
     "status": "ok",
     "timestamp": 1694133709894,
     "user": {
      "displayName": "Carol Diaz",
      "userId": "03863088177087652040"
     },
     "user_tz": 180
    },
    "id": "jk-XjX5TSKva",
    "outputId": "044222fd-f720-4cbd-f7c1-40daa5fe2026"
   },
   "outputs": [],
   "source": [
    "# Veamos si son iguales usando el operador ==\n",
    "id(a) == id(b)"
   ]
  },
  {
   "cell_type": "code",
   "execution_count": null,
   "metadata": {
    "colab": {
     "base_uri": "https://localhost:8080/"
    },
    "executionInfo": {
     "elapsed": 14,
     "status": "ok",
     "timestamp": 1694133712035,
     "user": {
      "displayName": "Carol Diaz",
      "userId": "03863088177087652040"
     },
     "user_tz": 180
    },
    "id": "6H0YTx5kSKve",
    "outputId": "43373422-b67c-4588-a24e-917ef4a5779f"
   },
   "outputs": [],
   "source": [
    "id(1)"
   ]
  },
  {
   "cell_type": "code",
   "execution_count": null,
   "metadata": {
    "colab": {
     "base_uri": "https://localhost:8080/"
    },
    "executionInfo": {
     "elapsed": 9,
     "status": "ok",
     "timestamp": 1694133714082,
     "user": {
      "displayName": "Carol Diaz",
      "userId": "03863088177087652040"
     },
     "user_tz": 180
    },
    "id": "xwqfn4x3SKvh",
    "outputId": "a13fe903-ec24-4bda-cb1b-d09026d3b3da"
   },
   "outputs": [],
   "source": [
    "id(a) == id(b) == id(1)"
   ]
  },
  {
   "cell_type": "markdown",
   "metadata": {
    "id": "4UbITV14SKvj"
   },
   "source": [
    "## <font color='blue'>**Operadores**</font>"
   ]
  },
  {
   "cell_type": "markdown",
   "metadata": {
    "id": "3YUg138HSKvk"
   },
   "source": [
    "### Operadores aritméticos"
   ]
  },
  {
   "cell_type": "markdown",
   "metadata": {
    "id": "-2ku2AyFSKvk"
   },
   "source": [
    "| Símbolo | Tarea ejecutada |\n",
    "|:---:|---:|\n",
    "| +  | Suma |\n",
    "| -  | Resta |\n",
    "| /  | División |\n",
    "| %  | Módulo |\n",
    "| *  | Multiplicación |\n",
    "| //  | Función de parte entera - Piso |\n",
    "| **  | Potencia |"
   ]
  },
  {
   "cell_type": "code",
   "execution_count": null,
   "metadata": {
    "colab": {
     "base_uri": "https://localhost:8080/"
    },
    "executionInfo": {
     "elapsed": 553,
     "status": "ok",
     "timestamp": 1694133728549,
     "user": {
      "displayName": "Carol Diaz",
      "userId": "03863088177087652040"
     },
     "user_tz": 180
    },
    "id": "uieR0l0kSKvl",
    "outputId": "e35656d2-7007-472e-8f2e-e2dc9794c07c"
   },
   "outputs": [],
   "source": [
    "# Suma\n",
    "1 + 2"
   ]
  },
  {
   "cell_type": "code",
   "execution_count": null,
   "metadata": {
    "colab": {
     "base_uri": "https://localhost:8080/"
    },
    "executionInfo": {
     "elapsed": 40,
     "status": "ok",
     "timestamp": 1694133729089,
     "user": {
      "displayName": "Carol Diaz",
      "userId": "03863088177087652040"
     },
     "user_tz": 180
    },
    "id": "9VFGD5TkSKvo",
    "outputId": "2d8061cf-e5ab-4e89-c76d-0283a2634d3d"
   },
   "outputs": [],
   "source": [
    "# Resta\n",
    "2 - 1"
   ]
  },
  {
   "cell_type": "code",
   "execution_count": null,
   "metadata": {
    "colab": {
     "base_uri": "https://localhost:8080/"
    },
    "executionInfo": {
     "elapsed": 39,
     "status": "ok",
     "timestamp": 1694133729091,
     "user": {
      "displayName": "Carol Diaz",
      "userId": "03863088177087652040"
     },
     "user_tz": 180
    },
    "id": "fERDe26CSKvq",
    "outputId": "73305754-332a-4298-91e6-bfbda74b9646"
   },
   "outputs": [],
   "source": [
    "# Multiplicación\n",
    "1 * 2"
   ]
  },
  {
   "cell_type": "code",
   "execution_count": null,
   "metadata": {
    "colab": {
     "base_uri": "https://localhost:8080/"
    },
    "executionInfo": {
     "elapsed": 38,
     "status": "ok",
     "timestamp": 1694133729092,
     "user": {
      "displayName": "Carol Diaz",
      "userId": "03863088177087652040"
     },
     "user_tz": 180
    },
    "id": "n8BJnmnVSKvt",
    "outputId": "00dd5451-96a7-48f0-fa90-c703a9a6cf84"
   },
   "outputs": [],
   "source": [
    "# División\n",
    "1 / 2"
   ]
  },
  {
   "cell_type": "code",
   "execution_count": null,
   "metadata": {
    "colab": {
     "base_uri": "https://localhost:8080/"
    },
    "executionInfo": {
     "elapsed": 37,
     "status": "ok",
     "timestamp": 1694133729093,
     "user": {
      "displayName": "Carol Diaz",
      "userId": "03863088177087652040"
     },
     "user_tz": 180
    },
    "id": "QZLQlxRCSKvv",
    "outputId": "32c9e65d-7253-4605-d742-34b425467bac"
   },
   "outputs": [],
   "source": [
    "# División. Entrega muchos decimales\n",
    "3 / 7"
   ]
  },
  {
   "cell_type": "code",
   "execution_count": null,
   "metadata": {
    "colab": {
     "base_uri": "https://localhost:8080/"
    },
    "executionInfo": {
     "elapsed": 36,
     "status": "ok",
     "timestamp": 1694133729094,
     "user": {
      "displayName": "Carol Diaz",
      "userId": "03863088177087652040"
     },
     "user_tz": 180
    },
    "id": "9ZizYm_qSKvy",
    "outputId": "fa824b60-f88d-4f04-fc39-e6a2b1e4d94e"
   },
   "outputs": [],
   "source": [
    "# Módulo\n",
    "15 % 6"
   ]
  },
  {
   "cell_type": "markdown",
   "metadata": {
    "id": "SEw_41wqSKv0"
   },
   "source": [
    "La división de piso no es más que convertir el resultado así obtenido al número entero más cercano."
   ]
  },
  {
   "cell_type": "code",
   "execution_count": null,
   "metadata": {
    "colab": {
     "base_uri": "https://localhost:8080/"
    },
    "executionInfo": {
     "elapsed": 34,
     "status": "ok",
     "timestamp": 1694133729095,
     "user": {
      "displayName": "Carol Diaz",
      "userId": "03863088177087652040"
     },
     "user_tz": 180
    },
    "id": "QHbkT1mYSKv0",
    "outputId": "236f8fa3-4468-4bb2-981d-6e0da4c530cd"
   },
   "outputs": [],
   "source": [
    "# Floor division\n",
    "15 // 6"
   ]
  },
  {
   "cell_type": "markdown",
   "metadata": {
    "id": "grtcaAvsSKv3"
   },
   "source": [
    "### Operadores relacionales"
   ]
  },
  {
   "cell_type": "markdown",
   "metadata": {
    "id": "kE7nh7-oSKv4"
   },
   "source": [
    "|   Símbolo   | Tarea ejecutada |\n",
    "|:-----:|---|\n",
    "| == | igual |\n",
    "| !=  | no igual |\n",
    "| < | menor que |\n",
    "| > | mayor que |\n",
    "| <=  | menor o igual que |\n",
    "| >=  | mayor o igual que |"
   ]
  },
  {
   "cell_type": "code",
   "execution_count": null,
   "metadata": {
    "executionInfo": {
     "elapsed": 34,
     "status": "ok",
     "timestamp": 1694133729096,
     "user": {
      "displayName": "Carol Diaz",
      "userId": "03863088177087652040"
     },
     "user_tz": 180
    },
    "id": "gTDrLtZGyeN0"
   },
   "outputs": [],
   "source": [
    "z = 1"
   ]
  },
  {
   "cell_type": "code",
   "execution_count": null,
   "metadata": {
    "executionInfo": {
     "elapsed": 33,
     "status": "ok",
     "timestamp": 1694133729097,
     "user": {
      "displayName": "Carol Diaz",
      "userId": "03863088177087652040"
     },
     "user_tz": 180
    },
    "id": "hGY7Vdr7SKv4"
   },
   "outputs": [],
   "source": [
    "z = 1"
   ]
  },
  {
   "cell_type": "code",
   "execution_count": null,
   "metadata": {
    "colab": {
     "base_uri": "https://localhost:8080/"
    },
    "executionInfo": {
     "elapsed": 33,
     "status": "ok",
     "timestamp": 1694133729099,
     "user": {
      "displayName": "Carol Diaz",
      "userId": "03863088177087652040"
     },
     "user_tz": 180
    },
    "id": "YJwbtHseSKv6",
    "outputId": "219bd228-9a29-469e-9117-dbaf808db1c8"
   },
   "outputs": [],
   "source": [
    "print(z)"
   ]
  },
  {
   "cell_type": "code",
   "execution_count": null,
   "metadata": {
    "colab": {
     "base_uri": "https://localhost:8080/"
    },
    "executionInfo": {
     "elapsed": 32,
     "status": "ok",
     "timestamp": 1694133729101,
     "user": {
      "displayName": "Carol Diaz",
      "userId": "03863088177087652040"
     },
     "user_tz": 180
    },
    "id": "ow9c7CzeSKv9",
    "outputId": "6e1045dd-5bc0-4829-ceb0-9ca09b7c335b"
   },
   "outputs": [],
   "source": [
    "z == 2"
   ]
  },
  {
   "cell_type": "code",
   "execution_count": null,
   "metadata": {
    "colab": {
     "base_uri": "https://localhost:8080/"
    },
    "executionInfo": {
     "elapsed": 30,
     "status": "ok",
     "timestamp": 1694133729102,
     "user": {
      "displayName": "Carol Diaz",
      "userId": "03863088177087652040"
     },
     "user_tz": 180
    },
    "id": "UB3Aags_SKv_",
    "outputId": "d9b24f6c-7b2b-44c2-c72f-0f15a5cd480d"
   },
   "outputs": [],
   "source": [
    "z >= 1"
   ]
  },
  {
   "cell_type": "code",
   "execution_count": null,
   "metadata": {
    "colab": {
     "base_uri": "https://localhost:8080/"
    },
    "executionInfo": {
     "elapsed": 29,
     "status": "ok",
     "timestamp": 1694133729103,
     "user": {
      "displayName": "Carol Diaz",
      "userId": "03863088177087652040"
     },
     "user_tz": 180
    },
    "id": "FfYBlVx6SKwC",
    "outputId": "2944b0a7-a59b-425c-8b62-e099149c0da1"
   },
   "outputs": [],
   "source": [
    "z == 1.0"
   ]
  },
  {
   "cell_type": "code",
   "execution_count": null,
   "metadata": {
    "colab": {
     "base_uri": "https://localhost:8080/"
    },
    "executionInfo": {
     "elapsed": 28,
     "status": "ok",
     "timestamp": 1694133729104,
     "user": {
      "displayName": "Carol Diaz",
      "userId": "03863088177087652040"
     },
     "user_tz": 180
    },
    "id": "rOonkgUISKwF",
    "outputId": "c094a3ea-427d-46e2-a8bf-7dbc9671bcba"
   },
   "outputs": [],
   "source": [
    "id(z) == id(1.0)"
   ]
  },
  {
   "cell_type": "markdown",
   "metadata": {
    "id": "ZsI8yjNtSKwH"
   },
   "source": [
    "## <font color='blue'>**Algunas funciones interesantes**</font>"
   ]
  },
  {
   "cell_type": "markdown",
   "metadata": {
    "id": "YOYMfCNZSKwH"
   },
   "source": [
    "Veamos qué es una función primero.\n",
    "\n",
    "**Función**: Una función es un bloque de código con un nombre asociado, que recibe cero o más argumentos como entrada, sigue una secuencia de sentencias, la cuales ejecuta una operación deseada y devuelve un valor y/o realiza una tarea. Este bloque puede ser llamados cuando se necesite.\n",
    "\n",
    "Python implementa muchas funciones en sus librerías básicas.\n",
    "\n",
    "A continuación algunas de ellas:"
   ]
  },
  {
   "cell_type": "markdown",
   "metadata": {
    "id": "XjksHFZzSKwI"
   },
   "source": [
    "__`round()`__<br>\n",
    "Esta función redondea el valor de entrada a un número específico de lugares o al número entero más cercano."
   ]
  },
  {
   "cell_type": "code",
   "execution_count": null,
   "metadata": {
    "colab": {
     "base_uri": "https://localhost:8080/"
    },
    "executionInfo": {
     "elapsed": 809,
     "status": "ok",
     "timestamp": 1694133733593,
     "user": {
      "displayName": "Carol Diaz",
      "userId": "03863088177087652040"
     },
     "user_tz": 180
    },
    "id": "tSmh5C3dSKwI",
    "outputId": "e9f26967-8e29-4dc7-8a81-9a410e4df279"
   },
   "outputs": [],
   "source": [
    "round(3.1415)"
   ]
  },
  {
   "cell_type": "markdown",
   "metadata": {
    "id": "9B7M6d2OSKwK"
   },
   "source": [
    "<div class=\"alert alert-block alert-warning\">\n",
    "<b>TIP:</b> en Python, como en muchos lenguajes de programación, la separación de unidades de mil y decimales es con notación inglesa; i.e., se utilizan comas para las unidades de mil y punto para los decimales.\n",
    "</div>"
   ]
  },
  {
   "cell_type": "code",
   "execution_count": null,
   "metadata": {
    "colab": {
     "base_uri": "https://localhost:8080/"
    },
    "executionInfo": {
     "elapsed": 14,
     "status": "ok",
     "timestamp": 1694133736547,
     "user": {
      "displayName": "Carol Diaz",
      "userId": "03863088177087652040"
     },
     "user_tz": 180
    },
    "id": "w3cNeFqmSKwL",
    "outputId": "3638e945-29f8-4009-afe2-bca174e6164a"
   },
   "outputs": [],
   "source": [
    "print(round(5.6231))\n",
    "print(round(4.55892, 3))"
   ]
  },
  {
   "cell_type": "code",
   "execution_count": null,
   "metadata": {
    "colab": {
     "base_uri": "https://localhost:8080/"
    },
    "executionInfo": {
     "elapsed": 552,
     "status": "ok",
     "timestamp": 1694133738663,
     "user": {
      "displayName": "Carol Diaz",
      "userId": "03863088177087652040"
     },
     "user_tz": 180
    },
    "id": "NJLfDDLeSKwN",
    "outputId": "3b932415-2992-4d11-95b8-a1fa39cae364"
   },
   "outputs": [],
   "source": [
    "print(round(1.1234567,5))\n",
    "print(round(1.5))"
   ]
  },
  {
   "cell_type": "markdown",
   "metadata": {
    "id": "kCBdlYlmSKwP"
   },
   "source": [
    "**`type()`** <br>\n",
    "La función `type()` es probablemente las más usada en Python; ella nos entrega en tipo de objeto que estamos manejando."
   ]
  },
  {
   "cell_type": "code",
   "execution_count": null,
   "metadata": {
    "executionInfo": {
     "elapsed": 16,
     "status": "ok",
     "timestamp": 1694133740770,
     "user": {
      "displayName": "Carol Diaz",
      "userId": "03863088177087652040"
     },
     "user_tz": 180
    },
    "id": "-k-L3GrESKwP"
   },
   "outputs": [],
   "source": [
    "b = 10"
   ]
  },
  {
   "cell_type": "code",
   "execution_count": null,
   "metadata": {
    "colab": {
     "base_uri": "https://localhost:8080/"
    },
    "executionInfo": {
     "elapsed": 13,
     "status": "ok",
     "timestamp": 1694133742128,
     "user": {
      "displayName": "Carol Diaz",
      "userId": "03863088177087652040"
     },
     "user_tz": 180
    },
    "id": "tR7gdpifSKwS",
    "outputId": "e4eb414b-4b11-4b7a-e2e2-b6ef60cb989e"
   },
   "outputs": [],
   "source": [
    "type(b)"
   ]
  },
  {
   "cell_type": "code",
   "execution_count": null,
   "metadata": {
    "colab": {
     "base_uri": "https://localhost:8080/"
    },
    "executionInfo": {
     "elapsed": 10,
     "status": "ok",
     "timestamp": 1694133744186,
     "user": {
      "displayName": "Carol Diaz",
      "userId": "03863088177087652040"
     },
     "user_tz": 180
    },
    "id": "FUJBExGvSKwU",
    "outputId": "158759c6-ada6-4010-dfc9-a71a1503b47f"
   },
   "outputs": [],
   "source": [
    "type(\"Hola mundo\")"
   ]
  },
  {
   "cell_type": "code",
   "execution_count": null,
   "metadata": {
    "executionInfo": {
     "elapsed": 12,
     "status": "ok",
     "timestamp": 1694133746853,
     "user": {
      "displayName": "Carol Diaz",
      "userId": "03863088177087652040"
     },
     "user_tz": 180
    },
    "id": "nODNpEVRSKwW"
   },
   "outputs": [],
   "source": [
    "c = 3\n",
    "d = b / c"
   ]
  },
  {
   "cell_type": "code",
   "execution_count": null,
   "metadata": {
    "colab": {
     "base_uri": "https://localhost:8080/"
    },
    "executionInfo": {
     "elapsed": 9,
     "status": "ok",
     "timestamp": 1694133748202,
     "user": {
      "displayName": "Carol Diaz",
      "userId": "03863088177087652040"
     },
     "user_tz": 180
    },
    "id": "XMcWkHcbSKwY",
    "outputId": "5738e985-e08e-40de-a78e-f72bb1f5dcf5"
   },
   "outputs": [],
   "source": [
    "type(d)"
   ]
  },
  {
   "cell_type": "markdown",
   "metadata": {
    "id": "v6RI0GKWSKwa"
   },
   "source": [
    "**`range()`**<br>\n",
    "Esta función crea una lista de elementos del tipo `range`. La veremos en detalle más adelante."
   ]
  },
  {
   "cell_type": "code",
   "execution_count": null,
   "metadata": {
    "colab": {
     "base_uri": "https://localhost:8080/"
    },
    "executionInfo": {
     "elapsed": 379,
     "status": "ok",
     "timestamp": 1694133750538,
     "user": {
      "displayName": "Carol Diaz",
      "userId": "03863088177087652040"
     },
     "user_tz": 180
    },
    "id": "2XzLvyyRSKwa",
    "outputId": "5acabea7-71bf-4e4d-facf-1642957467ca"
   },
   "outputs": [],
   "source": [
    "range(3)\n",
    "#range(2,9)\n",
    "#range(2,27,8)"
   ]
  },
  {
   "cell_type": "code",
   "execution_count": null,
   "metadata": {
    "colab": {
     "base_uri": "https://localhost:8080/"
    },
    "executionInfo": {
     "elapsed": 13,
     "status": "ok",
     "timestamp": 1694133753101,
     "user": {
      "displayName": "Carol Diaz",
      "userId": "03863088177087652040"
     },
     "user_tz": 180
    },
    "id": "P8sQo10fSKwc",
    "outputId": "7a3868fc-05b8-4231-f28e-95ba4bb7ca31"
   },
   "outputs": [],
   "source": [
    "type(range(3))"
   ]
  },
  {
   "cell_type": "code",
   "execution_count": null,
   "metadata": {
    "colab": {
     "base_uri": "https://localhost:8080/"
    },
    "executionInfo": {
     "elapsed": 11,
     "status": "ok",
     "timestamp": 1694133754612,
     "user": {
      "displayName": "Carol Diaz",
      "userId": "03863088177087652040"
     },
     "user_tz": 180
    },
    "id": "gxdfofgdSKwe",
    "outputId": "a355b6f3-03d6-4400-8b70-4498088c3c32"
   },
   "outputs": [],
   "source": [
    "len(range(3))"
   ]
  },
  {
   "cell_type": "code",
   "execution_count": null,
   "metadata": {
    "executionInfo": {
     "elapsed": 347,
     "status": "ok",
     "timestamp": 1694133757381,
     "user": {
      "displayName": "Carol Diaz",
      "userId": "03863088177087652040"
     },
     "user_tz": 180
    },
    "id": "qUeUbkiaSKwi"
   },
   "outputs": [],
   "source": [
    "# Guardemos el resultado de range en una variable\n",
    "r = range(2,9)"
   ]
  },
  {
   "cell_type": "code",
   "execution_count": null,
   "metadata": {
    "colab": {
     "base_uri": "https://localhost:8080/"
    },
    "executionInfo": {
     "elapsed": 712,
     "status": "ok",
     "timestamp": 1694133759613,
     "user": {
      "displayName": "Carol Diaz",
      "userId": "03863088177087652040"
     },
     "user_tz": 180
    },
    "id": "d85QmjSsSKwk",
    "outputId": "f836ce14-06d3-4cb4-8ab1-32e559730401"
   },
   "outputs": [],
   "source": [
    "# Verifiquemos el tipo\n",
    "type(r)"
   ]
  },
  {
   "cell_type": "markdown",
   "metadata": {
    "id": "6X-qodSDSKwn"
   },
   "source": [
    "**`id()`**<br>\n",
    "En Python todo, absolutamente todo, es un objeto !!<br>\n",
    "Un **objeto** es una unidad dentro de un programa informático que tiene un estado, y un comportamiento. Es decir, tiene una serie de datos almacenados y tareas que realiza con esos datos en el tiempo de ejecución. La función `id()` nos entregará un identificador único del objeto (algo así como su *RUT*). Nos será miuy útil para saber cuando un elemento es único o no."
   ]
  },
  {
   "cell_type": "code",
   "execution_count": null,
   "metadata": {
    "colab": {
     "base_uri": "https://localhost:8080/"
    },
    "executionInfo": {
     "elapsed": 602,
     "status": "ok",
     "timestamp": 1694133763351,
     "user": {
      "displayName": "Carol Diaz",
      "userId": "03863088177087652040"
     },
     "user_tz": 180
    },
    "id": "xco6KQMHSKwn",
    "outputId": "6b2c5d26-863f-4bc1-bdd6-950cb9c76a81"
   },
   "outputs": [],
   "source": [
    "id(r) == id(range(2,9))"
   ]
  },
  {
   "cell_type": "code",
   "execution_count": null,
   "metadata": {
    "colab": {
     "base_uri": "https://localhost:8080/"
    },
    "executionInfo": {
     "elapsed": 481,
     "status": "ok",
     "timestamp": 1694133765289,
     "user": {
      "displayName": "Carol Diaz",
      "userId": "03863088177087652040"
     },
     "user_tz": 180
    },
    "id": "RzcNGQXTSKwp",
    "outputId": "f203fa7d-5511-4a20-fe54-e1378aaed5fb"
   },
   "outputs": [],
   "source": [
    "id(range(2,9))"
   ]
  },
  {
   "cell_type": "code",
   "execution_count": null,
   "metadata": {
    "colab": {
     "base_uri": "https://localhost:8080/"
    },
    "executionInfo": {
     "elapsed": 6,
     "status": "ok",
     "timestamp": 1694133766675,
     "user": {
      "displayName": "Carol Diaz",
      "userId": "03863088177087652040"
     },
     "user_tz": 180
    },
    "id": "pQZR3RweSKwr",
    "outputId": "dddaa973-d587-40fe-84d8-f5ff000edde5"
   },
   "outputs": [],
   "source": [
    "id(range(2,9))"
   ]
  },
  {
   "cell_type": "markdown",
   "metadata": {
    "id": "z2sxrl4NSKwu"
   },
   "source": [
    "**`help()`**<br>\n",
    "La función `help()` nos entrega una descripción detallada del objeto pasado como argumento."
   ]
  },
  {
   "cell_type": "code",
   "execution_count": null,
   "metadata": {
    "colab": {
     "base_uri": "https://localhost:8080/"
    },
    "executionInfo": {
     "elapsed": 6,
     "status": "ok",
     "timestamp": 1694133768623,
     "user": {
      "displayName": "Carol Diaz",
      "userId": "03863088177087652040"
     },
     "user_tz": 180
    },
    "id": "LED0BMKPSKwu",
    "outputId": "7a39b771-5492-45a7-ff20-3891ac1778fb"
   },
   "outputs": [],
   "source": [
    "help(range)"
   ]
  },
  {
   "cell_type": "markdown",
   "metadata": {
    "id": "lX8Pc55LSKwz"
   },
   "source": [
    "## <font color='blue'>**Guía de estilos para el código de Python**</font>"
   ]
  },
  {
   "cell_type": "markdown",
   "metadata": {
    "id": "62o2dWDYSKwz"
   },
   "source": [
    "Python posee un Programa de Mejoas llamado **PEP** (Python Enhancement program). Cada uso de los edictos que salen de este equipo llevan una codificación del estilo ***PEP-numero_correlativo***\n",
    "\n",
    "El **PEP-8** (muy famoso) nos habla de la [**Guía de estilo para el código Python**](http://recursospython.com/pep8es.pdf).\n",
    "\n",
    "### <font color='green'>Actividad 1:</font>\n",
    "### Escribe tres estilos de Python a elección\n",
    "La tarea consiste en leer el documento adjunto ([**Guía de estilo para el código Python**](http://recursospython.com/pep8es.pdf)) y escribir utilizando Markdown 3 de los estilos que más te llamen la atención."
   ]
  },
  {
   "cell_type": "markdown",
   "metadata": {
    "id": "THo8JsqQv4K-"
   },
   "source": [
    "1. comentarios: se utiliza\n",
    "\n",
    "\\# comentario para comentar una linea o\n",
    "\n",
    "' ' '  \n",
    "comentario 1\n",
    "\n",
    "comentario 2\n",
    "\n",
    "' ' '  \n",
    "\n",
    "para comentar un texto\n",
    "\n",
    "\n",
    "2. nombres de variables: para nombres compuestos de variables se utiliza el _ por ejemplo: primer_nombre ; ingresar_color ; valor_neto\n",
    "\n",
    "\n",
    "3. Espacio en los operadores:\n",
    "\n",
    "  i = i + 1\n",
    "\n",
    "  nombre = input()\n",
    "\n",
    "  x += 1"
   ]
  },
  {
   "cell_type": "code",
   "execution_count": null,
   "metadata": {},
   "outputs": [],
   "source": [
    "#Aca Prueba tu codigo\n",
    "# Crea una variable con un número entero y otra con un número decimal.\n",
    "entero = 10\n",
    "decimal = 3.14  \n",
    "# Imprime el resultado de la suma de ambos números.\n",
    "print(entero + decimal)\n",
    "# Imprime el tipo de dato de cada variable.\n",
    "print(type(entero))\n",
    "print(type(decimal))\n",
    "# Crea una variable con un texto y otra con un número entero.\n",
    "texto = \"Hola\"\n",
    "numero_entero = 5\n",
    "# Imprime el resultado de la concatenación de ambos.\n",
    "print(texto + \" \" + str(numero_entero))\n",
    "# Imprime el tipo de dato de cada variable.\n",
    "print(type(texto))\n",
    "print(type(numero_entero))"
   ]
  },
  {
   "cell_type": "markdown",
   "metadata": {
    "id": "6GSqsb_WSKw1"
   },
   "source": [
    "<font color='green'>Fin actividad 1</font>"
   ]
  }
 ],
 "metadata": {
  "colab": {
   "collapsed_sections": [
    "4UbITV14SKvj"
   ],
   "provenance": [
    {
     "file_id": "1FRkrjKWMZHb8hzLm7C7-jYMohmg2UcTK",
     "timestamp": 1692232329565
    }
   ],
   "toc_visible": true
  },
  "kernelspec": {
   "display_name": "Python 3",
   "language": "python",
   "name": "python3"
  },
  "language_info": {
   "codemirror_mode": {
    "name": "ipython",
    "version": 3
   },
   "file_extension": ".py",
   "mimetype": "text/x-python",
   "name": "python",
   "nbconvert_exporter": "python",
   "pygments_lexer": "ipython3",
   "version": "3.11.9"
  }
 },
 "nbformat": 4,
 "nbformat_minor": 0
}
