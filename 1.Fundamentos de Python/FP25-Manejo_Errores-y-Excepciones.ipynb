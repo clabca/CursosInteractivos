{
 "cells": [
  {
   "cell_type": "markdown",
   "metadata": {
    "id": "BUZH2533wuuq"
   },
   "source": [
    "# **Introducción a Python**\n",
    "# FP25. Manejo de errores y excepciones"
   ]
  },
  {
   "cell_type": "markdown",
   "metadata": {
    "id": "CXOHoI0rwuut"
   },
   "source": [
    "¡Incluso los agentes especiales cometen errores! Definitivamente has cometido errores hasta este punto de tu entrenamiento. Veamos qué se produce cuando obtenemos un error e intentemos comprenderlos mejor:"
   ]
  },
  {
   "cell_type": "code",
   "execution_count": null,
   "metadata": {
    "colab": {
     "base_uri": "https://localhost:8080/",
     "height": 141
    },
    "executionInfo": {
     "elapsed": 14,
     "status": "error",
     "timestamp": 1694216097550,
     "user": {
      "displayName": "Carol Diaz",
      "userId": "03863088177087652040"
     },
     "user_tz": 180
    },
    "id": "9wsl8Ecrwuuu",
    "outputId": "144f0958-a072-45ce-fb98-16dc4be2d84f"
   },
   "outputs": [],
   "source": [
    "# Ejecuta esta celda tal y como está ...\n",
    "\n",
    "print('hola)"
   ]
  },
  {
   "cell_type": "markdown",
   "metadata": {
    "id": "c4cwxjb9wuuv"
   },
   "source": [
    "Fíjate que obtenemos un **SyntaxError**, con la descripción adicional de que fue un **EOL (Error de fin de línea) mientras se escanea la cadena literal**. Esto es lo suficientemente específico para que veamos que olvidamos una comilla simple al final de la línea. Comprender estos diversos tipos de errores te ayudarán a depurar tu código mucho más rápido.\n",
    "\n",
    "Este tipo de error y descripción se conoce como una **Excepción** (*Exception*). Incluso si una declaración o expresión es sintácticamente correcta, puede causar un error cuando se intenta ejecutarla. Los errores detectados durante la ejecución se denominan excepciones y no son necesariamente fatales.\n",
    "\n",
    "Puedes consultar la lista completa de [excepciones](https://docs.python.org/3/tutorial/errors.html) aquí. Ahora aprendamos a manejar errores y excepciones en nuestro propio código."
   ]
  },
  {
   "cell_type": "markdown",
   "metadata": {
    "id": "vLTI3Hcnwuuw"
   },
   "source": [
    "## <font color='blue'>**La sentencia `try` `except`**</font>\n",
    "\n",
    "La terminología y la sintaxis básicas que se utilizan para manejar errores en Python son las declaraciones `try` y `except`. El código que puede hacer que ocurra una excepción se coloca en el bloque `try` y el manejo de la excepción se implementa en el bloque de código `except`. Nuevamente la indentación es clave en esta estructura. La forma de sintaxis es:\n",
    "```python\n",
    "     try:\n",
    "        # Intentas tu operación aquí\n",
    "     except ExceptionI:\n",
    "        # Si hay ExceptionI, ejecuta este bloque.\n",
    "     except ExceptionII:\n",
    "        # Si hay ExceptionII, ejecuta este bloque.\n",
    "     else:\n",
    "        # Si no hay excepción, ejecuta este bloque.\n",
    "     finally:\n",
    "        # Siempre ejecuta este código\n",
    "```\n",
    "También podemos verificar cualquier excepción con solo usar `except`. Para comprender mejor todo esto, veremos un ejemplo de un código que abre y escribe en un archivo."
   ]
  },
  {
   "cell_type": "markdown",
   "metadata": {
    "id": "-NjkE3OAwuuw"
   },
   "source": [
    "<font color='red'>Atención:</font>\n",
    "\n",
    "La siguiente línea de código creará un archivo en modo escritura en el directorio en el cual este notebook se está ejecutando."
   ]
  },
  {
   "cell_type": "code",
   "execution_count": null,
   "metadata": {
    "colab": {
     "base_uri": "https://localhost:8080/"
    },
    "executionInfo": {
     "elapsed": 402,
     "status": "ok",
     "timestamp": 1694216561823,
     "user": {
      "displayName": "Carol Diaz",
      "userId": "03863088177087652040"
     },
     "user_tz": 180
    },
    "id": "hoMxCJBiwuux",
    "outputId": "41ed9cf2-6325-48e3-e455-cabe63fefcbf"
   },
   "outputs": [],
   "source": [
    "try:\n",
    "    f = open('testfile','w')\n",
    "    f.write('Prueba escribiendo esto')\n",
    "\n",
    "except IOError:\n",
    "\n",
    "    # Esto solo buscará una excepción del tipo IOError y luego ejecutará la declaración de print( )\n",
    "    print(\"Error: Archivo no encontrado o no se pudo leer su data\")\n",
    "else:\n",
    "\n",
    "    print(\"Contenido escrito exitosamente\")\n",
    "    f.close()"
   ]
  },
  {
   "cell_type": "markdown",
   "metadata": {
    "id": "niDeY-Ttwuuy"
   },
   "source": [
    "Ahora veamos qué pasaría si no tuviéramos permiso de escritura (abriendo solo con 'r'):"
   ]
  },
  {
   "cell_type": "code",
   "execution_count": null,
   "metadata": {
    "colab": {
     "base_uri": "https://localhost:8080/"
    },
    "executionInfo": {
     "elapsed": 8,
     "status": "ok",
     "timestamp": 1694216564324,
     "user": {
      "displayName": "Carol Diaz",
      "userId": "03863088177087652040"
     },
     "user_tz": 180
    },
    "id": "5eam3xn-wuuy",
    "outputId": "56e6598f-fa2a-428c-de91-fe0f81e86b41"
   },
   "outputs": [],
   "source": [
    "try:\n",
    "    f = open('testfile','r')\n",
    "    f.write('Prueba escribiendo esto')\n",
    "\n",
    "except IOError:\n",
    "\n",
    "    # Esto solo buscará una excepción del tipo IOError y luego ejecutará la declaración de print( )\n",
    "    print(\"Error: Archivo no encontrado o no se pudo leer su data\")\n",
    "else:\n",
    "\n",
    "    print(\"Contenido escrito exitosamente\")\n",
    "    f.close()"
   ]
  },
  {
   "cell_type": "markdown",
   "metadata": {
    "id": "lh_uCCzAwuuz"
   },
   "source": [
    "Si queremos verificar varios errores, podemos usar sólo `except:`"
   ]
  },
  {
   "cell_type": "code",
   "execution_count": null,
   "metadata": {
    "colab": {
     "base_uri": "https://localhost:8080/"
    },
    "executionInfo": {
     "elapsed": 391,
     "status": "ok",
     "timestamp": 1694216567504,
     "user": {
      "displayName": "Carol Diaz",
      "userId": "03863088177087652040"
     },
     "user_tz": 180
    },
    "id": "uTkb6VRWwuuz",
    "outputId": "66dcf9a6-3f8c-4bb7-8a1c-54a2a56e33da"
   },
   "outputs": [],
   "source": [
    "try:\n",
    "    f = open('testfile','r')\n",
    "    f.write('Prueba escribiendo esto')\n",
    "\n",
    "except:\n",
    "\n",
    "    # En este caso se evaluarán todas las posibles excepciones\n",
    "    print(\"Error: Archivo no encontrado o no se pudo leer su data\")\n",
    "else:\n",
    "\n",
    "    print(\"Contenido escrito exitosamente\")\n",
    "    f.close()"
   ]
  },
  {
   "cell_type": "markdown",
   "metadata": {
    "id": "S7BzbrBFwuuz"
   },
   "source": [
    "De esta manera, no tendrás que preocuparte por memorizar todos los tipos de excepción posibles.\n",
    "\n",
    "## <font color='blue'>**La cláusula `finally`**</font>\n",
    "Veamos ahora la palabra clave `finally`:"
   ]
  },
  {
   "cell_type": "code",
   "execution_count": null,
   "metadata": {
    "colab": {
     "base_uri": "https://localhost:8080/"
    },
    "executionInfo": {
     "elapsed": 414,
     "status": "ok",
     "timestamp": 1694216571034,
     "user": {
      "displayName": "Carol Diaz",
      "userId": "03863088177087652040"
     },
     "user_tz": 180
    },
    "id": "DCtLOiAuwuu0",
    "outputId": "d13437d8-b93c-49b2-8a91-9662cc92a472"
   },
   "outputs": [],
   "source": [
    "try:\n",
    "    f = open(\"testfile\", \"w\")\n",
    "    f.write(\"Prueba escribiendo esto\")\n",
    "finally:\n",
    "    print(\"Siempre se ejecuta el set de instrucciones anidadas en 'finally'\")\n",
    "    f.close()"
   ]
  },
  {
   "cell_type": "code",
   "execution_count": null,
   "metadata": {
    "colab": {
     "base_uri": "https://localhost:8080/",
     "height": 262
    },
    "executionInfo": {
     "elapsed": 392,
     "status": "error",
     "timestamp": 1694216573085,
     "user": {
      "displayName": "Carol Diaz",
      "userId": "03863088177087652040"
     },
     "user_tz": 180
    },
    "id": "yeOaMz8zwuu0",
    "outputId": "5d933b46-012f-4e05-87f8-c13fb77d78d0"
   },
   "outputs": [],
   "source": [
    "try:\n",
    "\n",
    "    f = open(\"testfile\", \"r\")\n",
    "    f.write(\"Prueba escribiendo esto\")\n",
    "finally:\n",
    "    print(\"Siempre se ejecuta el set de instrucciones anidadas en 'finally'\")"
   ]
  },
  {
   "cell_type": "markdown",
   "metadata": {
    "id": "6nq40ZDcwuu0"
   },
   "source": [
    "Podemos usar esto junto con la palabra clave `except`; con ello obtenemos una estructura de manejo de errores del tipo: `try`, `except`, `else` y `finally`."
   ]
  },
  {
   "cell_type": "code",
   "execution_count": null,
   "metadata": {
    "colab": {
     "base_uri": "https://localhost:8080/"
    },
    "executionInfo": {
     "elapsed": 389,
     "status": "ok",
     "timestamp": 1694216577893,
     "user": {
      "displayName": "Carol Diaz",
      "userId": "03863088177087652040"
     },
     "user_tz": 180
    },
    "id": "d3Gjq2IZwuu0",
    "outputId": "66b56209-99f7-40f0-9c89-bacf9cc64b6b"
   },
   "outputs": [],
   "source": [
    "try:\n",
    "    f = open('testfile','r')\n",
    "    f.write('Prueba escribiendo esto')\n",
    "\n",
    "except:\n",
    "\n",
    "    # En este caso se evaluarán todas las posibles excepciones\n",
    "    print(\"Error: Archivo no encontrado o no se pudo leer su data\")\n",
    "else:\n",
    "\n",
    "    print(\"Contenido escrito exitosamente\")\n",
    "\n",
    "finally:\n",
    "    f.close()\n",
    "    print('Siempre se ejecuta el set de instrucciones anidadas en \"finally\"')"
   ]
  },
  {
   "cell_type": "markdown",
   "metadata": {
    "id": "SSL9PW0Ywuu1"
   },
   "source": [
    "## <font color='blue'>**La palabra clave `raise`**</font>\n",
    "En Python, se generan excepciones cuando se producen errores en tiempo de ejecución. También podemos generar excepciones manualmente usando la palabra clave `raise`.\n",
    "\n",
    "Opcionalmente, podemos pasar valores a la excepción para aclarar por qué se generó esa excepción.\n",
    "\n",
    "La sintáxis completa es la siguiente:\n",
    "```python\n",
    "raise NombreError('Mensaje de error (opcional)')  # Con mensaje de error\n",
    "\n",
    "raise NombreError                                 # Si mensaje de error\n",
    "```\n",
    "Veamos un par de ejemplos"
   ]
  },
  {
   "cell_type": "code",
   "execution_count": null,
   "metadata": {
    "colab": {
     "base_uri": "https://localhost:8080/",
     "height": 210
    },
    "executionInfo": {
     "elapsed": 420,
     "status": "error",
     "timestamp": 1694216584282,
     "user": {
      "displayName": "Carol Diaz",
      "userId": "03863088177087652040"
     },
     "user_tz": 180
    },
    "id": "jXVnNxBrwuu1",
    "outputId": "1a1673a9-e051-429a-a53a-877fa17dc099"
   },
   "outputs": [],
   "source": [
    "# Genera una excepción si el valor es menor a cero\n",
    "x = -1\n",
    "if x <= 0:\n",
    "    raise Exception('Sólo números mayores a cero')"
   ]
  },
  {
   "cell_type": "code",
   "execution_count": null,
   "metadata": {
    "id": "6xpknXTgwuu1"
   },
   "outputs": [],
   "source": [
    "# Ingresar un año\n",
    "\n",
    "def isBisiesto(year):\n",
    "    if year.isnumeric():\n",
    "        print('Calcula año bisiento')\n",
    "    else:\n",
    "        raise TypeError('Solo ingresar números enteros')"
   ]
  },
  {
   "cell_type": "code",
   "execution_count": null,
   "metadata": {
    "colab": {
     "base_uri": "https://localhost:8080/"
    },
    "executionInfo": {
     "elapsed": 535,
     "status": "ok",
     "timestamp": 1694216588710,
     "user": {
      "displayName": "Carol Diaz",
      "userId": "03863088177087652040"
     },
     "user_tz": 180
    },
    "id": "6aRF58puwuu1",
    "outputId": "cf0142be-58aa-476e-cb1a-f7a91161eaf5"
   },
   "outputs": [],
   "source": [
    "isBisiesto('2021')"
   ]
  },
  {
   "cell_type": "code",
   "execution_count": null,
   "metadata": {
    "colab": {
     "base_uri": "https://localhost:8080/",
     "height": 262
    },
    "executionInfo": {
     "elapsed": 9,
     "status": "error",
     "timestamp": 1694216591393,
     "user": {
      "displayName": "Carol Diaz",
      "userId": "03863088177087652040"
     },
     "user_tz": 180
    },
    "id": "MRpP8b1lwuu2",
    "outputId": "68a02836-b17a-4f3d-b097-c28827422b59"
   },
   "outputs": [],
   "source": [
    "isBisiesto('hola')"
   ]
  },
  {
   "cell_type": "markdown",
   "metadata": {
    "id": "pWmtRKHJwuu2"
   },
   "source": [
    "Veamos lo mismo con `try`, `except`"
   ]
  },
  {
   "cell_type": "code",
   "execution_count": null,
   "metadata": {
    "id": "C0HjIsolwuu2"
   },
   "outputs": [],
   "source": [
    "def isBisiesto2(year):\n",
    "    try:\n",
    "        int(year)\n",
    "\n",
    "    except ValueError:\n",
    "        raise TypeError('Solo ingresar números enteros')\n",
    "\n",
    "    else:\n",
    "        print('Calcula año bisiento')\n"
   ]
  },
  {
   "cell_type": "code",
   "execution_count": null,
   "metadata": {
    "colab": {
     "base_uri": "https://localhost:8080/"
    },
    "executionInfo": {
     "elapsed": 432,
     "status": "ok",
     "timestamp": 1694216597051,
     "user": {
      "displayName": "Carol Diaz",
      "userId": "03863088177087652040"
     },
     "user_tz": 180
    },
    "id": "FlNNBZ8Wwuu2",
    "outputId": "4771797b-10b1-4999-f6b9-375a3f2c4294"
   },
   "outputs": [],
   "source": [
    "isBisiesto2('1998')"
   ]
  },
  {
   "cell_type": "code",
   "execution_count": null,
   "metadata": {
    "colab": {
     "base_uri": "https://localhost:8080/",
     "height": 443
    },
    "executionInfo": {
     "elapsed": 400,
     "status": "error",
     "timestamp": 1694216599119,
     "user": {
      "displayName": "Carol Diaz",
      "userId": "03863088177087652040"
     },
     "user_tz": 180
    },
    "id": "TLTn9jWZwuu2",
    "outputId": "3a3991c8-4f8d-48f4-cc76-46e349db83e3"
   },
   "outputs": [],
   "source": [
    "isBisiesto2('hola')"
   ]
  },
  {
   "cell_type": "markdown",
   "metadata": {
    "id": "pXeh9WolSLIA"
   },
   "source": [
    "## <font color='blue'>__Ejercicios__</font>"
   ]
  },
  {
   "cell_type": "markdown",
   "metadata": {
    "id": "56KW-_sewuu2"
   },
   "source": [
    "### <font color='green'>Actividad 1: Challenging</font>\n",
    "### Mejora tu función para el algoritmo del año bisiesto del notebook FP18\n",
    "\n",
    "Toma función que realizaste en el notebook FP18 y mejórala con lo siguiente:\n",
    "\n",
    "* Utiliza `try`, `except`, `else` para controlar errores\n",
    "* Utiliza `raise` para generar excepciones\n",
    "* Prueba isBisiesto3()\n",
    "\n",
    "Nombra tu función **isBisiesto3()**"
   ]
  },
  {
   "cell_type": "code",
   "execution_count": null,
   "metadata": {
    "id": "DjditIq3wuu2"
   },
   "outputs": [],
   "source": [
    "# Tu código aquí ...\n",
    "\n",
    "def isBisiesto3(anho):\n",
    "    if anho.isnumeric():\n",
    "      if (int(anho) % 4 == 0 and int(anho) % 100 != 0) or (int(anho) % 400 == 0):\n",
    "        return print(f\"El año {anho} es bisiesto\")\n",
    "      else:\n",
    "        return print(f\"El año {anho} NO es bisiesto\")\n",
    "    else:\n",
    "        raise TypeError(\"El año debe ser un número entero.\")\n"
   ]
  },
  {
   "cell_type": "code",
   "execution_count": null,
   "metadata": {
    "colab": {
     "base_uri": "https://localhost:8080/"
    },
    "executionInfo": {
     "elapsed": 371,
     "status": "ok",
     "timestamp": 1694216619925,
     "user": {
      "displayName": "Carol Diaz",
      "userId": "03863088177087652040"
     },
     "user_tz": 180
    },
    "id": "W1WxfZziwuu3",
    "outputId": "f112f32f-e2c7-4fa5-8464-0f8ec0cd6286"
   },
   "outputs": [],
   "source": [
    "isBisiesto3('2018')"
   ]
  },
  {
   "cell_type": "code",
   "execution_count": null,
   "metadata": {
    "colab": {
     "base_uri": "https://localhost:8080/"
    },
    "executionInfo": {
     "elapsed": 7,
     "status": "ok",
     "timestamp": 1694216622502,
     "user": {
      "displayName": "Carol Diaz",
      "userId": "03863088177087652040"
     },
     "user_tz": 180
    },
    "id": "F8Od1tE_wuu3",
    "outputId": "975651c4-7a86-4efa-c79c-b43fd8ef7a52"
   },
   "outputs": [],
   "source": [
    "isBisiesto3('2020')"
   ]
  },
  {
   "cell_type": "code",
   "execution_count": null,
   "metadata": {
    "colab": {
     "base_uri": "https://localhost:8080/",
     "height": 262
    },
    "executionInfo": {
     "elapsed": 27,
     "status": "error",
     "timestamp": 1694216624873,
     "user": {
      "displayName": "Carol Diaz",
      "userId": "03863088177087652040"
     },
     "user_tz": 180
    },
    "id": "2wlldjiDwuu3",
    "outputId": "a74960f3-2577-4f4c-d4dd-3db10ae7f200"
   },
   "outputs": [],
   "source": [
    "isBisiesto3('hola')"
   ]
  },
  {
   "cell_type": "code",
   "execution_count": null,
   "metadata": {
    "colab": {
     "base_uri": "https://localhost:8080/",
     "height": 262
    },
    "executionInfo": {
     "elapsed": 12,
     "status": "error",
     "timestamp": 1694216627353,
     "user": {
      "displayName": "Carol Diaz",
      "userId": "03863088177087652040"
     },
     "user_tz": 180
    },
    "id": "ZShQq7e8wuu3",
    "outputId": "82376e0b-fa24-4628-e638-6b16571e4efc"
   },
   "outputs": [],
   "source": [
    "isBisiesto3('2018.0')"
   ]
  },
  {
   "cell_type": "markdown",
   "metadata": {
    "id": "frQjbvRCwuu3"
   },
   "source": [
    "<font color='green'>Fin actividad 1</font>"
   ]
  },
  {
   "cell_type": "markdown",
   "metadata": {
    "id": "5J_-4m0NSzBl"
   },
   "source": [
    "<img src=\"https://drive.google.com/uc?export=view&id=1DNuGbS1i-9it4Nyr3ZMncQz9cRhs2eJr\" width=\"100\" align=\"left\" title=\"Runa-perth\">\n",
    "<br clear=\"left\">\n",
    "\n",
    "## <font color='blue'>**Resumen**</font>\n",
    "La cláusula `try` en Python se utiliza para atrapar y manejar excepciones. Las excepciones son errores que ocurren durante la ejecución del programa. Cuando ocurre una excepción en el código, el flujo normal del programa se interrumpe. Si la excepción no se maneja, el programa se detendrá y mostrará un mensaje de error.\n",
    "\n",
    "Aquí es donde entra en juego la cláusula `try`. Puedes poner el código que podría generar una excepción dentro de un bloque `try`. Si ocurre una excepción en el bloque try, el flujo del programa se pasa a un bloque `except` correspondiente, donde se puede manejar la excepción.\n",
    "\n",
    "Además, la declaración `try` puede tener una cláusula `else`. El código dentro del bloque `else` se ejecuta si el código dentro del bloque `try` no generó ninguna excepción.\n",
    "\n",
    "Finalmente, la cláusula `finally` es opcional y se puede agregar después de los bloques `try` y `except`. El código dentro del bloque `finally` se ejecuta sin importar si se produjo una excepción o no. Es útil para acciones de limpieza que deben ser ejecutadas independientemente de si ocurrió un error.\n",
    "\n",
    "Aquí tienes un ejemplo:\n",
    "\n",
    "```python\n",
    "try:\n",
    "    # Código que podría generar una excepción\n",
    "    resultado = 10 / 0\n",
    "except ZeroDivisionError:\n",
    "    # Esto se ejecuta si hay una excepción ZeroDivisionError\n",
    "    print(\"Ha ocurrido una división por cero.\")\n",
    "else:\n",
    "    # Esto se ejecuta si no hay excepciones\n",
    "    print(\"La división se realizó con éxito.\")\n",
    "finally:\n",
    "    # Esto se ejecuta sin importar si hay una excepción o no\n",
    "    print(\"Esto se imprime siempre.\")\n",
    "\n",
    "```\n",
    "En este ejemplo, la división por cero genera una excepción `ZeroDivisionError`, por lo que el bloque `except` se ejecuta. Luego, sin importar si se produjo una excepción o no, el bloque `finally` también se ejecuta.\n",
    "\n",
    "<img src=\"https://drive.google.com/uc?export=view&id=1DNuGbS1i-9it4Nyr3ZMncQz9cRhs2eJr\" width=\"50\" align=\"left\" title=\"Runa-perth\">\n",
    "<br clear=\"left\">"
   ]
  },
  {
   "cell_type": "markdown",
   "metadata": {
    "id": "YqhW9kDJwuu3"
   },
   "source": [
    "Muy bien hecho!!"
   ]
  },
  {
   "cell_type": "markdown",
   "metadata": {
    "id": "Yn0Kz8XNHh2Z"
   },
   "source": [
    "## <font color='purple'>__REFLEXIÓN GRUPAL__:<br>\n",
    "Hoy en día nos encontramos en una revolución de datos que está transformando el mundo de una forma tan violenta y rápida que es muy difícil predecir los cambios que se vienen incluso en el futuro cercano. Los datos se han convertido en un recurso invaluable, donde empresas, gobiernos y organizaciones de todo tipo están recolectando, almacenando y analizando cantidades masivas de datos a una velocidad sin precedentes.\n",
    "\n",
    "En este sentido el diplomado presenta una gran oportunidad para adentrarse a este mundo desde la Ciencia de Datos utilizando el lenguaje de programación Python. Entregando una gran cantidad de conocimientos, desde la base para cimentarlos, hasta sus herramientas más potentes como lo serán los siguientes módulos de Aprendizaje Supervisado y No Supervisado o de Deep Learning.\n",
    "Este módulo nos entregó las bases para la programación en Python con diferentes herramientas como:\n",
    "\n",
    "-Tipos y Organización de Datos\n",
    "\n",
    "-Principales Librerías\n",
    "\n",
    "-Loops e Iteraciones\n",
    "\n",
    "-Programación Orientada a Objetos\n",
    "\n",
    "-También durante los módulos se vieron una serie de Conceptos relacionados al trabajo de datos y las grandes potencialidades de uso a través de la programación.\n",
    "\n",
    "La programación en Python entrega un lenguaje intuitivo de trabajo y que presenta mucha flexibilidad para obtener los resultados y objetivos que se quieran plantear, existiendo opciones para un sinfín de campos y áreas distintas. Una de sus principales ventajas es que es de código abierto, permitiendo adentrarte mucho en la programación, incluso dando la posibilidad de crear y adaptar los códigos a tus necesidades.\n",
    "\n",
    "Un aspecto negativo de esto último es que, al permitir tanta libertad y flexibilidad, es necesario ser muy ordenado en la programación, tanto para no perder el orden uno mismo y no perderse en la programación ejecutada, como para no sacrificar la legibilidad del código para otros.  Existen una serie de convenciones de buenas prácticas para ordenarse en este sentido.\n",
    "\n",
    "También debido a que es de código abierto, existe una gran comunidad que trabaja y comparte información para la resolución de todo tipo de problemas, por lo que su programación se encuentra en una mejora y evolución continua, adaptándose y superando límites en cuanto a simplificación y alcances del uso de los datos para obtener información de alto valor.\n",
    "\n",
    "Otra característica muy importante de Python es su compatibilidad con otros lenguajes de programación, como lo son R, C++, Latex, etc. Su versatilidad permite trabajar de forma óptima con múltiples herramientas ampliando aún más sus alcances para la resolución de problemas.\n",
    "\n",
    "Para el ámbito laboral, esta herramienta permite sistematizar y ordenar todo tipo de información valiosa, y si incluimos herramientas avanzadas como las que aprenderemos en los próximos módulos, permite tener al alcance una capacidad de procesamiento de datos que hace unos pocos años atrás, era inimaginable que tuviera acceso a personas sin una enorme cantidad de recursos para poder recopilarla y trabajarla. Por lo que amplía muchísimo las posibilidades para todo tipo de análisis y desafíos científicos y laborales.\n",
    "\n",
    "## <font color='purple'>Fin reflexión grupal</font>"
   ]
  }
 ],
 "metadata": {
  "anaconda-cloud": {},
  "colab": {
   "provenance": [
    {
     "file_id": "1an1TjKhUPunSKCdJm4n6rDXUWEjkHfwU",
     "timestamp": 1693596808107
    }
   ]
  },
  "kernelspec": {
   "display_name": "Python 3 (ipykernel)",
   "language": "python",
   "name": "python3"
  },
  "language_info": {
   "codemirror_mode": {
    "name": "ipython",
    "version": 3
   },
   "file_extension": ".py",
   "mimetype": "text/x-python",
   "name": "python",
   "nbconvert_exporter": "python",
   "pygments_lexer": "ipython3",
   "version": "3.8.11"
  }
 },
 "nbformat": 4,
 "nbformat_minor": 0
}
