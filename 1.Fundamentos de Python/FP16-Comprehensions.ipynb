{
 "cells": [
  {
   "cell_type": "markdown",
   "metadata": {
    "id": "-VXeuloslm_F"
   },
   "source": [
    "# **Introducción a Python**\n",
    "# FP16. Comprehensions\n"
   ]
  },
  {
   "cell_type": "markdown",
   "metadata": {
    "id": "JLql0E_0lm_I"
   },
   "source": [
    "Además de las operaciones de secuencia y los métodos de lista, Python incluye una operación más avanzada llamada _comprehension_.\n",
    "En Python, las _comprehensions_ son una forma concisa de crear listas, diccionarios, conjuntos y otras secuencias a partir de secuencias existentes. Las comprehensions son una característica del lenguaje que permite una sintaxis clara y elegante para esta tarea común."
   ]
  },
  {
   "cell_type": "markdown",
   "metadata": {
    "id": "0jyb7eJnlm_J"
   },
   "source": [
    "## <font color='blue'>**list comprehension**</font>\n",
    "\n",
    "La forma más simple de una **list comprehension** en Python es la siguiente:\n",
    "```python\n",
    "list_variable = [expression for item in collection]\n",
    "```\n",
    "Se utilizan para crear una nueva lista a partir de otra secuencia.\n",
    "Si estás usando un bucle `for` sólo para realizar un `.append( )` a una lista, es posible que desees considerar una *list comprehension*, por ejemplo:"
   ]
  },
  {
   "cell_type": "code",
   "execution_count": null,
   "metadata": {
    "executionInfo": {
     "elapsed": 11,
     "status": "ok",
     "timestamp": 1694206740575,
     "user": {
      "displayName": "Carol Diaz",
      "userId": "03863088177087652040"
     },
     "user_tz": 180
    },
    "id": "MUSvOty_lm_J"
   },
   "outputs": [],
   "source": [
    "mylist = []\n",
    "for let in 'word':\n",
    "    mylist.append(let)"
   ]
  },
  {
   "cell_type": "code",
   "execution_count": null,
   "metadata": {
    "colab": {
     "base_uri": "https://localhost:8080/"
    },
    "executionInfo": {
     "elapsed": 404,
     "status": "ok",
     "timestamp": 1694206742911,
     "user": {
      "displayName": "Carol Diaz",
      "userId": "03863088177087652040"
     },
     "user_tz": 180
    },
    "id": "0YeG4IEElm_K",
    "outputId": "025ef670-3dde-4191-81b2-2496da90a2dc"
   },
   "outputs": [],
   "source": [
    "mylist"
   ]
  },
  {
   "cell_type": "markdown",
   "metadata": {
    "id": "XPhHNTdLlm_L"
   },
   "source": [
    "### Ahora lo mismo usando **list comprehension**"
   ]
  },
  {
   "cell_type": "code",
   "execution_count": null,
   "metadata": {
    "executionInfo": {
     "elapsed": 5,
     "status": "ok",
     "timestamp": 1694206744182,
     "user": {
      "displayName": "Carol Diaz",
      "userId": "03863088177087652040"
     },
     "user_tz": 180
    },
    "id": "Qi0QBpf9lm_L"
   },
   "outputs": [],
   "source": [
    "# Toma cada letra en el string\n",
    "\n",
    "myletters = [let for let in 'word']"
   ]
  },
  {
   "cell_type": "code",
   "execution_count": null,
   "metadata": {
    "colab": {
     "base_uri": "https://localhost:8080/"
    },
    "executionInfo": {
     "elapsed": 9,
     "status": "ok",
     "timestamp": 1694206746606,
     "user": {
      "displayName": "Carol Diaz",
      "userId": "03863088177087652040"
     },
     "user_tz": 180
    },
    "id": "cYeM7JSXlm_M",
    "outputId": "1554c4a9-7edd-4193-d49b-9a0ef6970fea"
   },
   "outputs": [],
   "source": [
    "myletters"
   ]
  },
  {
   "cell_type": "markdown",
   "metadata": {
    "id": "p01JDM_Wlm_M"
   },
   "source": [
    "Veamos ejemplos más complejos"
   ]
  },
  {
   "cell_type": "code",
   "execution_count": null,
   "metadata": {
    "executionInfo": {
     "elapsed": 9,
     "status": "ok",
     "timestamp": 1694206749028,
     "user": {
      "displayName": "Carol Diaz",
      "userId": "03863088177087652040"
     },
     "user_tz": 180
    },
    "id": "vtULt0l1lm_N"
   },
   "outputs": [],
   "source": [
    "cuadrados = [x**2 for x in range(0,11)]"
   ]
  },
  {
   "cell_type": "code",
   "execution_count": null,
   "metadata": {
    "colab": {
     "base_uri": "https://localhost:8080/"
    },
    "executionInfo": {
     "elapsed": 13,
     "status": "ok",
     "timestamp": 1694206750606,
     "user": {
      "displayName": "Carol Diaz",
      "userId": "03863088177087652040"
     },
     "user_tz": 180
    },
    "id": "u1xxlXI8lm_N",
    "outputId": "fe8355c7-6933-4561-c159-e59426deb343"
   },
   "outputs": [],
   "source": [
    "cuadrados"
   ]
  },
  {
   "cell_type": "markdown",
   "metadata": {
    "id": "DEHi5WU0lm_O"
   },
   "source": [
    "También podemos usar declaraciones `if` en un **list comprehension**"
   ]
  },
  {
   "cell_type": "code",
   "execution_count": null,
   "metadata": {
    "executionInfo": {
     "elapsed": 7,
     "status": "ok",
     "timestamp": 1694206752014,
     "user": {
      "displayName": "Carol Diaz",
      "userId": "03863088177087652040"
     },
     "user_tz": 180
    },
    "id": "YZy0_Awplm_O"
   },
   "outputs": [],
   "source": [
    "pares = [x for x in range(0,10) if x%2 == 0]"
   ]
  },
  {
   "cell_type": "code",
   "execution_count": null,
   "metadata": {
    "colab": {
     "base_uri": "https://localhost:8080/"
    },
    "executionInfo": {
     "elapsed": 4,
     "status": "ok",
     "timestamp": 1694206753467,
     "user": {
      "displayName": "Carol Diaz",
      "userId": "03863088177087652040"
     },
     "user_tz": 180
    },
    "id": "kOXYq7ihlm_O",
    "outputId": "2d2807c9-e20b-4fe7-8805-162765000ac1"
   },
   "outputs": [],
   "source": [
    "pares"
   ]
  },
  {
   "cell_type": "markdown",
   "metadata": {
    "id": "x1Wj5FrKlm_O"
   },
   "source": [
    "o poner multiples condicionales `if ...`"
   ]
  },
  {
   "cell_type": "code",
   "execution_count": null,
   "metadata": {
    "colab": {
     "base_uri": "https://localhost:8080/"
    },
    "executionInfo": {
     "elapsed": 8,
     "status": "ok",
     "timestamp": 1694206754896,
     "user": {
      "displayName": "Carol Diaz",
      "userId": "03863088177087652040"
     },
     "user_tz": 180
    },
    "id": "lXFOUuNvlm_O",
    "outputId": "e1c33fe6-3129-4a1f-ce78-a3ffba58760b"
   },
   "outputs": [],
   "source": [
    "pares = [x for x in range(0,10) if x%2 == 0 if x < 5]\n",
    "pares"
   ]
  },
  {
   "cell_type": "markdown",
   "metadata": {
    "id": "Sd8ywIvKlm_P"
   },
   "source": [
    "o anidar múltiples **list comprehension**, unas dentro de otras ..."
   ]
  },
  {
   "cell_type": "code",
   "execution_count": null,
   "metadata": {
    "colab": {
     "base_uri": "https://localhost:8080/"
    },
    "executionInfo": {
     "elapsed": 12,
     "status": "ok",
     "timestamp": 1694206756852,
     "user": {
      "displayName": "Carol Diaz",
      "userId": "03863088177087652040"
     },
     "user_tz": 180
    },
    "id": "K64tE9EAlm_P",
    "outputId": "ba0b5ced-8e30-4134-abd0-61ec436ec963"
   },
   "outputs": [],
   "source": [
    "[y for y in [x**2 for x in range(0,11)] if y>50]"
   ]
  },
  {
   "cell_type": "markdown",
   "metadata": {
    "id": "YvQqgD7plm_P"
   },
   "source": [
    "También puedes hacer una declaración `if ... else` en un *list comprehension*, pero ten en cuenta que, en cierto punto, sacrificarás la legibilidad, lo cual es importante en Python. Si tienes problemas para averiguar cómo poner algo en un *list comprehension*, simplemente usa un bucle `for` en su lugar, casi siempre es igual de eficiente.\n",
    "\n",
    "Ten en cuenta que el orden cambia al agregar la instrucción `if ... else`. En general, probablemente sea mejor evitar estas complicadas formas idiomáticas para mantener la legibilidad."
   ]
  },
  {
   "cell_type": "code",
   "execution_count": null,
   "metadata": {
    "colab": {
     "base_uri": "https://localhost:8080/"
    },
    "executionInfo": {
     "elapsed": 11,
     "status": "ok",
     "timestamp": 1694206759613,
     "user": {
      "displayName": "Carol Diaz",
      "userId": "03863088177087652040"
     },
     "user_tz": 180
    },
    "id": "YmSLH7gYlm_P",
    "outputId": "12923bbc-2c8f-46b3-8a06-8c37cb0ee668"
   },
   "outputs": [],
   "source": [
    "mylist = [x if x%2 == 0 else 'impar' for x in range(0,10)]\n",
    "mylist"
   ]
  },
  {
   "cell_type": "code",
   "execution_count": null,
   "metadata": {
    "colab": {
     "base_uri": "https://localhost:8080/"
    },
    "executionInfo": {
     "elapsed": 463,
     "status": "ok",
     "timestamp": 1694206761877,
     "user": {
      "displayName": "Carol Diaz",
      "userId": "03863088177087652040"
     },
     "user_tz": 180
    },
    "id": "thwYL9TSlm_Q",
    "outputId": "df4bafa4-5824-4665-c6bb-bb504fcb1965"
   },
   "outputs": [],
   "source": [
    "[y if y>50 else 'N/A' for y in [x**2 for x in range(0,11)]]"
   ]
  },
  {
   "cell_type": "markdown",
   "metadata": {
    "id": "Izyipm8Xlm_Q"
   },
   "source": [
    "## <font color='blue'>****Dict comprehension****</font>\n",
    "Los ***dict comprehension*** son un método para transformar un diccionario en otro diccionario. Durante esta transformación, los elementos del diccionario original se pueden incluir condicionalmente en el nuevo diccionario y cada elemento se puede transformar según sea necesario.\n",
    "\n",
    "Este es e patrón general que puede seguir para crear un ***dict comprehension*** en Python:\n",
    "\n",
    "```python\n",
    "dict_variable = {key:value for (key,value) in dictonary.items()}\n",
    "```"
   ]
  },
  {
   "cell_type": "markdown",
   "metadata": {
    "id": "qan95Ez9lm_Q"
   },
   "source": [
    "Veamos un ejemplo sencillo"
   ]
  },
  {
   "cell_type": "code",
   "execution_count": null,
   "metadata": {
    "colab": {
     "base_uri": "https://localhost:8080/"
    },
    "executionInfo": {
     "elapsed": 570,
     "status": "ok",
     "timestamp": 1694206764969,
     "user": {
      "displayName": "Carol Diaz",
      "userId": "03863088177087652040"
     },
     "user_tz": 180
    },
    "id": "vPUS3czWlm_Q",
    "outputId": "1c9c12c8-8f85-4d84-c4cf-2032a2a06555"
   },
   "outputs": [],
   "source": [
    "dict1 = {'Pedro': 1800, 'Luisa': 12000, 'Carlos': 8000, 'Beto': 4800, 'Enrique': 5000}\n",
    "\n",
    "# Apliquemos una reducción de 20% a los valores del diccionario\n",
    "dict1_20 = {k:v*0.8 for (k,v) in dict1.items()}\n",
    "print(dict1_20)"
   ]
  },
  {
   "cell_type": "markdown",
   "metadata": {
    "id": "yHedsQ0Alm_R"
   },
   "source": [
    "### ¿Por qué utilizar un ***dict comprehension***?\n",
    "\n",
    "El ***dict comprehension*** es un concepto poderoso y se puede utilizar para sustituir los bucles `for` y las funciones lambda (esto último lo veremos más adelante). Sin embargo, no todos los bucles `for` pueden escribirse como un ***dict comprehension***, pero todo ***dict comprehension***  se puede escribir con un bucle `for`.<br>\n",
    "Considere el siguiente problema, donde desea crear un nuevo diccionario donde la clave es un número divisible por 2 en un rango de 0 a 10 y su valor es el cuadrado del número.<br>\n",
    "Veamos cómo se puede resolver el mismo problema primero usando un bucle `for` y luego un un ***dict comprehension***:"
   ]
  },
  {
   "cell_type": "code",
   "execution_count": null,
   "metadata": {
    "colab": {
     "base_uri": "https://localhost:8080/"
    },
    "executionInfo": {
     "elapsed": 418,
     "status": "ok",
     "timestamp": 1694206768075,
     "user": {
      "displayName": "Carol Diaz",
      "userId": "03863088177087652040"
     },
     "user_tz": 180
    },
    "id": "o8E5Ru9rlm_R",
    "outputId": "64d9c917-b247-4335-cc5a-7dbe1983885c"
   },
   "outputs": [],
   "source": [
    "# Utilizando for loops\n",
    "numbers = range(10)\n",
    "d = {}\n",
    "\n",
    "# Añadimos valores al diccionario d\n",
    "for n in numbers:\n",
    "    if n % 2 == 0:\n",
    "        d[n] = n ** 2\n",
    "\n",
    "print(d)"
   ]
  },
  {
   "cell_type": "markdown",
   "metadata": {
    "id": "SdyP0QZwlm_R"
   },
   "source": [
    "Ahora con ***dict comprehension***"
   ]
  },
  {
   "cell_type": "code",
   "execution_count": null,
   "metadata": {
    "colab": {
     "base_uri": "https://localhost:8080/"
    },
    "executionInfo": {
     "elapsed": 11,
     "status": "ok",
     "timestamp": 1694206770190,
     "user": {
      "displayName": "Carol Diaz",
      "userId": "03863088177087652040"
     },
     "user_tz": 180
    },
    "id": "BJ7z6aOzlm_R",
    "outputId": "ca14fcb0-8726-4547-96a6-249e4b40f561"
   },
   "outputs": [],
   "source": [
    "# Utilizando dictionary comprehension\n",
    "d2 = {n:n**2 for n in numbers if n%2 == 0}\n",
    "\n",
    "print(d2)"
   ]
  },
  {
   "cell_type": "markdown",
   "metadata": {
    "id": "ArBa2Yhxlm_R"
   },
   "source": [
    "Podemos añadir un condicional `if`"
   ]
  },
  {
   "cell_type": "code",
   "execution_count": null,
   "metadata": {
    "colab": {
     "base_uri": "https://localhost:8080/"
    },
    "executionInfo": {
     "elapsed": 10,
     "status": "ok",
     "timestamp": 1694206772030,
     "user": {
      "displayName": "Carol Diaz",
      "userId": "03863088177087652040"
     },
     "user_tz": 180
    },
    "id": "_kBQXXL6lm_R",
    "outputId": "398cfc16-f5c4-49fa-dfe1-2a04bd583cde"
   },
   "outputs": [],
   "source": [
    "dict1 = {'Pedro': 1800, 'Luisa': 12000, 'Carlos': 8000, 'Beto': 4800, 'Enrique': 5000}\n",
    "\n",
    "# Check for items greater than 2\n",
    "dict1_cond = {k:v for (k,v) in dict1.items() if v>5000}\n",
    "\n",
    "print(dict1_cond)"
   ]
  },
  {
   "cell_type": "markdown",
   "metadata": {
    "id": "xp-NP03elm_S"
   },
   "source": [
    "o multiples condicionales `if`"
   ]
  },
  {
   "cell_type": "code",
   "execution_count": null,
   "metadata": {
    "colab": {
     "base_uri": "https://localhost:8080/"
    },
    "executionInfo": {
     "elapsed": 444,
     "status": "ok",
     "timestamp": 1694206774506,
     "user": {
      "displayName": "Carol Diaz",
      "userId": "03863088177087652040"
     },
     "user_tz": 180
    },
    "id": "nuHUg9Gjlm_S",
    "outputId": "b14e5579-d11d-4016-d25d-1119d76fb554"
   },
   "outputs": [],
   "source": [
    "dict1_doubleCond = {k:v for (k,v) in dict1.items() if v>5000 if v<10000}\n",
    "print(dict1_doubleCond)"
   ]
  },
  {
   "cell_type": "markdown",
   "metadata": {
    "id": "y7uLyhgkHieg"
   },
   "source": [
    "## <font color='blue'>**Set comprehension**</font>\n",
    "Los ***set comprehension***  se utilizan para crear un nuevo conjunto a partir de otra secuencia, aplicando todos los atributos propios de los conjuntos."
   ]
  },
  {
   "cell_type": "code",
   "execution_count": null,
   "metadata": {
    "colab": {
     "base_uri": "https://localhost:8080/"
    },
    "executionInfo": {
     "elapsed": 453,
     "status": "ok",
     "timestamp": 1694206776790,
     "user": {
      "displayName": "Carol Diaz",
      "userId": "03863088177087652040"
     },
     "user_tz": 180
    },
    "id": "WBXzQM6rHxlp",
    "outputId": "3368fae6-fc35-4736-b9a9-62ba513ebeb3"
   },
   "outputs": [],
   "source": [
    "numeros = [1, 2, 3, 4, 5]\n",
    "cuadrados = {x**2 for x in numeros}\n",
    "cuadrados"
   ]
  },
  {
   "cell_type": "code",
   "execution_count": null,
   "metadata": {
    "colab": {
     "base_uri": "https://localhost:8080/"
    },
    "executionInfo": {
     "elapsed": 541,
     "status": "ok",
     "timestamp": 1694206778739,
     "user": {
      "displayName": "Carol Diaz",
      "userId": "03863088177087652040"
     },
     "user_tz": 180
    },
    "id": "XOo7snfwIAV-",
    "outputId": "a1d8c472-bfb3-4ba4-96c1-1fec16620c9a"
   },
   "outputs": [],
   "source": [
    "numeros = [1, 2, 3, 3, 1, 3, 4, 5,]\n",
    "cuadrados = {x**2 for x in numeros} # Elimina los elementos repetidos\n",
    "cuadrados"
   ]
  },
  {
   "cell_type": "markdown",
   "metadata": {
    "id": "dIR_uaftHys6"
   },
   "source": [
    "## <font color='blue'>**Ejercicios**</font>"
   ]
  },
  {
   "cell_type": "markdown",
   "metadata": {
    "id": "zmYSr3L-lm_S"
   },
   "source": [
    "### <font color='green'>Actividad 1:</font>\n",
    "### Escribe el siguiente código como una ***list comprehension***\n",
    "```python\n",
    "lista = []\n",
    "\n",
    "for x in range(100):\n",
    "    if x%2 == 0 :\n",
    "        if x%6 == 0:\n",
    "            lista.append(x)\n",
    "```"
   ]
  },
  {
   "cell_type": "code",
   "execution_count": null,
   "metadata": {
    "colab": {
     "base_uri": "https://localhost:8080/"
    },
    "executionInfo": {
     "elapsed": 10,
     "status": "ok",
     "timestamp": 1694206781237,
     "user": {
      "displayName": "Carol Diaz",
      "userId": "03863088177087652040"
     },
     "user_tz": 180
    },
    "id": "f-bUj5wIlm_S",
    "outputId": "b6630e64-d988-4995-a94a-ea6e4acd83aa"
   },
   "outputs": [],
   "source": [
    "# Tu código aquí ...\n",
    "lista = []\n",
    "\n",
    "for x in range(100):\n",
    "    if x%2 == 0 :\n",
    "        if x%6 == 0:\n",
    "            lista.append(x)\n",
    "print(f\"Metodo 1: {lista} '\\n\")\n",
    "\n",
    "# Metodo 2\n",
    "lista2 = [x for x in range(100) if x%2==0 if x%6==0]\n",
    "print(f\"Metodo 2: {lista2}\")"
   ]
  },
  {
   "cell_type": "markdown",
   "metadata": {
    "id": "CxeRWiiplm_S"
   },
   "source": [
    "<font color='green'>Fin actividad 1</font>"
   ]
  },
  {
   "cell_type": "markdown",
   "metadata": {
    "id": "5Brnoo-Zlm_S"
   },
   "source": [
    "### <font color='green'>Actividad 2:</font>\n",
    "### Transponga la siguiente matriz utilizando dos métodos\n",
    "```python\n",
    "matrix = [[1,2,3],[4,5,6],[7,8,9]]\n",
    "```\n",
    "* Utilice una solución basada en ***for loops***\n",
    "* Utilice una solución basada en ***list comprehension***\n"
   ]
  },
  {
   "cell_type": "code",
   "execution_count": null,
   "metadata": {
    "colab": {
     "base_uri": "https://localhost:8080/"
    },
    "executionInfo": {
     "elapsed": 374,
     "status": "ok",
     "timestamp": 1694206785364,
     "user": {
      "displayName": "Carol Diaz",
      "userId": "03863088177087652040"
     },
     "user_tz": 180
    },
    "id": "mOGREvEDlm_S",
    "outputId": "9f847ab1-ae7a-4b91-8cab-d8cfc3f3943a"
   },
   "outputs": [],
   "source": [
    "# Matriz\n",
    "matrix = [[1,2,3],[4,5,6],[7,8,9]]\n",
    "print(\"Original: '\\n'\")\n",
    "print(matrix, '\\n')\n",
    "\n",
    "# Tu código aquí ...\n",
    "\n",
    "# Opción con for loop\n",
    "print(\"Metodo loop: '\\n'\")\n",
    "\n",
    "matriz_trasp_1 = []\n",
    "for i in range(3):\n",
    "  trasp_row = []\n",
    "  for row in matrix:\n",
    "    trasp_row.append(row[i])\n",
    "  matriz_trasp_1.append(trasp_row)\n",
    "\n",
    "print(matriz_trasp_1, '\\n')\n",
    "\n",
    "\n",
    "# Opción con list comprehension\n",
    "print(\"Metodo comprehension: '\\n'\")\n",
    "\n",
    "matriz_trasp_2 = [[row[i] for row in matrix] for i in range(3)]\n",
    "\n",
    "print(matriz_trasp_2)"
   ]
  },
  {
   "cell_type": "markdown",
   "metadata": {
    "id": "8ySeDDBdlm_S"
   },
   "source": [
    "<font color='green'>Fin actividad 2</font>"
   ]
  },
  {
   "cell_type": "markdown",
   "metadata": {
    "id": "b9wI0aPfme1q"
   },
   "source": [
    "<img src=\"https://drive.google.com/uc?export=view&id=1Igtn9UXg6NGeRWsqh4hefQUjV0hmzlBv\" width=\"100\" align=\"left\" title=\"Runa-perth\">\n",
    "<br clear=\"left\">\n",
    "Contenido opcional\n",
    "\n",
    "##<font color='blue'>__Ejercicios avanzados__</font>\n",
    "\n",
    "Si quieres aprender más, anímate a desarrollar los siguientes ejercicios utilizando sólo lo aprendido hasta el momento: tipos de datos, estructuras y sus métodos (e.g., listas, diccionarios, conjuntos, tuplas), slicing e indexing, control de flujo y ciclos (`for`, `while`).\n",
    "\n",
    "No puedes utilizar funciones incorporadas (salvo `print()` y `len()`), lambdas o librerías de apoyo.\n",
    "\n",
    "Imprime un mensaje con `print()` indicando si la condición solicitada en el ejercicio se cumple o no; e.g., la Actividad 3 debería tener una salida condicional del tipo:\n",
    "\n",
    "```python\n",
    "print(\"El primer número duplicado es:\")\n",
    "````\n",
    "o si no se cumple la condición ...\n",
    "```python\n",
    "print(\"No hay números duplicados.\")\n",
    "```"
   ]
  },
  {
   "cell_type": "markdown",
   "metadata": {
    "id": "txUX7fz9mxNd"
   },
   "source": [
    "### <font color='green'>Actividad 3</font>\n",
    "Dada una lista de números, crea un nuevo diccionario donde las claves son los números y los valores son 'par' o 'impar' dependiendo del número."
   ]
  },
  {
   "cell_type": "code",
   "execution_count": null,
   "metadata": {
    "colab": {
     "base_uri": "https://localhost:8080/"
    },
    "executionInfo": {
     "elapsed": 408,
     "status": "ok",
     "timestamp": 1694206792057,
     "user": {
      "displayName": "Carol Diaz",
      "userId": "03863088177087652040"
     },
     "user_tz": 180
    },
    "id": "PCOb7uk8m5Xt",
    "outputId": "f0a1b0dd-c56e-465c-9627-5b6df66843d4"
   },
   "outputs": [],
   "source": [
    "numeros = [1, 2, 3, 4, 5]\n",
    "\n",
    "# Tu código aquí ...\n",
    "\n",
    "dicc = {}\n",
    "for n in numeros:\n",
    "    if n % 2 == 0:\n",
    "      dicc[n] = 'par'\n",
    "    else:\n",
    "      dicc[n] = 'impar'\n",
    "\n",
    "print(f\"Metodo 1: {dicc} '\\n'\")\n",
    "\n",
    "#################################\n",
    "# Metodo 2\n",
    "dic = {n:'par' if n%2 == 0 else 'impar' for n in numeros }\n",
    "print(f\"Metodo 2: {dic} '\\n'\")"
   ]
  },
  {
   "cell_type": "markdown",
   "metadata": {
    "id": "J49N8BVWKqjq"
   },
   "source": [
    "### <font color='green'>Actividad 4</font>\n",
    "Dada una lista de números, crea una nueva lista que contenga todos los números primos en la lista original."
   ]
  },
  {
   "cell_type": "code",
   "execution_count": null,
   "metadata": {
    "colab": {
     "base_uri": "https://localhost:8080/"
    },
    "executionInfo": {
     "elapsed": 9,
     "status": "ok",
     "timestamp": 1694206794796,
     "user": {
      "displayName": "Carol Diaz",
      "userId": "03863088177087652040"
     },
     "user_tz": 180
    },
    "id": "7ODmGVzwKmo_",
    "outputId": "8e338fd1-31d8-4756-97b8-4d6ea88699e5"
   },
   "outputs": [],
   "source": [
    "numeros = [2, 3, 4, 5, 6, 7, 8, 9, 10, 11]\n",
    "\n",
    "# Tu código aquí ...\n",
    "\n",
    "primos = []\n",
    "for numero in numeros:\n",
    "    es_primo = True  # asumamos que el número es primo\n",
    "\n",
    "    # verificamos si el número es divisible por algún valor en el rango\n",
    "    for i in range(2, int(numero ** 0.5) + 1):\n",
    "        if numero % i == 0:\n",
    "            es_primo = False  # si se encuentra un  divisor, no es primo\n",
    "            break\n",
    "\n",
    "    if es_primo: # si el numero es primo, se guarda en la lista\n",
    "          primos.append(numero)\n",
    "\n",
    "print(f\"Metodo 1: {primos} '\\n'\")\n",
    "\n",
    "#######################\n",
    "\n",
    "# Metodo 2\n",
    "\n",
    "primos_2 = [numero for numero in numeros if all(numero % i != 0 for i in range(2, int(numero ** 0.5) + 1))]\n",
    "\n",
    "print(f\"Metodo 2: {primos_2}\")\n",
    "\n"
   ]
  },
  {
   "cell_type": "markdown",
   "metadata": {
    "id": "YatZADQkeYtG"
   },
   "source": [
    "### <font color='green'>Actividad 5</font>\n",
    "Dada una lista de cadenas, crea un nuevo diccionario que asocie cada cadena con una lista de todas las posiciones en las que aparece la cadena."
   ]
  },
  {
   "cell_type": "code",
   "execution_count": null,
   "metadata": {
    "colab": {
     "base_uri": "https://localhost:8080/"
    },
    "executionInfo": {
     "elapsed": 456,
     "status": "ok",
     "timestamp": 1694206800744,
     "user": {
      "displayName": "Carol Diaz",
      "userId": "03863088177087652040"
     },
     "user_tz": 180
    },
    "id": "TB1SDrmwLRLm",
    "outputId": "43975051-d977-4091-b403-ef9f88d9aef1"
   },
   "outputs": [],
   "source": [
    "cadenas = ['a', 'b', 'a', 'c', 'b', 'a', 'd', 'e']\n",
    "\n",
    "# Tu código aquí ...\n",
    "\n",
    "posiciones = {}\n",
    "for i, cadena in enumerate(cadenas):\n",
    "    if cadena in posiciones:\n",
    "        posiciones[cadena].append(i)\n",
    "    else:\n",
    "        posiciones[cadena] = [i]\n",
    "\n",
    "print(f\"Metodo 1: {posiciones} '\\n'\")\n",
    "\n",
    "#######################\n",
    "\n",
    "# Metodo 2\n",
    "\n",
    "posiciones_2 = {cadena: [i for i, x in enumerate(cadenas) if x == cadena] for cadena in cadenas}\n",
    "print(f\"Metodo 2: {posiciones_2}\\n\")\n"
   ]
  },
  {
   "cell_type": "markdown",
   "metadata": {
    "id": "p-2MuWLhffuL"
   },
   "source": [
    "<img src=\"https://drive.google.com/uc?export=view&id=1Igtn9UXg6NGeRWsqh4hefQUjV0hmzlBv\" width=\"50\" align=\"left\" title=\"Runa-perth\">"
   ]
  }
 ],
 "metadata": {
  "colab": {
   "provenance": [
    {
     "file_id": "1rPO6u9YLt00rDHKepPm7pAxOt5R1LjQD",
     "timestamp": 1693341477451
    }
   ]
  },
  "kernelspec": {
   "display_name": "Python 3 (ipykernel)",
   "language": "python",
   "name": "python3"
  },
  "language_info": {
   "codemirror_mode": {
    "name": "ipython",
    "version": 3
   },
   "file_extension": ".py",
   "mimetype": "text/x-python",
   "name": "python",
   "nbconvert_exporter": "python",
   "pygments_lexer": "ipython3",
   "version": "3.8.11"
  }
 },
 "nbformat": 4,
 "nbformat_minor": 0
}
