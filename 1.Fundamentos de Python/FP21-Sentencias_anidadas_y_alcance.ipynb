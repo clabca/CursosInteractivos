{
 "cells": [
  {
   "cell_type": "markdown",
   "metadata": {
    "id": "0GhuFQBmuqhx"
   },
   "source": [
    "# **Introducción a Python**\n",
    "# FP21. Sentencias anidadas y alcance (nested - scope)"
   ]
  },
  {
   "cell_type": "markdown",
   "metadata": {
    "id": "xw7_CCHvuqh1"
   },
   "source": [
    "Bienvenidos de nuevo espías. Después de haber visto funciones, deberían sentirse mucho más cómodos escribiéndolas. Más adelante veremos cómo las funciones pueden interactuar entre sí como parte de scripts más grandes y complejos. Para poder continuar, necesitamos aprender sobre las declaraciones anidadas y alcance. Es importante comprender cómo Python maneja los nombres de función y variable que tú creas cuando codificas. Cuando creas un nombre de variable en Python, el nombre se almacena en un espacio de nombres. Los nombres de variable también tienen un alcance, el alcance determina la visibilidad de ese nombre de variable en otras partes de su código. Veamos.\n",
    "\n",
    "\n",
    "## <font color='blue'>**namespace**</font>\n",
    "\n",
    "El ***namespace*** (espacio de nombres) es una estructura utilizada para organizar los nombres simbólicos asignados a los objetos en un programa Python. En el **namespace** se lleva un registro de todos los nombres simbólicos definidos actualmente junto con información sobre el objeto al que hace referencia cada nombre. Puedes pensar en un **namespace** como un diccionario en el que las claves son los nombres de los objetos y los valores son los propios objetos. Cada par clave-valor asigna un nombre a su objeto correspondiente.\n",
    "\n",
    "Una declaración de asignación crea un nombre simbólico que puede usar para hacer referencia a un objeto. La declaración\n",
    "```python\n",
    "x = 'foo'\n",
    "```\n",
    "crea un nombre simbólico $x$ en el ***namespace***, el cual se refiere al objeto de cadena _'foo'_.\n"
   ]
  },
  {
   "cell_type": "markdown",
   "metadata": {
    "id": "oy_znIUkRhlb"
   },
   "source": [
    "## <font color='blue'>**Tipos de namespace en Python**</font>\n",
    "\n",
    "Hay cuatro tipos:\n",
    "1. Built-In\n",
    "2. Global\n",
    "3. Enclosing\n",
    "4. Local"
   ]
  },
  {
   "cell_type": "markdown",
   "metadata": {
    "id": "5Bza1Dv7uqh3"
   },
   "source": [
    "### __1. Espacio de nombres Integrado (_Built-in namespace_)__\n",
    "El **Built-In namespace** (espacio de nombres Integrado) contiene los nombres de todos los objetos integrados de Python y se crea cuando ejecutas el interprete de Python o ejecutas tu primera celda en un notebook. Están disponibles en todo momento cuando se ejecuta Python. Puede enumerar los objetos en el espacio de nombres integrado con el método `dir`\n",
    "```python\n",
    "dir(objeto)\n",
    "```\n",
    "El método `dir` intenta obtener todos los atributos de un objeto."
   ]
  },
  {
   "cell_type": "code",
   "execution_count": null,
   "metadata": {
    "colab": {
     "base_uri": "https://localhost:8080/"
    },
    "executionInfo": {
     "elapsed": 24,
     "status": "ok",
     "timestamp": 1693510681137,
     "user": {
      "displayName": "JAVIER ANDRES GONZALEZ",
      "userId": "16506599148398782727"
     },
     "user_tz": 240
    },
    "id": "2qwUryLquqh4",
    "outputId": "aad5c350-5da4-481c-c2e8-12c877fa3961",
    "scrolled": true,
    "tags": []
   },
   "outputs": [],
   "source": [
    "dir(__builtins__)"
   ]
  },
  {
   "cell_type": "markdown",
   "metadata": {
    "id": "7XwEwfSiuqh5"
   },
   "source": [
    "### <font color='green'> Actividad 1:</font>\n",
    "### Reconoce objetos en el built-in namespace\n",
    "Recorre la salida de la celda anterior e identifica 10 objetos propios de Python que ya hayas utilizado hasta ahora (incluido el presente notebook).\n",
    "\n",
    "Trabajo individual."
   ]
  },
  {
   "cell_type": "markdown",
   "metadata": {
    "id": "wRFGdznJuqh6"
   },
   "source": [
    "Tu respuesta aquí...\n",
    "<br>\n",
    " 'False',\n",
    " 'None',\n",
    " 'True',\n",
    " 'enumerate',\n",
    " 'filter',\n",
    " 'float',\n",
    " 'help',\n",
    " 'input',\n",
    " 'int',\n",
    " 'len',\n",
    " 'list',\n",
    " 'map',\n",
    " 'max',\n",
    " 'min',\n",
    " 'next'\n",
    "<br>\n"
   ]
  },
  {
   "cell_type": "markdown",
   "metadata": {
    "id": "skrlVD10uqh6"
   },
   "source": [
    "<font color='green'> Fin actividad 1</font>"
   ]
  },
  {
   "cell_type": "markdown",
   "metadata": {
    "id": "bbWJHbA4uqh7"
   },
   "source": [
    "### __2. Espacio de nombres Global (_Global namespace_)__\n",
    "\n",
    "El **Global namespace** (espacio de nombres Global) contiene cualquier nombre definido en el nivel del programa principal. Python crea el espacio de nombres global cuando se inicia el cuerpo del programa principal, y permanece hasta que termina la ejecución del intérprete de Python o terminas el kernel.\n",
    "\n",
    "Estrictamente hablando, este puede no ser el único espacio de nombres global que existe. El intérprete también crea un espacio de nombres global para cualquier módulo que tu programa cargue con la declaración de `import` (veremos esto en los siguientes notebooks)."
   ]
  },
  {
   "cell_type": "markdown",
   "metadata": {
    "id": "_0udxIH0uqh7"
   },
   "source": [
    "La función `globals()` nos devuelve un diccionario con el espacio de nombres global actual de nuestro programa. El contenido dependerá de la versión de Python y el sistema operativo que estés utilizando."
   ]
  },
  {
   "cell_type": "code",
   "execution_count": null,
   "metadata": {
    "colab": {
     "base_uri": "https://localhost:8080/"
    },
    "executionInfo": {
     "elapsed": 261,
     "status": "ok",
     "timestamp": 1693511316456,
     "user": {
      "displayName": "JAVIER ANDRES GONZALEZ",
      "userId": "16506599148398782727"
     },
     "user_tz": 240
    },
    "id": "v5_A6Cpwuqh8",
    "outputId": "14de8865-6a5a-4e99-c466-4d513fe486e1",
    "scrolled": true,
    "tags": []
   },
   "outputs": [],
   "source": [
    "globals().values()"
   ]
  },
  {
   "cell_type": "markdown",
   "metadata": {
    "id": "kidB1f4Fuqh8"
   },
   "source": [
    "Veamos que pasa cuando definimos un objeto llamado 'saludo' en este espacio de nombres."
   ]
  },
  {
   "cell_type": "code",
   "execution_count": null,
   "metadata": {
    "colab": {
     "base_uri": "https://localhost:8080/"
    },
    "executionInfo": {
     "elapsed": 272,
     "status": "ok",
     "timestamp": 1693511337511,
     "user": {
      "displayName": "JAVIER ANDRES GONZALEZ",
      "userId": "16506599148398782727"
     },
     "user_tz": 240
    },
    "id": "KTLGsz8ouqh8",
    "outputId": "883eb222-3012-43eb-c543-313b348c4c47"
   },
   "outputs": [],
   "source": [
    "'saludo' in globals().keys()"
   ]
  },
  {
   "cell_type": "code",
   "execution_count": null,
   "metadata": {
    "executionInfo": {
     "elapsed": 564,
     "status": "ok",
     "timestamp": 1694213954518,
     "user": {
      "displayName": "Carol Diaz",
      "userId": "03863088177087652040"
     },
     "user_tz": 180
    },
    "id": "Cf5uzZjkuqh9"
   },
   "outputs": [],
   "source": [
    "saludo = 'Hola mundo'"
   ]
  },
  {
   "cell_type": "code",
   "execution_count": null,
   "metadata": {
    "colab": {
     "base_uri": "https://localhost:8080/"
    },
    "executionInfo": {
     "elapsed": 277,
     "status": "ok",
     "timestamp": 1693511344030,
     "user": {
      "displayName": "JAVIER ANDRES GONZALEZ",
      "userId": "16506599148398782727"
     },
     "user_tz": 240
    },
    "id": "mp07Thh7uqh9",
    "outputId": "f75463da-b764-4043-87dd-dc19d18438cf"
   },
   "outputs": [],
   "source": [
    "'Hola mundo' in globals().values()"
   ]
  },
  {
   "cell_type": "code",
   "execution_count": null,
   "metadata": {
    "colab": {
     "base_uri": "https://localhost:8080/"
    },
    "executionInfo": {
     "elapsed": 243,
     "status": "ok",
     "timestamp": 1693511348474,
     "user": {
      "displayName": "JAVIER ANDRES GONZALEZ",
      "userId": "16506599148398782727"
     },
     "user_tz": 240
    },
    "id": "WGDRAgv7uqh9",
    "outputId": "22bcdb9f-f9d5-4380-c111-5f31f6aa8eac"
   },
   "outputs": [],
   "source": [
    "'saludo' in globals().keys()"
   ]
  },
  {
   "cell_type": "markdown",
   "metadata": {
    "id": "Ek2TEGxOuqh9"
   },
   "source": [
    "###  __3 y 4. Espacios de nombres adjuntos y locales (_enclosing y local namespaces_)__\n",
    "Los **Enclosing** y **Local namespaces** (espacios de nombres adjuntos y locales)\n",
    "son creados por el intérprete de Python cada vez que se ejecuta una nueva función. Ese espacio de nombres es local a la función (y sólo a ella) y permanece hasta que la función termina.\n",
    "\n",
    "Las funciones no existen independientemente unas de otras, solo en el nivel del programa principal. También puede definir una función dentro de otra.\n",
    "\n",
    "Python nos ofrece la función (Built-In) `locals()`, la cual nos devuelve el contenido de un espacio de nombres local para un objeto definido:"
   ]
  },
  {
   "cell_type": "code",
   "execution_count": null,
   "metadata": {
    "colab": {
     "base_uri": "https://localhost:8080/"
    },
    "executionInfo": {
     "elapsed": 233,
     "status": "ok",
     "timestamp": 1693511563491,
     "user": {
      "displayName": "JAVIER ANDRES GONZALEZ",
      "userId": "16506599148398782727"
     },
     "user_tz": 240
    },
    "id": "2G0dZ_qouqh-",
    "outputId": "96ea1163-d1ab-4758-ba03-216db835818c"
   },
   "outputs": [],
   "source": [
    "locals().keys()"
   ]
  },
  {
   "cell_type": "code",
   "execution_count": null,
   "metadata": {
    "colab": {
     "base_uri": "https://localhost:8080/"
    },
    "executionInfo": {
     "elapsed": 275,
     "status": "ok",
     "timestamp": 1693511573911,
     "user": {
      "displayName": "JAVIER ANDRES GONZALEZ",
      "userId": "16506599148398782727"
     },
     "user_tz": 240
    },
    "id": "H7xF_Lepuqh-",
    "outputId": "57441aaa-cba8-43d0-ccc6-f5d4b7e01ccd"
   },
   "outputs": [],
   "source": [
    "def f():                         # 1\n",
    "    print('Se ejecutó f()')      # 2\n",
    "                                 # 3\n",
    "    def g():                     # 4\n",
    "        print('Se ejecutó g()')  # 5\n",
    "        print('Termina g()')     # 6\n",
    "        return                   # 7\n",
    "                                 # 8\n",
    "    g()                          # 9\n",
    "    print('Termina f()')         # 10\n",
    "    return                       # 11\n",
    "                                 # 12\n",
    "                                 # 13\n",
    "f()                              # 14"
   ]
  },
  {
   "cell_type": "markdown",
   "metadata": {
    "id": "sCoMnegSuqh_"
   },
   "source": [
    "En este ejemplo, la función $g()$ se define dentro del cuerpo de $f()$. <br>\n",
    "Esto es lo que sucede en este código:\n",
    "\n",
    "Las líneas 1 a 11 definen $f()$, la función envolvente (**enclosing**).<br>\n",
    "Las líneas 4 a 7 definen $g()$, la función incluida o adjunta (**enclosed**).<br>\n",
    "En la línea 14, el programa principal llama a $f()$.<br>\n",
    "En la línea 9, la función $f()$ llama a la función $g()$.<br>\n",
    "\n",
    "Cuando el programa principal llama a $f()$, Python crea un nuevo espacio de nombres para $f()$. De manera similar, cuando $f()$ llama a $g()$, $g()$ obtiene su propio espacio de nombres separado. El espacio de nombres creado para g() es el **local namespace** (espacio de nombres local) y el espacio de nombres creado para $f()$ es el **enclosing namespace** (espacio de nombres adjunto).\n",
    "\n",
    "Cada uno de estos espacios de nombres sigue existiendo hasta que finaliza su función respectiva. Es posible que Python no reclame inmediatamente la memoria asignada para esos espacios de nombres cuando sus funciones terminen, pero todas las referencias a los objetos que contienen dejan de ser válidas."
   ]
  },
  {
   "cell_type": "code",
   "execution_count": null,
   "metadata": {
    "colab": {
     "base_uri": "https://localhost:8080/"
    },
    "executionInfo": {
     "elapsed": 11,
     "status": "ok",
     "timestamp": 1693511626392,
     "user": {
      "displayName": "JAVIER ANDRES GONZALEZ",
      "userId": "16506599148398782727"
     },
     "user_tz": 240
    },
    "id": "nPR7Q4o4uqh_",
    "outputId": "0a395e9e-0800-4466-c61f-bbdf4af68685"
   },
   "outputs": [],
   "source": [
    "def noHayLocales():\n",
    "    pass\n",
    "    return locals()\n",
    "\n",
    "def siHayLocales():\n",
    "    present = True\n",
    "    a = 1\n",
    "    return locals()\n",
    "\n",
    "def siHayLocales2(argumento):\n",
    "    present = True\n",
    "    a = argumento\n",
    "    return locals()\n",
    "\n",
    "print('Función sin nombres locales:', noHayLocales(), '\\n')\n",
    "print('Función con nombres locales::', siHayLocales(), '\\n')\n",
    "print('Función con nombres locales::', siHayLocales2('hola'))"
   ]
  },
  {
   "cell_type": "markdown",
   "metadata": {
    "id": "yBxqom19uqh_"
   },
   "source": [
    "## <font color='blue'>**Alcance de las variable (_Variable scope_)**</font>\n",
    "La existencia de múltiples espacios de nombres distintos significa que pueden existir varias instancias diferentes de un nombre en particular simultáneamente mientras se ejecuta un programa de Python. Siempre que cada instancia esté en un espacio de nombres diferente, todas se mantienen por separado y no interferirán entre sí.\n",
    "\n",
    "Pero eso plantea una pregunta: supón que te refiere al nombre $x$ en tu código, y $x$ existe en varios espacios de nombres. ¿Cómo sabe Python a cuál te refieres?\n",
    "\n",
    "La respuesta está en el concepto de alcance (**scope**). El alcance de un nombre es la región de un programa en la que ese nombre tiene significado. El intérprete determina esto en tiempo de ejecución en función de dónde se produce la definición del nombre y en qué parte del código se hace referencia al nombre."
   ]
  },
  {
   "cell_type": "markdown",
   "metadata": {
    "id": "oAAIyYMluqh_"
   },
   "source": [
    "### Ejemplo simple\n",
    "Comencemos con un experimento mental rápido, imagina el siguiente código:"
   ]
  },
  {
   "cell_type": "code",
   "execution_count": null,
   "metadata": {
    "executionInfo": {
     "elapsed": 496,
     "status": "ok",
     "timestamp": 1694213940798,
     "user": {
      "displayName": "Carol Diaz",
      "userId": "03863088177087652040"
     },
     "user_tz": 180
    },
    "id": "SSP5KAzfuqh_"
   },
   "outputs": [],
   "source": [
    "x = 'fuera'\n",
    "\n",
    "def report():\n",
    "    x = 'dentro'\n",
    "    return x"
   ]
  },
  {
   "cell_type": "markdown",
   "metadata": {
    "id": "XPNyUqFpuqiA"
   },
   "source": [
    "Cuál esperas que sea la salida si llamamos a *report( )*?"
   ]
  },
  {
   "cell_type": "code",
   "execution_count": null,
   "metadata": {
    "colab": {
     "base_uri": "https://localhost:8080/",
     "height": 36
    },
    "executionInfo": {
     "elapsed": 487,
     "status": "ok",
     "timestamp": 1694213944251,
     "user": {
      "displayName": "Carol Diaz",
      "userId": "03863088177087652040"
     },
     "user_tz": 180
    },
    "id": "7gkfq6y1uqiA",
    "outputId": "57087cbc-d95b-4125-85f9-80343843a29d"
   },
   "outputs": [],
   "source": [
    "report()"
   ]
  },
  {
   "cell_type": "markdown",
   "metadata": {
    "id": "nh6OAc_4uqiA"
   },
   "source": [
    "Bien, eso tiene sentido, ya que vemos que $x$ fue reasignada dentro de la función *report( )*. ¿Qué crees que sucede si llamamos a `print(x)` fuera de esta función?"
   ]
  },
  {
   "cell_type": "code",
   "execution_count": null,
   "metadata": {
    "colab": {
     "base_uri": "https://localhost:8080/"
    },
    "executionInfo": {
     "elapsed": 296,
     "status": "ok",
     "timestamp": 1693511664708,
     "user": {
      "displayName": "JAVIER ANDRES GONZALEZ",
      "userId": "16506599148398782727"
     },
     "user_tz": 240
    },
    "id": "RnhJwXU6uqiA",
    "outputId": "b3a8d8a5-26a1-4b44-b7c7-5d34a7a24282"
   },
   "outputs": [],
   "source": [
    "print(x)"
   ]
  },
  {
   "cell_type": "markdown",
   "metadata": {
    "id": "sNdIAzx7uqiB"
   },
   "source": [
    "Si te fijas, $x$ está definido en más de un **namespace**; uno de ellos es global y el otro local. Claro que si buscas $x$ en `locals()`, ya no la vas a encontrar porque a esta altura del código la función *report()*, que la creó, dejó de ejecutarse."
   ]
  },
  {
   "cell_type": "code",
   "execution_count": null,
   "metadata": {
    "colab": {
     "base_uri": "https://localhost:8080/"
    },
    "executionInfo": {
     "elapsed": 243,
     "status": "ok",
     "timestamp": 1693512048450,
     "user": {
      "displayName": "JAVIER ANDRES GONZALEZ",
      "userId": "16506599148398782727"
     },
     "user_tz": 240
    },
    "id": "mK2zgpXSuqiB",
    "outputId": "a002fcfe-2a23-4108-bfe2-cfab68f1de06"
   },
   "outputs": [],
   "source": [
    "x in locals()"
   ]
  },
  {
   "cell_type": "markdown",
   "metadata": {
    "id": "2igNe1uZuqiB"
   },
   "source": [
    "## Cómo busca Python las variables?\n",
    "\n",
    "Si tu código se refiere al nombre $x$, Python busca $x$ en los siguientes espacios de nombres siguiendo el orden que a continuación se muestra:\n",
    "\n",
    "1. **Local**: si hace referencia a $x$ dentro de una función (`def` o `lambda`), el intérprete primero la busca en el ámbito más interno que es local para esa función.\n",
    "\n",
    "2. **Enclosing** (adjunto): si $x$ no está en el ámbito local pero aparece en una función que reside dentro de otra función, el intérprete busca en el ámbito de la función envolvente.\n",
    "\n",
    "3. **Global**: si ninguna de las búsquedas anteriores es fructífera, el intérprete busca a continuación en el ámbito global.\n",
    "\n",
    "4. **Built-in** (integrado): si no puede encontrar $x$ en ningún otro lugar, el intérprete prueba en el espacio de nombres incorporado.\n",
    "\n",
    "Como ves, el intérprete busca un nombre desde adentro hacia afuera, buscando en el ámbito local, adjunto, global y finalmente en el integrado. La regla para memorizar esta búsqueda es **LEGB**."
   ]
  },
  {
   "cell_type": "markdown",
   "metadata": {
    "id": "C2D0ag16uqiB"
   },
   "source": [
    "### Ejemplo de Local"
   ]
  },
  {
   "cell_type": "code",
   "execution_count": null,
   "metadata": {
    "executionInfo": {
     "elapsed": 41,
     "status": "ok",
     "timestamp": 1694213853641,
     "user": {
      "displayName": "Carol Diaz",
      "userId": "03863088177087652040"
     },
     "user_tz": 180
    },
    "id": "XmzM879DuqiB"
   },
   "outputs": [],
   "source": [
    "def report():\n",
    "\n",
    "    # Esta es una asignación local dento de la función\n",
    "    x = 'local'\n",
    "    print(x)"
   ]
  },
  {
   "cell_type": "code",
   "execution_count": null,
   "metadata": {
    "colab": {
     "base_uri": "https://localhost:8080/"
    },
    "executionInfo": {
     "elapsed": 12,
     "status": "ok",
     "timestamp": 1694213847299,
     "user": {
      "displayName": "Carol Diaz",
      "userId": "03863088177087652040"
     },
     "user_tz": 180
    },
    "id": "H42wPGx4uqiB",
    "outputId": "792ad73d-aefd-4eee-f6bd-f057bc2acf63"
   },
   "outputs": [],
   "source": [
    "report()"
   ]
  },
  {
   "cell_type": "markdown",
   "metadata": {
    "id": "6Yl8HKB_uqiB"
   },
   "source": [
    "### Ejemplo de Enclosing Function\n",
    "\n",
    "Recuerda que esto ocurre cuando una función está dentro de otra función (veremos más ejemplos de esto más adelante, se llaman funciones anidadas, no las usarás tan a menudo cuando comiences a programar)."
   ]
  },
  {
   "cell_type": "code",
   "execution_count": null,
   "metadata": {
    "executionInfo": {
     "elapsed": 7,
     "status": "ok",
     "timestamp": 1694213877910,
     "user": {
      "displayName": "Carol Diaz",
      "userId": "03863088177087652040"
     },
     "user_tz": 180
    },
    "id": "4N3yW4jUuqiC"
   },
   "outputs": [],
   "source": [
    "x = 'Este es el nivel global'  # x definido a nivel global\n",
    "\n",
    "def enclosing():\n",
    "    # x también se define a nivel enclosing\n",
    "    x = 'Nivel dentro de la función (enclosing)'\n",
    "\n",
    "    def inside():\n",
    "        # Esta función está encerranda en la interior\n",
    "        # Observe la indentación\n",
    "        print(x)\n",
    "\n",
    "    # Ahora llamemos a inside()\n",
    "    # Nota la indentación\n",
    "    inside()"
   ]
  },
  {
   "cell_type": "markdown",
   "metadata": {
    "id": "3HJU953JuqiC"
   },
   "source": [
    "Entonces, ¿qué pasará cuando llamemos a *enclosing( )*? Que veremos?"
   ]
  },
  {
   "cell_type": "code",
   "execution_count": null,
   "metadata": {
    "colab": {
     "base_uri": "https://localhost:8080/"
    },
    "executionInfo": {
     "elapsed": 899,
     "status": "ok",
     "timestamp": 1694213872870,
     "user": {
      "displayName": "Carol Diaz",
      "userId": "03863088177087652040"
     },
     "user_tz": 180
    },
    "id": "ENbD8Br_uqiC",
    "outputId": "76cf4ed1-2421-47fb-bb01-3f78d63e90eb"
   },
   "outputs": [],
   "source": [
    "enclosing()"
   ]
  },
  {
   "cell_type": "markdown",
   "metadata": {
    "id": "hpm-_udhuqiC"
   },
   "source": [
    "Siguiendo la regla **LEGB**, la función *inside( )* primero busca la variable $x$ localmente. Como no está definido allí, mira el nivel adjunto (enclosing), lo encuentra definido allí, por lo que puede imprimirlo.\n",
    "\n",
    "### Ejemplo de Global\n",
    "Veamos qué sucede si no se hubiese definido en la función adjunta (lo que significa que era global)."
   ]
  },
  {
   "cell_type": "code",
   "execution_count": null,
   "metadata": {
    "executionInfo": {
     "elapsed": 399,
     "status": "ok",
     "timestamp": 1694213884699,
     "user": {
      "displayName": "Carol Diaz",
      "userId": "03863088177087652040"
     },
     "user_tz": 180
    },
    "id": "51amJUXUuqiC"
   },
   "outputs": [],
   "source": [
    "x = 'Este es el nivel global'\n",
    "\n",
    "def enclosing():\n",
    "    # x ya NO se define a nivel enclosing\n",
    "    # x = 'Nivel dentro de la función (enclosing)'\n",
    "\n",
    "    def inside():\n",
    "        global x\n",
    "        # Esta función está encerranda en la interior\n",
    "        # Observe la indentación\n",
    "        print(x)\n",
    "\n",
    "    # Ahora llamemos a inside()\n",
    "    # Nota la indentación\n",
    "    inside()"
   ]
  },
  {
   "cell_type": "code",
   "execution_count": null,
   "metadata": {
    "colab": {
     "base_uri": "https://localhost:8080/"
    },
    "executionInfo": {
     "elapsed": 8,
     "status": "ok",
     "timestamp": 1694213887215,
     "user": {
      "displayName": "Carol Diaz",
      "userId": "03863088177087652040"
     },
     "user_tz": 180
    },
    "id": "E8xXTQBduqiC",
    "outputId": "236398b0-4249-417b-9467-7f5b25f0e218"
   },
   "outputs": [],
   "source": [
    "enclosing()"
   ]
  },
  {
   "cell_type": "markdown",
   "metadata": {
    "id": "9WrJ2D8luqiC"
   },
   "source": [
    "### <font color='green'> Actividad 2:</font>\n",
    "### Genera una definición Local\n",
    "Modifica el código anterior para que la variable $x$ sea local."
   ]
  },
  {
   "cell_type": "code",
   "execution_count": null,
   "metadata": {
    "id": "EwEtsEgLuqiD"
   },
   "outputs": [],
   "source": [
    "x = 'Este es el nivel global'\n",
    "\n",
    "def local():\n",
    "    # Tu código aquí ...\n",
    "    #global x\n",
    "    x = 'Este es el nivel local'\n",
    "    print(x)\n",
    "\n"
   ]
  },
  {
   "cell_type": "code",
   "execution_count": null,
   "metadata": {
    "colab": {
     "base_uri": "https://localhost:8080/"
    },
    "executionInfo": {
     "elapsed": 7,
     "status": "ok",
     "timestamp": 1693614130018,
     "user": {
      "displayName": "JAVIER ANDRES GONZALEZ",
      "userId": "16506599148398782727"
     },
     "user_tz": 240
    },
    "id": "oVCiUVBCuqiD",
    "outputId": "eb9dee2f-656f-4be8-d213-3c17de5b7984"
   },
   "outputs": [],
   "source": [
    "local()"
   ]
  },
  {
   "cell_type": "code",
   "execution_count": null,
   "metadata": {
    "colab": {
     "base_uri": "https://localhost:8080/"
    },
    "executionInfo": {
     "elapsed": 5,
     "status": "ok",
     "timestamp": 1693614132606,
     "user": {
      "displayName": "JAVIER ANDRES GONZALEZ",
      "userId": "16506599148398782727"
     },
     "user_tz": 240
    },
    "id": "pd9J8rRHPZG0",
    "outputId": "0fbc9353-ee8e-46d2-e1d7-4ab203021be4"
   },
   "outputs": [],
   "source": [
    "print(x)"
   ]
  },
  {
   "cell_type": "markdown",
   "metadata": {
    "id": "TLF96xVGuqiD"
   },
   "source": [
    "<font color ='green'>Fin actividad 2</font>"
   ]
  },
  {
   "cell_type": "markdown",
   "metadata": {
    "id": "6J9oeMKpuqiD"
   },
   "source": [
    "### Ejemplo de Built-in\n",
    "\n",
    "Estas son funciones y palabras clave integradas (built-in), ¡ten cuidado de no sobrescribirlas! Si el nombre de la variable ya está especialmente resaltado con otro color cuando lo escribes, probablemente sea una función pre-definida de Python o de alguna de sus librerías."
   ]
  },
  {
   "cell_type": "code",
   "execution_count": null,
   "metadata": {
    "colab": {
     "base_uri": "https://localhost:8080/"
    },
    "executionInfo": {
     "elapsed": 552,
     "status": "ok",
     "timestamp": 1694213896658,
     "user": {
      "displayName": "Carol Diaz",
      "userId": "03863088177087652040"
     },
     "user_tz": 180
    },
    "id": "nrHxJ24LuqiD",
    "outputId": "1a1ef62f-d2fb-41eb-bd74-a248291bba7c"
   },
   "outputs": [],
   "source": [
    "len"
   ]
  },
  {
   "cell_type": "code",
   "execution_count": null,
   "metadata": {
    "colab": {
     "base_uri": "https://localhost:8080/"
    },
    "executionInfo": {
     "elapsed": 4,
     "status": "ok",
     "timestamp": 1694213899307,
     "user": {
      "displayName": "Carol Diaz",
      "userId": "03863088177087652040"
     },
     "user_tz": 180
    },
    "id": "OEnVgaRxuqiD",
    "outputId": "26679f80-ab77-4b4e-ff46-d653dd7fee97"
   },
   "outputs": [],
   "source": [
    "sum"
   ]
  },
  {
   "cell_type": "code",
   "execution_count": null,
   "metadata": {
    "colab": {
     "base_uri": "https://localhost:8080/"
    },
    "executionInfo": {
     "elapsed": 11,
     "status": "ok",
     "timestamp": 1694213901359,
     "user": {
      "displayName": "Carol Diaz",
      "userId": "03863088177087652040"
     },
     "user_tz": 180
    },
    "id": "4e3WTUaEuqiD",
    "outputId": "9ac85b13-15e0-4ec7-94c4-79d1e8c5c3d9"
   },
   "outputs": [],
   "source": [
    "type(sum)"
   ]
  },
  {
   "cell_type": "code",
   "execution_count": null,
   "metadata": {
    "executionInfo": {
     "elapsed": 9,
     "status": "ok",
     "timestamp": 1694213903590,
     "user": {
      "displayName": "Carol Diaz",
      "userId": "03863088177087652040"
     },
     "user_tz": 180
    },
    "id": "d7Bhz-uCuqiD"
   },
   "outputs": [],
   "source": [
    "# Cuidado con sobre escribir funciones integradas\n",
    "sum = 3"
   ]
  },
  {
   "cell_type": "markdown",
   "metadata": {
    "id": "2GCayC93uqiE"
   },
   "source": [
    "Acabas de convertir la función **sum()** en la **variable tipo int sum**.<br>\n",
    "Qué opinas; esto es una fortaleza o una debilidad de Python?"
   ]
  },
  {
   "cell_type": "code",
   "execution_count": null,
   "metadata": {
    "colab": {
     "base_uri": "https://localhost:8080/"
    },
    "executionInfo": {
     "elapsed": 5,
     "status": "ok",
     "timestamp": 1694213907950,
     "user": {
      "displayName": "Carol Diaz",
      "userId": "03863088177087652040"
     },
     "user_tz": 180
    },
    "id": "OpUd-MGnuqiE",
    "outputId": "01cea3b8-0f94-4c14-ffcc-9cad2bcb0f60"
   },
   "outputs": [],
   "source": [
    "sum"
   ]
  },
  {
   "cell_type": "code",
   "execution_count": null,
   "metadata": {
    "colab": {
     "base_uri": "https://localhost:8080/"
    },
    "executionInfo": {
     "elapsed": 1401,
     "status": "ok",
     "timestamp": 1694213911681,
     "user": {
      "displayName": "Carol Diaz",
      "userId": "03863088177087652040"
     },
     "user_tz": 180
    },
    "id": "n2XMUtdeuqiE",
    "outputId": "61ab381f-bffc-491a-b1e9-7c57037a1133"
   },
   "outputs": [],
   "source": [
    "type(sum)"
   ]
  },
  {
   "cell_type": "markdown",
   "metadata": {
    "id": "gJOkATN9uqiE"
   },
   "source": [
    "### Variables Locales vs Globales\n",
    "\n",
    "Ahora que hemos visto los niveles, asegurémonos de entenderlos con otro ejemplo:"
   ]
  },
  {
   "cell_type": "code",
   "execution_count": null,
   "metadata": {
    "executionInfo": {
     "elapsed": 3,
     "status": "ok",
     "timestamp": 1694213913666,
     "user": {
      "displayName": "Carol Diaz",
      "userId": "03863088177087652040"
     },
     "user_tz": 180
    },
    "id": "IQvSKlz5uqiE"
   },
   "outputs": [],
   "source": [
    "x = 'global afuera'\n",
    "\n",
    "def myfunc(x):\n",
    "\n",
    "    print(f'X es {x}')\n",
    "\n",
    "    x = 'redefinida dentro de myfunc()'\n",
    "\n",
    "    print(f'X es {x}')"
   ]
  },
  {
   "cell_type": "code",
   "execution_count": null,
   "metadata": {
    "colab": {
     "base_uri": "https://localhost:8080/"
    },
    "executionInfo": {
     "elapsed": 11,
     "status": "ok",
     "timestamp": 1694213915798,
     "user": {
      "displayName": "Carol Diaz",
      "userId": "03863088177087652040"
     },
     "user_tz": 180
    },
    "id": "rjEIlSdYuqiE",
    "outputId": "b4696c5f-c25b-4736-f49b-9496eca45775"
   },
   "outputs": [],
   "source": [
    "myfunc(x)"
   ]
  },
  {
   "cell_type": "code",
   "execution_count": null,
   "metadata": {
    "colab": {
     "base_uri": "https://localhost:8080/"
    },
    "executionInfo": {
     "elapsed": 6,
     "status": "ok",
     "timestamp": 1694213917936,
     "user": {
      "displayName": "Carol Diaz",
      "userId": "03863088177087652040"
     },
     "user_tz": 180
    },
    "id": "2ogpZC3DuqiE",
    "outputId": "03a440e1-d451-4029-c277-680f95b16082"
   },
   "outputs": [],
   "source": [
    "print(x)"
   ]
  },
  {
   "cell_type": "markdown",
   "metadata": {
    "id": "n4Ahu8Z9uqiF"
   },
   "source": [
    "## <font color='blue'>**La palabra reservada `global`**</font>\n",
    "\n",
    "Ahora puede haber una ocasión en la que específicamente desees sobrescribir la variable global dentro de una función. Cómo puedes hacer eso? Puedes utilizar la palabra reservada `global` antes de la variable para indicar que desea \"tomar\" la variable __global__ y no crear una nueva de forma **local**.\n",
    "\n",
    "Ten en cuenta que esto generalmente no se recomienda, y debe hacer todo lo posible para evitarlo hasta que tengas más experiencia programando. ¿Por qué? Porque se vuelve muy fácil crear errores accidentalmente de esta manera al sobrescribir variables en una parte de su script que afectan el script en un parte completamente diferente.\n",
    "\n",
    "Veamos un ejemplo de la palabra clave `global`."
   ]
  },
  {
   "cell_type": "code",
   "execution_count": null,
   "metadata": {
    "executionInfo": {
     "elapsed": 6,
     "status": "ok",
     "timestamp": 1694213921386,
     "user": {
      "displayName": "Carol Diaz",
      "userId": "03863088177087652040"
     },
     "user_tz": 180
    },
    "id": "S-Yvbgz3uqiF"
   },
   "outputs": [],
   "source": [
    "x = 'global afuera'\n",
    "\n",
    "def myfunc():\n",
    "    # Debes declarar la variable coom global dento de la función\n",
    "    # HAcerlo al comienzo, antes de usarla\n",
    "    global x\n",
    "\n",
    "    print(f'X es {x}')\n",
    "\n",
    "    x = 'redefinida dentro de myfunc() con la palabra reservada \"global\".'\n",
    "\n",
    "    print(f'X es {x}')"
   ]
  },
  {
   "cell_type": "code",
   "execution_count": null,
   "metadata": {
    "colab": {
     "base_uri": "https://localhost:8080/"
    },
    "executionInfo": {
     "elapsed": 7,
     "status": "ok",
     "timestamp": 1694213923650,
     "user": {
      "displayName": "Carol Diaz",
      "userId": "03863088177087652040"
     },
     "user_tz": 180
    },
    "id": "UL4Njmy_uqiF",
    "outputId": "fe031e5b-26d6-4fa6-bec0-bccb0f72f604"
   },
   "outputs": [],
   "source": [
    "myfunc()"
   ]
  },
  {
   "cell_type": "code",
   "execution_count": null,
   "metadata": {
    "colab": {
     "base_uri": "https://localhost:8080/"
    },
    "executionInfo": {
     "elapsed": 12,
     "status": "ok",
     "timestamp": 1694213927013,
     "user": {
      "displayName": "Carol Diaz",
      "userId": "03863088177087652040"
     },
     "user_tz": 180
    },
    "id": "-Oza-xfnuqiF",
    "outputId": "477f26cf-a3c7-43f6-cf24-1b2a76df02cb"
   },
   "outputs": [],
   "source": [
    "# Aquí está la diferencia respecto del ejemplo anterior\n",
    "# La función modificó el valor de 'x'\n",
    "\n",
    "print(x)"
   ]
  },
  {
   "cell_type": "markdown",
   "metadata": {
    "id": "_OLNzXmJSlzS"
   },
   "source": [
    "<img src=\"https://drive.google.com/uc?export=view&id=1DNuGbS1i-9it4Nyr3ZMncQz9cRhs2eJr\" width=\"100\" align=\"left\" title=\"Runa-perth\">\n",
    "<br clear=\"left\">\n",
    "\n",
    "## <font color='blue'>**Resumen**</font>\n",
    "\n",
    "__Namespaces__: En Python, un namespace es un espacio que mantiene un conjunto de nombres. Podemos pensar en ello como un diccionario donde los nombres son las claves y los objetos son los valores. Cada nombre en Python pertenece a un espacio de nombres específico. Los namespaces ayudan a evitar conflictos de nombres. Por ejemplo, puedes tener una función llamada max en tu programa y aún así utilizar la función max incorporada de Python, porque están en diferentes namespaces.\n",
    "\n",
    "Hay varios tipos de namespaces en Python, incluyendo el namespace global (donde se guardan las variables globales), el namespace local (donde se guardan las variables locales), y el namespace incorporado (donde se guardan las funciones y clases incorporadas de Python).\n",
    "\n",
    "__Enclosing (Cierre)__: En Python, el término \"enclosing\" se refiere a una situación en la que una función está anidada dentro de otra función. En este caso, la función interna tiene acceso a las variables y nombres en la función externa. Este es un concepto clave en las closures y decoradores de Python.\n",
    "\n",
    "Aquí tienes un ejemplo:\n",
    "\n",
    "```python\n",
    "def funcion_externa():\n",
    "    x = 10\n",
    "    def funcion_interna():\n",
    "        print(x)  # x es una variable en el enclosing scope de funcion_interna\n",
    "    funcion_interna()\n",
    "\n",
    "funcion_externa()  # Imprime: 10\n",
    "```\n",
    "En este ejemplo, \"funcion_interna\" es una función que está anidada dentro de \"funcion_externa\". \"funcion_interna\" tiene acceso a la variable \"x\" en \"funcion_externa\", porque \"funcion_externa\" es el enclosing scope de \"funcion_interna\".\n",
    "\n",
    "\n",
    "<img src=\"https://drive.google.com/uc?export=view&id=1DNuGbS1i-9it4Nyr3ZMncQz9cRhs2eJr\" width=\"50\" align=\"left\" title=\"Runa-perth\">\n",
    "<br clear=\"left\">\n",
    "\n",
    "\n"
   ]
  },
  {
   "cell_type": "markdown",
   "metadata": {
    "id": "Yf5aw0x9uqiG"
   },
   "source": [
    "Excelente trabajo reclutas de agentes! Ahora, esto debería ayudarlos a desarrollar a crear scripts con múltiples funciones y variables!"
   ]
  }
 ],
 "metadata": {
  "colab": {
   "provenance": [
    {
     "file_id": "1gU-M9KRVA-Bl02SWNei_nmTlul9XAhLW",
     "timestamp": 1693510657704
    }
   ]
  },
  "kernelspec": {
   "display_name": "Python 3 (ipykernel)",
   "language": "python",
   "name": "python3"
  },
  "language_info": {
   "codemirror_mode": {
    "name": "ipython",
    "version": 3
   },
   "file_extension": ".py",
   "mimetype": "text/x-python",
   "name": "python",
   "nbconvert_exporter": "python",
   "pygments_lexer": "ipython3",
   "version": "3.8.11"
  }
 },
 "nbformat": 4,
 "nbformat_minor": 0
}
