{
 "cells": [
  {
   "cell_type": "markdown",
   "metadata": {
    "id": "4HiNJ_uUUMSn"
   },
   "source": [
    "# **Introducción a Python**\n",
    "# FP07. Tuplas en Python (Tuples)"
   ]
  },
  {
   "cell_type": "markdown",
   "metadata": {
    "id": "JuY8MwpUUMSq"
   },
   "source": [
    "Una tupla es una colección __ordenada__ e __inmutable__ de elementos. Se denota utilizando paréntesis `()`. A diferencia de las listas, las tuplas no pueden modificarse una vez creadas, lo que significa que no se pueden agregar, eliminar o modificar elementos. Las tuplas pueden contener diferentes tipos de datos, como números, cadenas de texto, booleanos, e incluso otras tuplas, entre otros.\n",
    "\n",
    "Las tuplas son útiles cuando se necesita almacenar un conjunto de valores relacionados que no deben cambiar. Se pueden acceder a los elementos de una tupla utilizando el operador de indexación, similar a las listas. Además, las tuplas pueden utilizarse como claves en diccionarios debido a su inmutabilidad.\n",
    "\n",
    "Veamos esto en acción:\n",
    "\n",
    "## <font color='blue'>**Creando una tupla**</font>\n",
    "\n",
    "Usas paréntesis y comas para tuplas:"
   ]
  },
  {
   "cell_type": "code",
   "execution_count": null,
   "metadata": {
    "executionInfo": {
     "elapsed": 20,
     "status": "ok",
     "timestamp": 1694137324972,
     "user": {
      "displayName": "Carol Diaz",
      "userId": "03863088177087652040"
     },
     "user_tz": 180
    },
    "id": "AmamkPW8UMSr"
   },
   "outputs": [],
   "source": [
    "t = (1, 2, 3)"
   ]
  },
  {
   "cell_type": "code",
   "execution_count": null,
   "metadata": {
    "colab": {
     "base_uri": "https://localhost:8080/"
    },
    "executionInfo": {
     "elapsed": 10,
     "status": "ok",
     "timestamp": 1694137331139,
     "user": {
      "displayName": "Carol Diaz",
      "userId": "03863088177087652040"
     },
     "user_tz": 180
    },
    "id": "9XWAOi3vUMSs",
    "outputId": "a397b860-8592-4ad6-9781-102d6c7daab5"
   },
   "outputs": [],
   "source": [
    "type(t)"
   ]
  },
  {
   "cell_type": "code",
   "execution_count": null,
   "metadata": {
    "executionInfo": {
     "elapsed": 7,
     "status": "ok",
     "timestamp": 1694137333178,
     "user": {
      "displayName": "Carol Diaz",
      "userId": "03863088177087652040"
     },
     "user_tz": 180
    },
    "id": "TDOgkMfWUMSt"
   },
   "outputs": [],
   "source": [
    "# Se pueden combinar distintos tipos de datos\n",
    "t2 = ('a', 1)"
   ]
  },
  {
   "cell_type": "code",
   "execution_count": null,
   "metadata": {
    "colab": {
     "base_uri": "https://localhost:8080/"
    },
    "executionInfo": {
     "elapsed": 252,
     "status": "ok",
     "timestamp": 1694137344723,
     "user": {
      "displayName": "Carol Diaz",
      "userId": "03863088177087652040"
     },
     "user_tz": 180
    },
    "id": "_Sqc1rnzUMSt",
    "outputId": "68c1bb08-06c8-4c4e-e6ca-ba1e20039e20"
   },
   "outputs": [],
   "source": [
    "# El indexing funciona tal cual en las listas\n",
    "t[0]"
   ]
  },
  {
   "cell_type": "markdown",
   "metadata": {
    "id": "ejenYp5LUMSv"
   },
   "source": [
    "## <font color='blue'>**Inmutabilidad**</font>\n",
    "Las tuplas son inmutables, es decir, una vez creadas no pueden ser modificadas"
   ]
  },
  {
   "cell_type": "code",
   "execution_count": null,
   "metadata": {
    "executionInfo": {
     "elapsed": 12,
     "status": "ok",
     "timestamp": 1694137346687,
     "user": {
      "displayName": "Carol Diaz",
      "userId": "03863088177087652040"
     },
     "user_tz": 180
    },
    "id": "BrAjPWRoUMSv"
   },
   "outputs": [],
   "source": [
    "# Recuerda que las listas son mutables, las puedes cambiar\n",
    "\n",
    "mylist = [1, 2, 3]"
   ]
  },
  {
   "cell_type": "code",
   "execution_count": null,
   "metadata": {
    "colab": {
     "base_uri": "https://localhost:8080/"
    },
    "executionInfo": {
     "elapsed": 262,
     "status": "ok",
     "timestamp": 1694137348310,
     "user": {
      "displayName": "Carol Diaz",
      "userId": "03863088177087652040"
     },
     "user_tz": 180
    },
    "id": "KMbHNIdXUMSw",
    "outputId": "0d2003c9-0941-44a4-dbd1-893e6bfd1685"
   },
   "outputs": [],
   "source": [
    "type(mylist)"
   ]
  },
  {
   "cell_type": "code",
   "execution_count": null,
   "metadata": {
    "executionInfo": {
     "elapsed": 7,
     "status": "ok",
     "timestamp": 1694137350787,
     "user": {
      "displayName": "Carol Diaz",
      "userId": "03863088177087652040"
     },
     "user_tz": 180
    },
    "id": "gvQp3F_GUMSw"
   },
   "outputs": [],
   "source": [
    "# Cambiemos el primer elemento en la lista\n",
    "# No hay problemas con esto en una lista!!\n",
    "\n",
    "mylist[0] = 'new'"
   ]
  },
  {
   "cell_type": "code",
   "execution_count": null,
   "metadata": {
    "colab": {
     "base_uri": "https://localhost:8080/"
    },
    "executionInfo": {
     "elapsed": 14,
     "status": "ok",
     "timestamp": 1694137351822,
     "user": {
      "displayName": "Carol Diaz",
      "userId": "03863088177087652040"
     },
     "user_tz": 180
    },
    "id": "ii_t2i6hUMSw",
    "outputId": "026a8e21-9e31-4eed-9721-734a7a147342"
   },
   "outputs": [],
   "source": [
    "mylist"
   ]
  },
  {
   "cell_type": "code",
   "execution_count": null,
   "metadata": {
    "executionInfo": {
     "elapsed": 266,
     "status": "ok",
     "timestamp": 1694137353677,
     "user": {
      "displayName": "Carol Diaz",
      "userId": "03863088177087652040"
     },
     "user_tz": 180
    },
    "id": "aHJzVckkUMSx"
   },
   "outputs": [],
   "source": [
    "# Veamos que pasa con una tupla\n",
    "\n",
    "my_tuple = (1, 2, 3)"
   ]
  },
  {
   "cell_type": "code",
   "execution_count": null,
   "metadata": {
    "colab": {
     "base_uri": "https://localhost:8080/",
     "height": 219
    },
    "executionInfo": {
     "elapsed": 359,
     "status": "error",
     "timestamp": 1694137355151,
     "user": {
      "displayName": "Carol Diaz",
      "userId": "03863088177087652040"
     },
     "user_tz": 180
    },
    "id": "Qazr_vUFUMSx",
    "outputId": "26121b42-1991-4fc5-bdf2-60f2029da920"
   },
   "outputs": [],
   "source": [
    "# Creamos la tupla my_tuple con tres elementos\n",
    "# Intentemos cambiar uno de ellos\n",
    "# Nos dará un error\n",
    "\n",
    "my_tuple[0] = 'new'"
   ]
  },
  {
   "cell_type": "markdown",
   "metadata": {
    "id": "zPiv0FnOUMSx"
   },
   "source": [
    "Tampoco puedes añadir o eliminar elementos a una tupla ya creada!!"
   ]
  },
  {
   "cell_type": "code",
   "execution_count": null,
   "metadata": {
    "colab": {
     "base_uri": "https://localhost:8080/",
     "height": 219
    },
    "executionInfo": {
     "elapsed": 256,
     "status": "error",
     "timestamp": 1694137359269,
     "user": {
      "displayName": "Carol Diaz",
      "userId": "03863088177087652040"
     },
     "user_tz": 180
    },
    "id": "qLKXeeHkUMSx",
    "outputId": "6234113a-a48f-4c4f-ae54-7bd76e78a3a2"
   },
   "outputs": [],
   "source": [
    "# Otro error\n",
    "\n",
    "my_tuple.append('NOPE!')"
   ]
  },
  {
   "cell_type": "markdown",
   "metadata": {
    "id": "aMns7wvrUMSx"
   },
   "source": [
    "## <font color='blue'>**Métodos de las tuplas**</font>\n",
    "\n",
    "Las tuplas tienen un par de métodos disponibles: `index()` y `count()`."
   ]
  },
  {
   "cell_type": "code",
   "execution_count": null,
   "metadata": {
    "executionInfo": {
     "elapsed": 245,
     "status": "ok",
     "timestamp": 1694137363443,
     "user": {
      "displayName": "Carol Diaz",
      "userId": "03863088177087652040"
     },
     "user_tz": 180
    },
    "id": "z0kOzTVmUMSy"
   },
   "outputs": [],
   "source": [
    "t3 = ('a', 'b', 'c', 'a', 'c', 'e', 'a', 'b')"
   ]
  },
  {
   "cell_type": "code",
   "execution_count": null,
   "metadata": {
    "colab": {
     "base_uri": "https://localhost:8080/"
    },
    "executionInfo": {
     "elapsed": 260,
     "status": "ok",
     "timestamp": 1694137365642,
     "user": {
      "displayName": "Carol Diaz",
      "userId": "03863088177087652040"
     },
     "user_tz": 180
    },
    "id": "GsKt5GNYUMSy",
    "outputId": "96c91963-9605-4ae4-e0f8-3fb866db1135"
   },
   "outputs": [],
   "source": [
    "# index() retorna la primera instancia que encuentra\n",
    "# NOTA: hay dos instancias de 'b', pero 'index()' devolverá sólo el primero\n",
    "\n",
    "t3.index('b')"
   ]
  },
  {
   "cell_type": "code",
   "execution_count": null,
   "metadata": {
    "colab": {
     "base_uri": "https://localhost:8080/"
    },
    "executionInfo": {
     "elapsed": 10,
     "status": "ok",
     "timestamp": 1694137367417,
     "user": {
      "displayName": "Carol Diaz",
      "userId": "03863088177087652040"
     },
     "user_tz": 180
    },
    "id": "-TWKiYSNUMSy",
    "outputId": "ed482440-74d6-4740-fc7c-54788843c59f"
   },
   "outputs": [],
   "source": [
    "t3.count('a')"
   ]
  },
  {
   "cell_type": "markdown",
   "metadata": {
    "id": "GsCkmQFgAvuR"
   },
   "source": [
    "## <font color='blue'>__Ejercicios__</font>"
   ]
  },
  {
   "cell_type": "markdown",
   "metadata": {
    "id": "mxnZT4OXUMSt"
   },
   "source": [
    "### <font color='green'>Actividad 1:</font>\n",
    "### Extrae un elemento de la tupla usando *indexing*\n",
    "Obtén el 3er elemento de la tupla $t$\n",
    "\n",
    "Tip:\n",
    "1. Usa el indexer $[]$\n",
    "2. Recuerda que los índices comienzan en 0 en Python"
   ]
  },
  {
   "cell_type": "code",
   "execution_count": null,
   "metadata": {
    "colab": {
     "base_uri": "https://localhost:8080/"
    },
    "executionInfo": {
     "elapsed": 354,
     "status": "ok",
     "timestamp": 1694137370448,
     "user": {
      "displayName": "Carol Diaz",
      "userId": "03863088177087652040"
     },
     "user_tz": 180
    },
    "id": "VZmHbSK6UMSu",
    "outputId": "11de195c-11c5-4511-b7ae-6c7bcdbf4929"
   },
   "outputs": [],
   "source": [
    "# Tu código aquí ...\n",
    "\n",
    "t = (1, 2, 3)\n",
    "t[2]\n"
   ]
  },
  {
   "cell_type": "markdown",
   "metadata": {
    "id": "KDiSK2AoUMSv"
   },
   "source": [
    "<font color='green'>**Fin actividad 1**</font>"
   ]
  },
  {
   "cell_type": "markdown",
   "metadata": {
    "id": "AaBog9NVUMSy"
   },
   "source": [
    "### <font color='green'>Actividad 2:</font>\n",
    "### Extrae el índice de un elemento de la tupla\n",
    "Obtén el índice del elemento $c$ de la tupla $t3$\n",
    "\n",
    "Tip:\n",
    "1. Usa el método `index()`"
   ]
  },
  {
   "cell_type": "code",
   "execution_count": null,
   "metadata": {
    "colab": {
     "base_uri": "https://localhost:8080/"
    },
    "executionInfo": {
     "elapsed": 2418,
     "status": "ok",
     "timestamp": 1694137375064,
     "user": {
      "displayName": "Carol Diaz",
      "userId": "03863088177087652040"
     },
     "user_tz": 180
    },
    "id": "795MpcOEUMSy",
    "outputId": "19d26e12-8cb5-48a5-9012-3b807acb0379"
   },
   "outputs": [],
   "source": [
    "# Tu código aquí ...\n",
    "t3 = ('a', 'b', 'c', 'a', 'c', 'e', 'a', 'b')\n",
    "\n",
    "t3.index('c')\n",
    "\n"
   ]
  },
  {
   "cell_type": "markdown",
   "metadata": {
    "id": "hvxnZzfhUMSz"
   },
   "source": [
    "<font color='green'>Fin actividad 2</font>"
   ]
  },
  {
   "cell_type": "markdown",
   "metadata": {
    "id": "VLi6oJiBUMSz"
   },
   "source": [
    "### <font color='green'>Actividad 3:</font>\n",
    "### Cuenta los elementos en la tupla $t$\n",
    "Obtén el número de veces que el elemento $b$ aparece en la tupla $t$\n",
    "\n",
    "Tip:\n",
    "1. Usa el método `count()`"
   ]
  },
  {
   "cell_type": "code",
   "execution_count": null,
   "metadata": {
    "colab": {
     "base_uri": "https://localhost:8080/"
    },
    "executionInfo": {
     "elapsed": 9,
     "status": "ok",
     "timestamp": 1694137376139,
     "user": {
      "displayName": "Carol Diaz",
      "userId": "03863088177087652040"
     },
     "user_tz": 180
    },
    "id": "Z3N4XkEAUMSz",
    "outputId": "389730b9-34ef-49d7-ea43-b9090515b488"
   },
   "outputs": [],
   "source": [
    "# Tu código aquí ...\n",
    "t3 = ('a', 'b', 'c', 'a', 'c', 'e', 'a', 'b')\n",
    "\n",
    "t3.count('b')\n"
   ]
  },
  {
   "cell_type": "markdown",
   "metadata": {
    "id": "SBfetK4_UMSz"
   },
   "source": [
    "<font color='green'>Fin actividad 3</font>"
   ]
  },
  {
   "cell_type": "markdown",
   "metadata": {
    "id": "rgAv5CDdUMSz"
   },
   "source": [
    "### <font color='green'>Actividad 4:</font>\n",
    "### Crea tu propio diccionario con valores de tuplas\n",
    "* Crea un diccionario que se llame *hitos_geo*.\n",
    "* Añádele tres hitos geograficos como llaves (e.g.,Rapa Nui) y sus respectivas coordenadas geográficas (latitud y longitud) como tuplas.\n",
    "* Imprime una frase utilizando una de las entradas del diccionario creado y f-Strigns\n"
   ]
  },
  {
   "cell_type": "code",
   "execution_count": null,
   "metadata": {
    "colab": {
     "base_uri": "https://localhost:8080/"
    },
    "executionInfo": {
     "elapsed": 14,
     "status": "ok",
     "timestamp": 1694137378609,
     "user": {
      "displayName": "Carol Diaz",
      "userId": "03863088177087652040"
     },
     "user_tz": 180
    },
    "id": "V2GkLO9rUMSz",
    "outputId": "4cc613b2-5631-4f11-c677-fe39afa69c46"
   },
   "outputs": [],
   "source": [
    "# Tu código aquí ...\n",
    "\n",
    "hitos_geo = {\n",
    "    \"Rapa Nui\": (-27.1127, -109.3497),\n",
    "    \"Gran Cañón\": (36.1070, -112.1130),\n",
    "    \"Machu Picchu\": (-13.1631, -72.5450)\n",
    "    }\n",
    "\n",
    "# Obtener las coordenadas del hito seleccionado\n",
    "latitud, longitud = hitos_geo['Rapa Nui']\n",
    "\n",
    "print(f\"El hito geográfico {'Rapa Nui'} se encuentra en las coordenadas ({latitud}, {longitud}).\")\n"
   ]
  },
  {
   "cell_type": "markdown",
   "metadata": {
    "id": "gocz_qa9UMSz"
   },
   "source": [
    "<font color='green'>Fin actividad 4</font>"
   ]
  },
  {
   "cell_type": "markdown",
   "metadata": {
    "id": "SWltI811UMSz"
   },
   "source": [
    "## <font color='blue'>**Atención con la inmutabilidad**</font>\n",
    "\n",
    "La tupla es una colección inmutable de elementos ... los cuales, no necesariamente son inmutables !!!"
   ]
  },
  {
   "cell_type": "code",
   "execution_count": null,
   "metadata": {
    "executionInfo": {
     "elapsed": 468,
     "status": "ok",
     "timestamp": 1694137381728,
     "user": {
      "displayName": "Carol Diaz",
      "userId": "03863088177087652040"
     },
     "user_tz": 180
    },
    "id": "iZshqkwdUMS0"
   },
   "outputs": [],
   "source": [
    "# La tupla t2 tiene 3 elementos\n",
    "\n",
    "t4 = (1, 2, [3, 4])"
   ]
  },
  {
   "cell_type": "code",
   "execution_count": null,
   "metadata": {
    "colab": {
     "base_uri": "https://localhost:8080/"
    },
    "executionInfo": {
     "elapsed": 243,
     "status": "ok",
     "timestamp": 1694137385586,
     "user": {
      "displayName": "Carol Diaz",
      "userId": "03863088177087652040"
     },
     "user_tz": 180
    },
    "id": "AYFeUbacUMS0",
    "outputId": "d9c861fc-633b-4ddf-a4a3-2ed8f8b145c0"
   },
   "outputs": [],
   "source": [
    "# La tupla (inmutable) tiene una lista (mutable) en su interior\n",
    "\n",
    "t4[2]"
   ]
  },
  {
   "cell_type": "code",
   "execution_count": null,
   "metadata": {
    "colab": {
     "base_uri": "https://localhost:8080/"
    },
    "executionInfo": {
     "elapsed": 9,
     "status": "ok",
     "timestamp": 1694137389684,
     "user": {
      "displayName": "Carol Diaz",
      "userId": "03863088177087652040"
     },
     "user_tz": 180
    },
    "id": "0QVKArg1UMS0",
    "outputId": "c16171db-b581-4a01-974b-b4818f6f3656"
   },
   "outputs": [],
   "source": [
    "print(type(t4))\n",
    "print(type(t4[2]))"
   ]
  },
  {
   "cell_type": "code",
   "execution_count": null,
   "metadata": {
    "executionInfo": {
     "elapsed": 265,
     "status": "ok",
     "timestamp": 1694137391261,
     "user": {
      "displayName": "Carol Diaz",
      "userId": "03863088177087652040"
     },
     "user_tz": 180
    },
    "id": "wzNKpqEZUMS0"
   },
   "outputs": [],
   "source": [
    "# Intentemos modificar la lista que esta en la posición 2 dentro de la tupla\n",
    "\n",
    "t4[2].append(5)"
   ]
  },
  {
   "cell_type": "code",
   "execution_count": null,
   "metadata": {
    "colab": {
     "base_uri": "https://localhost:8080/"
    },
    "executionInfo": {
     "elapsed": 376,
     "status": "ok",
     "timestamp": 1694137392818,
     "user": {
      "displayName": "Carol Diaz",
      "userId": "03863088177087652040"
     },
     "user_tz": 180
    },
    "id": "VZ_Yw-heUMS0",
    "outputId": "aaac0b41-b086-4573-a992-6a3fa8f3f02a"
   },
   "outputs": [],
   "source": [
    "t4"
   ]
  },
  {
   "cell_type": "markdown",
   "metadata": {
    "id": "tjPfDIfVUMS0"
   },
   "source": [
    "## <font color='blue'>**¿Por qué usar tuplas?**</font>\n",
    "\n",
    "Las listas y tuplas son muy similares, por lo que es posible intercambiar casos de uso por cualquiera de ellas. Sin embargo, debes usar una tupla para colecciones o secuencias que no deben cambiarse, como las fechas del año asociadas a eventos que ocurrieron, o información de objetos que no debieran sufrir cambios (latitud y longitud), etc.\n",
    "\n",
    "Por lo tanto, cada vez que NO desees que sus datos cambien ... usa tuplas.\n",
    "\n",
    "Excelente. ¡Continuemos!"
   ]
  }
 ],
 "metadata": {
  "colab": {
   "provenance": [
    {
     "file_id": "1o0FR4FmJkr3auL-KeHPJbXOQJlrS0h_0",
     "timestamp": 1692581869932
    }
   ]
  },
  "kernelspec": {
   "display_name": "Python 3 (ipykernel)",
   "language": "python",
   "name": "python3"
  },
  "language_info": {
   "codemirror_mode": {
    "name": "ipython",
    "version": 3
   },
   "file_extension": ".py",
   "mimetype": "text/x-python",
   "name": "python",
   "nbconvert_exporter": "python",
   "pygments_lexer": "ipython3",
   "version": "3.8.11"
  }
 },
 "nbformat": 4,
 "nbformat_minor": 0
}
