{
 "cells": [
  {
   "cell_type": "markdown",
   "metadata": {
    "id": "viYPZ5OWAm30"
   },
   "source": [
    "# **Introducción a Python**\n",
    "# FP24. Tarea Programación Orientada a Objetos\n",
    "A continuación algunos ejercicios para practicar OOP"
   ]
  },
  {
   "cell_type": "markdown",
   "metadata": {
    "id": "MPVcraSYAm33"
   },
   "source": [
    "## <font color='green'>Tarea 1: Challenging</font>\n",
    "Cree una clase Esfera que acepte un radio en la instanciación y tenga  métodos de volumen y área de superficie.\n",
    "\n",
    "Tip:\n",
    "\n",
    "* Utiliza la función `round( )` para ajustar los decimales de salida"
   ]
  },
  {
   "cell_type": "code",
   "execution_count": null,
   "metadata": {
    "id": "fmPAB0STAm34"
   },
   "outputs": [],
   "source": [
    "\n",
    "import math #Importamos la clase math para obtener el valor de PI\n",
    "\n",
    "class Esfera: # Creamos la clase Esfera\n",
    "    def __init__(self, radio): # Definimos el método constructor de la clase con el atributo radio que recibe como parámetro radio\n",
    "        self.radio = radio\n",
    "\n",
    "    def volumen(self):  # Creamos la función volumen que retorna el volumen de la esfera, dado su radio\n",
    "        vol = (4/3) * math.pi * self.radio**3\n",
    "        return round(vol, 2)\n",
    "\n",
    "    def area_superficie(self): # Creamos la función area_superficie que retorna el area  de  superficie de la esfera, dado su radio\n",
    "        a_superficie = 4 * math.pi * self.radio**2\n",
    "        return round(a_superficie, 2)\n"
   ]
  },
  {
   "cell_type": "code",
   "execution_count": null,
   "metadata": {
    "id": "NODFOwYYAm35"
   },
   "outputs": [],
   "source": [
    "s = Esfera(1)"
   ]
  },
  {
   "cell_type": "code",
   "execution_count": null,
   "metadata": {
    "colab": {
     "base_uri": "https://localhost:8080/"
    },
    "executionInfo": {
     "elapsed": 376,
     "status": "ok",
     "timestamp": 1693691643056,
     "user": {
      "displayName": "Jorge Andrés Hueichán",
      "userId": "08546460337859091489"
     },
     "user_tz": 240
    },
    "id": "KulUUOnhAm36",
    "outputId": "116bc59f-b3ba-4bda-ea56-8bbf2aaffd6a"
   },
   "outputs": [],
   "source": [
    "s.area_superficie()"
   ]
  },
  {
   "cell_type": "code",
   "execution_count": null,
   "metadata": {
    "colab": {
     "base_uri": "https://localhost:8080/"
    },
    "executionInfo": {
     "elapsed": 10,
     "status": "ok",
     "timestamp": 1693691644635,
     "user": {
      "displayName": "Jorge Andrés Hueichán",
      "userId": "08546460337859091489"
     },
     "user_tz": 240
    },
    "id": "FkxyExQ6Am37",
    "outputId": "377aab8a-5a8b-44cf-9fcf-6084609d801e"
   },
   "outputs": [],
   "source": [
    "s.volumen()"
   ]
  },
  {
   "cell_type": "markdown",
   "metadata": {
    "id": "Y36_Ku3qAm38"
   },
   "source": [
    "## <font color='green'>Tarea 2: Super Challenging</font>\n",
    "\n",
    "**Este ejercicio lo desarrollaremos en varios pasos.**\n",
    "1. Crea una clase llamada *GuessingGame*.\n",
    "2. La clase no necesita ningún argumento proporcionado por el usuario para la instanciación.\n",
    "3. En el método `.__init__()` (el constructor), haz que la clase establezca un atributo `self.rand_choice` asignándole un número entero aleatorio entre 0-10.\n",
    "4. Crea un método en la clase llamado *reset_random* que vuelva a generar un número aleatorio (también entre 0-10) para el atributo `self.rand_choice`\n",
    "5. Crea un método llamado *guess* (adivinar) que use la función `input()` para aceptar un número del usuario. Este método debe imprimir una declaración que indique si la suposición del usuario fue correcta o no.\n",
    "\n",
    "Bonus track: agregua una lógica en el método *guess* que informe al usuario cuando su número está por arriba o por debajo del número a adivinar.\n",
    "\n",
    "Tip:\n",
    "* En el punto 3 use `import random`\n",
    "* Te dejamos el esqueleto de la clase"
   ]
  },
  {
   "cell_type": "code",
   "execution_count": null,
   "metadata": {
    "id": "Zkk67j22Am39"
   },
   "outputs": [],
   "source": [
    "import random #importamos la clase random para instanciar un nro aleatorio\n",
    "\n",
    "class GuessingGame(): #Definimos la clase GuessingGame\n",
    "\n",
    "    def __init__(self): #Creamos el constructor de la clase con el atributo self.rand_choice asignándole un número entero aleatorio entre 0-10.\n",
    "        self.rand_choice = random.randint(0, 10)\n",
    "\n",
    "\n",
    "    def reset_random(self):#Creamos el método en la clase llamado reset_random que vuelva a generar un número aleatorio (también entre 0-10) para el atributo self.rand_choice\n",
    "        self.rand_choice  = random.randint(0, 10)\n",
    "\n",
    "\n",
    "    def guess(self):#Creamos el método  guess (adivinar) que use la función input() para aceptar un número del usuario. Este método debe imprimir una declaración que indique si la suposición del usuario fue correcta o no\n",
    "        try:\n",
    "            user_guess = int(input(\"Adivina el número (entre 0 y 10): \"))\n",
    "            if user_guess == self.rand_choice:\n",
    "                print(\"¡Adivinaste! El número es correcto.\")\n",
    "            else:\n",
    "                print(f\"Lo siento, el número correcto es {self.rand_choice}.\")\n",
    "        except ValueError:\n",
    "            print(\"Por favor, ingresa un número válido entre 0 y 10.\")\n"
   ]
  },
  {
   "cell_type": "code",
   "execution_count": null,
   "metadata": {
    "id": "hyq1FhrDAm39"
   },
   "outputs": [],
   "source": [
    "g = GuessingGame()"
   ]
  },
  {
   "cell_type": "code",
   "execution_count": null,
   "metadata": {
    "colab": {
     "base_uri": "https://localhost:8080/"
    },
    "executionInfo": {
     "elapsed": 245,
     "status": "ok",
     "timestamp": 1693692370548,
     "user": {
      "displayName": "Jorge Andrés Hueichán",
      "userId": "08546460337859091489"
     },
     "user_tz": 240
    },
    "id": "oCMGXX98Am3-",
    "outputId": "8e9088a1-19fb-4ce0-a266-413995a3ce7c"
   },
   "outputs": [],
   "source": [
    "g.rand_choice"
   ]
  },
  {
   "cell_type": "code",
   "execution_count": null,
   "metadata": {
    "id": "b_slSXtrAm3_"
   },
   "outputs": [],
   "source": [
    "g.reset_random()"
   ]
  },
  {
   "cell_type": "code",
   "execution_count": null,
   "metadata": {
    "colab": {
     "base_uri": "https://localhost:8080/"
    },
    "executionInfo": {
     "elapsed": 4707,
     "status": "ok",
     "timestamp": 1693692388965,
     "user": {
      "displayName": "Jorge Andrés Hueichán",
      "userId": "08546460337859091489"
     },
     "user_tz": 240
    },
    "id": "ZyK6I4MJAm3_",
    "outputId": "b348e983-d9d5-43aa-c01c-e0f596266df2"
   },
   "outputs": [],
   "source": [
    "g.guess()"
   ]
  },
  {
   "cell_type": "code",
   "execution_count": null,
   "metadata": {
    "colab": {
     "base_uri": "https://localhost:8080/"
    },
    "executionInfo": {
     "elapsed": 3667,
     "status": "ok",
     "timestamp": 1693692405685,
     "user": {
      "displayName": "Jorge Andrés Hueichán",
      "userId": "08546460337859091489"
     },
     "user_tz": 240
    },
    "id": "woog6BM4Am3_",
    "outputId": "13294225-00f5-4b4f-e18d-5916dfb171ad"
   },
   "outputs": [],
   "source": [
    "g.guess()"
   ]
  },
  {
   "cell_type": "markdown",
   "metadata": {
    "id": "8gUqkIq-eK8I"
   },
   "source": [
    "## <font color='green'>Tarea 3: Super Challenging</font>\n",
    "\n",
    "### Modelando un zoológico\n",
    "Crea una jerarquía de clases para modelar un zoológico. Debe haber una clase Animal con atributos comunes a todos los animales. Luego, crea clases para diferentes tipos de animales (por ejemplo, Mamífero, Reptil, Ave), cada una de las cuales hereda de Animal. Cada una de estas clases debe tener atributos y métodos específicos de su tipo. Por último, crea clases para animales específicos (por ejemplo, León, Cocodrilo, Águila) que heredan de sus respectivas clases de tipo de animal. Utiliza el polimorfismo para crear un método en la clase Animal que describa el sonido que hace el animal, pero implementa este método de manera diferente en cada clase de animal específico."
   ]
  },
  {
   "cell_type": "code",
   "execution_count": null,
   "metadata": {
    "colab": {
     "base_uri": "https://localhost:8080/"
    },
    "executionInfo": {
     "elapsed": 251,
     "status": "ok",
     "timestamp": 1693694455419,
     "user": {
      "displayName": "Jorge Andrés Hueichán",
      "userId": "08546460337859091489"
     },
     "user_tz": 240
    },
    "id": "ChY-ACFDeMo9",
    "outputId": "2f0215a8-5908-43f8-d8d8-60b5b59bb2a0"
   },
   "outputs": [],
   "source": [
    "class Animal: #Creación de la clase padre Animal\n",
    "    def __init__(self, nombre, edad):\n",
    "        self.nombre = nombre\n",
    "        self.edad = edad\n",
    "    def hacer_sonido(self): #Método que se implementará en las instacias que la hereden.\n",
    "        pass\n",
    "\n",
    "class Mamifero(Animal): #Clase hija Mamífero hereda de Animal\n",
    "    def __init__(self, nombre, edad, acuatico_terrestre):\n",
    "        super().__init__(nombre, edad)\n",
    "        self.acuatico_terrestre = acuatico_terrestre\n",
    "\n",
    "class Reptil(Animal): #Clase hija Reptil hereda de Animal\n",
    "    def __init__(self, nombre, edad, tipo):\n",
    "        super().__init__(nombre, edad)\n",
    "        self.tipo = tipo\n",
    "\n",
    "class Ave(Animal): #Clase hija Ave hereda de Animal\n",
    "    def __init__(self, nombre, edad, silvestre):\n",
    "        super().__init__(nombre, edad)\n",
    "        self.silvestre = silvestre\n",
    "\n",
    "class Leon(Mamifero): #Instancia de la clase Mamífero\n",
    "    def hacer_sonido(self):\n",
    "        return \"Rugido\"\n",
    "\n",
    "class Cocodrilo(Reptil): #Instancia de la clase Reptil\n",
    "    def hacer_sonido(self):\n",
    "        return \"Gruñido\"\n",
    "\n",
    "class Aguila(Ave): #Instancia de la clase Ave\n",
    "    def hacer_sonido(self):\n",
    "        return \"chirridos\"\n",
    "\n",
    "# Se crean instacias de cada uno de los animales\n",
    "leon = Leon(\"mufasa\", 6, \"terrestre\")\n",
    "cocodrilo = Cocodrilo(\"Dandee\", 4, \"ofidio\")\n",
    "aguila = Aguila(\"Aguila Americana\", 5, True)\n",
    "\n",
    "\n",
    "# Implementación polimorfismo, mismo método, distinta implementación:\n",
    "print(f\"{leon.nombre} hace el sonido: {leon.hacer_sonido()}\")\n",
    "print(f\"{cocodrilo.nombre} hace el sonido: {cocodrilo.hacer_sonido()}\")\n",
    "print(f\"{aguila.nombre} hace el sonido: {aguila.hacer_sonido()}\")\n"
   ]
  },
  {
   "cell_type": "markdown",
   "metadata": {
    "id": "4FQ9GTOpeYsF"
   },
   "source": [
    "## <font color='green'>Tarea 4: Super Challenging</font>\n",
    "\n",
    "### Modelando una biblioteca\n",
    "Crea una jerarquía de clases para modelar una biblioteca. Debe haber una clase Libro con atributos comunes a todos los libros. Luego, crea clases para diferentes tipos de libros (por ejemplo, Novela, CienciaFiccion, Biografia), cada una de las cuales hereda de Libro. Cada una de estas clases debe tener atributos y métodos específicos de su tipo. Utiliza el polimorfismo para crear un método en la clase Libro que describa el tipo de lectura que proporciona el libro, pero implementa este método de manera diferente en cada clase de libro específico."
   ]
  },
  {
   "cell_type": "code",
   "execution_count": null,
   "metadata": {
    "colab": {
     "base_uri": "https://localhost:8080/"
    },
    "executionInfo": {
     "elapsed": 254,
     "status": "ok",
     "timestamp": 1693696094016,
     "user": {
      "displayName": "Jorge Andrés Hueichán",
      "userId": "08546460337859091489"
     },
     "user_tz": 240
    },
    "id": "9_GqsZD3fGVD",
    "outputId": "4fc037ec-31a5-45cc-dbb5-c3e7b586864b"
   },
   "outputs": [],
   "source": [
    "class Libro:#Creación de la clase padre Libro\n",
    "    def __init__(self, titulo, autor, editorial):\n",
    "        self.titulo = titulo\n",
    "        self.autor = autor\n",
    "        self.editorial = editorial\n",
    "\n",
    "    def tipo_de_lectura(self):\n",
    "        pass\n",
    "\n",
    "class Novela(Libro):#Creación de la clase hija Novela\n",
    "    def __init__(self, titulo, autor, editorial, corriente_literaria):\n",
    "        super().__init__(titulo, autor, editorial)\n",
    "        self.corriente_literaria = corriente_literaria\n",
    "\n",
    "    def tipo_de_lectura(self):\n",
    "        return \"Novela\"\n",
    "\n",
    "class CienciaFiccion(Libro): #Creación de la clase hija CienciaFiccion\n",
    "    def __init__(self, titulo, autor, editorial, avance_cientifico):\n",
    "        super().__init__(titulo, autor, editorial)\n",
    "        self.avance_cientifico = avance_cientifico\n",
    "\n",
    "    def tipo_de_lectura(self):\n",
    "        return \"Ciencia Ficción\"\n",
    "\n",
    "class Biografia(Libro): #Creación de la clase hija Biografia\n",
    "    def __init__(self, titulo, autor, editorial, persona_biografiada):\n",
    "        super().__init__(titulo, autor, editorial)\n",
    "        self.persona_biografiada = persona_biografiada\n",
    "\n",
    "    def tipo_de_lectura(self):\n",
    "        return \"Biografía\"\n",
    "\n",
    "#Instancias de cada una de las clases\n",
    "novela = Novela(\"El quijote de la mancha\", \"Miguel de Cervantes\", \"Santillana\", \"Cínico-parodia\")\n",
    "ciencia_ficcion = CienciaFiccion(\"Odisea espacial\", \"Arthur C. Clarke.\", \"Pearson PLC\", \"Viajes interestelares\")\n",
    "biografia = Biografia(\"Cristóbal Colón\", \"Varios autores\", \"50Minutos.es\", \"Cristóbal Colón\")\n",
    "\n",
    "#impresión por pantalla de atributos y métodos\n",
    "print(f\"{novela.titulo} es una {novela.tipo_de_lectura()} escrita por {novela.autor}.\")\n",
    "print(f\"{ciencia_ficcion.titulo} es una {ciencia_ficcion.tipo_de_lectura()} escrita por {ciencia_ficcion.autor}.\")\n",
    "print(f\"{biografia.titulo} es una {biografia.tipo_de_lectura()} sobre {biografia.persona_biografiada}, escrita por {biografia.autor}.\")\n",
    "\n",
    "\n"
   ]
  },
  {
   "cell_type": "markdown",
   "metadata": {
    "id": "af8QxzcjAm4A"
   },
   "source": [
    "Buena suerte!!"
   ]
  }
 ],
 "metadata": {
  "anaconda-cloud": {},
  "colab": {
   "provenance": []
  },
  "kernelspec": {
   "display_name": "Python 3 (ipykernel)",
   "language": "python",
   "name": "python3"
  },
  "language_info": {
   "codemirror_mode": {
    "name": "ipython",
    "version": 3
   },
   "file_extension": ".py",
   "mimetype": "text/x-python",
   "name": "python",
   "nbconvert_exporter": "python",
   "pygments_lexer": "ipython3",
   "version": "3.8.11"
  }
 },
 "nbformat": 4,
 "nbformat_minor": 0
}
