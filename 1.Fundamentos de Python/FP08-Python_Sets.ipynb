{
 "cells": [
  {
   "cell_type": "markdown",
   "metadata": {
    "id": "KsvYsKEwiqTV"
   },
   "source": [
    "# **Introducción a Python**\n",
    "# FP08. Conjuntos en Python (set)"
   ]
  },
  {
   "cell_type": "markdown",
   "metadata": {
    "id": "bZxJDvG6iqTX"
   },
   "source": [
    "Un conjunto (__set__), es una colección __desordenada__ y __mutable__ de elementos __únicos__. Los conjuntos se utilizan para almacenar múltiples elementos sin un orden específico y sin permitir duplicados. En otras palabras, un conjunto solo puede contener elementos únicos.\n",
    "\n",
    "Características de los conjuntos en Python:\n",
    "\n",
    "* No mantienen un orden específico de los elementos.\n",
    "* No permiten elementos duplicados, es decir, cada elemento es único en el conjunto.\n",
    "* Los conjuntos son mutables, lo que significa que se pueden modificar agregando o eliminando elementos.\n",
    "Los elementos en un conjunto deben ser inmutables, como cadenas, números o tuplas. No se pueden utilizar listas, diccionarios u otras estructuras como elementos de un conjunto.\n",
    "* Los conjuntos admiten operaciones matemáticas de conjuntos como unión, intersección y diferencia.\n",
    "\n",
    "Un conjunto se puede crear utilizando llaves `{}` o utilizando la función `set()`."
   ]
  },
  {
   "cell_type": "markdown",
   "metadata": {
    "id": "BbTv3nediqTY"
   },
   "source": [
    "## <font color='blue'>**Creando Sets**</font>"
   ]
  },
  {
   "cell_type": "code",
   "execution_count": null,
   "metadata": {
    "executionInfo": {
     "elapsed": 18,
     "status": "ok",
     "timestamp": 1694137442562,
     "user": {
      "displayName": "Carol Diaz",
      "userId": "03863088177087652040"
     },
     "user_tz": 180
    },
    "id": "CLS9ZQ1ViqTY"
   },
   "outputs": [],
   "source": [
    "# Creamos un set llamado 'x'\n",
    "\n",
    "x = set()"
   ]
  },
  {
   "cell_type": "code",
   "execution_count": null,
   "metadata": {
    "colab": {
     "base_uri": "https://localhost:8080/"
    },
    "executionInfo": {
     "elapsed": 14,
     "status": "ok",
     "timestamp": 1694137443464,
     "user": {
      "displayName": "Carol Diaz",
      "userId": "03863088177087652040"
     },
     "user_tz": 180
    },
    "id": "DRmcSGmLiqTZ",
    "outputId": "3e78f7f0-4fad-4944-9253-99a0b2fd6c21"
   },
   "outputs": [],
   "source": [
    "# Como siempre verificamos el tipo\n",
    "\n",
    "type(x)"
   ]
  },
  {
   "cell_type": "code",
   "execution_count": null,
   "metadata": {
    "executionInfo": {
     "elapsed": 6,
     "status": "ok",
     "timestamp": 1694137461285,
     "user": {
      "displayName": "Carol Diaz",
      "userId": "03863088177087652040"
     },
     "user_tz": 180
    },
    "id": "oavKo7bYiqTa"
   },
   "outputs": [],
   "source": [
    "# Agreguémosle un elemento\n",
    "# Son mutables, los podemos cambiar\n",
    "x.add(1)"
   ]
  },
  {
   "cell_type": "code",
   "execution_count": null,
   "metadata": {
    "colab": {
     "base_uri": "https://localhost:8080/"
    },
    "executionInfo": {
     "elapsed": 25,
     "status": "ok",
     "timestamp": 1694137464971,
     "user": {
      "displayName": "Carol Diaz",
      "userId": "03863088177087652040"
     },
     "user_tz": 180
    },
    "id": "K1o0Qw0DiqTb",
    "outputId": "1052cd89-3926-4ebc-ec75-714cc1168c06"
   },
   "outputs": [],
   "source": [
    "# Visualicemos nuestro set.\n",
    "# No te confundas con las llaves que se usan en los diccionarios\n",
    "x"
   ]
  },
  {
   "cell_type": "code",
   "execution_count": null,
   "metadata": {
    "executionInfo": {
     "elapsed": 9,
     "status": "ok",
     "timestamp": 1694137467151,
     "user": {
      "displayName": "Carol Diaz",
      "userId": "03863088177087652040"
     },
     "user_tz": 180
    },
    "id": "S4Bgx69-iqTb"
   },
   "outputs": [],
   "source": [
    "x.add(2)"
   ]
  },
  {
   "cell_type": "code",
   "execution_count": null,
   "metadata": {
    "colab": {
     "base_uri": "https://localhost:8080/"
    },
    "executionInfo": {
     "elapsed": 489,
     "status": "ok",
     "timestamp": 1694137469635,
     "user": {
      "displayName": "Carol Diaz",
      "userId": "03863088177087652040"
     },
     "user_tz": 180
    },
    "id": "2v3pTRTtiqTb",
    "outputId": "2758083d-1d95-4dbe-cc26-f8ff85c1d680"
   },
   "outputs": [],
   "source": [
    "x"
   ]
  },
  {
   "cell_type": "markdown",
   "metadata": {
    "id": "Ubx6CxcWiqTb"
   },
   "source": [
    "Ten en cuenta las llaves. ¡Esto no indica un diccionario! Aunque se podría hacer la analogía a que un conjunto como un diccionario con solo llaves (keys).\n",
    "\n",
    "Sabemos que un conjunto sólo tiene entradas únicas. Entonces, ¿qué sucede cuando intentamos agregar algo que ya está en un conjunto?"
   ]
  },
  {
   "cell_type": "code",
   "execution_count": null,
   "metadata": {
    "executionInfo": {
     "elapsed": 8,
     "status": "ok",
     "timestamp": 1694137471879,
     "user": {
      "displayName": "Carol Diaz",
      "userId": "03863088177087652040"
     },
     "user_tz": 180
    },
    "id": "Bzs2Ace7iqTc"
   },
   "outputs": [],
   "source": [
    "# Nota cómo la siguiente sentencia NO colocará otro 1 en el set 'x'\n",
    "# Eso es porque un conjunto solo se ocupa de elementos únicos!\n",
    "# Atención: fíjate que no arroja ningún error\n",
    "x.add(1)"
   ]
  },
  {
   "cell_type": "code",
   "execution_count": null,
   "metadata": {
    "colab": {
     "base_uri": "https://localhost:8080/"
    },
    "executionInfo": {
     "elapsed": 11,
     "status": "ok",
     "timestamp": 1694137474478,
     "user": {
      "displayName": "Carol Diaz",
      "userId": "03863088177087652040"
     },
     "user_tz": 180
    },
    "id": "szeUPq31iqTc",
    "outputId": "acad130e-1bbc-4f83-997d-1a8118f93d9a"
   },
   "outputs": [],
   "source": [
    "x"
   ]
  },
  {
   "cell_type": "code",
   "execution_count": null,
   "metadata": {
    "executionInfo": {
     "elapsed": 6,
     "status": "ok",
     "timestamp": 1694137476450,
     "user": {
      "displayName": "Carol Diaz",
      "userId": "03863088177087652040"
     },
     "user_tz": 180
    },
    "id": "bbcOi1iFiqTc"
   },
   "outputs": [],
   "source": [
    "# Podemos añadir un -1 porque es diferente de 1\n",
    "\n",
    "x.add(-1)"
   ]
  },
  {
   "cell_type": "code",
   "execution_count": null,
   "metadata": {
    "colab": {
     "base_uri": "https://localhost:8080/"
    },
    "executionInfo": {
     "elapsed": 11,
     "status": "ok",
     "timestamp": 1694137479119,
     "user": {
      "displayName": "Carol Diaz",
      "userId": "03863088177087652040"
     },
     "user_tz": 180
    },
    "id": "zZNsZO1giqTc",
    "outputId": "1f9131e8-6b5d-4e11-dd94-94855cdad75d"
   },
   "outputs": [],
   "source": [
    "x"
   ]
  },
  {
   "cell_type": "code",
   "execution_count": null,
   "metadata": {
    "executionInfo": {
     "elapsed": 9,
     "status": "ok",
     "timestamp": 1694137481968,
     "user": {
      "displayName": "Carol Diaz",
      "userId": "03863088177087652040"
     },
     "user_tz": 180
    },
    "id": "SE529umziqTd"
   },
   "outputs": [],
   "source": [
    "# Podemos eliminar un elemento\n",
    "\n",
    "x.discard(2)"
   ]
  },
  {
   "cell_type": "code",
   "execution_count": null,
   "metadata": {
    "colab": {
     "base_uri": "https://localhost:8080/"
    },
    "executionInfo": {
     "elapsed": 292,
     "status": "ok",
     "timestamp": 1694137485942,
     "user": {
      "displayName": "Carol Diaz",
      "userId": "03863088177087652040"
     },
     "user_tz": 180
    },
    "id": "p9_RNFQAiqTd",
    "outputId": "6b325ff9-2806-4fb3-c2b9-ab55dc7504fd"
   },
   "outputs": [],
   "source": [
    "x"
   ]
  },
  {
   "cell_type": "code",
   "execution_count": null,
   "metadata": {
    "executionInfo": {
     "elapsed": 277,
     "status": "ok",
     "timestamp": 1694137487633,
     "user": {
      "displayName": "Carol Diaz",
      "userId": "03863088177087652040"
     },
     "user_tz": 180
    },
    "id": "xNlNR-MEiqTd"
   },
   "outputs": [],
   "source": [
    "# Podemos añadir varios elementos\n",
    "# Fíjate que si añadimos una lista la desempaqueta\n",
    "\n",
    "x.update([-1, 3, 4, 5])"
   ]
  },
  {
   "cell_type": "code",
   "execution_count": null,
   "metadata": {
    "colab": {
     "base_uri": "https://localhost:8080/"
    },
    "executionInfo": {
     "elapsed": 285,
     "status": "ok",
     "timestamp": 1694137489715,
     "user": {
      "displayName": "Carol Diaz",
      "userId": "03863088177087652040"
     },
     "user_tz": 180
    },
    "id": "K1OekABZiqTd",
    "outputId": "415643b4-1661-4c6b-a5f1-d59f1e18b77b"
   },
   "outputs": [],
   "source": [
    "x"
   ]
  },
  {
   "cell_type": "code",
   "execution_count": null,
   "metadata": {
    "colab": {
     "base_uri": "https://localhost:8080/"
    },
    "executionInfo": {
     "elapsed": 12,
     "status": "ok",
     "timestamp": 1694137491495,
     "user": {
      "displayName": "Carol Diaz",
      "userId": "03863088177087652040"
     },
     "user_tz": 180
    },
    "id": "PkOmyrR-iqTd",
    "outputId": "7a08099b-b0fc-4efc-aea9-1caf06e28d35"
   },
   "outputs": [],
   "source": [
    "# Podemos sacar un elemento con pop()\n",
    "\n",
    "x.pop()"
   ]
  },
  {
   "cell_type": "code",
   "execution_count": null,
   "metadata": {
    "colab": {
     "base_uri": "https://localhost:8080/"
    },
    "executionInfo": {
     "elapsed": 266,
     "status": "ok",
     "timestamp": 1694137493193,
     "user": {
      "displayName": "Carol Diaz",
      "userId": "03863088177087652040"
     },
     "user_tz": 180
    },
    "id": "Q4_6ubjliqTe",
    "outputId": "37f19c15-f03c-4d74-ee04-b98bca7f348a"
   },
   "outputs": [],
   "source": [
    "# Qué elemento saca? El primero? El último? Uno aleatorio?\n",
    "\n",
    "x"
   ]
  },
  {
   "cell_type": "markdown",
   "metadata": {
    "id": "DlcjupPEiqTe"
   },
   "source": [
    "Podemos crear un set a partir de una lista con múltiples elementos repetidos para obtener los elementos únicos. Por ejemplo:"
   ]
  },
  {
   "cell_type": "code",
   "execution_count": null,
   "metadata": {
    "executionInfo": {
     "elapsed": 408,
     "status": "ok",
     "timestamp": 1694137495607,
     "user": {
      "displayName": "Carol Diaz",
      "userId": "03863088177087652040"
     },
     "user_tz": 180
    },
    "id": "h7L6aWtGiqTe"
   },
   "outputs": [],
   "source": [
    "# Creamos una lista 'mylist' con varios elementos repetidos\n",
    "\n",
    "mylist = [1, 1, 1, 1, 1, 2, 2, 2, 2, 2, 3, 3, 3, 3, 3]"
   ]
  },
  {
   "cell_type": "code",
   "execution_count": null,
   "metadata": {
    "colab": {
     "base_uri": "https://localhost:8080/"
    },
    "executionInfo": {
     "elapsed": 305,
     "status": "ok",
     "timestamp": 1694137496977,
     "user": {
      "displayName": "Carol Diaz",
      "userId": "03863088177087652040"
     },
     "user_tz": 180
    },
    "id": "UmrTlT9SiqTe",
    "outputId": "b346ffe4-2dc2-4fd1-d59d-45e281f5a8ba"
   },
   "outputs": [],
   "source": [
    "# Ahora creamos un set a partir de la lista 'mylist'\n",
    "\n",
    "set(mylist)"
   ]
  },
  {
   "cell_type": "markdown",
   "metadata": {
    "id": "yuJOu4AUiqTe"
   },
   "source": [
    "Podemos crear de forma rápida un conjunto solo con {}"
   ]
  },
  {
   "cell_type": "code",
   "execution_count": null,
   "metadata": {
    "executionInfo": {
     "elapsed": 308,
     "status": "ok",
     "timestamp": 1694137499103,
     "user": {
      "displayName": "Carol Diaz",
      "userId": "03863088177087652040"
     },
     "user_tz": 180
    },
    "id": "hONpgCLWiqTf"
   },
   "outputs": [],
   "source": [
    "myset = {1, 2, 3}"
   ]
  },
  {
   "cell_type": "code",
   "execution_count": null,
   "metadata": {
    "colab": {
     "base_uri": "https://localhost:8080/"
    },
    "executionInfo": {
     "elapsed": 11,
     "status": "ok",
     "timestamp": 1694137500849,
     "user": {
      "displayName": "Carol Diaz",
      "userId": "03863088177087652040"
     },
     "user_tz": 180
    },
    "id": "RiVcCHypiqTf",
    "outputId": "2ada74cb-db84-480b-a96d-bcea2457c54c"
   },
   "outputs": [],
   "source": [
    "type(myset)"
   ]
  },
  {
   "cell_type": "code",
   "execution_count": null,
   "metadata": {
    "colab": {
     "base_uri": "https://localhost:8080/"
    },
    "executionInfo": {
     "elapsed": 266,
     "status": "ok",
     "timestamp": 1694137503848,
     "user": {
      "displayName": "Carol Diaz",
      "userId": "03863088177087652040"
     },
     "user_tz": 180
    },
    "id": "H90QDcUDiqTf",
    "outputId": "4e005620-431c-4d47-a323-c11db539bbe2"
   },
   "outputs": [],
   "source": [
    "# Pero atención, no puede estar vacío ya que si no, crearíamos una diccionario\n",
    "\n",
    "myset2 = {}\n",
    "type(myset2)"
   ]
  },
  {
   "cell_type": "code",
   "execution_count": null,
   "metadata": {
    "colab": {
     "base_uri": "https://localhost:8080/"
    },
    "executionInfo": {
     "elapsed": 257,
     "status": "ok",
     "timestamp": 1694137505496,
     "user": {
      "displayName": "Carol Diaz",
      "userId": "03863088177087652040"
     },
     "user_tz": 180
    },
    "id": "711GYx0LiqTf",
    "outputId": "d50686e5-9a1b-4707-8859-0a51b59b49c2"
   },
   "outputs": [],
   "source": [
    "# Para crear un set vacío usa el constructor set()\n",
    "\n",
    "myset3 = set()\n",
    "type(myset3)"
   ]
  },
  {
   "cell_type": "code",
   "execution_count": null,
   "metadata": {
    "colab": {
     "base_uri": "https://localhost:8080/"
    },
    "executionInfo": {
     "elapsed": 331,
     "status": "ok",
     "timestamp": 1694137507381,
     "user": {
      "displayName": "Carol Diaz",
      "userId": "03863088177087652040"
     },
     "user_tz": 180
    },
    "id": "mQQGst2-iqTf",
    "outputId": "e7b99e85-5930-4259-b123-cd1293e29185"
   },
   "outputs": [],
   "source": [
    "# Borramos el contenido con el método clear()\n",
    "\n",
    "myset.clear()\n",
    "myset"
   ]
  },
  {
   "cell_type": "markdown",
   "metadata": {
    "id": "IHlttIjIiqTg"
   },
   "source": [
    "## <font color='blue'>**Tipos de datos variados**</font>"
   ]
  },
  {
   "cell_type": "code",
   "execution_count": null,
   "metadata": {
    "colab": {
     "base_uri": "https://localhost:8080/"
    },
    "executionInfo": {
     "elapsed": 14,
     "status": "ok",
     "timestamp": 1694137509509,
     "user": {
      "displayName": "Carol Diaz",
      "userId": "03863088177087652040"
     },
     "user_tz": 180
    },
    "id": "X-fQMQ3NiqTg",
    "outputId": "6188c6b0-1610-4e20-e6d0-8205fb9253d3"
   },
   "outputs": [],
   "source": [
    "# set de enteros (int)\n",
    "\n",
    "my_set4 = {1, 2, 3}\n",
    "print(my_set4)\n",
    "\n",
    "# set de tipos variados\n",
    "\n",
    "my_set5 = {1.0, \"Hello\", (1, 2, 3)}   # float, string y tuple\n",
    "print(my_set5)"
   ]
  },
  {
   "cell_type": "markdown",
   "metadata": {
    "id": "D0sn4oIliqTg"
   },
   "source": [
    "No obstante, un conjunto no puede incluir objetos mutables como listas, diccionarios, e incluso otros conjuntos. Esto ocurre básicamente porque los elementos deben ser *hashables*"
   ]
  },
  {
   "cell_type": "code",
   "execution_count": null,
   "metadata": {
    "colab": {
     "base_uri": "https://localhost:8080/",
     "height": 219
    },
    "executionInfo": {
     "elapsed": 271,
     "status": "error",
     "timestamp": 1694137512015,
     "user": {
      "displayName": "Carol Diaz",
      "userId": "03863088177087652040"
     },
     "user_tz": 180
    },
    "id": "Qn2RJxaRiqTh",
    "outputId": "ba1c4d00-a426-42ca-f307-ec6439fbc6ad"
   },
   "outputs": [],
   "source": [
    "# Esta celda dará un error al tratar de crear el set con un elemento no \"hasheable\"\n",
    "# Las listas no son hasheables\n",
    "c = {[1, 2]}"
   ]
  },
  {
   "cell_type": "markdown",
   "metadata": {
    "id": "ybWkBoPziqTh"
   },
   "source": [
    "<div class=\"alert alert-block alert-warning\">\n",
    "<b>TIP:</b> 'hashable' es una característica de los objetos Python que indica si el objeto tiene un valor hash o no. Si el objeto tiene un valor hash, se puede utilizar como clave para un diccionario o como elemento en un conjunto. Un objeto es hash si tiene un valor hash que no cambia durante toda su vida útil.\n",
    "\n",
    "Un valor hash es un identificador (normalmente alfanumérico) único del objeto; algo así como su RUT. Se utiliza para almacenarlo y buscarlo de forma eficiente y rápida.\n",
    "</div>"
   ]
  },
  {
   "cell_type": "code",
   "execution_count": null,
   "metadata": {
    "colab": {
     "base_uri": "https://localhost:8080/"
    },
    "executionInfo": {
     "elapsed": 15,
     "status": "ok",
     "timestamp": 1694137518727,
     "user": {
      "displayName": "Carol Diaz",
      "userId": "03863088177087652040"
     },
     "user_tz": 180
    },
    "id": "C6_qMZMiRnql",
    "outputId": "6402ad78-4e2c-4852-a8c7-7f8acdda3ddd"
   },
   "outputs": [],
   "source": [
    "llave1 = 'papa'\n",
    "llave2 = 'Papa'\n",
    "hash_llave1 = hash(llave1)\n",
    "hash_llave2 = hash(llave2)\n",
    "print(hash_llave1, hash_llave2)"
   ]
  },
  {
   "cell_type": "markdown",
   "metadata": {
    "id": "ElY3oaABiqTh"
   },
   "source": [
    "## <font color='blue'>**Operaciones matemáticas**</font>\n",
    "\n",
    "Los objetos `set` también admiten operaciones matemáticas como unión, intersección, diferencia y diferencia simétrica."
   ]
  },
  {
   "cell_type": "code",
   "execution_count": null,
   "metadata": {
    "executionInfo": {
     "elapsed": 16,
     "status": "ok",
     "timestamp": 1694137521780,
     "user": {
      "displayName": "Carol Diaz",
      "userId": "03863088177087652040"
     },
     "user_tz": 180
    },
    "id": "zZCHDZf3iqTh"
   },
   "outputs": [],
   "source": [
    "a = {1, 2, 3, 4, 5, 6}\n",
    "b = {4, 5, 6, 7, 8, 9, 10}"
   ]
  },
  {
   "cell_type": "code",
   "execution_count": null,
   "metadata": {
    "colab": {
     "base_uri": "https://localhost:8080/"
    },
    "executionInfo": {
     "elapsed": 271,
     "status": "ok",
     "timestamp": 1694137523288,
     "user": {
      "displayName": "Carol Diaz",
      "userId": "03863088177087652040"
     },
     "user_tz": 180
    },
    "id": "V8AYjQLliqTi",
    "outputId": "5935cf2d-1f7c-4419-a8f8-662b6367e4d4"
   },
   "outputs": [],
   "source": [
    "# Unión: usa el operador | o el método union()\n",
    "\n",
    "a | b"
   ]
  },
  {
   "cell_type": "code",
   "execution_count": null,
   "metadata": {
    "colab": {
     "base_uri": "https://localhost:8080/"
    },
    "executionInfo": {
     "elapsed": 356,
     "status": "ok",
     "timestamp": 1694137530483,
     "user": {
      "displayName": "Carol Diaz",
      "userId": "03863088177087652040"
     },
     "user_tz": 180
    },
    "id": "oGzj3mBviqTi",
    "outputId": "f738366b-d629-4707-8a26-353a925bbf8f"
   },
   "outputs": [],
   "source": [
    "a.union(b)"
   ]
  },
  {
   "cell_type": "code",
   "execution_count": null,
   "metadata": {
    "colab": {
     "base_uri": "https://localhost:8080/"
    },
    "executionInfo": {
     "elapsed": 372,
     "status": "ok",
     "timestamp": 1694137532109,
     "user": {
      "displayName": "Carol Diaz",
      "userId": "03863088177087652040"
     },
     "user_tz": 180
    },
    "id": "tmJhmCBWiqTi",
    "outputId": "fbfc7c8b-140d-47b0-9521-c4fac44be22d"
   },
   "outputs": [],
   "source": [
    "# Intersección: usa el operador & o el método intersection()\n",
    "\n",
    "a & b"
   ]
  },
  {
   "cell_type": "code",
   "execution_count": null,
   "metadata": {
    "colab": {
     "base_uri": "https://localhost:8080/"
    },
    "executionInfo": {
     "elapsed": 14,
     "status": "ok",
     "timestamp": 1694137534025,
     "user": {
      "displayName": "Carol Diaz",
      "userId": "03863088177087652040"
     },
     "user_tz": 180
    },
    "id": "kjLED8cdiqTi",
    "outputId": "65bba252-7de9-48b7-ef4d-c425d34285b5"
   },
   "outputs": [],
   "source": [
    "a.intersection(b)"
   ]
  },
  {
   "cell_type": "code",
   "execution_count": null,
   "metadata": {
    "colab": {
     "base_uri": "https://localhost:8080/"
    },
    "executionInfo": {
     "elapsed": 14,
     "status": "ok",
     "timestamp": 1694137535905,
     "user": {
      "displayName": "Carol Diaz",
      "userId": "03863088177087652040"
     },
     "user_tz": 180
    },
    "id": "zJDRPLf4iqTi",
    "outputId": "7c7c00b8-d568-4603-90e5-b7e3e873129d"
   },
   "outputs": [],
   "source": [
    "# Diferencia: usa el operador - o el método difference()\n",
    "\n",
    "a - b"
   ]
  },
  {
   "cell_type": "code",
   "execution_count": null,
   "metadata": {
    "colab": {
     "base_uri": "https://localhost:8080/"
    },
    "executionInfo": {
     "elapsed": 265,
     "status": "ok",
     "timestamp": 1694137537606,
     "user": {
      "displayName": "Carol Diaz",
      "userId": "03863088177087652040"
     },
     "user_tz": 180
    },
    "id": "gaN5di-SiqTi",
    "outputId": "fcb162b5-77d5-495b-c7fa-51883ebf2d0c"
   },
   "outputs": [],
   "source": [
    "a.difference(b)"
   ]
  },
  {
   "cell_type": "code",
   "execution_count": null,
   "metadata": {
    "colab": {
     "base_uri": "https://localhost:8080/"
    },
    "executionInfo": {
     "elapsed": 259,
     "status": "ok",
     "timestamp": 1694137539209,
     "user": {
      "displayName": "Carol Diaz",
      "userId": "03863088177087652040"
     },
     "user_tz": 180
    },
    "id": "8_cgI8JkiqTi",
    "outputId": "90a4e039-bc08-4ceb-aecb-d005234ee0d0"
   },
   "outputs": [],
   "source": [
    "b - a"
   ]
  },
  {
   "cell_type": "code",
   "execution_count": null,
   "metadata": {
    "colab": {
     "base_uri": "https://localhost:8080/"
    },
    "executionInfo": {
     "elapsed": 12,
     "status": "ok",
     "timestamp": 1694137542281,
     "user": {
      "displayName": "Carol Diaz",
      "userId": "03863088177087652040"
     },
     "user_tz": 180
    },
    "id": "wM4ZcV1iiqTi",
    "outputId": "38ff4e2d-db38-4bb7-dd2c-73bfd70dd8cb"
   },
   "outputs": [],
   "source": [
    "b.difference(a)"
   ]
  },
  {
   "cell_type": "markdown",
   "metadata": {
    "id": "OfghCCWUSn0f"
   },
   "source": [
    "\n",
    "La __diferencia simétrica__ en conjuntos (sets) de Python se refiere a los elementos que están presentes en uno de los conjuntos, pero no en ambos conjuntos al mismo tiempo. Es decir, es la combinación de los elementos exclusivos de dos conjuntos. Es útil para encontrar elementos únicos y comparar conjuntos."
   ]
  },
  {
   "cell_type": "code",
   "execution_count": null,
   "metadata": {
    "colab": {
     "base_uri": "https://localhost:8080/"
    },
    "executionInfo": {
     "elapsed": 11,
     "status": "ok",
     "timestamp": 1694137543968,
     "user": {
      "displayName": "Carol Diaz",
      "userId": "03863088177087652040"
     },
     "user_tz": 180
    },
    "id": "7wSOJY2piqTj",
    "outputId": "16207b84-cdcf-40bf-8700-7a2ff945b596"
   },
   "outputs": [],
   "source": [
    "# Diferencia simétrica: usa el operador ^ o el método symmetric_difference()\n",
    "a ^ b"
   ]
  },
  {
   "cell_type": "code",
   "execution_count": null,
   "metadata": {
    "colab": {
     "base_uri": "https://localhost:8080/"
    },
    "executionInfo": {
     "elapsed": 271,
     "status": "ok",
     "timestamp": 1694137545524,
     "user": {
      "displayName": "Carol Diaz",
      "userId": "03863088177087652040"
     },
     "user_tz": 180
    },
    "id": "T3JIywbFiqTj",
    "outputId": "7e16ee9d-2422-474c-b7c5-fa5c6a64e592"
   },
   "outputs": [],
   "source": [
    "a.symmetric_difference(b)"
   ]
  },
  {
   "cell_type": "markdown",
   "metadata": {
    "id": "0KYggJiSiqTk"
   },
   "source": [
    "## <font color='blue'>**Membresía (Membership)**</font>"
   ]
  },
  {
   "cell_type": "code",
   "execution_count": null,
   "metadata": {
    "colab": {
     "base_uri": "https://localhost:8080/"
    },
    "executionInfo": {
     "elapsed": 10,
     "status": "ok",
     "timestamp": 1694137547182,
     "user": {
      "displayName": "Carol Diaz",
      "userId": "03863088177087652040"
     },
     "user_tz": 180
    },
    "id": "LUaiaNcOiqTk",
    "outputId": "328f1522-03e4-4f33-cc4c-d7b55c2f7637"
   },
   "outputs": [],
   "source": [
    "a"
   ]
  },
  {
   "cell_type": "code",
   "execution_count": null,
   "metadata": {
    "colab": {
     "base_uri": "https://localhost:8080/"
    },
    "executionInfo": {
     "elapsed": 248,
     "status": "ok",
     "timestamp": 1694137548782,
     "user": {
      "displayName": "Carol Diaz",
      "userId": "03863088177087652040"
     },
     "user_tz": 180
    },
    "id": "z8lzWRFkj8DQ",
    "outputId": "fdd24865-9c95-4acc-ada6-138d958f891c"
   },
   "outputs": [],
   "source": [
    "print(a)"
   ]
  },
  {
   "cell_type": "code",
   "execution_count": null,
   "metadata": {
    "colab": {
     "base_uri": "https://localhost:8080/"
    },
    "executionInfo": {
     "elapsed": 253,
     "status": "ok",
     "timestamp": 1694137550389,
     "user": {
      "displayName": "Carol Diaz",
      "userId": "03863088177087652040"
     },
     "user_tz": 180
    },
    "id": "XmaGOIA5iqTk",
    "outputId": "7a539b32-93d9-46bd-9e7e-3795fed76883"
   },
   "outputs": [],
   "source": [
    "print(*a, sep=', ')"
   ]
  },
  {
   "cell_type": "code",
   "execution_count": null,
   "metadata": {
    "colab": {
     "base_uri": "https://localhost:8080/"
    },
    "executionInfo": {
     "elapsed": 15,
     "status": "ok",
     "timestamp": 1694137552556,
     "user": {
      "displayName": "Carol Diaz",
      "userId": "03863088177087652040"
     },
     "user_tz": 180
    },
    "id": "lCCIh1ktiqTk",
    "outputId": "f90755fb-16c8-4770-dc64-76717a40a7e5"
   },
   "outputs": [],
   "source": [
    "2 in a"
   ]
  },
  {
   "cell_type": "code",
   "execution_count": null,
   "metadata": {
    "colab": {
     "base_uri": "https://localhost:8080/"
    },
    "executionInfo": {
     "elapsed": 266,
     "status": "ok",
     "timestamp": 1694137554182,
     "user": {
      "displayName": "Carol Diaz",
      "userId": "03863088177087652040"
     },
     "user_tz": 180
    },
    "id": "bxO3CMGtiqTk",
    "outputId": "e0aa1443-86c1-4d22-ad7a-5f9866618293"
   },
   "outputs": [],
   "source": [
    "# Lo mismo pero usando la función print()\n",
    "\n",
    "print(2 in a)\n",
    "print(f'{2 in a}')"
   ]
  },
  {
   "cell_type": "code",
   "execution_count": null,
   "metadata": {
    "colab": {
     "base_uri": "https://localhost:8080/"
    },
    "executionInfo": {
     "elapsed": 250,
     "status": "ok",
     "timestamp": 1694137555935,
     "user": {
      "displayName": "Carol Diaz",
      "userId": "03863088177087652040"
     },
     "user_tz": 180
    },
    "id": "Mjx67LauiqTk",
    "outputId": "2b1b3b56-6989-44e1-9617-41a51b5785c6"
   },
   "outputs": [],
   "source": [
    "'2' in a"
   ]
  },
  {
   "cell_type": "code",
   "execution_count": null,
   "metadata": {
    "executionInfo": {
     "elapsed": 265,
     "status": "ok",
     "timestamp": 1694137558591,
     "user": {
      "displayName": "Carol Diaz",
      "userId": "03863088177087652040"
     },
     "user_tz": 180
    },
    "id": "O9CBAdnAiqTl"
   },
   "outputs": [],
   "source": [
    "# Busquemos un set en otro\n",
    "\n",
    "c = {2, 3}"
   ]
  },
  {
   "cell_type": "markdown",
   "metadata": {
    "id": "E0ei9szIiqTl"
   },
   "source": [
    "Se dice que $C$ es un subconjunto de $A$ cuando todos los elementos de aquél pertenecen también a éste. Python puede determinar esta relación vía el método `issubset()`."
   ]
  },
  {
   "cell_type": "code",
   "execution_count": null,
   "metadata": {
    "colab": {
     "base_uri": "https://localhost:8080/"
    },
    "executionInfo": {
     "elapsed": 255,
     "status": "ok",
     "timestamp": 1694137564706,
     "user": {
      "displayName": "Carol Diaz",
      "userId": "03863088177087652040"
     },
     "user_tz": 180
    },
    "id": "xw-vY7BPiqTl",
    "outputId": "0b225393-563e-4212-f2cf-567970fa56ce"
   },
   "outputs": [],
   "source": [
    "c.issubset(a)"
   ]
  },
  {
   "cell_type": "markdown",
   "metadata": {
    "id": "pEjZnbwniqTl"
   },
   "source": [
    "Inversamente, se dice que $A$ es un superconjunto de $B$."
   ]
  },
  {
   "cell_type": "code",
   "execution_count": null,
   "metadata": {
    "colab": {
     "base_uri": "https://localhost:8080/"
    },
    "executionInfo": {
     "elapsed": 408,
     "status": "ok",
     "timestamp": 1694137566387,
     "user": {
      "displayName": "Carol Diaz",
      "userId": "03863088177087652040"
     },
     "user_tz": 180
    },
    "id": "5sEJS2wiiqTl",
    "outputId": "b48a1105-babc-42b8-b11c-babf842e3d09"
   },
   "outputs": [],
   "source": [
    "a.issuperset(c)"
   ]
  },
  {
   "cell_type": "markdown",
   "metadata": {
    "id": "DRz0glw8THwv"
   },
   "source": [
    "## <font color='blue'>__Ejercicios__</font>"
   ]
  },
  {
   "cell_type": "markdown",
   "metadata": {
    "id": "4CwVLx8eiqTf"
   },
   "source": [
    "### <font color='green'>Actividad 1:</font>\n",
    "### Crea un set con 5 elementos del tipo float\n",
    "Crea un set llamado $a$\n",
    "\n",
    "Tip:\n",
    "1. Usa el método `set()`\n",
    "2. Recuerda el uso de floats con punto decimal como 4.3 or 0.123"
   ]
  },
  {
   "cell_type": "code",
   "execution_count": null,
   "metadata": {
    "colab": {
     "base_uri": "https://localhost:8080/"
    },
    "executionInfo": {
     "elapsed": 504,
     "status": "ok",
     "timestamp": 1694137938185,
     "user": {
      "displayName": "Carol Diaz",
      "userId": "03863088177087652040"
     },
     "user_tz": 180
    },
    "id": "hXrB8L4AiqTg",
    "outputId": "87d58674-a10e-4a7b-fc31-4f019da13e30"
   },
   "outputs": [],
   "source": [
    "# Tu código aquí ...\n",
    "\n",
    "a= set()\n",
    "a.add(1.1)\n",
    "a.add(2.2)\n",
    "a.add(3.3)\n",
    "a.add(4.4)\n",
    "a.add(5.5)\n",
    "#a = {1.1, 2.2, 3.3, 4.4, 5.5}\n",
    "print(type(a), '\\n')\n",
    "print(a)\n",
    "print(*a, sep=', ')\n",
    "\n",
    "# Otra forma de realizar el mismo ejercicio sin usar add\n",
    "b = set([1.1, 2.2, 3.3, 4.4, 5.5])\n",
    "print(b)\n",
    "print(*b, sep=', ')"
   ]
  },
  {
   "cell_type": "markdown",
   "metadata": {
    "id": "3SKIgAEniqTg"
   },
   "source": [
    "<font color='green'>Fin actividad 1</font>"
   ]
  },
  {
   "cell_type": "markdown",
   "metadata": {
    "id": "88RiHnkBiqTj"
   },
   "source": [
    "### <font color='green'>Actividad 2:</font>\n",
    "### Operaciones sobre conjutos (sets)\n",
    "En la siguiente celda hay dos conjuntos con los personajes del programa de televisión de Riverdale: $A$ y $B$ <br>\n",
    "Haz lo siguiente:\n",
    "* Agregar un nuevo personaje en el conjunto $A$\n",
    "* Eliminar un personaje de set $B$\n",
    "* Imprimir la intersección entre $A$ y $B$\n",
    "* Imprimir la unión entre $A$ y $B$\n",
    "* Extraer la diferencia simétrica entre $A$ y $B$"
   ]
  },
  {
   "cell_type": "code",
   "execution_count": null,
   "metadata": {
    "executionInfo": {
     "elapsed": 282,
     "status": "ok",
     "timestamp": 1694142824384,
     "user": {
      "displayName": "Carol Diaz",
      "userId": "03863088177087652040"
     },
     "user_tz": 180
    },
    "id": "zVjqWcgEiqTj"
   },
   "outputs": [],
   "source": [
    "A = {'Josie', 'Archie', 'Jughead', 'Cheryl', 'Kevin'}\n",
    "B = set(['Veronica', 'Betty', 'Cheryl', 'Fred', 'Melody', 'Josie'])"
   ]
  },
  {
   "cell_type": "code",
   "execution_count": null,
   "metadata": {
    "colab": {
     "base_uri": "https://localhost:8080/"
    },
    "executionInfo": {
     "elapsed": 250,
     "status": "ok",
     "timestamp": 1694142910834,
     "user": {
      "displayName": "Carol Diaz",
      "userId": "03863088177087652040"
     },
     "user_tz": 180
    },
    "id": "21BfbaxCiqTj",
    "outputId": "96fafb26-7cb5-4bb6-d332-4f66c14f4b16"
   },
   "outputs": [],
   "source": [
    "# Tu código aquí ...\n",
    "A = {'Josie', 'Archie', 'Jughead', 'Cheryl', 'Kevin'}\n",
    "B = set(['Veronica', 'Betty', 'Cheryl', 'Fred', 'Melody', 'Josie'])\n",
    "\n",
    "\n",
    "#1 Agregar un nuevo personaje en el conjunto A\n",
    "A.add('Xavi')\n",
    "print(A, '\\n')\n",
    "\n",
    "#2 Eliminar un personaje de set B\n",
    "B.pop()\n",
    "print(B, '\\n')\n",
    "\n",
    "#3 Imprimir la intersección entre A  y  B\n",
    "print(A.intersection(B), '\\n')\n",
    "\n",
    "#4 Imprimir la unión entre A  y  B\n",
    "print(A.union(B), '\\n')\n",
    "\n",
    "#5 Extraer la diferencia simétrica entre A  y  B\n",
    "print(A.symmetric_difference(B))\n"
   ]
  },
  {
   "cell_type": "markdown",
   "metadata": {
    "id": "D3r1l_W6iqTk"
   },
   "source": [
    "<font color='green'>Fin actividad 2</font>"
   ]
  }
 ],
 "metadata": {
  "colab": {
   "provenance": [
    {
     "file_id": "1srK2hYMmatg04Iol2A1i5WicDFe9mq30",
     "timestamp": 1692581898187
    }
   ]
  },
  "kernelspec": {
   "display_name": "Python 3 (ipykernel)",
   "language": "python",
   "name": "python3"
  },
  "language_info": {
   "codemirror_mode": {
    "name": "ipython",
    "version": 3
   },
   "file_extension": ".py",
   "mimetype": "text/x-python",
   "name": "python",
   "nbconvert_exporter": "python",
   "pygments_lexer": "ipython3",
   "version": "3.8.11"
  }
 },
 "nbformat": 4,
 "nbformat_minor": 0
}
