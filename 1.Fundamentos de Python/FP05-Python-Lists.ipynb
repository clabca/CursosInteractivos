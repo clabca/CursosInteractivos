{
 "cells": [
  {
   "cell_type": "markdown",
   "metadata": {
    "id": "wfu6qV3OOqLM"
   },
   "source": [
    "# **Introducción a Python**\n",
    "# FP05. Listas en Python (Python list)"
   ]
  },
  {
   "cell_type": "markdown",
   "metadata": {
    "id": "0r-6QIlDOqLP"
   },
   "source": [
    "## <font color='blue'>**Listas**</font>"
   ]
  },
  {
   "cell_type": "markdown",
   "metadata": {
    "id": "1SmdMUV0OqLQ"
   },
   "source": [
    "Hemos aprendido que las cadenas son secuencias ordenadas e inmutables de caracteres. De manera similar, las listas son secuencias __ordenadas__ y __mutables__ de objetos __mixtos__, i.e., pueden contener una variedad de tipos distintos de datos en orden. Siguen las mismas reglas de secuencia y corchetes de indexación que las cadenas.\n",
    "\n",
    "Exploremos algunos ejemplos útiles:"
   ]
  },
  {
   "cell_type": "code",
   "execution_count": null,
   "metadata": {
    "executionInfo": {
     "elapsed": 18,
     "status": "ok",
     "timestamp": 1694136213082,
     "user": {
      "displayName": "Carol Diaz",
      "userId": "03863088177087652040"
     },
     "user_tz": 180
    },
    "id": "dGqPPbHSOqLQ"
   },
   "outputs": [],
   "source": [
    "# una lista vacía\n",
    "\n",
    "l = []"
   ]
  },
  {
   "cell_type": "code",
   "execution_count": null,
   "metadata": {
    "colab": {
     "base_uri": "https://localhost:8080/"
    },
    "executionInfo": {
     "elapsed": 18,
     "status": "ok",
     "timestamp": 1694136213084,
     "user": {
      "displayName": "Carol Diaz",
      "userId": "03863088177087652040"
     },
     "user_tz": 180
    },
    "id": "Fg6hCG7oOqLR",
    "outputId": "a1fcc1e4-69e1-4d54-ee70-018f6e7d3234"
   },
   "outputs": [],
   "source": [
    "type(l)"
   ]
  },
  {
   "cell_type": "code",
   "execution_count": null,
   "metadata": {
    "executionInfo": {
     "elapsed": 15,
     "status": "ok",
     "timestamp": 1694136215498,
     "user": {
      "displayName": "Carol Diaz",
      "userId": "03863088177087652040"
     },
     "user_tz": 180
    },
    "id": "kcNcFCq_OqLS"
   },
   "outputs": [],
   "source": [
    "# Es pythonista el separar los elementos con un espacio después de la coma\n",
    "\n",
    "my_list = [1, 2, 3]"
   ]
  },
  {
   "cell_type": "code",
   "execution_count": null,
   "metadata": {
    "colab": {
     "base_uri": "https://localhost:8080/"
    },
    "executionInfo": {
     "elapsed": 11,
     "status": "ok",
     "timestamp": 1694136216710,
     "user": {
      "displayName": "Carol Diaz",
      "userId": "03863088177087652040"
     },
     "user_tz": 180
    },
    "id": "zeDaHOWiOqLS",
    "outputId": "43a0c336-eac1-4b8a-f699-15783fd5b14d"
   },
   "outputs": [],
   "source": [
    "my_list"
   ]
  },
  {
   "cell_type": "code",
   "execution_count": null,
   "metadata": {
    "executionInfo": {
     "elapsed": 10,
     "status": "ok",
     "timestamp": 1694136218133,
     "user": {
      "displayName": "Carol Diaz",
      "userId": "03863088177087652040"
     },
     "user_tz": 180
    },
    "id": "diM_-zWEOqLT"
   },
   "outputs": [],
   "source": [
    "my_list2 = ['a', 'b', 'c']"
   ]
  },
  {
   "cell_type": "code",
   "execution_count": null,
   "metadata": {
    "colab": {
     "base_uri": "https://localhost:8080/"
    },
    "executionInfo": {
     "elapsed": 263,
     "status": "ok",
     "timestamp": 1694136220146,
     "user": {
      "displayName": "Carol Diaz",
      "userId": "03863088177087652040"
     },
     "user_tz": 180
    },
    "id": "mh7rR7qmOqLT",
    "outputId": "f30210fa-7959-4794-d88a-0be114aaecca"
   },
   "outputs": [],
   "source": [
    "my_list2"
   ]
  },
  {
   "cell_type": "code",
   "execution_count": null,
   "metadata": {
    "executionInfo": {
     "elapsed": 14,
     "status": "ok",
     "timestamp": 1694136222018,
     "user": {
      "displayName": "Carol Diaz",
      "userId": "03863088177087652040"
     },
     "user_tz": 180
    },
    "id": "K42dcTLyOqLU"
   },
   "outputs": [],
   "source": [
    "a = 100\n",
    "b = 200\n",
    "c = 300\n",
    "my_list3 = [a, b, c]"
   ]
  },
  {
   "cell_type": "code",
   "execution_count": null,
   "metadata": {
    "colab": {
     "base_uri": "https://localhost:8080/"
    },
    "executionInfo": {
     "elapsed": 245,
     "status": "ok",
     "timestamp": 1694136223560,
     "user": {
      "displayName": "Carol Diaz",
      "userId": "03863088177087652040"
     },
     "user_tz": 180
    },
    "id": "pqL76r9BOqLV",
    "outputId": "b0e102eb-6bf8-4388-8285-06b83a4e5d3f"
   },
   "outputs": [],
   "source": [
    "my_list"
   ]
  },
  {
   "cell_type": "markdown",
   "metadata": {
    "id": "H_AgpZ2IOqLW"
   },
   "source": [
    "## <font color='blue'>**Indexing y Slicing**</font>\n",
    "\n",
    "Esto funciona igual que con los string!"
   ]
  },
  {
   "cell_type": "code",
   "execution_count": null,
   "metadata": {
    "executionInfo": {
     "elapsed": 10,
     "status": "ok",
     "timestamp": 1694136226118,
     "user": {
      "displayName": "Carol Diaz",
      "userId": "03863088177087652040"
     },
     "user_tz": 180
    },
    "id": "flbwYUgbOqLX"
   },
   "outputs": [],
   "source": [
    "mylist = ['a', 'b', 'c', 'd']"
   ]
  },
  {
   "cell_type": "code",
   "execution_count": null,
   "metadata": {
    "colab": {
     "base_uri": "https://localhost:8080/",
     "height": 36
    },
    "executionInfo": {
     "elapsed": 399,
     "status": "ok",
     "timestamp": 1694136227690,
     "user": {
      "displayName": "Carol Diaz",
      "userId": "03863088177087652040"
     },
     "user_tz": 180
    },
    "id": "FWjsyQ-XOqLX",
    "outputId": "cfdeded7-ca73-4088-e506-a2d273e4faa7"
   },
   "outputs": [],
   "source": [
    "# el idexing parte de 0\n",
    "\n",
    "mylist[0]"
   ]
  },
  {
   "cell_type": "code",
   "execution_count": null,
   "metadata": {
    "colab": {
     "base_uri": "https://localhost:8080/"
    },
    "executionInfo": {
     "elapsed": 229,
     "status": "ok",
     "timestamp": 1694136229280,
     "user": {
      "displayName": "Carol Diaz",
      "userId": "03863088177087652040"
     },
     "user_tz": 180
    },
    "id": "oK2Pz9_5OqLX",
    "outputId": "0e3165c6-5bcf-44e2-d18d-48dd19339da4"
   },
   "outputs": [],
   "source": [
    "# y el slicing no considera el último número\n",
    "\n",
    "mylist[0:3]"
   ]
  },
  {
   "cell_type": "code",
   "execution_count": null,
   "metadata": {
    "colab": {
     "base_uri": "https://localhost:8080/",
     "height": 36
    },
    "executionInfo": {
     "elapsed": 231,
     "status": "ok",
     "timestamp": 1694136231075,
     "user": {
      "displayName": "Carol Diaz",
      "userId": "03863088177087652040"
     },
     "user_tz": 180
    },
    "id": "WSowEiauOqLX",
    "outputId": "383d17ba-f172-434a-8852-d9d01129b9d0"
   },
   "outputs": [],
   "source": [
    "# podemos usar idexing inverso\n",
    "\n",
    "mylist[-1]"
   ]
  },
  {
   "cell_type": "code",
   "execution_count": null,
   "metadata": {
    "colab": {
     "base_uri": "https://localhost:8080/"
    },
    "executionInfo": {
     "elapsed": 216,
     "status": "ok",
     "timestamp": 1694136232649,
     "user": {
      "displayName": "Carol Diaz",
      "userId": "03863088177087652040"
     },
     "user_tz": 180
    },
    "id": "Xb30nI6nOqLX",
    "outputId": "6581b697-c14e-45fb-fd68-6b44cce16852"
   },
   "outputs": [],
   "source": [
    "# ... con paso\n",
    "mylist[0::2]"
   ]
  },
  {
   "cell_type": "code",
   "execution_count": null,
   "metadata": {
    "colab": {
     "base_uri": "https://localhost:8080/"
    },
    "executionInfo": {
     "elapsed": 5,
     "status": "ok",
     "timestamp": 1694136233855,
     "user": {
      "displayName": "Carol Diaz",
      "userId": "03863088177087652040"
     },
     "user_tz": 180
    },
    "id": "I8lWVT3AOqLY",
    "outputId": "1a4a7fde-ca4a-4aca-a7a5-1a8ad73b5c78"
   },
   "outputs": [],
   "source": [
    "# ... con paso inverso\n",
    "mylist[-1::-1]"
   ]
  },
  {
   "cell_type": "markdown",
   "metadata": {
    "id": "W12EDdCROqLY"
   },
   "source": [
    "### La función `len()`\n",
    "\n",
    "Python tiene funciones integradas a las que puede llamar. Lentamente presentaremos más de ellos a medida que las necesitemos. Una función incorporada útil es la función `len()`, la cual devuelve la longitud de un objeto. Observe el color de la letra en su sintaxis, ese color indica que es una función incorporada. Si ve que este resaltado automático ocurre al elegir su propio nombre de variable, entonces debe elegir un nombre de variable diferente, para no sobrescribir accidentalmente la función."
   ]
  },
  {
   "cell_type": "code",
   "execution_count": null,
   "metadata": {
    "colab": {
     "base_uri": "https://localhost:8080/"
    },
    "executionInfo": {
     "elapsed": 376,
     "status": "ok",
     "timestamp": 1694136236513,
     "user": {
      "displayName": "Carol Diaz",
      "userId": "03863088177087652040"
     },
     "user_tz": 180
    },
    "id": "MnngoakPOqLY",
    "outputId": "a2649911-6aad-48b3-905a-d7f036080273"
   },
   "outputs": [],
   "source": [
    "len('string')"
   ]
  },
  {
   "cell_type": "code",
   "execution_count": null,
   "metadata": {
    "colab": {
     "base_uri": "https://localhost:8080/"
    },
    "executionInfo": {
     "elapsed": 12,
     "status": "ok",
     "timestamp": 1694136238216,
     "user": {
      "displayName": "Carol Diaz",
      "userId": "03863088177087652040"
     },
     "user_tz": 180
    },
    "id": "BLgdaBINOqLY",
    "outputId": "0870f341-ac4b-4917-fee2-95febd3d4f7f"
   },
   "outputs": [],
   "source": [
    "len(my_list)"
   ]
  },
  {
   "cell_type": "markdown",
   "metadata": {
    "id": "DM879TufOqLZ"
   },
   "source": [
    "## <font color='blue'>**Métodos útiles para listas**</font>\n",
    "\n",
    "Los métodos son funciones que pertenecen a un objeto. En este caso el objeto es la lista. Su formato típico es:\n",
    "```python\n",
    "     mylist = [1, 2, 3]\n",
    "     mylist.some_method()\n",
    "```    \n",
    "¡Atención con los paréntesis!\n",
    "\n",
    "Repasemos algunos métodos útiles relacionados con las listas."
   ]
  },
  {
   "cell_type": "code",
   "execution_count": null,
   "metadata": {
    "executionInfo": {
     "elapsed": 10,
     "status": "ok",
     "timestamp": 1694136240718,
     "user": {
      "displayName": "Carol Diaz",
      "userId": "03863088177087652040"
     },
     "user_tz": 180
    },
    "id": "aI2ITkXqOqLZ"
   },
   "outputs": [],
   "source": [
    "mylist = [1, 2, 3]"
   ]
  },
  {
   "cell_type": "code",
   "execution_count": null,
   "metadata": {
    "executionInfo": {
     "elapsed": 300,
     "status": "ok",
     "timestamp": 1694136242068,
     "user": {
      "displayName": "Carol Diaz",
      "userId": "03863088177087652040"
     },
     "user_tz": 180
    },
    "id": "JizDG7pQOqLZ"
   },
   "outputs": [],
   "source": [
    "# Descubre qué hace el método append()\n",
    "mylist.append(4)"
   ]
  },
  {
   "cell_type": "code",
   "execution_count": null,
   "metadata": {
    "colab": {
     "base_uri": "https://localhost:8080/"
    },
    "executionInfo": {
     "elapsed": 11,
     "status": "ok",
     "timestamp": 1694136243096,
     "user": {
      "displayName": "Carol Diaz",
      "userId": "03863088177087652040"
     },
     "user_tz": 180
    },
    "id": "vu0OxoI_OqLa",
    "outputId": "48e52445-774d-4aa7-99c7-8d04a82a9b71"
   },
   "outputs": [],
   "source": [
    "mylist"
   ]
  },
  {
   "cell_type": "code",
   "execution_count": null,
   "metadata": {
    "colab": {
     "base_uri": "https://localhost:8080/"
    },
    "executionInfo": {
     "elapsed": 14,
     "status": "ok",
     "timestamp": 1694136244368,
     "user": {
      "displayName": "Carol Diaz",
      "userId": "03863088177087652040"
     },
     "user_tz": 180
    },
    "id": "ZuX5EwiVOqLa",
    "outputId": "c70580de-d237-47c8-9449-252ffa1b75a6"
   },
   "outputs": [],
   "source": [
    "# Descubre qué hace el método pop()\n",
    "mylist.pop()"
   ]
  },
  {
   "cell_type": "code",
   "execution_count": null,
   "metadata": {
    "colab": {
     "base_uri": "https://localhost:8080/"
    },
    "executionInfo": {
     "elapsed": 6,
     "status": "ok",
     "timestamp": 1694136246358,
     "user": {
      "displayName": "Carol Diaz",
      "userId": "03863088177087652040"
     },
     "user_tz": 180
    },
    "id": "Uav9FjAPOqLa",
    "outputId": "f6f3a3da-5700-4103-8b1b-020155b264b5"
   },
   "outputs": [],
   "source": [
    "mylist"
   ]
  },
  {
   "cell_type": "code",
   "execution_count": null,
   "metadata": {
    "colab": {
     "base_uri": "https://localhost:8080/"
    },
    "executionInfo": {
     "elapsed": 349,
     "status": "ok",
     "timestamp": 1694136248350,
     "user": {
      "displayName": "Carol Diaz",
      "userId": "03863088177087652040"
     },
     "user_tz": 180
    },
    "id": "VH82E1x2OqLa",
    "outputId": "3d0f3665-069a-492e-e553-2639fb05120e"
   },
   "outputs": [],
   "source": [
    "# Si no pones los paréntesis te devuelve el tipo de objeto; en este caso una función\n",
    "mylist.append"
   ]
  },
  {
   "cell_type": "code",
   "execution_count": null,
   "metadata": {
    "executionInfo": {
     "elapsed": 235,
     "status": "ok",
     "timestamp": 1694136250101,
     "user": {
      "displayName": "Carol Diaz",
      "userId": "03863088177087652040"
     },
     "user_tz": 180
    },
    "id": "uh1uiTdhOqLa"
   },
   "outputs": [],
   "source": [
    "mylist.append(4)"
   ]
  },
  {
   "cell_type": "code",
   "execution_count": null,
   "metadata": {
    "colab": {
     "base_uri": "https://localhost:8080/"
    },
    "executionInfo": {
     "elapsed": 14,
     "status": "ok",
     "timestamp": 1694136252434,
     "user": {
      "displayName": "Carol Diaz",
      "userId": "03863088177087652040"
     },
     "user_tz": 180
    },
    "id": "A3JY0Cg4OqLa",
    "outputId": "e23e675d-ceb8-45a9-a144-529a8cc502e1"
   },
   "outputs": [],
   "source": [
    "mylist"
   ]
  },
  {
   "cell_type": "code",
   "execution_count": null,
   "metadata": {
    "executionInfo": {
     "elapsed": 12,
     "status": "ok",
     "timestamp": 1694136254127,
     "user": {
      "displayName": "Carol Diaz",
      "userId": "03863088177087652040"
     },
     "user_tz": 180
    },
    "id": "wnEWtuUBOqLa"
   },
   "outputs": [],
   "source": [
    "item = mylist.pop()"
   ]
  },
  {
   "cell_type": "code",
   "execution_count": null,
   "metadata": {
    "colab": {
     "base_uri": "https://localhost:8080/"
    },
    "executionInfo": {
     "elapsed": 12,
     "status": "ok",
     "timestamp": 1694136257444,
     "user": {
      "displayName": "Carol Diaz",
      "userId": "03863088177087652040"
     },
     "user_tz": 180
    },
    "id": "U9kEst9uOqLa",
    "outputId": "cea07459-542a-4d51-f447-d5c97ed5de7a"
   },
   "outputs": [],
   "source": [
    "item"
   ]
  },
  {
   "cell_type": "code",
   "execution_count": null,
   "metadata": {
    "colab": {
     "base_uri": "https://localhost:8080/"
    },
    "executionInfo": {
     "elapsed": 249,
     "status": "ok",
     "timestamp": 1694136259136,
     "user": {
      "displayName": "Carol Diaz",
      "userId": "03863088177087652040"
     },
     "user_tz": 180
    },
    "id": "l6q-DVCsOqLa",
    "outputId": "20dd3eb4-1a5b-4104-b9b6-75bb7a10bab5"
   },
   "outputs": [],
   "source": [
    "mylist"
   ]
  },
  {
   "cell_type": "code",
   "execution_count": null,
   "metadata": {
    "executionInfo": {
     "elapsed": 254,
     "status": "ok",
     "timestamp": 1694136260634,
     "user": {
      "displayName": "Carol Diaz",
      "userId": "03863088177087652040"
     },
     "user_tz": 180
    },
    "id": "R-3IWCHOOqLa"
   },
   "outputs": [],
   "source": [
    "first_item = mylist.pop(0)"
   ]
  },
  {
   "cell_type": "code",
   "execution_count": null,
   "metadata": {
    "colab": {
     "base_uri": "https://localhost:8080/"
    },
    "executionInfo": {
     "elapsed": 22,
     "status": "ok",
     "timestamp": 1694136262725,
     "user": {
      "displayName": "Carol Diaz",
      "userId": "03863088177087652040"
     },
     "user_tz": 180
    },
    "id": "Jgm94TKoOqLa",
    "outputId": "65578d5b-8677-436c-fb9e-68d6f24ed755"
   },
   "outputs": [],
   "source": [
    "first_item"
   ]
  },
  {
   "cell_type": "code",
   "execution_count": null,
   "metadata": {
    "colab": {
     "base_uri": "https://localhost:8080/"
    },
    "executionInfo": {
     "elapsed": 307,
     "status": "ok",
     "timestamp": 1694136264327,
     "user": {
      "displayName": "Carol Diaz",
      "userId": "03863088177087652040"
     },
     "user_tz": 180
    },
    "id": "7BHyqp3EOqLa",
    "outputId": "8fe4fce6-c1fe-4a5f-8d5b-3d752625cefe"
   },
   "outputs": [],
   "source": [
    "mylist"
   ]
  },
  {
   "cell_type": "code",
   "execution_count": null,
   "metadata": {
    "executionInfo": {
     "elapsed": 240,
     "status": "ok",
     "timestamp": 1694136265818,
     "user": {
      "displayName": "Carol Diaz",
      "userId": "03863088177087652040"
     },
     "user_tz": 180
    },
    "id": "dM_oNgKdOqLb"
   },
   "outputs": [],
   "source": [
    "mylist = [1, 2, 3]"
   ]
  },
  {
   "cell_type": "code",
   "execution_count": null,
   "metadata": {
    "executionInfo": {
     "elapsed": 12,
     "status": "ok",
     "timestamp": 1694136266996,
     "user": {
      "displayName": "Carol Diaz",
      "userId": "03863088177087652040"
     },
     "user_tz": 180
    },
    "id": "QGVRRvfcOqLb"
   },
   "outputs": [],
   "source": [
    "# Este método no devuelve nada.\n",
    "# En su lugar, realiza la acción \"in situ\", o en la misma lista sin devolver nada.\n",
    "# Descubre qué hace...\n",
    "\n",
    "mylist.reverse()"
   ]
  },
  {
   "cell_type": "code",
   "execution_count": null,
   "metadata": {
    "colab": {
     "base_uri": "https://localhost:8080/"
    },
    "executionInfo": {
     "elapsed": 11,
     "status": "ok",
     "timestamp": 1694136269047,
     "user": {
      "displayName": "Carol Diaz",
      "userId": "03863088177087652040"
     },
     "user_tz": 180
    },
    "id": "7GKtKCUxOqLb",
    "outputId": "6188eff1-3cbf-4b50-9d5e-8bf434023cbc"
   },
   "outputs": [],
   "source": [
    "mylist"
   ]
  },
  {
   "cell_type": "code",
   "execution_count": null,
   "metadata": {
    "colab": {
     "base_uri": "https://localhost:8080/"
    },
    "executionInfo": {
     "elapsed": 238,
     "status": "ok",
     "timestamp": 1694136270581,
     "user": {
      "displayName": "Carol Diaz",
      "userId": "03863088177087652040"
     },
     "user_tz": 180
    },
    "id": "M5cnjnvnOqLb",
    "outputId": "d2bb373d-1ce1-4903-e0f3-acef4b377b7a"
   },
   "outputs": [],
   "source": [
    "mylist = [3, 2, 1, 6, 5, 4]\n",
    "mylist"
   ]
  },
  {
   "cell_type": "code",
   "execution_count": null,
   "metadata": {
    "executionInfo": {
     "elapsed": 249,
     "status": "ok",
     "timestamp": 1694136272126,
     "user": {
      "displayName": "Carol Diaz",
      "userId": "03863088177087652040"
     },
     "user_tz": 180
    },
    "id": "H_7cosNkOqLb"
   },
   "outputs": [],
   "source": [
    "# Este método ordena la lista pero sin devolver nada. A esto se le denomina \"in place\"\n",
    "\n",
    "mylist.sort()"
   ]
  },
  {
   "cell_type": "code",
   "execution_count": null,
   "metadata": {
    "colab": {
     "base_uri": "https://localhost:8080/"
    },
    "executionInfo": {
     "elapsed": 14,
     "status": "ok",
     "timestamp": 1694136274658,
     "user": {
      "displayName": "Carol Diaz",
      "userId": "03863088177087652040"
     },
     "user_tz": 180
    },
    "id": "dmb3CfNsOqLb",
    "outputId": "81db70d6-bf34-40ba-ce17-9ef52c1658c8"
   },
   "outputs": [],
   "source": [
    "mylist"
   ]
  },
  {
   "cell_type": "code",
   "execution_count": null,
   "metadata": {
    "colab": {
     "base_uri": "https://localhost:8080/"
    },
    "executionInfo": {
     "elapsed": 378,
     "status": "ok",
     "timestamp": 1694136276738,
     "user": {
      "displayName": "Carol Diaz",
      "userId": "03863088177087652040"
     },
     "user_tz": 180
    },
    "id": "Tc1ML1OFOqLb",
    "outputId": "c4f3cbe0-db9b-40b4-991e-fedcbf8a3dba"
   },
   "outputs": [],
   "source": [
    "# Creemos otra lista\n",
    "\n",
    "names = []\n",
    "\n",
    "# verifiquemos su tipo con type()\n",
    "print(type(names))"
   ]
  },
  {
   "cell_type": "code",
   "execution_count": null,
   "metadata": {
    "colab": {
     "base_uri": "https://localhost:8080/"
    },
    "executionInfo": {
     "elapsed": 259,
     "status": "ok",
     "timestamp": 1694136278264,
     "user": {
      "displayName": "Carol Diaz",
      "userId": "03863088177087652040"
     },
     "user_tz": 180
    },
    "id": "J9whVhcvOqLb",
    "outputId": "ce6d881b-a0b5-4033-91d9-64b24bb1eb28"
   },
   "outputs": [],
   "source": [
    "# Agreguemos un nombre a 'name'\n",
    "\n",
    "names.append('Matías')\n",
    "names"
   ]
  },
  {
   "cell_type": "code",
   "execution_count": null,
   "metadata": {
    "colab": {
     "base_uri": "https://localhost:8080/"
    },
    "executionInfo": {
     "elapsed": 286,
     "status": "ok",
     "timestamp": 1694136279887,
     "user": {
      "displayName": "Carol Diaz",
      "userId": "03863088177087652040"
     },
     "user_tz": 180
    },
    "id": "ibs44kmgOqLb",
    "outputId": "d2052e85-88ac-4797-90e0-7437a3435c91"
   },
   "outputs": [],
   "source": [
    "# Más nombres ...\n",
    "\n",
    "names.append('Isidora')\n",
    "names.append('Flo')\n",
    "names"
   ]
  },
  {
   "cell_type": "markdown",
   "metadata": {
    "id": "tFbrDumuOqLd"
   },
   "source": [
    "## <font color='blue'>**Listas anidadas (_Nested Lists_)**</font>\n",
    "\n",
    "¡Las listas pueden contener otras listas! Esto se llama lista anidada. Veamos algunos ejemplos."
   ]
  },
  {
   "cell_type": "code",
   "execution_count": null,
   "metadata": {
    "executionInfo": {
     "elapsed": 237,
     "status": "ok",
     "timestamp": 1694136282601,
     "user": {
      "displayName": "Carol Diaz",
      "userId": "03863088177087652040"
     },
     "user_tz": 180
    },
    "id": "xOpP0Ap5OqLd"
   },
   "outputs": [],
   "source": [
    "new_list = [1, 2, 3, ['a', 'b', 'c']]"
   ]
  },
  {
   "cell_type": "code",
   "execution_count": null,
   "metadata": {
    "colab": {
     "base_uri": "https://localhost:8080/"
    },
    "executionInfo": {
     "elapsed": 255,
     "status": "ok",
     "timestamp": 1694136288283,
     "user": {
      "displayName": "Carol Diaz",
      "userId": "03863088177087652040"
     },
     "user_tz": 180
    },
    "id": "gJOaH8UgOqLd",
    "outputId": "519b7009-867a-4830-8578-48efa9ad1e08"
   },
   "outputs": [],
   "source": [
    "type(new_list)"
   ]
  },
  {
   "cell_type": "code",
   "execution_count": null,
   "metadata": {
    "colab": {
     "base_uri": "https://localhost:8080/"
    },
    "executionInfo": {
     "elapsed": 247,
     "status": "ok",
     "timestamp": 1694136290016,
     "user": {
      "displayName": "Carol Diaz",
      "userId": "03863088177087652040"
     },
     "user_tz": 180
    },
    "id": "qREc7V7EOqLd",
    "outputId": "87c16589-4f20-4dee-abe3-d634f990f84b"
   },
   "outputs": [],
   "source": [
    "new_list[3]"
   ]
  },
  {
   "cell_type": "code",
   "execution_count": null,
   "metadata": {
    "colab": {
     "base_uri": "https://localhost:8080/",
     "height": 36
    },
    "executionInfo": {
     "elapsed": 11,
     "status": "ok",
     "timestamp": 1694136291044,
     "user": {
      "displayName": "Carol Diaz",
      "userId": "03863088177087652040"
     },
     "user_tz": 180
    },
    "id": "yh76pQ4JOqLd",
    "outputId": "baf48e7f-3e61-490b-93a0-a2b6f8ac4435"
   },
   "outputs": [],
   "source": [
    "# Observa el slicing con dos valores\n",
    "\n",
    "new_list[3][0]"
   ]
  },
  {
   "cell_type": "markdown",
   "metadata": {
    "id": "xxxc66y1OqLj"
   },
   "source": [
    "## <font color='blue'>**Copiando listas**</font>"
   ]
  },
  {
   "cell_type": "markdown",
   "metadata": {
    "id": "mh26_zviOqLj"
   },
   "source": [
    "Ten en cuenta que cuando copias una lista no haces una copia *profunda*."
   ]
  },
  {
   "cell_type": "code",
   "execution_count": null,
   "metadata": {
    "colab": {
     "base_uri": "https://localhost:8080/"
    },
    "executionInfo": {
     "elapsed": 9,
     "status": "ok",
     "timestamp": 1694136292285,
     "user": {
      "displayName": "Carol Diaz",
      "userId": "03863088177087652040"
     },
     "user_tz": 180
    },
    "id": "AcKH7z3tOqLj",
    "outputId": "85000129-f54c-42ca-9572-8a71747f1a88"
   },
   "outputs": [],
   "source": [
    "l = [1, 2, 3]\n",
    "n = l\n",
    "print(n)"
   ]
  },
  {
   "cell_type": "code",
   "execution_count": null,
   "metadata": {
    "colab": {
     "base_uri": "https://localhost:8080/"
    },
    "executionInfo": {
     "elapsed": 13,
     "status": "ok",
     "timestamp": 1694136293717,
     "user": {
      "displayName": "Carol Diaz",
      "userId": "03863088177087652040"
     },
     "user_tz": 180
    },
    "id": "k6QRqtL3OqLj",
    "outputId": "6d7aafc8-43dc-454c-cb98-e7673646b985"
   },
   "outputs": [],
   "source": [
    "# Modificamos la lista l\n",
    "\n",
    "l.append(4)\n",
    "print(l)"
   ]
  },
  {
   "cell_type": "code",
   "execution_count": null,
   "metadata": {
    "colab": {
     "base_uri": "https://localhost:8080/"
    },
    "executionInfo": {
     "elapsed": 12,
     "status": "ok",
     "timestamp": 1694136296129,
     "user": {
      "displayName": "Carol Diaz",
      "userId": "03863088177087652040"
     },
     "user_tz": 180
    },
    "id": "MDpfFcm3OqLk",
    "outputId": "539f9a69-3927-4dcb-c44a-946f78b2e9ac"
   },
   "outputs": [],
   "source": [
    "# Miren lo que ocurre con la lista n\n",
    "\n",
    "print(n)"
   ]
  },
  {
   "cell_type": "markdown",
   "metadata": {
    "id": "EIgpJqb0OqLk"
   },
   "source": [
    "En el fondo, los nombres de listas ***l*** y ***n*** apuntan al mismo objeto en memoria.<br>\n",
    "Comprobemos esto con la función `id()`."
   ]
  },
  {
   "cell_type": "code",
   "execution_count": null,
   "metadata": {
    "colab": {
     "base_uri": "https://localhost:8080/"
    },
    "executionInfo": {
     "elapsed": 231,
     "status": "ok",
     "timestamp": 1694136297630,
     "user": {
      "displayName": "Carol Diaz",
      "userId": "03863088177087652040"
     },
     "user_tz": 180
    },
    "id": "0KjnvmBmOqLk",
    "outputId": "ea07cf0e-b23b-4074-91a6-892b3b06cd2b"
   },
   "outputs": [],
   "source": [
    "id(l) == id(n)"
   ]
  },
  {
   "cell_type": "code",
   "execution_count": null,
   "metadata": {
    "executionInfo": {
     "elapsed": 236,
     "status": "ok",
     "timestamp": 1694136299418,
     "user": {
      "displayName": "Carol Diaz",
      "userId": "03863088177087652040"
     },
     "user_tz": 180
    },
    "id": "TjH3q9bHOqLk"
   },
   "outputs": [],
   "source": [
    "# La solución es copiar con la función deepcopy()\n",
    "# Para ello debemos cargar una librería llamada 'copy' la cual tiene la función 'deepcopy()'\n",
    "\n",
    "import copy\n",
    "m = copy.deepcopy(l)"
   ]
  },
  {
   "cell_type": "code",
   "execution_count": null,
   "metadata": {
    "colab": {
     "base_uri": "https://localhost:8080/"
    },
    "executionInfo": {
     "elapsed": 12,
     "status": "ok",
     "timestamp": 1694136301801,
     "user": {
      "displayName": "Carol Diaz",
      "userId": "03863088177087652040"
     },
     "user_tz": 180
    },
    "id": "gdi8B9DCOqLk",
    "outputId": "a714d178-d4da-4ee6-b779-374cb2a8306a"
   },
   "outputs": [],
   "source": [
    "l == n == m"
   ]
  },
  {
   "cell_type": "code",
   "execution_count": null,
   "metadata": {
    "colab": {
     "base_uri": "https://localhost:8080/"
    },
    "executionInfo": {
     "elapsed": 321,
     "status": "ok",
     "timestamp": 1694136303418,
     "user": {
      "displayName": "Carol Diaz",
      "userId": "03863088177087652040"
     },
     "user_tz": 180
    },
    "id": "-coqI7yoOqLk",
    "outputId": "c7f529c8-4a4b-45a7-ce3b-122ccb8d861e"
   },
   "outputs": [],
   "source": [
    "id(l) == id(n)"
   ]
  },
  {
   "cell_type": "code",
   "execution_count": null,
   "metadata": {
    "colab": {
     "base_uri": "https://localhost:8080/"
    },
    "executionInfo": {
     "elapsed": 292,
     "status": "ok",
     "timestamp": 1694136304974,
     "user": {
      "displayName": "Carol Diaz",
      "userId": "03863088177087652040"
     },
     "user_tz": 180
    },
    "id": "IC9U0GhNOqLk",
    "outputId": "da4c70aa-bfba-4675-9ef5-ab9f7e6fab69"
   },
   "outputs": [],
   "source": [
    "id(l) == id(m)"
   ]
  },
  {
   "cell_type": "code",
   "execution_count": null,
   "metadata": {
    "colab": {
     "base_uri": "https://localhost:8080/"
    },
    "executionInfo": {
     "elapsed": 298,
     "status": "ok",
     "timestamp": 1694136306423,
     "user": {
      "displayName": "Carol Diaz",
      "userId": "03863088177087652040"
     },
     "user_tz": 180
    },
    "id": "RVddMgmVOqLk",
    "outputId": "8ce3119b-d96c-4adc-fc1d-3b0e21d57f5d"
   },
   "outputs": [],
   "source": [
    "l.append(5)\n",
    "print(f'{l == n}')\n",
    "print(f'{l == m}')"
   ]
  },
  {
   "cell_type": "code",
   "execution_count": null,
   "metadata": {
    "executionInfo": {
     "elapsed": 6,
     "status": "ok",
     "timestamp": 1694136307571,
     "user": {
      "displayName": "Carol Diaz",
      "userId": "03863088177087652040"
     },
     "user_tz": 180
    },
    "id": "0-dRm4eUOqLc"
   },
   "outputs": [],
   "source": [
    "# Esto NO VA A FUNCIONAR!\n",
    "# Pero no te vas a dar cuenta\n",
    "\n",
    "result = mylist.reverse()"
   ]
  },
  {
   "cell_type": "code",
   "execution_count": null,
   "metadata": {
    "executionInfo": {
     "elapsed": 235,
     "status": "ok",
     "timestamp": 1694136310507,
     "user": {
      "displayName": "Carol Diaz",
      "userId": "03863088177087652040"
     },
     "user_tz": 180
    },
    "id": "G32CZn5lOqLc"
   },
   "outputs": [],
   "source": [
    "# Recuerda que reverse() no retorna nada\n",
    "\n",
    "result"
   ]
  },
  {
   "cell_type": "code",
   "execution_count": null,
   "metadata": {
    "colab": {
     "base_uri": "https://localhost:8080/"
    },
    "executionInfo": {
     "elapsed": 13,
     "status": "ok",
     "timestamp": 1694136312012,
     "user": {
      "displayName": "Carol Diaz",
      "userId": "03863088177087652040"
     },
     "user_tz": 180
    },
    "id": "EjFuSPQGOqLc",
    "outputId": "b0ae6279-8053-4142-9efb-1a043acbac27"
   },
   "outputs": [],
   "source": [
    "print(result)"
   ]
  },
  {
   "cell_type": "markdown",
   "metadata": {
    "id": "wWcB1PQpOqLc"
   },
   "source": [
    "Otro método interesante: `insert()`"
   ]
  },
  {
   "cell_type": "code",
   "execution_count": null,
   "metadata": {
    "executionInfo": {
     "elapsed": 10,
     "status": "ok",
     "timestamp": 1694136313612,
     "user": {
      "displayName": "Carol Diaz",
      "userId": "03863088177087652040"
     },
     "user_tz": 180
    },
    "id": "_Zv_5N8POqLc"
   },
   "outputs": [],
   "source": [
    "mylist = [1, 2, 3]\n",
    "mylist.insert(2, 'NEW')"
   ]
  },
  {
   "cell_type": "code",
   "execution_count": null,
   "metadata": {
    "colab": {
     "base_uri": "https://localhost:8080/"
    },
    "executionInfo": {
     "elapsed": 233,
     "status": "ok",
     "timestamp": 1694136314955,
     "user": {
      "displayName": "Carol Diaz",
      "userId": "03863088177087652040"
     },
     "user_tz": 180
    },
    "id": "q693JbpIOqLc",
    "outputId": "23b45e9e-e669-4b9d-f9d8-89469b8d67b7"
   },
   "outputs": [],
   "source": [
    "mylist"
   ]
  },
  {
   "cell_type": "markdown",
   "metadata": {
    "id": "883uJcaC4Jnr"
   },
   "source": [
    "## <font color='blue'>__Ejercicios__</font>"
   ]
  },
  {
   "cell_type": "markdown",
   "metadata": {
    "id": "_8VeH72pOqLV"
   },
   "source": [
    "### <font color='green'>Actividad 1:</font>\n",
    "### Crea tu propia lista con 5 elementos del mismo tipo\n",
    "Puede ser cualquier tipo de dato de los ya aprendidos"
   ]
  },
  {
   "cell_type": "code",
   "execution_count": null,
   "metadata": {
    "colab": {
     "base_uri": "https://localhost:8080/"
    },
    "executionInfo": {
     "elapsed": 251,
     "status": "ok",
     "timestamp": 1694136318129,
     "user": {
      "displayName": "Carol Diaz",
      "userId": "03863088177087652040"
     },
     "user_tz": 180
    },
    "id": "70uIdFr6OqLV",
    "outputId": "9b204fd8-8d47-46e6-f229-a843db447b1b"
   },
   "outputs": [],
   "source": [
    "# Tu código aquí ...\n",
    "mi_lista = ['a', 'b', 'c', 'd', 'e']\n",
    "mi_lista"
   ]
  },
  {
   "cell_type": "markdown",
   "metadata": {
    "id": "tUK_W2ciOqLW"
   },
   "source": [
    "<font color='green'>Fin actividad 1</font>"
   ]
  },
  {
   "cell_type": "markdown",
   "metadata": {
    "id": "pS24skSKOqLW"
   },
   "source": [
    "### <font color='green'>Actividad 2:</font>\n",
    "### Crea tu propia lista con 5 elementos de distinto tipo"
   ]
  },
  {
   "cell_type": "code",
   "execution_count": null,
   "metadata": {
    "colab": {
     "base_uri": "https://localhost:8080/"
    },
    "executionInfo": {
     "elapsed": 237,
     "status": "ok",
     "timestamp": 1694136320401,
     "user": {
      "displayName": "Carol Diaz",
      "userId": "03863088177087652040"
     },
     "user_tz": 180
    },
    "id": "U8f4yPvLOqLW",
    "outputId": "63ef8446-2dda-4a77-8868-1472e3f46d23"
   },
   "outputs": [],
   "source": [
    "# Tu código aquí ...\n",
    "mi_lista2 = [1, \"Hola\", 3.14, True, [6, 7]]\n",
    "print(mi_lista2)\n"
   ]
  },
  {
   "cell_type": "markdown",
   "metadata": {
    "id": "wII3Yo-8OqLW"
   },
   "source": [
    "<font color='green'>Fin actividad 2</font>"
   ]
  },
  {
   "cell_type": "markdown",
   "metadata": {
    "id": "4U_dUUSeOqLY"
   },
   "source": [
    "### <font color='green'>Actividad 3:</font>\n",
    "### Seleciona el 2do y 3er elemento de *mylist* usando *slicing*"
   ]
  },
  {
   "cell_type": "code",
   "execution_count": null,
   "metadata": {
    "colab": {
     "base_uri": "https://localhost:8080/"
    },
    "executionInfo": {
     "elapsed": 245,
     "status": "ok",
     "timestamp": 1694136323044,
     "user": {
      "displayName": "Carol Diaz",
      "userId": "03863088177087652040"
     },
     "user_tz": 180
    },
    "id": "P4DfE-w8OqLY",
    "outputId": "5b5e865d-4d9b-4358-8828-4e08c27cc331"
   },
   "outputs": [],
   "source": [
    "# Tu código aquí ...\n",
    "print(mylist, '\\n')\n",
    "\n",
    "mylist[1:3]\n"
   ]
  },
  {
   "cell_type": "markdown",
   "metadata": {
    "id": "kUr8GfkXOqLY"
   },
   "source": [
    "<font color='green'>Fin actividad 3</font>"
   ]
  },
  {
   "cell_type": "markdown",
   "metadata": {
    "id": "YbhUQfV6OqLZ"
   },
   "source": [
    "### <font color='green'>Actividad 4:</font>\n",
    "### Crea tu propia lista\n",
    "Crea tu propia lista con 4 elementos del mismo tipo y cuenta el largo de la lista con `len()`"
   ]
  },
  {
   "cell_type": "code",
   "execution_count": null,
   "metadata": {
    "colab": {
     "base_uri": "https://localhost:8080/"
    },
    "executionInfo": {
     "elapsed": 249,
     "status": "ok",
     "timestamp": 1694136326146,
     "user": {
      "displayName": "Carol Diaz",
      "userId": "03863088177087652040"
     },
     "user_tz": 180
    },
    "id": "e3kOb1f0OqLZ",
    "outputId": "412d7702-2e47-427e-abd7-5ce20c2f1003"
   },
   "outputs": [],
   "source": [
    "# Tu código aquí ...\n",
    "mi_lista3 = [1,2,3,4]\n",
    "print(len(mi_lista3))\n"
   ]
  },
  {
   "cell_type": "markdown",
   "metadata": {
    "id": "hHmzjBcHOqLZ"
   },
   "source": [
    "<font color='green'>Fin actividad 4</font>"
   ]
  },
  {
   "cell_type": "markdown",
   "metadata": {
    "id": "e7gfz5THOqLb"
   },
   "source": [
    "### <font color='green'>Actividad 5:</font>\n",
    "### Crea tu propia lista con los nombres de los compañeros de tu grupo de trabajo o curso.\n",
    "Usa el metodo `append()`.<br>\n",
    "Añade 5 nombres<br>\n",
    "Te aprendiste ya los nombres de tus compañeros de curso?"
   ]
  },
  {
   "cell_type": "code",
   "execution_count": null,
   "metadata": {
    "colab": {
     "base_uri": "https://localhost:8080/"
    },
    "executionInfo": {
     "elapsed": 24,
     "status": "ok",
     "timestamp": 1694136328456,
     "user": {
      "displayName": "Carol Diaz",
      "userId": "03863088177087652040"
     },
     "user_tz": 180
    },
    "id": "PyqqVWQLOqLc",
    "outputId": "2bace030-ef72-4200-91e8-cda2334cee6a"
   },
   "outputs": [],
   "source": [
    "# Tu código a quí .\n",
    "\n",
    "grupo_4 = []\n",
    "grupo_4.append('Carol')\n",
    "grupo_4.append('Jorge')\n",
    "grupo_4.append('Cristian')\n",
    "grupo_4.append('Maurizio')\n",
    "grupo_4.append('Javier')\n",
    "\n",
    "grupo_4\n",
    "\n"
   ]
  },
  {
   "cell_type": "markdown",
   "metadata": {
    "id": "rMGfUQmNOqLc"
   },
   "source": [
    "<font color='green'>Fin actividad 5</font>"
   ]
  },
  {
   "cell_type": "markdown",
   "metadata": {
    "id": "fUQpjUIhOqLc"
   },
   "source": [
    "### <font color='green'>Actividad 6:</font>\n",
    "### Ordena la lista creada en la actividad anterior e imprímela usando f-strings\n",
    "\n",
    "Tip: Investiga cómo desempaquetar (unpack) listas\n",
    "\n",
    "Intenta que quede de esta forma:\n",
    "\n",
    "```python\n",
    "Ana, Andrea, Karla, Pedro, Ronny\n",
    "```\n",
    "y No de esta otra\n",
    "\n",
    "```python\n",
    "['Ana', 'Andrea', 'Karla', 'Pedro', 'Ronny']\n",
    "```"
   ]
  },
  {
   "cell_type": "code",
   "execution_count": null,
   "metadata": {
    "colab": {
     "base_uri": "https://localhost:8080/"
    },
    "executionInfo": {
     "elapsed": 247,
     "status": "ok",
     "timestamp": 1694136334640,
     "user": {
      "displayName": "Carol Diaz",
      "userId": "03863088177087652040"
     },
     "user_tz": 180
    },
    "id": "7jVKJvnPOqLc",
    "outputId": "e46329e6-5d55-4f3b-fd6f-fb5e3900a048"
   },
   "outputs": [],
   "source": [
    "# Tu código aquí ...\n",
    "\n",
    "lista_ordenada = sorted(grupo_4)\n",
    "\n",
    "print(*lista_ordenada, sep=', ')\n"
   ]
  },
  {
   "cell_type": "markdown",
   "metadata": {
    "id": "C2FCV0HzOqLc"
   },
   "source": [
    "<font color='green'>Fin actividad 6</font>"
   ]
  },
  {
   "cell_type": "markdown",
   "metadata": {
    "id": "2ciCVCACOqLc"
   },
   "source": [
    "### <font color='green'>Actividad 7:</font>\n",
    "### Inserta el número 10 al inicio de *mylist*\n",
    "TIP: usa el método `insert()`\n"
   ]
  },
  {
   "cell_type": "code",
   "execution_count": null,
   "metadata": {
    "colab": {
     "base_uri": "https://localhost:8080/"
    },
    "executionInfo": {
     "elapsed": 240,
     "status": "ok",
     "timestamp": 1694136337476,
     "user": {
      "displayName": "Carol Diaz",
      "userId": "03863088177087652040"
     },
     "user_tz": 180
    },
    "id": "AySjAx-yOqLc",
    "outputId": "5875c24d-e22c-4d0d-b9f9-51be12c51f85"
   },
   "outputs": [],
   "source": [
    "# Tu código aquí ...\n",
    "mylist\n",
    "print(mylist, '\\n')\n",
    "\n",
    "mylist.insert(0,10)\n",
    "mylist\n"
   ]
  },
  {
   "cell_type": "markdown",
   "metadata": {
    "id": "_28uMpcZOqLd"
   },
   "source": [
    "<font color='green'>Fin actividad 7</font>"
   ]
  },
  {
   "cell_type": "markdown",
   "metadata": {
    "id": "O5yQRDrsOqLd"
   },
   "source": [
    "### <font color='green'>Actividad 8:</font>\n",
    "### Selecciona el 2do elemento de la lista anidada que hay en *new_list*"
   ]
  },
  {
   "cell_type": "code",
   "execution_count": null,
   "metadata": {
    "colab": {
     "base_uri": "https://localhost:8080/",
     "height": 73
    },
    "executionInfo": {
     "elapsed": 284,
     "status": "ok",
     "timestamp": 1694136340876,
     "user": {
      "displayName": "Carol Diaz",
      "userId": "03863088177087652040"
     },
     "user_tz": 180
    },
    "id": "lFq_xBszOqLd",
    "outputId": "184b027b-d2e4-46fc-c45b-4424476a318d"
   },
   "outputs": [],
   "source": [
    "# Tu código aquí ...\n",
    "new_list = [1, 2, 3, ['a', 'b', 'c']]\n",
    "print(new_list, '\\n')\n",
    "\n",
    "new_list[3][1]\n"
   ]
  },
  {
   "cell_type": "markdown",
   "metadata": {
    "id": "kmXn-1tiOqLd"
   },
   "source": [
    "<font color='green'>Fin actividad 8</font>"
   ]
  },
  {
   "cell_type": "markdown",
   "metadata": {
    "id": "g6p7P9g9OqLd"
   },
   "source": [
    "### <font color='green'>Actividad 9:</font>\n",
    "### Elimina el último elemento de la lista anidada en *new_list*"
   ]
  },
  {
   "cell_type": "code",
   "execution_count": null,
   "metadata": {
    "colab": {
     "base_uri": "https://localhost:8080/"
    },
    "executionInfo": {
     "elapsed": 235,
     "status": "ok",
     "timestamp": 1694136342757,
     "user": {
      "displayName": "Carol Diaz",
      "userId": "03863088177087652040"
     },
     "user_tz": 180
    },
    "id": "UxjaLz0eOqLd",
    "outputId": "927791b7-46cf-4b69-9767-2f00b88430a6"
   },
   "outputs": [],
   "source": [
    "# Tu código aquí ...\n",
    "print(new_list)\n",
    "new_list[3].pop()\n",
    "print(new_list)"
   ]
  },
  {
   "cell_type": "markdown",
   "metadata": {
    "id": "Gbo9XeDmOqLd"
   },
   "source": [
    "<font color='green'>Fin actividad 9</font>"
   ]
  },
  {
   "cell_type": "markdown",
   "metadata": {
    "id": "w6iFn-iNOqLk"
   },
   "source": [
    "Eso es todo por ahora hackers, ¡usaremos muchas listas a lo largo de tu entrenamiento!"
   ]
  }
 ],
 "metadata": {
  "colab": {
   "provenance": [
    {
     "file_id": "1ER9ZoKiiT2F0ksG2QlzplgqUTN4Ci7Uu",
     "timestamp": 1692232761524
    }
   ]
  },
  "kernelspec": {
   "display_name": "Python 3 (ipykernel)",
   "language": "python",
   "name": "python3"
  },
  "language_info": {
   "codemirror_mode": {
    "name": "ipython",
    "version": 3
   },
   "file_extension": ".py",
   "mimetype": "text/x-python",
   "name": "python",
   "nbconvert_exporter": "python",
   "pygments_lexer": "ipython3",
   "version": "3.8.11"
  }
 },
 "nbformat": 4,
 "nbformat_minor": 0
}
