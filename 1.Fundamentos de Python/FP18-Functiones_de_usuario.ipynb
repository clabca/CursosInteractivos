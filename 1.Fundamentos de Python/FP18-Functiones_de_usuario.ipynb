{
 "cells": [
  {
   "cell_type": "markdown",
   "metadata": {
    "id": "8IGPgEQ4DgwZ"
   },
   "source": [
    "# **Introducción a Python**\n",
    "# FP18. Funciones de usuario (User Functions)\n"
   ]
  },
  {
   "cell_type": "markdown",
   "metadata": {
    "id": "RD4KHqacDgwd"
   },
   "source": [
    "Hola, Hackers. Es hora de aprender un nuevo elemento importante en Python: Las Funciones !!!\n",
    "\n",
    "Una función es un bloque de código organizado y reutilizable que se utiliza para realizar una única acción relacionada. Las funciones proporcionan una mejor modularidad para tu aplicación y un alto grado de reutilización de código.\n",
    "\n",
    "Las funciones son la base para un código reproducible en proyectos.\n",
    "\n",
    "Las funciones nos permiten no tener que escribir repetidamente el mismo código una y otra vez.\n",
    "\n",
    "Hay funciones integradas, es decir, funciones nativas en Python (como `len()`, `randint()` o `print()`) y funciones definidas por el usuario.\n",
    "\n",
    "Una buena función definida por el usuario tiene los siguientes atributos:\n",
    "* Tiene __alta cohesion__, i.e., sus responsabilidades y tareas están estrechamente relacionadas. En otras palabras, una función cohesiva se encarga de una tarea o responsabilidad claramente definida. Alta cohesión es generalmente deseable porque hace que el módulo o la clase sean más fáciles de entender, mantener y reutilizar.\n",
    "* Tiene __bajo acoplamiento__, i.e.,  tiene un grado de dependencia bajo en relación a otros módulos o funciones. Si un módulo está fuertemente acoplado a otros módulos, significa que cualquier cambio en uno puede afectar a los otros. Idealmente, queremos un acoplamiento bajo para que los módulos sean independientes entre sí, lo que facilita el mantenimiento y la reutilización del código."
   ]
  },
  {
   "cell_type": "markdown",
   "metadata": {
    "id": "jvS16FpWDgwe"
   },
   "source": [
    "## <font color='blue'>**La cláusula `def`**</font>\n",
    "\n",
    "Para crear una función usamos la palabra clave `def`. Esta es la forma general de una función:\n",
    "\n",
    "```python\n",
    "def nombre_funcion_minusculas(argumento1, argumento2, argumento3='valor por defecto'):\n",
    "    '''\n",
    "    Este es el DocString de la función. Aquí es donde se debe describir la función,\n",
    "    su objetivo, qué argumentos utiliza (datos de entrada),\n",
    "    datos de salida y la forma de usarla.\n",
    "    '''\n",
    "    # El código de tu función aquí\n",
    "    \n",
    "```"
   ]
  },
  {
   "cell_type": "markdown",
   "metadata": {
    "id": "hnXv6yboDgwe"
   },
   "source": [
    "Comenzamos con `def` y luego un espacio seguido del nombre de la función. Intenta que los nombres sean relevantes, por ejemplo, _d_verificador()_ es un buen nombre para una función que calcule el digito verificador de un RUT. También ten cuidado con los nombres, no querrás llamar a tu función con el mismo nombre que una función incorporada en Python (como por ejemplo _len()_).\n",
    "\n",
    "Luego vienen un par de paréntesis, dentro de los cuales podría haber argumentos separados por una coma. Estos argumentos son las entradas para su función. Podrás utilizar estas entradas en tu función y hacer referencia a ellas. Finalmente, pones dos puntos.\n",
    "\n",
    "<font color='red'>Importante!!</font> Todo el código de la función deberá estar **indentado** 4 espacios para diferenciarlo del resto del código. Recuerda que no es de *pythonistas* el usar \\<tabs\\> para indentar."
   ]
  },
  {
   "cell_type": "markdown",
   "metadata": {
    "id": "vYIPsdl0Dgwf"
   },
   "source": [
    "## <font color='blue'>**Ejemplos de funciones**</font>"
   ]
  },
  {
   "cell_type": "markdown",
   "metadata": {
    "id": "_pnNa5yEDgwg"
   },
   "source": [
    "### Ejemplo 1: Función simple sin argumentos"
   ]
  },
  {
   "cell_type": "code",
   "execution_count": null,
   "metadata": {
    "executionInfo": {
     "elapsed": 16,
     "status": "ok",
     "timestamp": 1694206940357,
     "user": {
      "displayName": "Carol Diaz",
      "userId": "03863088177087652040"
     },
     "user_tz": 180
    },
    "id": "apbp5VDQDgwh"
   },
   "outputs": [],
   "source": [
    "def hacker():\n",
    "    \"\"\"\n",
    "    Esta es mi primera función\n",
    "    Imprime \"Hola mundo\"\n",
    "    \"\"\"\n",
    "    print('Hola mundo')"
   ]
  },
  {
   "cell_type": "code",
   "execution_count": null,
   "metadata": {
    "colab": {
     "base_uri": "https://localhost:8080/"
    },
    "executionInfo": {
     "elapsed": 14,
     "status": "ok",
     "timestamp": 1694206940359,
     "user": {
      "displayName": "Carol Diaz",
      "userId": "03863088177087652040"
     },
     "user_tz": 180
    },
    "id": "CEV-b1C_Dgwi",
    "outputId": "43944b9b-b7f0-4c39-9874-bc45e8330f8f"
   },
   "outputs": [],
   "source": [
    "type(hacker)"
   ]
  },
  {
   "cell_type": "markdown",
   "metadata": {
    "id": "KMqYutb3Dgwk"
   },
   "source": [
    "Si llamas a la función sin paréntesis, no se ejecutará, en su lugar, solo informará cuál es el objeto:"
   ]
  },
  {
   "cell_type": "code",
   "execution_count": null,
   "metadata": {
    "colab": {
     "base_uri": "https://localhost:8080/"
    },
    "executionInfo": {
     "elapsed": 279,
     "status": "ok",
     "timestamp": 1694206947757,
     "user": {
      "displayName": "Carol Diaz",
      "userId": "03863088177087652040"
     },
     "user_tz": 180
    },
    "id": "68kO1ARoDgwk",
    "outputId": "c07e7236-6d84-44ad-eb82-e54ae486c39c"
   },
   "outputs": [],
   "source": [
    "hacker"
   ]
  },
  {
   "cell_type": "markdown",
   "metadata": {
    "id": "5QttGkF7Dgwl"
   },
   "source": [
    "Usa paréntesis para ejecutar la función:"
   ]
  },
  {
   "cell_type": "code",
   "execution_count": null,
   "metadata": {
    "colab": {
     "base_uri": "https://localhost:8080/"
    },
    "executionInfo": {
     "elapsed": 276,
     "status": "ok",
     "timestamp": 1694206949387,
     "user": {
      "displayName": "Carol Diaz",
      "userId": "03863088177087652040"
     },
     "user_tz": 180
    },
    "id": "9SSxI1NKDgwl",
    "outputId": "8e272d9a-6d2a-4178-928e-70abf156c092"
   },
   "outputs": [],
   "source": [
    "hacker()"
   ]
  },
  {
   "cell_type": "markdown",
   "metadata": {
    "id": "TcFlZl0QDgwm"
   },
   "source": [
    "### Ejemplo 2: Función con argumentos"
   ]
  },
  {
   "cell_type": "code",
   "execution_count": null,
   "metadata": {
    "executionInfo": {
     "elapsed": 318,
     "status": "ok",
     "timestamp": 1694206966397,
     "user": {
      "displayName": "Carol Diaz",
      "userId": "03863088177087652040"
     },
     "user_tz": 180
    },
    "id": "pShJ0QpdDgwn"
   },
   "outputs": [],
   "source": [
    "def edad(mi_edad):\n",
    "    print(f\"Tengo {mi_edad} años\")"
   ]
  },
  {
   "cell_type": "code",
   "execution_count": null,
   "metadata": {
    "colab": {
     "base_uri": "https://localhost:8080/",
     "height": 210
    },
    "executionInfo": {
     "elapsed": 328,
     "status": "error",
     "timestamp": 1694206969479,
     "user": {
      "displayName": "Carol Diaz",
      "userId": "03863088177087652040"
     },
     "user_tz": 180
    },
    "id": "077USzDwDgwn",
    "outputId": "1dcdb908-9cf4-4384-b3ff-a838c001b0a4"
   },
   "outputs": [],
   "source": [
    "# Nota el error\n",
    "# Esta instrucción dara un error porque la función 'edad' necesita un argumento y no se lo incluimos\n",
    "edad()"
   ]
  },
  {
   "cell_type": "code",
   "execution_count": null,
   "metadata": {
    "colab": {
     "base_uri": "https://localhost:8080/"
    },
    "executionInfo": {
     "elapsed": 343,
     "status": "ok",
     "timestamp": 1694206972197,
     "user": {
      "displayName": "Carol Diaz",
      "userId": "03863088177087652040"
     },
     "user_tz": 180
    },
    "id": "AxfVOG3KDgwo",
    "outputId": "db34bcce-40c1-4d68-e83c-4cd2aa7001d3"
   },
   "outputs": [],
   "source": [
    "edad(12)"
   ]
  },
  {
   "cell_type": "code",
   "execution_count": null,
   "metadata": {
    "executionInfo": {
     "elapsed": 10,
     "status": "ok",
     "timestamp": 1694206974263,
     "user": {
      "displayName": "Carol Diaz",
      "userId": "03863088177087652040"
     },
     "user_tz": 180
    },
    "id": "PH-PhVjzDgwp"
   },
   "outputs": [],
   "source": [
    "# Ten en cuenta que puedes usar el mismo nombre para la función y su argumento\n",
    "# Eso es porque son dos objetos diferentes: uno es una función y el otro es una variable\n",
    "\n",
    "def peso(peso):\n",
    "    \"\"\"\n",
    "    Convierte un peso en kilogramos a libras\n",
    "\n",
    "    Parámetros:\n",
    "    peso (int): Peso en kilogramos\n",
    "\n",
    "    Salida:\n",
    "    'Mi peso en libras es = {peso:.1f}' (str): string con el peso en libras\n",
    "\n",
    "    \"\"\"\n",
    "    peso = peso * 2.20462\n",
    "    print(f'Mi peso en libras es = {peso:.1f}')"
   ]
  },
  {
   "cell_type": "code",
   "execution_count": null,
   "metadata": {
    "colab": {
     "base_uri": "https://localhost:8080/"
    },
    "executionInfo": {
     "elapsed": 13,
     "status": "ok",
     "timestamp": 1694206976220,
     "user": {
      "displayName": "Carol Diaz",
      "userId": "03863088177087652040"
     },
     "user_tz": 180
    },
    "id": "pshYSitUDgwp",
    "outputId": "de7e954d-ae70-480b-ce68-1aa6de1c308b"
   },
   "outputs": [],
   "source": [
    "help(peso)"
   ]
  },
  {
   "cell_type": "code",
   "execution_count": null,
   "metadata": {
    "colab": {
     "base_uri": "https://localhost:8080/"
    },
    "executionInfo": {
     "elapsed": 317,
     "status": "ok",
     "timestamp": 1694206978930,
     "user": {
      "displayName": "Carol Diaz",
      "userId": "03863088177087652040"
     },
     "user_tz": 180
    },
    "id": "_filpM6cDgwq",
    "outputId": "b0affc94-4197-4f7b-893f-ff531324972e"
   },
   "outputs": [],
   "source": [
    "peso(45)"
   ]
  },
  {
   "cell_type": "markdown",
   "metadata": {
    "id": "OKULFH06Dgwq"
   },
   "source": [
    "### Ejemplo 3: Podemos utilizar argumentos con valores por defecto"
   ]
  },
  {
   "cell_type": "code",
   "execution_count": null,
   "metadata": {
    "executionInfo": {
     "elapsed": 412,
     "status": "ok",
     "timestamp": 1694206981402,
     "user": {
      "displayName": "Carol Diaz",
      "userId": "03863088177087652040"
     },
     "user_tz": 180
    },
    "id": "qKWoCqDbDgwq"
   },
   "outputs": [],
   "source": [
    "def reporte(name='Juan'):\n",
    "    print(f'Reportando {name}')"
   ]
  },
  {
   "cell_type": "code",
   "execution_count": null,
   "metadata": {
    "colab": {
     "base_uri": "https://localhost:8080/"
    },
    "executionInfo": {
     "elapsed": 15,
     "status": "ok",
     "timestamp": 1694206982801,
     "user": {
      "displayName": "Carol Diaz",
      "userId": "03863088177087652040"
     },
     "user_tz": 180
    },
    "id": "RscfBN5WDgwq",
    "outputId": "ece50c60-874c-4005-b98f-73b97b1d9897"
   },
   "outputs": [],
   "source": [
    "reporte()"
   ]
  },
  {
   "cell_type": "code",
   "execution_count": null,
   "metadata": {
    "colab": {
     "base_uri": "https://localhost:8080/"
    },
    "executionInfo": {
     "elapsed": 394,
     "status": "ok",
     "timestamp": 1694206984628,
     "user": {
      "displayName": "Carol Diaz",
      "userId": "03863088177087652040"
     },
     "user_tz": 180
    },
    "id": "HKLJi3DDDgwr",
    "outputId": "33fb87a2-a8f1-4281-8d15-434c819ce2e0"
   },
   "outputs": [],
   "source": [
    "# aún así , siempre pordrás incuir un nuevo argumento\n",
    "reporte('Francisca')"
   ]
  },
  {
   "cell_type": "markdown",
   "metadata": {
    "id": "icOGruZUDgwr"
   },
   "source": [
    "## <font color='blue'>**La palabra clave de `return`**</font>\n",
    "Hasta ahora, todas nuestras funciones solo han estado imprimiendo resultados, pero ¿y si quisiéramos guardar los resultados que genera  una función en otra variable? ¿Cómo podemos hacer esto? Primero veamos qué sucede con solo imprimir."
   ]
  },
  {
   "cell_type": "code",
   "execution_count": null,
   "metadata": {
    "executionInfo": {
     "elapsed": 418,
     "status": "ok",
     "timestamp": 1694206987778,
     "user": {
      "displayName": "Carol Diaz",
      "userId": "03863088177087652040"
     },
     "user_tz": 180
    },
    "id": "pKDNPXJRDgws"
   },
   "outputs": [],
   "source": [
    "def add(num1, num2):\n",
    "    print(num1 + num2)"
   ]
  },
  {
   "cell_type": "code",
   "execution_count": null,
   "metadata": {
    "colab": {
     "base_uri": "https://localhost:8080/"
    },
    "executionInfo": {
     "elapsed": 10,
     "status": "ok",
     "timestamp": 1694206989102,
     "user": {
      "displayName": "Carol Diaz",
      "userId": "03863088177087652040"
     },
     "user_tz": 180
    },
    "id": "ifTWH5oEDgws",
    "outputId": "e53dbfc0-6fe5-4428-ad38-1081aabeff30"
   },
   "outputs": [],
   "source": [
    "add(2, 3)"
   ]
  },
  {
   "cell_type": "code",
   "execution_count": null,
   "metadata": {
    "colab": {
     "base_uri": "https://localhost:8080/"
    },
    "executionInfo": {
     "elapsed": 10,
     "status": "ok",
     "timestamp": 1694206990491,
     "user": {
      "displayName": "Carol Diaz",
      "userId": "03863088177087652040"
     },
     "user_tz": 180
    },
    "id": "smlcv97UDgws",
    "outputId": "593ee064-be4e-427a-8d64-f632705fb90b"
   },
   "outputs": [],
   "source": [
    "result = add(2, 3)"
   ]
  },
  {
   "cell_type": "code",
   "execution_count": null,
   "metadata": {
    "executionInfo": {
     "elapsed": 7,
     "status": "ok",
     "timestamp": 1694206991852,
     "user": {
      "displayName": "Carol Diaz",
      "userId": "03863088177087652040"
     },
     "user_tz": 180
    },
    "id": "WjNa4G1BDgwt"
   },
   "outputs": [],
   "source": [
    "# Veamos el resultado\n",
    "result"
   ]
  },
  {
   "cell_type": "code",
   "execution_count": null,
   "metadata": {
    "colab": {
     "base_uri": "https://localhost:8080/"
    },
    "executionInfo": {
     "elapsed": 269,
     "status": "ok",
     "timestamp": 1694206993594,
     "user": {
      "displayName": "Carol Diaz",
      "userId": "03863088177087652040"
     },
     "user_tz": 180
    },
    "id": "OH0KdZZRDgwt",
    "outputId": "6afc8b79-2f9b-4639-92cc-56ad43506fe6"
   },
   "outputs": [],
   "source": [
    "type(result)"
   ]
  },
  {
   "cell_type": "markdown",
   "metadata": {
    "id": "dmjQ7JUUDgwu"
   },
   "source": [
    "Observa que no es posible guardar el resultado de la función ***add()*** ya que no devuelve (_return_) nada.<br>\n",
    "Usemos ahora la palabra clave `return`."
   ]
  },
  {
   "cell_type": "code",
   "execution_count": null,
   "metadata": {
    "executionInfo": {
     "elapsed": 407,
     "status": "ok",
     "timestamp": 1694206996154,
     "user": {
      "displayName": "Carol Diaz",
      "userId": "03863088177087652040"
     },
     "user_tz": 180
    },
    "id": "CW1tscdlDgwu"
   },
   "outputs": [],
   "source": [
    "def add(num1, num2):\n",
    "    return num1 + num2"
   ]
  },
  {
   "cell_type": "code",
   "execution_count": null,
   "metadata": {
    "colab": {
     "base_uri": "https://localhost:8080/"
    },
    "executionInfo": {
     "elapsed": 304,
     "status": "ok",
     "timestamp": 1694206997610,
     "user": {
      "displayName": "Carol Diaz",
      "userId": "03863088177087652040"
     },
     "user_tz": 180
    },
    "id": "5yGy3U29Dgwv",
    "outputId": "587233b3-7af4-42a8-e428-94f5998b83a5"
   },
   "outputs": [],
   "source": [
    "add(2, 3)"
   ]
  },
  {
   "cell_type": "markdown",
   "metadata": {
    "id": "aT7dGXXODgww"
   },
   "source": [
    "Fíjate cómo Jupyter informa una salida de la celda ($[n]$), la vez anterior, no lo hizo. De hecho, podemos asignar este resultado a una variable."
   ]
  },
  {
   "cell_type": "code",
   "execution_count": null,
   "metadata": {
    "executionInfo": {
     "elapsed": 9,
     "status": "ok",
     "timestamp": 1694206999923,
     "user": {
      "displayName": "Carol Diaz",
      "userId": "03863088177087652040"
     },
     "user_tz": 180
    },
    "id": "Jax0s4k_Dgwx"
   },
   "outputs": [],
   "source": [
    "result = add(2, 3)"
   ]
  },
  {
   "cell_type": "code",
   "execution_count": null,
   "metadata": {
    "colab": {
     "base_uri": "https://localhost:8080/"
    },
    "executionInfo": {
     "elapsed": 275,
     "status": "ok",
     "timestamp": 1694207002400,
     "user": {
      "displayName": "Carol Diaz",
      "userId": "03863088177087652040"
     },
     "user_tz": 180
    },
    "id": "VEcFnscaDgwy",
    "outputId": "9e0b0970-956c-467b-fe60-ead19ad66139"
   },
   "outputs": [],
   "source": [
    "result"
   ]
  },
  {
   "cell_type": "code",
   "execution_count": null,
   "metadata": {
    "colab": {
     "base_uri": "https://localhost:8080/"
    },
    "executionInfo": {
     "elapsed": 311,
     "status": "ok",
     "timestamp": 1694207004147,
     "user": {
      "displayName": "Carol Diaz",
      "userId": "03863088177087652040"
     },
     "user_tz": 180
    },
    "id": "thuhRNvTDgwz",
    "outputId": "bfa7bb59-d38b-4177-f939-0a14e9874732"
   },
   "outputs": [],
   "source": [
    "type(result)"
   ]
  },
  {
   "cell_type": "code",
   "execution_count": null,
   "metadata": {
    "colab": {
     "base_uri": "https://localhost:8080/"
    },
    "executionInfo": {
     "elapsed": 313,
     "status": "ok",
     "timestamp": 1694207006490,
     "user": {
      "displayName": "Carol Diaz",
      "userId": "03863088177087652040"
     },
     "user_tz": 180
    },
    "id": "EyyvnaUqDgw0",
    "outputId": "ce2470d6-7c95-4ed9-c901-04a11ba0e6ae"
   },
   "outputs": [],
   "source": [
    "result * 2"
   ]
  },
  {
   "cell_type": "markdown",
   "metadata": {
    "id": "QIbOwFlocYZr"
   },
   "source": [
    "## <font color='blue'>**Type hints**</font>\n",
    "A partir de la versión 3.5 de Python se introdujo una característica llamada __type hints__ que te permite indicar el tipo esperado de los argumentos y el valor de retorno de una función. A continuación un ejemplo:\n",
    "\n",
    "```python\n",
    "def divide(numerador: float, denominador: float) -> float:\n",
    "    \"\"\"\n",
    "    Divide dos números proporcionados como argumentos.\n",
    "\n",
    "    Parámetros:\n",
    "    numerador (float): El numerador en la operación de división.\n",
    "    denominador (float): El denominador en la operación de división.\n",
    "\n",
    "    Devuelve:\n",
    "    float: El resultado de la división del numerador entre el denominador.\n",
    "\n",
    "    Lanza:\n",
    "    ValueError: Si el denominador es cero.\n",
    "    \"\"\"\n",
    "\n",
    "    if denominador == 0:\n",
    "        raise ValueError(\"El denominador no puede ser cero.\")\n",
    "\n",
    "    return numerador / denominador\n",
    "```\n",
    "\n",
    "En este código,\n",
    "```python\n",
    "numerador: float, denominador: float\n",
    "```\n",
    "\n",
    "son __type hints__ que indican que se espera que ambos argumentos sean de tipo float.\n",
    "```python\n",
    "-> float\n",
    "```\n",
    "después de la lista de argumentos indica que la función devuelve un valor de tipo float. Ten en cuenta que los type hints son opcionales y Python no los utiliza para hacer cumplir los tipos de datos. Son principalmente para el beneficio de los desarrolladores y las herramientas de análisis de código."
   ]
  },
  {
   "cell_type": "markdown",
   "metadata": {
    "id": "pOwJOXu6Dgw1"
   },
   "source": [
    "## <font color='blue'>**Resolviendo problemas con funciones**</font>\n",
    "\n",
    "Las funciones son un componente básico para los scripts y la programación. Vamos a mostrar cómo se puede resolver un problema con una función."
   ]
  },
  {
   "cell_type": "markdown",
   "metadata": {
    "id": "jgMGRe5xDgw1"
   },
   "source": [
    "Escribamos una función que devuelva un booleano (`True` / `False`) si es que la palabra 'secreto' está o no en una cadena."
   ]
  },
  {
   "cell_type": "code",
   "execution_count": null,
   "metadata": {
    "executionInfo": {
     "elapsed": 297,
     "status": "ok",
     "timestamp": 1694207010685,
     "user": {
      "displayName": "Carol Diaz",
      "userId": "03863088177087652040"
     },
     "user_tz": 180
    },
    "id": "IFkCtSaUDgw1"
   },
   "outputs": [],
   "source": [
    "def verifica_secreto(mystring):\n",
    "    return 'secreto' in mystring"
   ]
  },
  {
   "cell_type": "code",
   "execution_count": null,
   "metadata": {
    "colab": {
     "base_uri": "https://localhost:8080/"
    },
    "executionInfo": {
     "elapsed": 21,
     "status": "ok",
     "timestamp": 1694207012315,
     "user": {
      "displayName": "Carol Diaz",
      "userId": "03863088177087652040"
     },
     "user_tz": 180
    },
    "id": "Zn51pJvrDgw2",
    "outputId": "6ebc181c-a63e-4a1d-88fe-0b9aa6058727"
   },
   "outputs": [],
   "source": [
    "verifica_secreto('Esta es una información que contiene secretos importantes.')"
   ]
  },
  {
   "cell_type": "code",
   "execution_count": null,
   "metadata": {
    "colab": {
     "base_uri": "https://localhost:8080/"
    },
    "executionInfo": {
     "elapsed": 290,
     "status": "ok",
     "timestamp": 1694207014128,
     "user": {
      "displayName": "Carol Diaz",
      "userId": "03863088177087652040"
     },
     "user_tz": 180
    },
    "id": "JBYAC5YzDgw2",
    "outputId": "2be93a4f-e2b7-4eec-ef13-5777b67ea5d3"
   },
   "outputs": [],
   "source": [
    "verifica_secreto('ESTA ES UNA INFORMACIÓN QUE CONTIENE SECRETOS IMPORTANTES.')"
   ]
  },
  {
   "cell_type": "markdown",
   "metadata": {
    "id": "33yC8JNCDgw3"
   },
   "source": [
    "Mejoremos la función con `.lower()`\n"
   ]
  },
  {
   "cell_type": "code",
   "execution_count": null,
   "metadata": {
    "executionInfo": {
     "elapsed": 438,
     "status": "ok",
     "timestamp": 1694207016635,
     "user": {
      "displayName": "Carol Diaz",
      "userId": "03863088177087652040"
     },
     "user_tz": 180
    },
    "id": "CkdtEcwcDgw4"
   },
   "outputs": [],
   "source": [
    "def verifica_secreto(mystring):\n",
    "    return 'secreto' in mystring.lower()"
   ]
  },
  {
   "cell_type": "code",
   "execution_count": null,
   "metadata": {
    "colab": {
     "base_uri": "https://localhost:8080/"
    },
    "executionInfo": {
     "elapsed": 11,
     "status": "ok",
     "timestamp": 1694207018102,
     "user": {
      "displayName": "Carol Diaz",
      "userId": "03863088177087652040"
     },
     "user_tz": 180
    },
    "id": "c-VTjYLYDgw4",
    "outputId": "e8ab20ee-70f8-43e2-ca86-d3cfbd8d18bc"
   },
   "outputs": [],
   "source": [
    "verifica_secreto('ESTA ES UNA INFORMACIÓN QUE CONTIENE SECRETOS IMPORTANTES.')"
   ]
  },
  {
   "cell_type": "markdown",
   "metadata": {
    "id": "8Q6raVl3NXmA"
   },
   "source": [
    "## <font color='blue'>__Ejercicios__</font>"
   ]
  },
  {
   "cell_type": "markdown",
   "metadata": {
    "id": "rUtabudoDgw5"
   },
   "source": [
    "### <font color='green'>Actividad 1:</font>\n",
    "### Crea una función\n",
    "\n",
    "Crea una función que tome dos números enteros (como parámetros) y devuelva:<br>\n",
    "    **`True`** si su suma es 10, <br>\n",
    "    **`False`** si su suma es otra cosa. <br>\n",
    "\n",
    "Nombra tu función como  **check_ten**"
   ]
  },
  {
   "cell_type": "code",
   "execution_count": null,
   "metadata": {
    "executionInfo": {
     "elapsed": 6,
     "status": "ok",
     "timestamp": 1694207020665,
     "user": {
      "displayName": "Carol Diaz",
      "userId": "03863088177087652040"
     },
     "user_tz": 180
    },
    "id": "dL_oA0biDgw5"
   },
   "outputs": [],
   "source": [
    "# Tu código aquí ...\n",
    "def check_ten(numb1, numb2):\n",
    "  if numb1+numb2 == 10:\n",
    "    return True\n",
    "  else:\n",
    "    return False\n"
   ]
  },
  {
   "cell_type": "code",
   "execution_count": null,
   "metadata": {
    "colab": {
     "base_uri": "https://localhost:8080/"
    },
    "executionInfo": {
     "elapsed": 314,
     "status": "ok",
     "timestamp": 1694207023935,
     "user": {
      "displayName": "Carol Diaz",
      "userId": "03863088177087652040"
     },
     "user_tz": 180
    },
    "id": "zGtMprVtDgw5",
    "outputId": "92304110-b776-4504-97d5-478864b11d54"
   },
   "outputs": [],
   "source": [
    "check_ten(10, 0)"
   ]
  },
  {
   "cell_type": "code",
   "execution_count": null,
   "metadata": {
    "colab": {
     "base_uri": "https://localhost:8080/"
    },
    "executionInfo": {
     "elapsed": 8,
     "status": "ok",
     "timestamp": 1694207024923,
     "user": {
      "displayName": "Carol Diaz",
      "userId": "03863088177087652040"
     },
     "user_tz": 180
    },
    "id": "HKhxMb2sDgw6",
    "outputId": "f12e0c68-de3d-4cd0-9e3e-e1b24dbe12e7"
   },
   "outputs": [],
   "source": [
    "check_ten(2, 7)"
   ]
  },
  {
   "cell_type": "markdown",
   "metadata": {
    "id": "tE3QdBNZDgw6"
   },
   "source": [
    "<font color='green'>Fin actividad 1</font>"
   ]
  },
  {
   "cell_type": "markdown",
   "metadata": {
    "id": "OxFeG3AlDgw7"
   },
   "source": [
    "### <font color='green'>Actividad 2:</font>\n",
    "### Crea una función\n",
    "\n",
    "Crea una función que tome dos números enteros y devuelva:<br>\n",
    "**`True`** si su suma es 10<br>\n",
    "de lo contrario, devuelva el valor de la suma real. <br>\n",
    "\n",
    "Nombre su función como **check_ten_sum**"
   ]
  },
  {
   "cell_type": "code",
   "execution_count": null,
   "metadata": {
    "executionInfo": {
     "elapsed": 11,
     "status": "ok",
     "timestamp": 1694207029443,
     "user": {
      "displayName": "Carol Diaz",
      "userId": "03863088177087652040"
     },
     "user_tz": 180
    },
    "id": "Cd8or1bbDgw7"
   },
   "outputs": [],
   "source": [
    "# Tu código aquí ...\n",
    "\n",
    "def check_ten_sum(num1, num2):\n",
    "  if num1+num2 == 10:\n",
    "    return True\n",
    "  else:\n",
    "    return num1+num2\n"
   ]
  },
  {
   "cell_type": "code",
   "execution_count": null,
   "metadata": {
    "colab": {
     "base_uri": "https://localhost:8080/"
    },
    "executionInfo": {
     "elapsed": 291,
     "status": "ok",
     "timestamp": 1694207031173,
     "user": {
      "displayName": "Carol Diaz",
      "userId": "03863088177087652040"
     },
     "user_tz": 180
    },
    "id": "T5pc5EqxDgw7",
    "outputId": "8312ec0b-51fc-4cbf-8315-1eb66ca3d6ac"
   },
   "outputs": [],
   "source": [
    "check_ten_sum(10,0)"
   ]
  },
  {
   "cell_type": "code",
   "execution_count": null,
   "metadata": {
    "colab": {
     "base_uri": "https://localhost:8080/"
    },
    "executionInfo": {
     "elapsed": 11,
     "status": "ok",
     "timestamp": 1694207032531,
     "user": {
      "displayName": "Carol Diaz",
      "userId": "03863088177087652040"
     },
     "user_tz": 180
    },
    "id": "NxoaPhfSDgw8",
    "outputId": "c6932a31-2e59-46e9-a323-188b3bb6139d"
   },
   "outputs": [],
   "source": [
    "check_ten_sum(2,7)"
   ]
  },
  {
   "cell_type": "markdown",
   "metadata": {
    "id": "OXKrIT_GDgw8"
   },
   "source": [
    "<font color='green'>Fin actividad 2</font>"
   ]
  },
  {
   "cell_type": "markdown",
   "metadata": {
    "id": "C7c4RGXPDgw9"
   },
   "source": [
    "### <font color='green'>Actividad 3:</font>\n",
    "### Crea una función\n",
    "\n",
    "Cree una función que tome una cadena y devuelva el primer carácter de esa cadena en mayúsculas."
   ]
  },
  {
   "cell_type": "code",
   "execution_count": null,
   "metadata": {
    "executionInfo": {
     "elapsed": 10,
     "status": "ok",
     "timestamp": 1694207034780,
     "user": {
      "displayName": "Carol Diaz",
      "userId": "03863088177087652040"
     },
     "user_tz": 180
    },
    "id": "vslKRxR7Dgw9"
   },
   "outputs": [],
   "source": [
    "# Tu código aquí ...\n",
    "\n",
    "def first_upper(cadena):\n",
    "  return cadena[0].upper()\n"
   ]
  },
  {
   "cell_type": "code",
   "execution_count": null,
   "metadata": {
    "colab": {
     "base_uri": "https://localhost:8080/",
     "height": 36
    },
    "executionInfo": {
     "elapsed": 286,
     "status": "ok",
     "timestamp": 1694207036724,
     "user": {
      "displayName": "Carol Diaz",
      "userId": "03863088177087652040"
     },
     "user_tz": 180
    },
    "id": "AVajwzckDgw9",
    "outputId": "ece194bf-2a07-4121-9b59-f93e7b40dfb2"
   },
   "outputs": [],
   "source": [
    "first_upper('hello')"
   ]
  },
  {
   "cell_type": "code",
   "execution_count": null,
   "metadata": {
    "colab": {
     "base_uri": "https://localhost:8080/",
     "height": 36
    },
    "executionInfo": {
     "elapsed": 18,
     "status": "ok",
     "timestamp": 1694207038253,
     "user": {
      "displayName": "Carol Diaz",
      "userId": "03863088177087652040"
     },
     "user_tz": 180
    },
    "id": "czw-xfs-Dgw9",
    "outputId": "0fc79fb4-05eb-4222-d123-d7d3b0afb16f",
    "scrolled": true
   },
   "outputs": [],
   "source": [
    "first_upper('agent')"
   ]
  },
  {
   "cell_type": "markdown",
   "metadata": {
    "id": "w-mzdhjrDgw-"
   },
   "source": [
    "<font color='green'>Fin actividad 3</font>"
   ]
  },
  {
   "cell_type": "markdown",
   "metadata": {
    "id": "_GOAvAVIDgw-"
   },
   "source": [
    "### <font color='green'>Actividad 4: Challenging</font>\n",
    "### Crea una función\n",
    "\n",
    "Cree una función que tome una temperatura en grados Celsius y la convierta a grados Fahrenheit.<br>\n",
    "Implementa tu función con docstring, type hints y return.\n",
    "\n",
    "Tip:\n",
    "La fórmula de conversión es la siguiente\n",
    "\n",
    "$\\color{blue}{ºF = ºC * 1.8 + 32}$\n"
   ]
  },
  {
   "cell_type": "code",
   "execution_count": null,
   "metadata": {
    "executionInfo": {
     "elapsed": 286,
     "status": "ok",
     "timestamp": 1694207041462,
     "user": {
      "displayName": "Carol Diaz",
      "userId": "03863088177087652040"
     },
     "user_tz": 180
    },
    "id": "XFlBWKpsDgw-"
   },
   "outputs": [],
   "source": [
    "# Tu código aquí ...\n",
    "\n",
    "def celsius2fahrenheit(temp_celc: float) -> float:\n",
    "  temp_fahe = temp_celc * 1.8 + 32\n",
    "  return temp_fahe\n"
   ]
  },
  {
   "cell_type": "code",
   "execution_count": null,
   "metadata": {
    "colab": {
     "base_uri": "https://localhost:8080/"
    },
    "executionInfo": {
     "elapsed": 275,
     "status": "ok",
     "timestamp": 1694207043326,
     "user": {
      "displayName": "Carol Diaz",
      "userId": "03863088177087652040"
     },
     "user_tz": 180
    },
    "id": "-W13psp3Dgw-",
    "outputId": "348ff746-c1dd-447c-9bd2-0b76a71090b6"
   },
   "outputs": [],
   "source": [
    "help(celsius2fahrenheit)"
   ]
  },
  {
   "cell_type": "code",
   "execution_count": null,
   "metadata": {
    "colab": {
     "base_uri": "https://localhost:8080/"
    },
    "executionInfo": {
     "elapsed": 272,
     "status": "ok",
     "timestamp": 1694207044816,
     "user": {
      "displayName": "Carol Diaz",
      "userId": "03863088177087652040"
     },
     "user_tz": 180
    },
    "id": "Q7h9qc1YDgw-",
    "outputId": "e1d5402e-8512-4e1e-985b-38f701acf310"
   },
   "outputs": [],
   "source": [
    "celsius2fahrenheit(32.5)"
   ]
  },
  {
   "cell_type": "markdown",
   "metadata": {
    "id": "yplXUAdNDgw-"
   },
   "source": [
    "<font color='green'>Fin actividad 4</font>"
   ]
  },
  {
   "cell_type": "markdown",
   "metadata": {
    "id": "ysHb-aqJDgw-"
   },
   "source": [
    "### <font color='green'>Actividad 5: Challenging</font>\n",
    "### Crea una función para el algoritmo del año bisiesto del notebook FP12\n",
    "\n",
    "Cree una función que determine si un año es bisiesto o no. La función debe retornar:<br>\n",
    "**`True`** si el año ingresado es bisiesto<br>\n",
    "**`False`** si el año no es bisiesto\n",
    "\n",
    "Incluya el respectivo docstring de la función."
   ]
  },
  {
   "cell_type": "code",
   "execution_count": null,
   "metadata": {
    "executionInfo": {
     "elapsed": 6,
     "status": "ok",
     "timestamp": 1694207046996,
     "user": {
      "displayName": "Carol Diaz",
      "userId": "03863088177087652040"
     },
     "user_tz": 180
    },
    "id": "g38g7nCpDgw_"
   },
   "outputs": [],
   "source": [
    "# Tu código aquí ...\n",
    "\n",
    "def isBisiesto(anho):\n",
    "  if (anho % 4 == 0 and anho % 100 != 0) or (anho % 400 == 0):\n",
    "    return True\n",
    "  else:\n",
    "    return False\n"
   ]
  },
  {
   "cell_type": "code",
   "execution_count": null,
   "metadata": {
    "colab": {
     "base_uri": "https://localhost:8080/"
    },
    "executionInfo": {
     "elapsed": 302,
     "status": "ok",
     "timestamp": 1694207049950,
     "user": {
      "displayName": "Carol Diaz",
      "userId": "03863088177087652040"
     },
     "user_tz": 180
    },
    "id": "6Uy1d_fFDgw_",
    "outputId": "fabeba63-a0e8-42e3-a02e-27e5840e7cb9"
   },
   "outputs": [],
   "source": [
    "help(isBisiesto)"
   ]
  },
  {
   "cell_type": "code",
   "execution_count": null,
   "metadata": {
    "colab": {
     "base_uri": "https://localhost:8080/"
    },
    "executionInfo": {
     "elapsed": 14,
     "status": "ok",
     "timestamp": 1694207051135,
     "user": {
      "displayName": "Carol Diaz",
      "userId": "03863088177087652040"
     },
     "user_tz": 180
    },
    "id": "a8MXT7zWDgw_",
    "outputId": "5ae62314-49f7-449d-815f-b1881cf4aae6"
   },
   "outputs": [],
   "source": [
    "isBisiesto(2021)"
   ]
  },
  {
   "cell_type": "code",
   "execution_count": null,
   "metadata": {
    "colab": {
     "base_uri": "https://localhost:8080/"
    },
    "executionInfo": {
     "elapsed": 295,
     "status": "ok",
     "timestamp": 1694207053699,
     "user": {
      "displayName": "Carol Diaz",
      "userId": "03863088177087652040"
     },
     "user_tz": 180
    },
    "id": "jsJl0kACDgxA",
    "outputId": "0807bccf-7c90-448e-b7d7-51e6fc09d495"
   },
   "outputs": [],
   "source": [
    "isBisiesto(2020)"
   ]
  },
  {
   "cell_type": "markdown",
   "metadata": {
    "id": "tgtysN94DgxA"
   },
   "source": [
    "<font color='green'>Fin actividad 5</font>"
   ]
  },
  {
   "cell_type": "code",
   "execution_count": null,
   "metadata": {
    "id": "HoMeH04WDgxA"
   },
   "outputs": [],
   "source": []
  },
  {
   "cell_type": "markdown",
   "metadata": {
    "id": "gD8P0ZOnNjxY"
   },
   "source": [
    "<img src=\"https://drive.google.com/uc?export=view&id=1Igtn9UXg6NGeRWsqh4hefQUjV0hmzlBv\" width=\"100\" align=\"left\" title=\"Runa-perth\">\n",
    "<br clear=\"left\">\n",
    "Contenido opcional\n",
    "\n",
    "##<font color='blue'>__Ejercicios avanzados__</font>\n",
    "\n",
    "Si quieres aprender más de funciones, anímate a desarrollar los siguientes ejercicios utilizando todo lo aprendido hasta el momento. Al desarollarlos,\n",
    "practicarás la escritura de funciones avanzadas en Python que involucran ciclos, diferentes tipos de datos y estructuras. Cada función que escribas debe incluir type hints y una cadena de documentación (docstring) que describa su propósito, parámetros y valor de retorno.\n",
    "\n",
    "Las funciones que escribirás en esta actividad abarcarán una variedad de problemas, desde el procesamiento de texto hasta el cálculo con números y la manipulación de estructuras de datos complejas. Cada problema ha sido diseñado para ser un desafío, ¡así que prepárate para pensar y codificar!"
   ]
  },
  {
   "cell_type": "markdown",
   "metadata": {
    "id": "DY2wHDirOYp5"
   },
   "source": [
    "### <font color='green'>Actividad 6: Challenging</font>\n",
    "### Crea una función para sumar pares\n",
    "\n",
    "Escribe una función `suma_pares(n: int) -> int` que tome un número entero n y devuelva la suma de todos los números pares desde 0 hasta n (incluido)."
   ]
  },
  {
   "cell_type": "code",
   "execution_count": null,
   "metadata": {
    "executionInfo": {
     "elapsed": 310,
     "status": "ok",
     "timestamp": 1694207060770,
     "user": {
      "displayName": "Carol Diaz",
      "userId": "03863088177087652040"
     },
     "user_tz": 180
    },
    "id": "m1QxbQ_-OoTW"
   },
   "outputs": [],
   "source": [
    "# Tu código aquí ...\n",
    "\n",
    "def suma_pares(n: int) -> int:\n",
    "  sum = 0\n",
    "  for num in range(n+1):\n",
    "    if num%2 == 0:\n",
    "      sum = sum + num\n",
    "  return sum\n"
   ]
  },
  {
   "cell_type": "code",
   "execution_count": null,
   "metadata": {
    "colab": {
     "base_uri": "https://localhost:8080/"
    },
    "executionInfo": {
     "elapsed": 309,
     "status": "ok",
     "timestamp": 1694207063883,
     "user": {
      "displayName": "Carol Diaz",
      "userId": "03863088177087652040"
     },
     "user_tz": 180
    },
    "id": "d2WrYhLzPl2Y",
    "outputId": "a25f2354-99a1-4cc7-80d5-1c4cdbeb8f0d"
   },
   "outputs": [],
   "source": [
    "suma_pares(23)\n",
    "# Resultado: 123"
   ]
  },
  {
   "cell_type": "markdown",
   "metadata": {
    "id": "NqM4o5xoOcD7"
   },
   "source": [
    "### <font color='green'>Actividad 7: Super Challenging</font>\n",
    "### Función para eliminar caracteres de puntuación\n",
    "\n",
    "Cuando realizamos actividades de Procesamiento del Lenguaje Natural (NLP por sus siglas en inglés), necesitamos eliminar los caractares de puntuación de nuestros textxos.\n",
    "\n",
    "Crea una función llamada `eliminar_puntuacion(texto: str): -> list[str]`, la cual elimine todos los caracteres de puntuación de un texto y devuelva una lista de cadenas (strings) sin catacteres de puntuación y en minúsculas (lower case).\n",
    "\n",
    "Tip:\n",
    "\n",
    "Considera usar la variable `puntuacion` (ver siguiente celda), en la cual se incluyen los signos de puntuación típicos del castellano. Analiza su contenido!!"
   ]
  },
  {
   "cell_type": "code",
   "execution_count": null,
   "metadata": {
    "colab": {
     "base_uri": "https://localhost:8080/",
     "height": 36
    },
    "executionInfo": {
     "elapsed": 272,
     "status": "ok",
     "timestamp": 1694207068766,
     "user": {
      "displayName": "Carol Diaz",
      "userId": "03863088177087652040"
     },
     "user_tz": 180
    },
    "id": "ieKwzsWqUZDQ",
    "outputId": "737809ff-b4f9-49bb-c65a-0833bafa0b02"
   },
   "outputs": [],
   "source": [
    "puntuacion = '¡!\\\"\"#$%&\\'()*+,-./:;<=>¿?@[\\\\]^_`{|}~'\n",
    "puntuacion\n"
   ]
  },
  {
   "cell_type": "code",
   "execution_count": null,
   "metadata": {
    "executionInfo": {
     "elapsed": 322,
     "status": "ok",
     "timestamp": 1694207070587,
     "user": {
      "displayName": "Carol Diaz",
      "userId": "03863088177087652040"
     },
     "user_tz": 180
    },
    "id": "wCMyWWmrUAwS"
   },
   "outputs": [],
   "source": [
    "# Tu código aquí ...\n",
    "\n",
    "def eliminar_puntuacion(texto: str) -> list[str]:\n",
    "  temp = texto.split()\n",
    "  texto_sin_puntuacion = []\n",
    "  for p in temp:\n",
    "    while p[0] in puntuacion:\n",
    "      p = p[1:]               # elimina el primer caracter\n",
    "\n",
    "    while p[-1] in puntuacion:\n",
    "      p = p[:-1]              # elimina el ultimo caracter\n",
    "\n",
    "    texto_sin_puntuacion.append(p.lower())\n",
    "\n",
    "  return texto_sin_puntuacion\n"
   ]
  },
  {
   "cell_type": "code",
   "execution_count": null,
   "metadata": {
    "executionInfo": {
     "elapsed": 292,
     "status": "ok",
     "timestamp": 1694207074477,
     "user": {
      "displayName": "Carol Diaz",
      "userId": "03863088177087652040"
     },
     "user_tz": 180
    },
    "id": "7tBJRwU8QVwt"
   },
   "outputs": [],
   "source": [
    "# Probemos tu función con el siguiente texto\n",
    "noticia = \"\"\"El Planeta. Los astrónomos han descubierto un fenómeno sorprendente en nuestro sistema solar. Un planeta, previamente no identificado, parece haber entrado en nuestro sistema solar desde el espacio interestelar.\n",
    "Este planeta, provisionalmente denominado \"Eris II!\", ha causado un gran revuelo en la comunidad astronómica. Según los primeros informes, el planeta es aproximadamente del tamaño de Marte y parece tener una composición similar a la de los planetas gigantes gaseosos como Júpiter y Saturno.\n",
    "El planeta fue descubierto por un equipo de astrónomos de la Universidad de California, que estaban utilizando el telescopio espacial Kepler para estudiar las estrellas en la constelación de Cygnus. El equipo se dio cuenta de que una estrella parecía oscurecerse periódicamente, un signo clásico de un planeta en tránsito.\n",
    "\"Estábamos buscando planetas alrededor de otras estrellas, así que fue una gran sorpresa cuando nos dimos cuenta de que este planeta estaba mucho más cerca de casa\", dijo la Dra. Jane Foster, líder del equipo de investigación.\n",
    "El descubrimiento de este nuevo planeta plantea muchas preguntas. ¿Cómo logró este planeta entrar en nuestro sistema solar sin ser detectado antes? ¿Podría haber otros planetas desconocidos en nuestro sistema solar? ¿Y qué efectos podría tener este planeta en los otros planetas de nuestro sistema solar?\n",
    "\"Este es un momento emocionante para la ciencia planetaria\", dijo el Dr. Foster. \"Cada nuevo planeta que descubrimos nos enseña algo nuevo sobre nuestro sistema solar y sobre cómo se forman y evolucionan los planetas\".\n",
    "La búsqueda de respuestas a estas preguntas está en marcha. Los astrónomos de todo el mundo están apuntando sus telescopios hacia este nuevo planeta, y las misiones espaciales futuras podrían ser redirigidas para estudiar este intrigante nuevo miembro de nuestro sistema solar.\n",
    "Mientras tanto, el planeta Eris II sigue su camino a través de nuestro sistema solar, un recordatorio de cuánto queda por descubrir en nuestra propia esquina del universo.\n",
    "\"\"\"\n"
   ]
  },
  {
   "cell_type": "code",
   "execution_count": null,
   "metadata": {
    "colab": {
     "base_uri": "https://localhost:8080/"
    },
    "executionInfo": {
     "elapsed": 268,
     "status": "ok",
     "timestamp": 1694207076228,
     "user": {
      "displayName": "Carol Diaz",
      "userId": "03863088177087652040"
     },
     "user_tz": 180
    },
    "id": "ehtHXKlhk4e7",
    "outputId": "439cd603-b315-4f24-9ae3-539c779daefc"
   },
   "outputs": [],
   "source": [
    "# Nos debiera entregar 311 palabras\n",
    "if len(eliminar_puntuacion(noticia)) == 311:\n",
    "    print(True)\n",
    "else:\n",
    "    print(False)\n"
   ]
  },
  {
   "cell_type": "markdown",
   "metadata": {
    "id": "7GcNXKazOZkr"
   },
   "source": [
    "### <font color='green'>Actividad 8: Super Challenging</font>\n",
    "### Busca palabras\n",
    "\n",
    "Escribe una función `busca_palabras(texto: str, palabras: list[str]) -> dict[str, int]` que tome un texto y una lista de palabras, y devuelva un diccionario con la frecuencia de cada palabra de la lista en el texto."
   ]
  },
  {
   "cell_type": "code",
   "execution_count": null,
   "metadata": {
    "executionInfo": {
     "elapsed": 288,
     "status": "ok",
     "timestamp": 1694207089768,
     "user": {
      "displayName": "Carol Diaz",
      "userId": "03863088177087652040"
     },
     "user_tz": 180
    },
    "id": "IFd1AUjdQQ6j"
   },
   "outputs": [],
   "source": [
    "# Tu código aquí ...\n",
    "\n",
    "def busca_palabras(texto: str, palabras: list[str]) -> dict[str, int]:\n",
    "  frecuencia_palabras = {}\n",
    "  for palabra in palabras:\n",
    "    frecuencia_palabras[palabra] = texto.count(palabra)\n",
    "\n",
    "  return frecuencia_palabras"
   ]
  },
  {
   "cell_type": "code",
   "execution_count": null,
   "metadata": {
    "colab": {
     "base_uri": "https://localhost:8080/"
    },
    "executionInfo": {
     "elapsed": 291,
     "status": "ok",
     "timestamp": 1694207092044,
     "user": {
      "displayName": "Carol Diaz",
      "userId": "03863088177087652040"
     },
     "user_tz": 180
    },
    "id": "eZ0NQUUJjOFq",
    "outputId": "02329d98-acf8-43dc-933e-2988d5ac4996"
   },
   "outputs": [],
   "source": [
    "# Probemos con la salida de la Actividad 7 aplicada a nuestro texto 'noticia'\n",
    "texto_noticia = eliminar_puntuacion(noticia)\n",
    "palabras = ['planeta', 'estrella']\n",
    "busca_palabras(texto_noticia, palabras) # -> {'planeta': 13, 'estrella': 1}"
   ]
  },
  {
   "cell_type": "markdown",
   "metadata": {
    "id": "jutf3oFcOcLs"
   },
   "source": [
    "### <font color='green'>Actividad 9: Challenging</font>\n",
    "### Número primo\n",
    "\n",
    "Escribe una función `es_primo(n: int) -> bool` que tome un número entero n y devuelva `True` si el número es primo y `False` en caso contrario."
   ]
  },
  {
   "cell_type": "code",
   "execution_count": null,
   "metadata": {
    "executionInfo": {
     "elapsed": 284,
     "status": "ok",
     "timestamp": 1694207094831,
     "user": {
      "displayName": "Carol Diaz",
      "userId": "03863088177087652040"
     },
     "user_tz": 180
    },
    "id": "qNxnYN-jq1V1"
   },
   "outputs": [],
   "source": [
    "# Tu código aquí ...\n",
    "\n",
    "def es_primo(n: int) -> bool:\n",
    "  for i in range(2, int(n ** 0.5) + 1):\n",
    "        if n % i == 0:\n",
    "          return False\n",
    "\n",
    "        else:\n",
    "          return True"
   ]
  },
  {
   "cell_type": "code",
   "execution_count": null,
   "metadata": {
    "colab": {
     "base_uri": "https://localhost:8080/"
    },
    "executionInfo": {
     "elapsed": 13,
     "status": "ok",
     "timestamp": 1694207096821,
     "user": {
      "displayName": "Carol Diaz",
      "userId": "03863088177087652040"
     },
     "user_tz": 180
    },
    "id": "U46ox5YDq73n",
    "outputId": "23dd1915-e77f-46a3-a702-537f23e51555"
   },
   "outputs": [],
   "source": [
    "es_primo(11) # -> True"
   ]
  },
  {
   "cell_type": "code",
   "execution_count": null,
   "metadata": {
    "colab": {
     "base_uri": "https://localhost:8080/"
    },
    "executionInfo": {
     "elapsed": 281,
     "status": "ok",
     "timestamp": 1694207098363,
     "user": {
      "displayName": "Carol Diaz",
      "userId": "03863088177087652040"
     },
     "user_tz": 180
    },
    "id": "P75sMSVgrEmr",
    "outputId": "611a306b-6094-4896-f14b-ab4482a56ec4"
   },
   "outputs": [],
   "source": [
    "es_primo(12) # -> False"
   ]
  },
  {
   "cell_type": "markdown",
   "metadata": {
    "id": "0VklX8SGOcRR"
   },
   "source": [
    "### <font color='green'>Actividad 10</font>\n",
    "### Elementos únicos y ordenados\n",
    "\n",
    "Escribe una función `elementos_unicos(lista: list[int]) -> list[int]` que tome una lista de números enteros y devuelva una nueva lista ordenada de forma descendente con solo los elementos únicos de la lista original."
   ]
  },
  {
   "cell_type": "code",
   "execution_count": null,
   "metadata": {
    "executionInfo": {
     "elapsed": 269,
     "status": "ok",
     "timestamp": 1694207100317,
     "user": {
      "displayName": "Carol Diaz",
      "userId": "03863088177087652040"
     },
     "user_tz": 180
    },
    "id": "m20BppwRrjFQ"
   },
   "outputs": [],
   "source": [
    "# Tu código aquí ...\n",
    "\n",
    "def elementos_unicos(lista: list[int]) -> list[int]:\n",
    "  conjunto = set()\n",
    "  for n in lista:\n",
    "    conjunto.add(n)\n",
    "\n",
    "  lista_desc = sorted(conjunto, reverse=True)\n",
    "  return lista_desc"
   ]
  },
  {
   "cell_type": "code",
   "execution_count": null,
   "metadata": {
    "colab": {
     "base_uri": "https://localhost:8080/"
    },
    "executionInfo": {
     "elapsed": 436,
     "status": "ok",
     "timestamp": 1694207102371,
     "user": {
      "displayName": "Carol Diaz",
      "userId": "03863088177087652040"
     },
     "user_tz": 180
    },
    "id": "h3xoMQwRri6k",
    "outputId": "c8f6fe6f-fae6-460d-f103-508a14ab4ba3"
   },
   "outputs": [],
   "source": [
    "mi_lista = [3, 7, 2, 5, 9, 2, 1, 4, 6, 5, 8, 7, 3, 10, 4]\n",
    "\n",
    "print(elementos_unicos(mi_lista))   # -> [10, 9, 8, 7, 6, 5, 4, 3, 2, 1]\n"
   ]
  },
  {
   "cell_type": "markdown",
   "metadata": {
    "id": "35rvnjkZNiF_"
   },
   "source": [
    "<img src=\"https://drive.google.com/uc?export=view&id=1Igtn9UXg6NGeRWsqh4hefQUjV0hmzlBv\" width=\"50\" align=\"left\" title=\"Runa-perth\">"
   ]
  }
 ],
 "metadata": {
  "colab": {
   "provenance": [
    {
     "file_id": "176eToYy6FI0AD_Ki8KBi18bgct7DDc_t",
     "timestamp": 1693361480369
    }
   ]
  },
  "kernelspec": {
   "display_name": "Python 3 (ipykernel)",
   "language": "python",
   "name": "python3"
  },
  "language_info": {
   "codemirror_mode": {
    "name": "ipython",
    "version": 3
   },
   "file_extension": ".py",
   "mimetype": "text/x-python",
   "name": "python",
   "nbconvert_exporter": "python",
   "pygments_lexer": "ipython3",
   "version": "3.8.11"
  }
 },
 "nbformat": 4,
 "nbformat_minor": 0
}
