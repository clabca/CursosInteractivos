{
 "cells": [
  {
   "cell_type": "markdown",
   "metadata": {
    "id": "F30S0ev2m9nL"
   },
   "source": [
    "# **Introducción a Python**\n",
    "# FP04. Python Strings"
   ]
  },
  {
   "cell_type": "markdown",
   "metadata": {
    "id": "PncZNuecm9nP"
   },
   "source": [
    "Bienvenidos aspirantes a Hackers. Es hora de que aprendan sobre uno de los tipos de datos fundamentales más básicos en Python, la cadena o *string*. ¿Qué es un `string`? Formalmente, **una cadena es una secuencia ordenada e inmutable de caracteres**. Aquí hat tres palabras claves, **ordenada**, **inmutable** y **caracteres**. Ordenado significa que podremos usar *indexing* y *slicing* para tomar elementos de la cadena. Inmutable significa que no se pueden modificar directamente después de ser creados. Y caracteres, insinúa el hecho de que las cadenas son más flexibles que simplemente usar el alfabeto, veremos que también pueden contener otros tipos de caracteres."
   ]
  },
  {
   "cell_type": "markdown",
   "metadata": {
    "id": "xgpImCiOm9nP"
   },
   "source": [
    "## <font color='blue'>**Creando strings**</font>"
   ]
  },
  {
   "cell_type": "code",
   "execution_count": null,
   "metadata": {
    "executionInfo": {
     "elapsed": 13,
     "status": "ok",
     "timestamp": 1694136050197,
     "user": {
      "displayName": "Carol Diaz",
      "userId": "03863088177087652040"
     },
     "user_tz": 180
    },
    "id": "Z0N09PxRm9nQ"
   },
   "outputs": [],
   "source": [
    "# Comentarios.\n",
    "# Cada vez que necesitemos documentar algo en nuestro código, usaremos un signo # al comienzo de la línea.\n",
    "# Esta línea no se considerará al momento de ejecutar nuestro programa"
   ]
  },
  {
   "cell_type": "code",
   "execution_count": null,
   "metadata": {
    "colab": {
     "base_uri": "https://localhost:8080/",
     "height": 36
    },
    "executionInfo": {
     "elapsed": 439,
     "status": "ok",
     "timestamp": 1694136051822,
     "user": {
      "displayName": "Carol Diaz",
      "userId": "03863088177087652040"
     },
     "user_tz": 180
    },
    "id": "28kwyMusm9nR",
    "outputId": "2532ce22-9fc0-4387-e148-03c213cd8c2e"
   },
   "outputs": [],
   "source": [
    "# Para crear strings las comillas simples o dobles están bien\n",
    "'hello'"
   ]
  },
  {
   "cell_type": "code",
   "execution_count": null,
   "metadata": {
    "colab": {
     "base_uri": "https://localhost:8080/",
     "height": 36
    },
    "executionInfo": {
     "elapsed": 286,
     "status": "ok",
     "timestamp": 1694136058211,
     "user": {
      "displayName": "Carol Diaz",
      "userId": "03863088177087652040"
     },
     "user_tz": 180
    },
    "id": "Kb3zRsjkm9nS",
    "outputId": "71832dd1-de9b-4a0b-d456-834d39970620"
   },
   "outputs": [],
   "source": [
    "\"hello\""
   ]
  },
  {
   "cell_type": "code",
   "execution_count": null,
   "metadata": {
    "colab": {
     "base_uri": "https://localhost:8080/",
     "height": 145
    },
    "executionInfo": {
     "elapsed": 284,
     "status": "error",
     "timestamp": 1694136061419,
     "user": {
      "displayName": "Carol Diaz",
      "userId": "03863088177087652040"
     },
     "user_tz": 180
    },
    "id": "YT7RJ7cxm9nT",
    "outputId": "0430101c-59f8-444d-95cb-5d6b38203f10"
   },
   "outputs": [],
   "source": [
    "# Ten en mente potenciales errores con los apóstrofes\n",
    "'I'm not a spy!'"
   ]
  },
  {
   "cell_type": "code",
   "execution_count": null,
   "metadata": {
    "colab": {
     "base_uri": "https://localhost:8080/",
     "height": 36
    },
    "executionInfo": {
     "elapsed": 304,
     "status": "ok",
     "timestamp": 1694136065027,
     "user": {
      "displayName": "Carol Diaz",
      "userId": "03863088177087652040"
     },
     "user_tz": 180
    },
    "id": "K6mLm6fQm9nT",
    "outputId": "a0182890-d5c0-4430-f20b-a5374e2b0619"
   },
   "outputs": [],
   "source": [
    "# Usa otro conjunto de comillas distintas para ello\n",
    "\" I'm not a spy! \""
   ]
  },
  {
   "cell_type": "markdown",
   "metadata": {
    "id": "K2kkOfCZm9nU"
   },
   "source": [
    "## <font color='blue'>**Impresión básica de _strings_**</font>\n",
    "En el cuaderno Jupyter, una sola cadena en una celda se devuelve automáticamente. Sin embargo, esto es diferente a imprimir una cadena. Imprimir una cadena nos permite tener múltiples salidas. Veamos algunos ejemplos útiles:"
   ]
  },
  {
   "cell_type": "code",
   "execution_count": null,
   "metadata": {
    "colab": {
     "base_uri": "https://localhost:8080/",
     "height": 36
    },
    "executionInfo": {
     "elapsed": 270,
     "status": "ok",
     "timestamp": 1694136068271,
     "user": {
      "displayName": "Carol Diaz",
      "userId": "03863088177087652040"
     },
     "user_tz": 180
    },
    "id": "azkcD0CQm9nV",
    "outputId": "5831fd4b-4969-4dda-d35d-2f253aa1720c"
   },
   "outputs": [],
   "source": [
    "'one'\n",
    "'two'"
   ]
  },
  {
   "cell_type": "code",
   "execution_count": null,
   "metadata": {
    "colab": {
     "base_uri": "https://localhost:8080/"
    },
    "executionInfo": {
     "elapsed": 13,
     "status": "ok",
     "timestamp": 1694136070012,
     "user": {
      "displayName": "Carol Diaz",
      "userId": "03863088177087652040"
     },
     "user_tz": 180
    },
    "id": "EIuB39-am9nV",
    "outputId": "b3cb023d-2d6f-4c02-a3d1-034d11ca6b32"
   },
   "outputs": [],
   "source": [
    "print('one')\n",
    "print('two')"
   ]
  },
  {
   "cell_type": "code",
   "execution_count": null,
   "metadata": {
    "colab": {
     "base_uri": "https://localhost:8080/"
    },
    "executionInfo": {
     "elapsed": 10,
     "status": "ok",
     "timestamp": 1694136071869,
     "user": {
      "displayName": "Carol Diaz",
      "userId": "03863088177087652040"
     },
     "user_tz": 180
    },
    "id": "SR2URz-lm9nW",
    "outputId": "125ebec9-4e60-4513-d398-006ae9fd81ac"
   },
   "outputs": [],
   "source": [
    "print(\"1. Special Codes\")\n",
    "print('2. Esto es una nueva línea \\n nota como se imprime')\n",
    "print('3. Esto es un tabulador (tab) \\t nota como se imprime')\n",
    "print(\"4. Observa cómo ambos siguen el caracter de escape general de la barra invertida. \")"
   ]
  },
  {
   "cell_type": "markdown",
   "metadata": {
    "id": "Utq-aFnhm9nX"
   },
   "source": [
    "## <font color='blue'>**_Indexing_ y _Slicing_ sobre strings**</font>\n",
    "\n",
    "NOTA: Intensionalmente no traduciremos conceptos en inglés para habituarnos en su uso y hacer más facil la comprensión de otros documentos a los que accedamos.\n",
    "\n",
    "Recuerde que las cadenas son *secuencias ordenadas* de caracteres. Esto significa que podemos seleccionar caracteres individuales (__indexing__) o tomar subsecciones de la cadena (__slicing__)."
   ]
  },
  {
   "cell_type": "markdown",
   "metadata": {
    "id": "X6CqiYFKm9nX"
   },
   "source": [
    "### Indexing\n",
    "\n",
    "Indexing comienza a contar desde 0, de esta forma el string **hello**:\n",
    "\n",
    "    character:    h    e    l   l   o\n",
    "    index:        0    1    2   3   4\n",
    "    \n",
    "Puedes usar corchetes cuadrados para seleccionar un caracter"
   ]
  },
  {
   "cell_type": "code",
   "execution_count": null,
   "metadata": {
    "executionInfo": {
     "elapsed": 282,
     "status": "ok",
     "timestamp": 1694136078052,
     "user": {
      "displayName": "Carol Diaz",
      "userId": "03863088177087652040"
     },
     "user_tz": 180
    },
    "id": "tDJP5GRPm9nY"
   },
   "outputs": [],
   "source": [
    "word = \"hello\""
   ]
  },
  {
   "cell_type": "code",
   "execution_count": null,
   "metadata": {
    "colab": {
     "base_uri": "https://localhost:8080/",
     "height": 36
    },
    "executionInfo": {
     "elapsed": 259,
     "status": "ok",
     "timestamp": 1694136079553,
     "user": {
      "displayName": "Carol Diaz",
      "userId": "03863088177087652040"
     },
     "user_tz": 180
    },
    "id": "vTYJdx6xm9nY",
    "outputId": "c0a37a68-2387-4b2a-d251-ed29a30f5382"
   },
   "outputs": [],
   "source": [
    "word[0]"
   ]
  },
  {
   "cell_type": "code",
   "execution_count": null,
   "metadata": {
    "colab": {
     "base_uri": "https://localhost:8080/",
     "height": 36
    },
    "executionInfo": {
     "elapsed": 266,
     "status": "ok",
     "timestamp": 1694136081558,
     "user": {
      "displayName": "Carol Diaz",
      "userId": "03863088177087652040"
     },
     "user_tz": 180
    },
    "id": "BOIhU0obm9nY",
    "outputId": "5c0be0af-2779-4bcf-ab98-ad34dc70e3e1"
   },
   "outputs": [],
   "source": [
    "word[3]"
   ]
  },
  {
   "cell_type": "markdown",
   "metadata": {
    "id": "0yt3Xj-mm9nZ"
   },
   "source": [
    "Python soporta indexación reversa (reverse indexing):\n",
    "\n",
    "    character:        h     e     l    l    o\n",
    "    index:            0     1     2    3    4\n",
    "    reverse index:    0    -4    -3   -2   -1  \n",
    "    \n",
    "Reverse indexing es usado comúnmente para selecccionar caractares desde el final de una secuencia:"
   ]
  },
  {
   "cell_type": "code",
   "execution_count": null,
   "metadata": {
    "colab": {
     "base_uri": "https://localhost:8080/",
     "height": 36
    },
    "executionInfo": {
     "elapsed": 247,
     "status": "ok",
     "timestamp": 1694136083182,
     "user": {
      "displayName": "Carol Diaz",
      "userId": "03863088177087652040"
     },
     "user_tz": 180
    },
    "id": "uTTZ1F3om9nZ",
    "outputId": "c2a8df5e-d7ce-498e-a866-29c040a50cbf"
   },
   "outputs": [],
   "source": [
    "word[-1]"
   ]
  },
  {
   "cell_type": "markdown",
   "metadata": {
    "id": "mgGdDrgvm9nZ"
   },
   "source": [
    "### Slicing\n",
    "\n",
    "Podemos tomar subsecciones completas de una cadena con notación *slice*.\n",
    "\n",
    "Esta es la notación:\n",
    "\n",
    "     [inicio: parada: paso]\n",
    "\n",
    "Aspectos clave a tener en cuenta:\n",
    "\n",
    "1. La dirección del índice de inicio corresponde a donde comenzará su segmento.\n",
    "2. El índice de parada corresponde a donde subirá el corte. **¡No incluye este carácter de índice!**\n",
    "3. El tamaño del paso es la cantidad de caracteres que omite a medida que avanza y toma el siguiente.\n",
    "\n",
    "Veamos algunos ejemplos"
   ]
  },
  {
   "cell_type": "code",
   "execution_count": null,
   "metadata": {
    "executionInfo": {
     "elapsed": 243,
     "status": "ok",
     "timestamp": 1694136085979,
     "user": {
      "displayName": "Carol Diaz",
      "userId": "03863088177087652040"
     },
     "user_tz": 180
    },
    "id": "kwqb1P4zm9nZ"
   },
   "outputs": [],
   "source": [
    "alpha = 'abcdef'"
   ]
  },
  {
   "cell_type": "code",
   "execution_count": null,
   "metadata": {
    "colab": {
     "base_uri": "https://localhost:8080/",
     "height": 36
    },
    "executionInfo": {
     "elapsed": 247,
     "status": "ok",
     "timestamp": 1694136087277,
     "user": {
      "displayName": "Carol Diaz",
      "userId": "03863088177087652040"
     },
     "user_tz": 180
    },
    "id": "ufl99srsm9na",
    "outputId": "8ae22217-d258-40e1-96de-c2ffba7882f8"
   },
   "outputs": [],
   "source": [
    "# Observa como la \"d\" no es incluida!\n",
    "alpha[0:3]"
   ]
  },
  {
   "cell_type": "code",
   "execution_count": null,
   "metadata": {
    "colab": {
     "base_uri": "https://localhost:8080/",
     "height": 36
    },
    "executionInfo": {
     "elapsed": 21,
     "status": "ok",
     "timestamp": 1694136089324,
     "user": {
      "displayName": "Carol Diaz",
      "userId": "03863088177087652040"
     },
     "user_tz": 180
    },
    "id": "CrnQwcN3m9na",
    "outputId": "780df036-c941-47b0-c84d-8608b6274a47"
   },
   "outputs": [],
   "source": [
    "alpha[0:4]"
   ]
  },
  {
   "cell_type": "code",
   "execution_count": null,
   "metadata": {
    "colab": {
     "base_uri": "https://localhost:8080/",
     "height": 36
    },
    "executionInfo": {
     "elapsed": 264,
     "status": "ok",
     "timestamp": 1694136091697,
     "user": {
      "displayName": "Carol Diaz",
      "userId": "03863088177087652040"
     },
     "user_tz": 180
    },
    "id": "DxtBsljbm9na",
    "outputId": "551d80fc-fd1b-47d3-fb97-d9f0f1b5c52a"
   },
   "outputs": [],
   "source": [
    "# Desde la pocisión 2 hasta la 4; esta última no incluída\n",
    "alpha[2:4]"
   ]
  },
  {
   "cell_type": "code",
   "execution_count": null,
   "metadata": {
    "colab": {
     "base_uri": "https://localhost:8080/",
     "height": 36
    },
    "executionInfo": {
     "elapsed": 238,
     "status": "ok",
     "timestamp": 1694136094335,
     "user": {
      "displayName": "Carol Diaz",
      "userId": "03863088177087652040"
     },
     "user_tz": 180
    },
    "id": "pdzBRvtWm9nb",
    "outputId": "1ee55d51-504e-456b-e72b-4dc4712ee5c9"
   },
   "outputs": [],
   "source": [
    "# Desde la pocisión 2 hasta el final del string\n",
    "alpha[2:]"
   ]
  },
  {
   "cell_type": "code",
   "execution_count": null,
   "metadata": {
    "colab": {
     "base_uri": "https://localhost:8080/",
     "height": 36
    },
    "executionInfo": {
     "elapsed": 230,
     "status": "ok",
     "timestamp": 1694136095738,
     "user": {
      "displayName": "Carol Diaz",
      "userId": "03863088177087652040"
     },
     "user_tz": 180
    },
    "id": "JwiWV-jPm9nb",
    "outputId": "1d492438-0250-440e-ccca-22723cc0b715"
   },
   "outputs": [],
   "source": [
    "# Desde el inicio del string hasta la posición 2; esta última no incluída\n",
    "alpha[:2]"
   ]
  },
  {
   "cell_type": "code",
   "execution_count": null,
   "metadata": {
    "colab": {
     "base_uri": "https://localhost:8080/",
     "height": 36
    },
    "executionInfo": {
     "elapsed": 238,
     "status": "ok",
     "timestamp": 1694136097265,
     "user": {
      "displayName": "Carol Diaz",
      "userId": "03863088177087652040"
     },
     "user_tz": 180
    },
    "id": "y0TEkfycm9nb",
    "outputId": "93beb86f-91b9-4b22-9d99-e56b0f5985d5"
   },
   "outputs": [],
   "source": [
    "# Desde la posición 0 hasta la 6, con paso 2\n",
    "alpha[0:6:2]"
   ]
  },
  {
   "cell_type": "code",
   "execution_count": null,
   "metadata": {
    "colab": {
     "base_uri": "https://localhost:8080/",
     "height": 36
    },
    "executionInfo": {
     "elapsed": 268,
     "status": "ok",
     "timestamp": 1694136098820,
     "user": {
      "displayName": "Carol Diaz",
      "userId": "03863088177087652040"
     },
     "user_tz": 180
    },
    "id": "_0z8nJYam9nb",
    "outputId": "2e37620e-7f7b-4d69-eb9d-848db60eed4d"
   },
   "outputs": [],
   "source": [
    "alpha[-1::-1]"
   ]
  },
  {
   "cell_type": "markdown",
   "metadata": {
    "id": "pQr8ostEm9nc"
   },
   "source": [
    "## <font color='blue'>**Métodos básicos de cadena (string)**</font>\n",
    "\n",
    "Los métodos son acciones que puede llamar a un objeto generalmente en la forma **.method_name()** <br>\n",
    "Observe el punto al inicio y el paréntesis cerrado al final. Las cadenas tienen muchos, muchos métodos.\n",
    "\n",
    "En Colab, usa la siguiente instrucción para ver los métodos asociados a un string:\n",
    "\n",
    "```python\n",
    "help(str)\n",
    "```\n",
    "\n",
    "¡repasemos algunos de los más útiles!"
   ]
  },
  {
   "cell_type": "code",
   "execution_count": null,
   "metadata": {
    "colab": {
     "base_uri": "https://localhost:8080/"
    },
    "executionInfo": {
     "elapsed": 278,
     "status": "ok",
     "timestamp": 1694136101695,
     "user": {
      "displayName": "Carol Diaz",
      "userId": "03863088177087652040"
     },
     "user_tz": 180
    },
    "id": "Bvl8_X0Qm9nd",
    "outputId": "bbf780a4-43de-4c70-f871-48450e21fa44"
   },
   "outputs": [],
   "source": [
    "# Si quieres ayuda sobre strings esto no te va a funcionar\n",
    "help(\"hola\")"
   ]
  },
  {
   "cell_type": "code",
   "execution_count": null,
   "metadata": {
    "colab": {
     "base_uri": "https://localhost:8080/"
    },
    "executionInfo": {
     "elapsed": 18,
     "status": "ok",
     "timestamp": 1694136103755,
     "user": {
      "displayName": "Carol Diaz",
      "userId": "03863088177087652040"
     },
     "user_tz": 180
    },
    "id": "ZCZAYglFm9nd",
    "outputId": "cfb549f4-5ef0-41cf-80b5-b52319e1b03f",
    "scrolled": true,
    "tags": []
   },
   "outputs": [],
   "source": [
    "# ... esto sí ...\n",
    "help(str)"
   ]
  },
  {
   "cell_type": "code",
   "execution_count": null,
   "metadata": {
    "executionInfo": {
     "elapsed": 283,
     "status": "ok",
     "timestamp": 1694136107554,
     "user": {
      "displayName": "Carol Diaz",
      "userId": "03863088177087652040"
     },
     "user_tz": 180
    },
    "id": "5OJrD4DKm9nd"
   },
   "outputs": [],
   "source": [
    "basic = \"Hello world I am learning Python\""
   ]
  },
  {
   "cell_type": "code",
   "execution_count": null,
   "metadata": {
    "colab": {
     "base_uri": "https://localhost:8080/",
     "height": 36
    },
    "executionInfo": {
     "elapsed": 258,
     "status": "ok",
     "timestamp": 1694136113983,
     "user": {
      "displayName": "Carol Diaz",
      "userId": "03863088177087652040"
     },
     "user_tz": 180
    },
    "id": "eeCAzRuIm9nd",
    "outputId": "c7580b56-e126-4d0a-ed72-2af5f7bdef41"
   },
   "outputs": [],
   "source": [
    "basic.upper()"
   ]
  },
  {
   "cell_type": "code",
   "execution_count": null,
   "metadata": {
    "colab": {
     "base_uri": "https://localhost:8080/",
     "height": 36
    },
    "executionInfo": {
     "elapsed": 398,
     "status": "ok",
     "timestamp": 1694136115595,
     "user": {
      "displayName": "Carol Diaz",
      "userId": "03863088177087652040"
     },
     "user_tz": 180
    },
    "id": "Nw6PST3Dm9nd",
    "outputId": "aadfb678-d745-4ff6-e438-6ef83404e839"
   },
   "outputs": [],
   "source": [
    "basic.lower()"
   ]
  },
  {
   "cell_type": "code",
   "execution_count": null,
   "metadata": {
    "colab": {
     "base_uri": "https://localhost:8080/"
    },
    "executionInfo": {
     "elapsed": 307,
     "status": "ok",
     "timestamp": 1694136117128,
     "user": {
      "displayName": "Carol Diaz",
      "userId": "03863088177087652040"
     },
     "user_tz": 180
    },
    "id": "xUCFK1cMm9ne",
    "outputId": "f49e524a-b3ba-4f47-d8e0-e47926b04004"
   },
   "outputs": [],
   "source": [
    "# Veremos esto más adelanate, por ahora investiga de qué podría tratarse\n",
    "basic.split()"
   ]
  },
  {
   "cell_type": "markdown",
   "metadata": {
    "id": "gA-nsKRim9ne"
   },
   "source": [
    "La estructura generada se llama **lista**. Es una de las estructuras más utilizadas en Python.\n",
    "Las listas también pueden ser indexadas. Las veremos en el siguiente notebook."
   ]
  },
  {
   "cell_type": "code",
   "execution_count": null,
   "metadata": {
    "colab": {
     "base_uri": "https://localhost:8080/"
    },
    "executionInfo": {
     "elapsed": 300,
     "status": "ok",
     "timestamp": 1694136118785,
     "user": {
      "displayName": "Carol Diaz",
      "userId": "03863088177087652040"
     },
     "user_tz": 180
    },
    "id": "vt1J6gFLm9ne",
    "outputId": "f7c4c903-d87b-4e92-be2d-1fa756a70d76"
   },
   "outputs": [],
   "source": [
    "# Las reglas de indexing también aplican en esta nueva estructura\n",
    "print(basic.split()[0])\n",
    "print(basic.split()[1])\n",
    "print(basic.split()[-1])"
   ]
  },
  {
   "cell_type": "code",
   "execution_count": null,
   "metadata": {
    "colab": {
     "base_uri": "https://localhost:8080/"
    },
    "executionInfo": {
     "elapsed": 257,
     "status": "ok",
     "timestamp": 1694136120718,
     "user": {
      "displayName": "Carol Diaz",
      "userId": "03863088177087652040"
     },
     "user_tz": 180
    },
    "id": "VbGjlQ1Nm9ne",
    "outputId": "dcdc559a-3dcd-488c-8279-53f2b270858a"
   },
   "outputs": [],
   "source": [
    "# Qué utilidad le ves a esto?\n",
    "basic.split('I')"
   ]
  },
  {
   "cell_type": "markdown",
   "metadata": {
    "id": "Zu3VTw8RyOSV"
   },
   "source": [
    "## <font color='blue'>__Ejercicios__</font>"
   ]
  },
  {
   "cell_type": "markdown",
   "metadata": {
    "id": "jyaHJGZDm9nW"
   },
   "source": [
    "### <font color='green'>Actividad 1:</font>\n",
    "### Imprime un string \"Hello\" usando dos tabs al comienzo"
   ]
  },
  {
   "cell_type": "code",
   "execution_count": null,
   "metadata": {
    "colab": {
     "base_uri": "https://localhost:8080/"
    },
    "executionInfo": {
     "elapsed": 228,
     "status": "ok",
     "timestamp": 1694136123453,
     "user": {
      "displayName": "Carol Diaz",
      "userId": "03863088177087652040"
     },
     "user_tz": 180
    },
    "id": "ZeECifkYm9nW",
    "outputId": "74fc4a54-6d52-47d6-954d-3bfd29aaaa26"
   },
   "outputs": [],
   "source": [
    "print('\\t\\t Hello')\n",
    "\n",
    "print('\\t Hello')\n",
    "\n",
    "print('Hello')\n"
   ]
  },
  {
   "cell_type": "markdown",
   "metadata": {
    "id": "vv18aUnKm9nX"
   },
   "source": [
    "<font color='green'>Fin actividad 1:</font>"
   ]
  },
  {
   "cell_type": "markdown",
   "metadata": {
    "id": "7TG8Vequm9nb"
   },
   "source": [
    "### <font color='green'>Actividad 2:</font>\n",
    "### Slicing sobre un RUT\n",
    "\n",
    "1. Extrae el dígito verificador del `rut1` con un único slicing"
   ]
  },
  {
   "cell_type": "code",
   "execution_count": null,
   "metadata": {
    "colab": {
     "base_uri": "https://localhost:8080/",
     "height": 36
    },
    "executionInfo": {
     "elapsed": 247,
     "status": "ok",
     "timestamp": 1694136126797,
     "user": {
      "displayName": "Carol Diaz",
      "userId": "03863088177087652040"
     },
     "user_tz": 180
    },
    "id": "zg2weyxfm9nb",
    "outputId": "cf9e40af-b4b6-430d-ed8b-36f902ba2f9a"
   },
   "outputs": [],
   "source": [
    "rut1 = '9.621.955-4'\n",
    "\n",
    "rut1[-1]\n"
   ]
  },
  {
   "cell_type": "markdown",
   "metadata": {
    "id": "9aQjghjKm9nc"
   },
   "source": [
    "2. Diseña un slicing estándar para imprimir los cuatro últimos dígitos de un `rut1`. El resultado no debe incluir el punto, debe ser en una única instrucción, y debe generar un único string de salida.\n",
    "\n",
    "Prueba tu instrucción con `rut1` y `rut2`\n",
    "\n",
    "Los resultados deberían ser:\n",
    "```python\n",
    "'1995'\n",
    "\n",
    "'0843'\n",
    "```\n",
    "Tip: investiga cómo concatenar strings en Python."
   ]
  },
  {
   "cell_type": "code",
   "execution_count": null,
   "metadata": {
    "colab": {
     "base_uri": "https://localhost:8080/"
    },
    "executionInfo": {
     "elapsed": 283,
     "status": "ok",
     "timestamp": 1694136132213,
     "user": {
      "displayName": "Carol Diaz",
      "userId": "03863088177087652040"
     },
     "user_tz": 180
    },
    "id": "k4pHe1EKm9nc",
    "outputId": "aea5638e-5768-405d-940f-e7019c7e066c"
   },
   "outputs": [],
   "source": [
    "rut = '9.621.955-4'\n",
    "\n",
    "print(rut[4] + rut[6:9])\n",
    "\n",
    "print(rut[-7]+rut[-5:-2])\n"
   ]
  },
  {
   "cell_type": "code",
   "execution_count": null,
   "metadata": {
    "colab": {
     "base_uri": "https://localhost:8080/"
    },
    "executionInfo": {
     "elapsed": 12,
     "status": "ok",
     "timestamp": 1694136133966,
     "user": {
      "displayName": "Carol Diaz",
      "userId": "03863088177087652040"
     },
     "user_tz": 180
    },
    "id": "VdXoSj8_m9nc",
    "outputId": "a17c91b6-9522-4dac-f59d-a46245504bc4"
   },
   "outputs": [],
   "source": [
    "rut = '12.190.843-K'\n",
    "\n",
    "print(rut[5] + rut[7:10])\n",
    "\n",
    "print(rut[-7]+rut[-5:-2])"
   ]
  },
  {
   "cell_type": "markdown",
   "metadata": {
    "id": "oncGjcrem9nc"
   },
   "source": [
    "<font color='green'>Fin actividad 2:</font>"
   ]
  },
  {
   "cell_type": "markdown",
   "metadata": {
    "id": "MLryYMS-m9ne"
   },
   "source": [
    "### <font color='green'>Actividad 3:</font>\n",
    "### Crea tu propia variable string y aplícale los métodos `upper()` y `lower()`\n",
    "\n",
    "1. Ingresa un string con tu nombre y tu apellido desde el teclado con `input()`\n",
    "2. Guádalo en una variable\n",
    "3. Imprime la variable aplicándo el método `upper()`\n",
    "4. Imprime la variable aplicándo el método `lower()`\n",
    "\n",
    "Haz que ambas expresiones se impriman utilizanfo `f-strings` y la función `print()`\n",
    "\n",
    "5. Separa la variable en dos (nombre y apellido), e imprímelas en una única línea con la primera letra en mayúscula y el resto en minúscula.\n",
    "\n",
    "Tip: utiliza el método `split()`"
   ]
  },
  {
   "cell_type": "code",
   "execution_count": null,
   "metadata": {
    "colab": {
     "base_uri": "https://localhost:8080/"
    },
    "executionInfo": {
     "elapsed": 8677,
     "status": "ok",
     "timestamp": 1694136145512,
     "user": {
      "displayName": "Carol Diaz",
      "userId": "03863088177087652040"
     },
     "user_tz": 180
    },
    "id": "ueT5O5s3m9ne",
    "outputId": "92cc11fc-4e5b-480b-9ed1-21bec4cbd3de"
   },
   "outputs": [],
   "source": [
    "comentario = 'Ingrese su nombre y apellido: '\n",
    "name = input(comentario).strip()\n",
    "\n",
    "print('1. Minuscula: ', name.lower())\n",
    "print('2. Mayuscula: ', name.upper())\n",
    "print('\\n')\n",
    "\n",
    "parte1, parte2 = name.split(' ')[0], name.split(' ')[1]\n",
    "print('3.', parte1[0].upper() + parte1[1:].lower(), parte2[0].upper() + parte2[1:].lower())\n"
   ]
  },
  {
   "cell_type": "markdown",
   "metadata": {
    "id": "KJUTkiH-m9nf"
   },
   "source": [
    "<font color='green'>Fin actividad 3</font>"
   ]
  },
  {
   "cell_type": "markdown",
   "metadata": {
    "id": "DBOChyjRm9nf"
   },
   "source": [
    "## <font color='blue'>**Strings formatting**</font>\n",
    "\n",
    "Puedes usar el método `.format()` o los `f-string` vistos anteriormente  para realizar lo que se conoce formalmente como **interpolación de cadenas**, esencialmente insertando variables al imprimirla."
   ]
  },
  {
   "cell_type": "code",
   "execution_count": null,
   "metadata": {
    "executionInfo": {
     "elapsed": 313,
     "status": "ok",
     "timestamp": 1694136148866,
     "user": {
      "displayName": "Carol Diaz",
      "userId": "03863088177087652040"
     },
     "user_tz": 180
    },
    "id": "qRECyhVLm9nf"
   },
   "outputs": [],
   "source": [
    "suser_name = \"Matías\""
   ]
  },
  {
   "cell_type": "code",
   "execution_count": null,
   "metadata": {
    "colab": {
     "base_uri": "https://localhost:8080/",
     "height": 200
    },
    "executionInfo": {
     "elapsed": 253,
     "status": "error",
     "timestamp": 1694136150676,
     "user": {
      "displayName": "Carol Diaz",
      "userId": "03863088177087652040"
     },
     "user_tz": 180
    },
    "id": "NiXCKdMkm9nf",
    "outputId": "d630dfe4-69fc-4f86-901d-38c77272905a"
   },
   "outputs": [],
   "source": [
    "# Con opción 2\n",
    "print(\"Welcome {}\".format(user_name))"
   ]
  },
  {
   "cell_type": "code",
   "execution_count": null,
   "metadata": {
    "colab": {
     "base_uri": "https://localhost:8080/",
     "height": 200
    },
    "executionInfo": {
     "elapsed": 275,
     "status": "error",
     "timestamp": 1694136153253,
     "user": {
      "displayName": "Carol Diaz",
      "userId": "03863088177087652040"
     },
     "user_tz": 180
    },
    "id": "21K0AErem9nf",
    "outputId": "c1ecc246-2b76-403b-8772-1e791794c8d9"
   },
   "outputs": [],
   "source": [
    "# o con opción 3\n",
    "print(f'Welcome {user_name}')"
   ]
  },
  {
   "cell_type": "markdown",
   "metadata": {
    "id": "P2I1HLjLm9nh"
   },
   "source": [
    "Excelente hackers !!!"
   ]
  }
 ],
 "metadata": {
  "colab": {
   "provenance": [
    {
     "file_id": "1R2dm_7MOOWSrq7gj1OWIDzFU9RjZayva",
     "timestamp": 1692232632168
    }
   ]
  },
  "kernelspec": {
   "display_name": "Python 3 (ipykernel)",
   "language": "python",
   "name": "python3"
  },
  "language_info": {
   "codemirror_mode": {
    "name": "ipython",
    "version": 3
   },
   "file_extension": ".py",
   "mimetype": "text/x-python",
   "name": "python",
   "nbconvert_exporter": "python",
   "pygments_lexer": "ipython3",
   "version": "3.8.11"
  }
 },
 "nbformat": 4,
 "nbformat_minor": 0
}
