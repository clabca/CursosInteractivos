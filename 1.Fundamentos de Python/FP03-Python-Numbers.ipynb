{
 "cells": [
  {
   "cell_type": "markdown",
   "metadata": {
    "id": "7cXYTli5yoif"
   },
   "source": [
    "# **Introducción a Pyton**\n",
    "# FP03. Números en Python  \n",
    "\n",
    "En esta clase comenzaremos a discutir los conceptos básicos de trabajar con números en Python. Esto debería ser sencillo."
   ]
  },
  {
   "cell_type": "markdown",
   "metadata": {
    "id": "oC73jJiAyoih"
   },
   "source": [
    "## <font color='blue'>**Principales tipos de números**</font>\n",
    "\n",
    "Los `int` son números enteros. <br>Los `float` son números decimales (recuerda que en Python la parte decimal se delimita con un punto y NO con una coma).<br>\n",
    "`complex` son números complejos."
   ]
  },
  {
   "cell_type": "code",
   "execution_count": null,
   "metadata": {
    "colab": {
     "base_uri": "https://localhost:8080/"
    },
    "executionInfo": {
     "elapsed": 12,
     "status": "ok",
     "timestamp": 1694135845068,
     "user": {
      "displayName": "Carol Diaz",
      "userId": "03863088177087652040"
     },
     "user_tz": 180
    },
    "id": "LWuh32APyoih",
    "outputId": "e40070eb-564c-4195-a32a-907fe085cb55"
   },
   "outputs": [],
   "source": [
    "100"
   ]
  },
  {
   "cell_type": "code",
   "execution_count": null,
   "metadata": {
    "colab": {
     "base_uri": "https://localhost:8080/"
    },
    "executionInfo": {
     "elapsed": 10,
     "status": "ok",
     "timestamp": 1694135848004,
     "user": {
      "displayName": "Carol Diaz",
      "userId": "03863088177087652040"
     },
     "user_tz": 180
    },
    "id": "GMsGro4Kyoij",
    "outputId": "4c27b9ca-857d-4723-877c-fe8d0709722c"
   },
   "outputs": [],
   "source": [
    "type(100)"
   ]
  },
  {
   "cell_type": "code",
   "execution_count": null,
   "metadata": {
    "colab": {
     "base_uri": "https://localhost:8080/"
    },
    "executionInfo": {
     "elapsed": 878,
     "status": "ok",
     "timestamp": 1694135850912,
     "user": {
      "displayName": "Carol Diaz",
      "userId": "03863088177087652040"
     },
     "user_tz": 180
    },
    "id": "PfeWqvePyoij",
    "outputId": "6339fbfa-d7c3-44fe-ccbf-f6134eaaf228"
   },
   "outputs": [],
   "source": [
    "1.25"
   ]
  },
  {
   "cell_type": "code",
   "execution_count": null,
   "metadata": {
    "colab": {
     "base_uri": "https://localhost:8080/"
    },
    "executionInfo": {
     "elapsed": 5,
     "status": "ok",
     "timestamp": 1694135854022,
     "user": {
      "displayName": "Carol Diaz",
      "userId": "03863088177087652040"
     },
     "user_tz": 180
    },
    "id": "1-_Dvh2uyoij",
    "outputId": "f0f44cea-8c27-4f2f-dd05-c64454646201"
   },
   "outputs": [],
   "source": [
    "type(1.2)"
   ]
  },
  {
   "cell_type": "code",
   "execution_count": null,
   "metadata": {
    "colab": {
     "base_uri": "https://localhost:8080/"
    },
    "executionInfo": {
     "elapsed": 502,
     "status": "ok",
     "timestamp": 1694135860181,
     "user": {
      "displayName": "Carol Diaz",
      "userId": "03863088177087652040"
     },
     "user_tz": 180
    },
    "id": "-dSLvrOQyoik",
    "outputId": "14d54144-9916-4643-c9e9-0912f50dcf49"
   },
   "outputs": [],
   "source": [
    "type(100.0)"
   ]
  },
  {
   "cell_type": "code",
   "execution_count": null,
   "metadata": {
    "colab": {
     "base_uri": "https://localhost:8080/"
    },
    "executionInfo": {
     "elapsed": 11,
     "status": "ok",
     "timestamp": 1694135863390,
     "user": {
      "displayName": "Carol Diaz",
      "userId": "03863088177087652040"
     },
     "user_tz": 180
    },
    "id": "B8m251Y2yoil",
    "outputId": "719b62b7-de9d-40e8-bbc5-62ed858f9786"
   },
   "outputs": [],
   "source": [
    "type(100.)"
   ]
  },
  {
   "cell_type": "code",
   "execution_count": null,
   "metadata": {
    "colab": {
     "base_uri": "https://localhost:8080/"
    },
    "executionInfo": {
     "elapsed": 12,
     "status": "ok",
     "timestamp": 1694135866765,
     "user": {
      "displayName": "Carol Diaz",
      "userId": "03863088177087652040"
     },
     "user_tz": 180
    },
    "id": "u4GovJlMyoil",
    "outputId": "485b2003-41d0-4b5a-d364-87170af0bcff"
   },
   "outputs": [],
   "source": [
    "100 == 100.0"
   ]
  },
  {
   "cell_type": "code",
   "execution_count": null,
   "metadata": {
    "colab": {
     "base_uri": "https://localhost:8080/"
    },
    "executionInfo": {
     "elapsed": 429,
     "status": "ok",
     "timestamp": 1694135869085,
     "user": {
      "displayName": "Carol Diaz",
      "userId": "03863088177087652040"
     },
     "user_tz": 180
    },
    "id": "ihnDSJC-yoim",
    "outputId": "7ab362f0-06f8-4657-e162-d6444112d660"
   },
   "outputs": [],
   "source": [
    "id(100) == id(100.0)"
   ]
  },
  {
   "cell_type": "code",
   "execution_count": null,
   "metadata": {
    "colab": {
     "base_uri": "https://localhost:8080/"
    },
    "executionInfo": {
     "elapsed": 12,
     "status": "ok",
     "timestamp": 1694135872168,
     "user": {
      "displayName": "Carol Diaz",
      "userId": "03863088177087652040"
     },
     "user_tz": 180
    },
    "id": "2VL-gs0avCxh",
    "outputId": "6ef5a8b6-a7bf-408f-dc0d-860cb98e3b24"
   },
   "outputs": [],
   "source": [
    "2+3j"
   ]
  },
  {
   "cell_type": "code",
   "execution_count": null,
   "metadata": {
    "colab": {
     "base_uri": "https://localhost:8080/"
    },
    "executionInfo": {
     "elapsed": 13,
     "status": "ok",
     "timestamp": 1694135874936,
     "user": {
      "displayName": "Carol Diaz",
      "userId": "03863088177087652040"
     },
     "user_tz": 180
    },
    "id": "qKopIstvvKIX",
    "outputId": "e4e78d97-8659-4ca9-dd22-dabc952db255"
   },
   "outputs": [],
   "source": [
    "type(2+3j)"
   ]
  },
  {
   "cell_type": "markdown",
   "metadata": {
    "id": "OVo9hmeCyoim"
   },
   "source": [
    "## <font color='blue'>**Aritmética básica**</font>"
   ]
  },
  {
   "cell_type": "code",
   "execution_count": null,
   "metadata": {
    "colab": {
     "base_uri": "https://localhost:8080/"
    },
    "executionInfo": {
     "elapsed": 10,
     "status": "ok",
     "timestamp": 1694135877642,
     "user": {
      "displayName": "Carol Diaz",
      "userId": "03863088177087652040"
     },
     "user_tz": 180
    },
    "id": "2uuDbMamyoim",
    "outputId": "97181b74-c521-4eff-db3d-159d75806fc6"
   },
   "outputs": [],
   "source": [
    "# Suma\n",
    "1 + 1"
   ]
  },
  {
   "cell_type": "code",
   "execution_count": null,
   "metadata": {
    "colab": {
     "base_uri": "https://localhost:8080/"
    },
    "executionInfo": {
     "elapsed": 6,
     "status": "ok",
     "timestamp": 1694135879999,
     "user": {
      "displayName": "Carol Diaz",
      "userId": "03863088177087652040"
     },
     "user_tz": 180
    },
    "id": "UGEahjh4yoin",
    "outputId": "b40e692a-bb1a-4e7b-c862-146787c36379"
   },
   "outputs": [],
   "source": [
    "# Resta\n",
    "2 - 1"
   ]
  },
  {
   "cell_type": "code",
   "execution_count": null,
   "metadata": {
    "colab": {
     "base_uri": "https://localhost:8080/"
    },
    "executionInfo": {
     "elapsed": 9,
     "status": "ok",
     "timestamp": 1694135882018,
     "user": {
      "displayName": "Carol Diaz",
      "userId": "03863088177087652040"
     },
     "user_tz": 180
    },
    "id": "WyMoko6nyoin",
    "outputId": "8a55fea5-6d0e-469a-89a6-a685b21b1819"
   },
   "outputs": [],
   "source": [
    "# Multiplicación\n",
    "2 * 2"
   ]
  },
  {
   "cell_type": "code",
   "execution_count": null,
   "metadata": {
    "colab": {
     "base_uri": "https://localhost:8080/"
    },
    "executionInfo": {
     "elapsed": 14,
     "status": "ok",
     "timestamp": 1694135884218,
     "user": {
      "displayName": "Carol Diaz",
      "userId": "03863088177087652040"
     },
     "user_tz": 180
    },
    "id": "m8zJbrNKyoin",
    "outputId": "4820ae3b-f38d-4003-dd8c-804ea20be5ed"
   },
   "outputs": [],
   "source": [
    "# División\n",
    "3 / 2"
   ]
  },
  {
   "cell_type": "code",
   "execution_count": null,
   "metadata": {
    "colab": {
     "base_uri": "https://localhost:8080/"
    },
    "executionInfo": {
     "elapsed": 544,
     "status": "ok",
     "timestamp": 1694135886220,
     "user": {
      "displayName": "Carol Diaz",
      "userId": "03863088177087652040"
     },
     "user_tz": 180
    },
    "id": "C9XC9Jmwyoio",
    "outputId": "05dcb63f-d7d6-4c07-e6b2-5ff7386036f8"
   },
   "outputs": [],
   "source": [
    "# Considera que la división siempre retorna floats\n",
    "1/1"
   ]
  },
  {
   "cell_type": "code",
   "execution_count": null,
   "metadata": {
    "colab": {
     "base_uri": "https://localhost:8080/"
    },
    "executionInfo": {
     "elapsed": 8,
     "status": "ok",
     "timestamp": 1694135888213,
     "user": {
      "displayName": "Carol Diaz",
      "userId": "03863088177087652040"
     },
     "user_tz": 180
    },
    "id": "uhamwlfVyoio",
    "outputId": "bce33369-e5f5-4163-f9bb-f6abde617e83"
   },
   "outputs": [],
   "source": [
    "# Potencias\n",
    "2 ** 3"
   ]
  },
  {
   "cell_type": "code",
   "execution_count": null,
   "metadata": {
    "colab": {
     "base_uri": "https://localhost:8080/"
    },
    "executionInfo": {
     "elapsed": 8,
     "status": "ok",
     "timestamp": 1694135890126,
     "user": {
      "displayName": "Carol Diaz",
      "userId": "03863088177087652040"
     },
     "user_tz": 180
    },
    "id": "nhLhZ6Nxyoio",
    "outputId": "f2238140-37f8-4a29-e4a9-ccaee8291b6e"
   },
   "outputs": [],
   "source": [
    "2 ** (1 / 2)"
   ]
  },
  {
   "cell_type": "code",
   "execution_count": null,
   "metadata": {
    "colab": {
     "base_uri": "https://localhost:8080/"
    },
    "executionInfo": {
     "elapsed": 10,
     "status": "ok",
     "timestamp": 1694135892476,
     "user": {
      "displayName": "Carol Diaz",
      "userId": "03863088177087652040"
     },
     "user_tz": 180
    },
    "id": "0ZR2cW3evW0C",
    "outputId": "8b9f011a-eb23-4b49-a5b3-1d399b2c9be6"
   },
   "outputs": [],
   "source": [
    "2 + 2+3j"
   ]
  },
  {
   "cell_type": "code",
   "execution_count": null,
   "metadata": {
    "colab": {
     "base_uri": "https://localhost:8080/"
    },
    "executionInfo": {
     "elapsed": 8,
     "status": "ok",
     "timestamp": 1694135893961,
     "user": {
      "displayName": "Carol Diaz",
      "userId": "03863088177087652040"
     },
     "user_tz": 180
    },
    "id": "zP2iw7MbvcmF",
    "outputId": "937928c5-f37b-46b6-fec5-029f8bcc083e"
   },
   "outputs": [],
   "source": [
    "2 * 2+3j"
   ]
  },
  {
   "cell_type": "code",
   "execution_count": null,
   "metadata": {
    "colab": {
     "base_uri": "https://localhost:8080/"
    },
    "executionInfo": {
     "elapsed": 390,
     "status": "ok",
     "timestamp": 1694135896757,
     "user": {
      "displayName": "Carol Diaz",
      "userId": "03863088177087652040"
     },
     "user_tz": 180
    },
    "id": "EqID0PAQvtU6",
    "outputId": "67c06501-96b1-4d51-8bdd-6612a4774dd5"
   },
   "outputs": [],
   "source": [
    "3j + 2+3j"
   ]
  },
  {
   "cell_type": "markdown",
   "metadata": {
    "id": "VnpdFFWryoip"
   },
   "source": [
    "### Orden de las operaciones"
   ]
  },
  {
   "cell_type": "markdown",
   "metadata": {
    "id": "xJqy-3pmyoip"
   },
   "source": [
    "Al igual que ocurre en matemáticas, en programación también tenemos una prioridad en los operadores. Esto significa que si una expresión matemática es precedida por un operador y seguido de otro, el operador más alto en la lista debe ser aplicado por primera vez. Las expresiones con paréntesis se evalúan de dentro a fuera, el paréntesis más interno se evalúa primero. El orden normal de las operaciones es de izquierda a derecha, evaluando en orden los siguientes operadores:\n",
    "\n",
    "* Términos entre paréntesis.\n",
    "* Potenciación y raíces.\n",
    "* Multiplicación y división.\n",
    "* Suma y resta.\n",
    "\n",
    "En Python se representan los operadores con el siguiente orden:\n",
    "```\n",
    "( )\n",
    "**\n",
    "X, /, %, //\n",
    "+, -\n",
    "````"
   ]
  },
  {
   "cell_type": "code",
   "execution_count": null,
   "metadata": {
    "colab": {
     "base_uri": "https://localhost:8080/"
    },
    "executionInfo": {
     "elapsed": 449,
     "status": "ok",
     "timestamp": 1694135900177,
     "user": {
      "displayName": "Carol Diaz",
      "userId": "03863088177087652040"
     },
     "user_tz": 180
    },
    "id": "Le1_qkOayoip",
    "outputId": "d1b069cf-7c2e-46bc-e78d-7a9d75b341e2"
   },
   "outputs": [],
   "source": [
    "# Orden de la operaciones\n",
    "1 + 2 * 1000 + 1"
   ]
  },
  {
   "cell_type": "code",
   "execution_count": null,
   "metadata": {
    "colab": {
     "base_uri": "https://localhost:8080/"
    },
    "executionInfo": {
     "elapsed": 436,
     "status": "ok",
     "timestamp": 1694135902011,
     "user": {
      "displayName": "Carol Diaz",
      "userId": "03863088177087652040"
     },
     "user_tz": 180
    },
    "id": "aytYAw0zyoip",
    "outputId": "77818c9a-f868-441b-cc9a-b68569e13a30"
   },
   "outputs": [],
   "source": [
    "# Python ejecuta priero los paréntesis\n",
    "(1 + 2) * (1000 + 1)"
   ]
  },
  {
   "cell_type": "code",
   "execution_count": null,
   "metadata": {
    "colab": {
     "base_uri": "https://localhost:8080/"
    },
    "executionInfo": {
     "elapsed": 10,
     "status": "ok",
     "timestamp": 1694135903746,
     "user": {
      "displayName": "Carol Diaz",
      "userId": "03863088177087652040"
     },
     "user_tz": 180
    },
    "id": "CP2ICIIhyoip",
    "outputId": "4cb597a1-f6eb-4db6-d648-b9261c92b687"
   },
   "outputs": [],
   "source": [
    "# Python primero la división y la multiplicación y luego la suma y la resta\n",
    "1 + 10 * 2"
   ]
  },
  {
   "cell_type": "code",
   "execution_count": null,
   "metadata": {
    "colab": {
     "base_uri": "https://localhost:8080/"
    },
    "executionInfo": {
     "elapsed": 405,
     "status": "ok",
     "timestamp": 1694135905607,
     "user": {
      "displayName": "Carol Diaz",
      "userId": "03863088177087652040"
     },
     "user_tz": 180
    },
    "id": "NyJm5cTTyoiq",
    "outputId": "7df76391-7cc0-462e-c7f9-7e36f11257a8"
   },
   "outputs": [],
   "source": [
    "# Pero al final del día, los paréntesis mandan\n",
    "(1 + 10) * 2"
   ]
  },
  {
   "cell_type": "markdown",
   "metadata": {
    "id": "GzqZOZhcyoiq"
   },
   "source": [
    "## <font color='blue'>**Asignando variables**</font>"
   ]
  },
  {
   "cell_type": "code",
   "execution_count": null,
   "metadata": {
    "executionInfo": {
     "elapsed": 4,
     "status": "ok",
     "timestamp": 1694135908624,
     "user": {
      "displayName": "Carol Diaz",
      "userId": "03863088177087652040"
     },
     "user_tz": 180
    },
    "id": "YX_sb1Layoiq"
   },
   "outputs": [],
   "source": [
    "a = 2.0"
   ]
  },
  {
   "cell_type": "code",
   "execution_count": null,
   "metadata": {
    "colab": {
     "base_uri": "https://localhost:8080/"
    },
    "executionInfo": {
     "elapsed": 9,
     "status": "ok",
     "timestamp": 1694135909854,
     "user": {
      "displayName": "Carol Diaz",
      "userId": "03863088177087652040"
     },
     "user_tz": 180
    },
    "id": "dwbS5rG_yoir",
    "outputId": "d916a901-c1f2-446b-cf85-1cf0866a8c20"
   },
   "outputs": [],
   "source": [
    "type(a)"
   ]
  },
  {
   "cell_type": "code",
   "execution_count": null,
   "metadata": {
    "colab": {
     "base_uri": "https://localhost:8080/"
    },
    "executionInfo": {
     "elapsed": 7,
     "status": "ok",
     "timestamp": 1694135911584,
     "user": {
      "displayName": "Carol Diaz",
      "userId": "03863088177087652040"
     },
     "user_tz": 180
    },
    "id": "txX3st9Qyoir",
    "outputId": "bbe6c84f-538e-4f69-a008-48881c90662c"
   },
   "outputs": [],
   "source": [
    "a + 3"
   ]
  },
  {
   "cell_type": "code",
   "execution_count": null,
   "metadata": {
    "executionInfo": {
     "elapsed": 8,
     "status": "ok",
     "timestamp": 1694135912911,
     "user": {
      "displayName": "Carol Diaz",
      "userId": "03863088177087652040"
     },
     "user_tz": 180
    },
    "id": "M_2yo-NFyoir"
   },
   "outputs": [],
   "source": [
    "b = 3"
   ]
  },
  {
   "cell_type": "code",
   "execution_count": null,
   "metadata": {
    "colab": {
     "base_uri": "https://localhost:8080/"
    },
    "executionInfo": {
     "elapsed": 9,
     "status": "ok",
     "timestamp": 1694135914687,
     "user": {
      "displayName": "Carol Diaz",
      "userId": "03863088177087652040"
     },
     "user_tz": 180
    },
    "id": "ijwl32UMyoir",
    "outputId": "f45ad097-dd6d-4c60-aeba-562a1e1355a5"
   },
   "outputs": [],
   "source": [
    "a + b"
   ]
  },
  {
   "cell_type": "code",
   "execution_count": null,
   "metadata": {
    "colab": {
     "base_uri": "https://localhost:8080/"
    },
    "executionInfo": {
     "elapsed": 10,
     "status": "ok",
     "timestamp": 1694135916312,
     "user": {
      "displayName": "Carol Diaz",
      "userId": "03863088177087652040"
     },
     "user_tz": 180
    },
    "id": "YRdWqOXLyoir",
    "outputId": "00c714ff-77c2-4d95-821e-02c07b91b4eb"
   },
   "outputs": [],
   "source": [
    "print(f'El valor actual de a es {a}')\n",
    "\n",
    "# Reasignamos\n",
    "a = 1000\n",
    "\n",
    "print(f'El nuevo valor de a es {a}')"
   ]
  },
  {
   "cell_type": "code",
   "execution_count": null,
   "metadata": {
    "colab": {
     "base_uri": "https://localhost:8080/"
    },
    "executionInfo": {
     "elapsed": 8,
     "status": "ok",
     "timestamp": 1694135918119,
     "user": {
      "displayName": "Carol Diaz",
      "userId": "03863088177087652040"
     },
     "user_tz": 180
    },
    "id": "l3BdmtvOyoir",
    "outputId": "935c3634-36d2-4633-e7d1-1853b059943c"
   },
   "outputs": [],
   "source": [
    "a + b"
   ]
  },
  {
   "cell_type": "markdown",
   "metadata": {
    "id": "a24QBdpYyoir"
   },
   "source": [
    "## <font color='blue'>**Python tipado dinámico**</font>\n",
    "\n",
    "Existen dos tipos de tipado:\n",
    "* Estático\n",
    "* Dinámico\n",
    "\n",
    "En los lenguajes estáticos, cuando declaramos una variable es necesario especificar el tipo que tiene y ese tipo es inalterable:\n",
    "```Javascript\n",
    "String nombre = 'Héctor'; // java\n",
    "```\n",
    "En cambio en lenguajes como Python no es necesario establecer un tipo y además puede cambiar en cualquier momento, eso es porque viene determinado en tiempo de ejecución por el valor asignado a la variable:"
   ]
  },
  {
   "cell_type": "code",
   "execution_count": null,
   "metadata": {
    "colab": {
     "base_uri": "https://localhost:8080/"
    },
    "executionInfo": {
     "elapsed": 476,
     "status": "ok",
     "timestamp": 1694135921100,
     "user": {
      "displayName": "Carol Diaz",
      "userId": "03863088177087652040"
     },
     "user_tz": 180
    },
    "id": "GOC0fVrgyois",
    "outputId": "6f3b253e-10ea-46bd-ac5b-591559775b9e"
   },
   "outputs": [],
   "source": [
    "nombre = 'Héctor'\n",
    "type(nombre)"
   ]
  },
  {
   "cell_type": "code",
   "execution_count": null,
   "metadata": {
    "colab": {
     "base_uri": "https://localhost:8080/"
    },
    "executionInfo": {
     "elapsed": 15,
     "status": "ok",
     "timestamp": 1694135922729,
     "user": {
      "displayName": "Carol Diaz",
      "userId": "03863088177087652040"
     },
     "user_tz": 180
    },
    "id": "UfLJ84Sqyois",
    "outputId": "c7311a14-b2ea-4310-e9a9-81b82d7747e6"
   },
   "outputs": [],
   "source": [
    "nombre = 50\n",
    "type(nombre)"
   ]
  },
  {
   "cell_type": "markdown",
   "metadata": {
    "id": "8Sxb6xt8yois"
   },
   "source": [
    "### Reasignar con la misma variable"
   ]
  },
  {
   "cell_type": "code",
   "execution_count": null,
   "metadata": {
    "colab": {
     "base_uri": "https://localhost:8080/"
    },
    "executionInfo": {
     "elapsed": 8,
     "status": "ok",
     "timestamp": 1694135924030,
     "user": {
      "displayName": "Carol Diaz",
      "userId": "03863088177087652040"
     },
     "user_tz": 180
    },
    "id": "UKAYdNxZyois",
    "outputId": "e770a375-9ffa-4b5a-8dfc-b3e5caae7f9a"
   },
   "outputs": [],
   "source": [
    "a"
   ]
  },
  {
   "cell_type": "code",
   "execution_count": null,
   "metadata": {
    "executionInfo": {
     "elapsed": 533,
     "status": "ok",
     "timestamp": 1694135926323,
     "user": {
      "displayName": "Carol Diaz",
      "userId": "03863088177087652040"
     },
     "user_tz": 180
    },
    "id": "nkIvCcaJyois"
   },
   "outputs": [],
   "source": [
    "# Ten en mente que si ejecutas esta celda más de una vez estarás ejecutando a = a + a\n",
    "a = a + a"
   ]
  },
  {
   "cell_type": "code",
   "execution_count": null,
   "metadata": {
    "colab": {
     "base_uri": "https://localhost:8080/"
    },
    "executionInfo": {
     "elapsed": 408,
     "status": "ok",
     "timestamp": 1694135928601,
     "user": {
      "displayName": "Carol Diaz",
      "userId": "03863088177087652040"
     },
     "user_tz": 180
    },
    "id": "7HnMXbURyois",
    "outputId": "09c65b08-2d57-4e43-8a73-71583ea3dc65"
   },
   "outputs": [],
   "source": [
    "a"
   ]
  },
  {
   "cell_type": "code",
   "execution_count": null,
   "metadata": {
    "executionInfo": {
     "elapsed": 9,
     "status": "ok",
     "timestamp": 1694135930389,
     "user": {
      "displayName": "Carol Diaz",
      "userId": "03863088177087652040"
     },
     "user_tz": 180
    },
    "id": "4Tr9ndIoyois"
   },
   "outputs": [],
   "source": [
    "a = a + a"
   ]
  },
  {
   "cell_type": "code",
   "execution_count": null,
   "metadata": {
    "colab": {
     "base_uri": "https://localhost:8080/"
    },
    "executionInfo": {
     "elapsed": 7,
     "status": "ok",
     "timestamp": 1694135931869,
     "user": {
      "displayName": "Carol Diaz",
      "userId": "03863088177087652040"
     },
     "user_tz": 180
    },
    "id": "kZSRUwclyois",
    "outputId": "afb0491f-0ec2-4a84-c445-82118a9e2202"
   },
   "outputs": [],
   "source": [
    "a"
   ]
  },
  {
   "cell_type": "markdown",
   "metadata": {
    "id": "mnmRssWTxfW-"
   },
   "source": [
    "## <font color='blue'>__Ejercicios__</font>"
   ]
  },
  {
   "cell_type": "markdown",
   "metadata": {
    "id": "Mf_eP1veyoiq"
   },
   "source": [
    "### <font color='green'>Actividad 1:</font>\n",
    "### Evalúa mentalmente\n",
    "Evalúa mentalmente las siguientes expresiones y luego descoméntalas y ejecúta la celda para ver si están correctas."
   ]
  },
  {
   "cell_type": "code",
   "execution_count": null,
   "metadata": {
    "colab": {
     "base_uri": "https://localhost:8080/"
    },
    "executionInfo": {
     "elapsed": 14,
     "status": "ok",
     "timestamp": 1694135934623,
     "user": {
      "displayName": "Carol Diaz",
      "userId": "03863088177087652040"
     },
     "user_tz": 180
    },
    "id": "Lj6uICpOyoiq",
    "outputId": "f47c6256-a53a-497f-e1d3-b65a2552789c"
   },
   "outputs": [],
   "source": [
    "10 + (16 - 8) / 2 - 8"
   ]
  },
  {
   "cell_type": "code",
   "execution_count": null,
   "metadata": {
    "colab": {
     "base_uri": "https://localhost:8080/"
    },
    "executionInfo": {
     "elapsed": 14,
     "status": "ok",
     "timestamp": 1694135936180,
     "user": {
      "displayName": "Carol Diaz",
      "userId": "03863088177087652040"
     },
     "user_tz": 180
    },
    "id": "J8O5wZLEyoiq",
    "outputId": "1fd577a7-ec32-44a5-c73a-d0074f283a11"
   },
   "outputs": [],
   "source": [
    "10 + 16 - 8 / 2 - 8"
   ]
  },
  {
   "cell_type": "markdown",
   "metadata": {
    "id": "H3s22PrIyoiq"
   },
   "source": [
    "<font color='green'>Fin actividad 1</font>"
   ]
  },
  {
   "cell_type": "markdown",
   "metadata": {
    "id": "YInk921tyois"
   },
   "source": [
    "### <font color='green'>Actividad 2:</font>\n",
    "### Tipado dinámico\n",
    "Crea una variable `string`, imprímela y luego reasígnala como `float` y vuelve a imprimirla.\n",
    "Investiga y evalúa las ventajas y desventajas de esta caractarística de Python."
   ]
  },
  {
   "cell_type": "code",
   "execution_count": null,
   "metadata": {
    "colab": {
     "base_uri": "https://localhost:8080/"
    },
    "executionInfo": {
     "elapsed": 441,
     "status": "ok",
     "timestamp": 1694135938737,
     "user": {
      "displayName": "Carol Diaz",
      "userId": "03863088177087652040"
     },
     "user_tz": 180
    },
    "id": "3uIG5WFtyois",
    "outputId": "fa99a55c-1900-4a3a-e0ac-a3531094d3ef"
   },
   "outputs": [],
   "source": [
    "var1 = '3.1416'\n",
    "print(type(var1), var1, '\\n')\n",
    "\n",
    "var2 = float(var1)\n",
    "print(type(var2), var2)\n",
    "\n",
    "# Ventaja: Interacción con Datos Externos: Muchas veces, los datos se almacenan en forma de strings en archivos o bases de datos externos.\n",
    "#          La conversión a flotante facilita la lectura y manipulación de estos datos para su posterior análisis.\n",
    "\n",
    "# Desventaja: Si la cadena no está en un formato válido para ser convertida a flotante, puede producir errores en tiempo de ejecución.\n"
   ]
  },
  {
   "cell_type": "markdown",
   "metadata": {
    "id": "FRvGZVaSyois"
   },
   "source": [
    "Acá puedes encontrar más información de este aspecto fundamental de Python:\n",
    "\n",
    "[Tipado dinámico y tipado fuerte](https://recursospython.com/guias-y-manuales/tipado-dinamico-y-tipado-fuerte/)"
   ]
  },
  {
   "cell_type": "markdown",
   "metadata": {
    "id": "69kG6Tumyoit"
   },
   "source": [
    "<font color='green'>Fin actividad 2</font>"
   ]
  },
  {
   "cell_type": "markdown",
   "metadata": {
    "id": "IqGJH9dByoit"
   },
   "source": [
    "Excelente chicos! Tiempo de ver otros tipos de datos básicos."
   ]
  }
 ],
 "metadata": {
  "colab": {
   "provenance": [
    {
     "file_id": "1Q-klWgVx1GidsBNHTjd_VKi7yYBePzd7",
     "timestamp": 1692232473459
    }
   ]
  },
  "kernelspec": {
   "display_name": "Python 3 (ipykernel)",
   "language": "python",
   "name": "python3"
  },
  "language_info": {
   "codemirror_mode": {
    "name": "ipython",
    "version": 3
   },
   "file_extension": ".py",
   "mimetype": "text/x-python",
   "name": "python",
   "nbconvert_exporter": "python",
   "pygments_lexer": "ipython3",
   "version": "3.8.11"
  }
 },
 "nbformat": 4,
 "nbformat_minor": 0
}
