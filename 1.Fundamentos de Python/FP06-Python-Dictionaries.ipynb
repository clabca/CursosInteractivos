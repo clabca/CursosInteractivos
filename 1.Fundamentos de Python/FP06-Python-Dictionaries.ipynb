{
 "cells": [
  {
   "cell_type": "markdown",
   "metadata": {
    "id": "ovdJmIT_2HW6"
   },
   "source": [
    "# **Introducción a Python**\n",
    "# FP06. Diccionarios en Python (Dictionaries)"
   ]
  },
  {
   "cell_type": "markdown",
   "metadata": {
    "id": "jsUkocZ22HW8"
   },
   "source": [
    "¡Hola, Hackers!\n",
    "\n",
    "Hasta ahora solo hemos visto cómo almacenar tipos de datos en secuencias tales como almacenar caracteres en una cadena (string) o elementos en una lista (list). Pero, ¿y si queremos almacenar información de otra manera? La mayoría de los lenguajes de programación tienen lo que se llama una *tabla hash*, que es una combinación de elementos clave-valor. Bajo el capó, este tipo de estructuras permite tiempos de búsqueda de objetos más rápidos cuando las estructuras tienen muchos elementos.\n",
    "\n",
    "Un diccionario en Python es una estructura de datos que permite almacenar y organizar pares de clave-valor. Es una colección __mutable__, __indexada__ y __no ordenada__ de elementos. En lugar de utilizar índices numéricos como en las listas, los diccionarios utilizan claves para acceder y almacenar valores asociados.\n",
    "\n",
    "Las características principales de los diccionarios en Python son:\n",
    "\n",
    "* Clave única: Cada clave en un diccionario es única y se utiliza para acceder al valor asociado.\n",
    "* Mutable: Los diccionarios pueden modificarse agregando, modificando o eliminando pares clave-valor.\n",
    "* No ordenado: A diferencia de las listas, los diccionarios no mantienen un orden específico de los elementos.\n",
    "* Colección de pares clave-valor: Cada elemento del diccionario está compuesto por una clave y su correspondiente valor.\n",
    "* Puede contener diferentes tipos de datos: Tanto las claves como los valores pueden ser de cualquier tipo de dato válido en Python, como enteros, cadenas, listas u otros diccionarios.\n",
    "\n",
    "¡Cubramos los conceptos básicos de los diccionarios!"
   ]
  },
  {
   "cell_type": "markdown",
   "metadata": {
    "id": "TnkwzsUD2HW8"
   },
   "source": [
    "## <font color='blue'>**Creando un  Diccionario (Dictionary)**</font>"
   ]
  },
  {
   "cell_type": "code",
   "execution_count": null,
   "metadata": {
    "executionInfo": {
     "elapsed": 369,
     "status": "ok",
     "timestamp": 1694137092283,
     "user": {
      "displayName": "Carol Diaz",
      "userId": "03863088177087652040"
     },
     "user_tz": 180
    },
    "id": "vrBvE8622HW9"
   },
   "outputs": [],
   "source": [
    "# Para crearlos se utilizan llaves\n",
    "\n",
    "d = {}"
   ]
  },
  {
   "cell_type": "code",
   "execution_count": null,
   "metadata": {
    "colab": {
     "base_uri": "https://localhost:8080/"
    },
    "executionInfo": {
     "elapsed": 22,
     "status": "ok",
     "timestamp": 1694136386272,
     "user": {
      "displayName": "Carol Diaz",
      "userId": "03863088177087652040"
     },
     "user_tz": 180
    },
    "id": "BAosWqkO2HW9",
    "outputId": "f35b8a0d-a887-478b-ecf4-0b96fcadb7ef"
   },
   "outputs": [],
   "source": [
    "# Verifiquemos con type()\n",
    "\n",
    "type(d)"
   ]
  },
  {
   "cell_type": "code",
   "execution_count": null,
   "metadata": {
    "executionInfo": {
     "elapsed": 6,
     "status": "ok",
     "timestamp": 1694136388346,
     "user": {
      "displayName": "Carol Diaz",
      "userId": "03863088177087652040"
     },
     "user_tz": 180
    },
    "id": "Cf8oDgGW2HW-"
   },
   "outputs": [],
   "source": [
    "# Construimos un diccionario con {} y utilizamos dos puntos \":\" para indicar una clave y un valor.\n",
    "\n",
    "d = {'clave1': 'valor1', 'clave2': 'valor2'}"
   ]
  },
  {
   "cell_type": "code",
   "execution_count": null,
   "metadata": {
    "colab": {
     "base_uri": "https://localhost:8080/"
    },
    "executionInfo": {
     "elapsed": 25,
     "status": "ok",
     "timestamp": 1694136389924,
     "user": {
      "displayName": "Carol Diaz",
      "userId": "03863088177087652040"
     },
     "user_tz": 180
    },
    "id": "qLu-tEwb2HW_",
    "outputId": "18a92249-7b08-43ec-dcd5-7f867629bcfe"
   },
   "outputs": [],
   "source": [
    "# Veamos\n",
    "d"
   ]
  },
  {
   "cell_type": "code",
   "execution_count": null,
   "metadata": {
    "colab": {
     "base_uri": "https://localhost:8080/",
     "height": 36
    },
    "executionInfo": {
     "elapsed": 438,
     "status": "ok",
     "timestamp": 1694136391392,
     "user": {
      "displayName": "Carol Diaz",
      "userId": "03863088177087652040"
     },
     "user_tz": 180
    },
    "id": "RaKje8pV2HW_",
    "outputId": "1bc21e64-0225-4780-d5f3-f81b08086cde"
   },
   "outputs": [],
   "source": [
    "# Podemos extraer valores a través de su llave\n",
    "\n",
    "d['clave1']"
   ]
  },
  {
   "cell_type": "code",
   "execution_count": null,
   "metadata": {
    "colab": {
     "base_uri": "https://localhost:8080/",
     "height": 36
    },
    "executionInfo": {
     "elapsed": 18,
     "status": "ok",
     "timestamp": 1694136392882,
     "user": {
      "displayName": "Carol Diaz",
      "userId": "03863088177087652040"
     },
     "user_tz": 180
    },
    "id": "_Ee9ZEbb2HXA",
    "outputId": "05bbfed6-c7f9-4e55-e6ed-7f0afe413ebd"
   },
   "outputs": [],
   "source": [
    "# Fíjate en la sintaxis y en el uso de las comillas simples y dobles\n",
    "\n",
    "f\"{d['clave1']}\""
   ]
  },
  {
   "cell_type": "code",
   "execution_count": null,
   "metadata": {
    "colab": {
     "base_uri": "https://localhost:8080/",
     "height": 36
    },
    "executionInfo": {
     "elapsed": 16,
     "status": "ok",
     "timestamp": 1694136395384,
     "user": {
      "displayName": "Carol Diaz",
      "userId": "03863088177087652040"
     },
     "user_tz": 180
    },
    "id": "2fwRqviB2HW_",
    "outputId": "e70d4f5c-3afd-4b3d-f993-9bab5f6fbe3c"
   },
   "outputs": [],
   "source": [
    "d['clave2']"
   ]
  },
  {
   "cell_type": "code",
   "execution_count": null,
   "metadata": {
    "executionInfo": {
     "elapsed": 398,
     "status": "ok",
     "timestamp": 1694137096942,
     "user": {
      "displayName": "Carol Diaz",
      "userId": "03863088177087652040"
     },
     "user_tz": 180
    },
    "id": "6CebphMB2HW_"
   },
   "outputs": [],
   "source": [
    "# Otro diccionario, como los de la vida real !!\n",
    "# Fíjate como vamos usando el espacio y escribimos los pares de llave-valor hacia abajo.\n",
    "# Esto es opcional pero es muy elegante y legible.\n",
    "\n",
    "animals = {'elefante': 'loxodonta africana',\n",
    "           'lobo': 'canis lupus',\n",
    "           'tigre': 'panthera tigris',\n",
    "           'ratón': 'mus musculus'\n",
    "          }"
   ]
  },
  {
   "cell_type": "markdown",
   "metadata": {
    "id": "_BARWuO42HXB"
   },
   "source": [
    "## <font color='blue'>__Añadiendo nuevos pares de *Key-Value*__</font>"
   ]
  },
  {
   "cell_type": "code",
   "execution_count": null,
   "metadata": {
    "executionInfo": {
     "elapsed": 370,
     "status": "ok",
     "timestamp": 1694137108211,
     "user": {
      "displayName": "Carol Diaz",
      "userId": "03863088177087652040"
     },
     "user_tz": 180
    },
    "id": "R1gYcC3R2HXB"
   },
   "outputs": [],
   "source": [
    "d['new_key'] = 'new item'"
   ]
  },
  {
   "cell_type": "code",
   "execution_count": null,
   "metadata": {
    "colab": {
     "base_uri": "https://localhost:8080/"
    },
    "executionInfo": {
     "elapsed": 13,
     "status": "ok",
     "timestamp": 1694136403227,
     "user": {
      "displayName": "Carol Diaz",
      "userId": "03863088177087652040"
     },
     "user_tz": 180
    },
    "id": "PVqWKjhI2HXB",
    "outputId": "e9f41e6d-afb2-43be-ec02-239a99f91d85"
   },
   "outputs": [],
   "source": [
    "d"
   ]
  },
  {
   "cell_type": "markdown",
   "metadata": {
    "id": "FrHTyV_g2HXC"
   },
   "source": [
    "<div class=\"alert alert-block alert-warning\">\n",
    "<b>TIP:</b> Los diccionarios no son estructuras ordenadas por defecto. Preservan el orden en el cual se ingresaron los elementos (a partir de la versión 3.7 de Python), pero no tienen un orden lógico cómo podríamos esperar (e.g.; por abecedario, menor a mayor, etc.). Esto puede no estar claro al principio con diccionarios más pequeños, pero a medida que los diccionarios se hacen más grandes, no mantendrán el orden, lo que significa que no podemos asumir que estarán ordenados de forma lógica.\n",
    "</div>"
   ]
  },
  {
   "cell_type": "code",
   "execution_count": null,
   "metadata": {
    "colab": {
     "base_uri": "https://localhost:8080/",
     "height": 36
    },
    "executionInfo": {
     "elapsed": 488,
     "status": "ok",
     "timestamp": 1694136405161,
     "user": {
      "displayName": "Carol Diaz",
      "userId": "03863088177087652040"
     },
     "user_tz": 180
    },
    "id": "VA1XGMVw2HXC",
    "outputId": "7a16a574-65aa-4390-fca3-8776b51a1395"
   },
   "outputs": [],
   "source": [
    "f\"{animals}\""
   ]
  },
  {
   "cell_type": "code",
   "execution_count": null,
   "metadata": {
    "colab": {
     "base_uri": "https://localhost:8080/"
    },
    "executionInfo": {
     "elapsed": 15,
     "status": "ok",
     "timestamp": 1694136406464,
     "user": {
      "displayName": "Carol Diaz",
      "userId": "03863088177087652040"
     },
     "user_tz": 180
    },
    "id": "VFxUaXA42HXC",
    "outputId": "1022e8f1-eb09-4b2f-dee3-d202e002b7f0",
    "scrolled": true,
    "tags": []
   },
   "outputs": [],
   "source": [
    "# Dale un vistazo a los métodos propios de los diccionarios\n",
    "\n",
    "help(animals)"
   ]
  },
  {
   "cell_type": "markdown",
   "metadata": {
    "id": "NHXakrBp2HXD"
   },
   "source": [
    "## <font color='blue'>**Estructuras anidadas dentro de los diccionarios**</font>\n",
    "\n",
    "Los diccionarios son muy flexibles en los tipos de datos que pueden contener. Ellos pueden contener números, strings, listas e, incluso, diccionarios, entre otros."
   ]
  },
  {
   "cell_type": "code",
   "execution_count": null,
   "metadata": {
    "executionInfo": {
     "elapsed": 330,
     "status": "ok",
     "timestamp": 1694136412944,
     "user": {
      "displayName": "Carol Diaz",
      "userId": "03863088177087652040"
     },
     "user_tz": 180
    },
    "id": "nyiVZKUz2HXD"
   },
   "outputs": [],
   "source": [
    "d = {'k1': 10, 'k2': 'string', 'k3': [1, 2, 3], 'k4': {'inside_key': 100}}"
   ]
  },
  {
   "cell_type": "code",
   "execution_count": null,
   "metadata": {
    "colab": {
     "base_uri": "https://localhost:8080/"
    },
    "executionInfo": {
     "elapsed": 478,
     "status": "ok",
     "timestamp": 1694136415796,
     "user": {
      "displayName": "Carol Diaz",
      "userId": "03863088177087652040"
     },
     "user_tz": 180
    },
    "id": "99pnfGDA2HXD",
    "outputId": "0812192e-b42b-4c21-c176-0d02e2ced777"
   },
   "outputs": [],
   "source": [
    "d"
   ]
  },
  {
   "cell_type": "code",
   "execution_count": null,
   "metadata": {
    "colab": {
     "base_uri": "https://localhost:8080/"
    },
    "executionInfo": {
     "elapsed": 10,
     "status": "ok",
     "timestamp": 1694136416791,
     "user": {
      "displayName": "Carol Diaz",
      "userId": "03863088177087652040"
     },
     "user_tz": 180
    },
    "id": "6gboe00J2HXD",
    "outputId": "bfd845a6-1d48-47ff-f7f8-e4efe72ca010"
   },
   "outputs": [],
   "source": [
    "d['k1']"
   ]
  },
  {
   "cell_type": "code",
   "execution_count": null,
   "metadata": {
    "colab": {
     "base_uri": "https://localhost:8080/",
     "height": 36
    },
    "executionInfo": {
     "elapsed": 527,
     "status": "ok",
     "timestamp": 1694136418765,
     "user": {
      "displayName": "Carol Diaz",
      "userId": "03863088177087652040"
     },
     "user_tz": 180
    },
    "id": "sSOj0g7T2HXD",
    "outputId": "0e5d175c-dbad-4a50-8356-9c52c6b37374"
   },
   "outputs": [],
   "source": [
    "d['k2']"
   ]
  },
  {
   "cell_type": "code",
   "execution_count": null,
   "metadata": {
    "colab": {
     "base_uri": "https://localhost:8080/"
    },
    "executionInfo": {
     "elapsed": 439,
     "status": "ok",
     "timestamp": 1694136421163,
     "user": {
      "displayName": "Carol Diaz",
      "userId": "03863088177087652040"
     },
     "user_tz": 180
    },
    "id": "3Yb8BaMP2HXE",
    "outputId": "adbaf6bd-1b87-480e-998b-8f551af55e9c"
   },
   "outputs": [],
   "source": [
    "d['k3']"
   ]
  },
  {
   "cell_type": "code",
   "execution_count": null,
   "metadata": {
    "colab": {
     "base_uri": "https://localhost:8080/"
    },
    "executionInfo": {
     "elapsed": 11,
     "status": "ok",
     "timestamp": 1694136422600,
     "user": {
      "displayName": "Carol Diaz",
      "userId": "03863088177087652040"
     },
     "user_tz": 180
    },
    "id": "BJBuDKwt2HXE",
    "outputId": "cc152f3b-074b-4dc8-8015-24ce98fa878f"
   },
   "outputs": [],
   "source": [
    "d['k3'][0]"
   ]
  },
  {
   "cell_type": "code",
   "execution_count": null,
   "metadata": {
    "colab": {
     "base_uri": "https://localhost:8080/"
    },
    "executionInfo": {
     "elapsed": 11,
     "status": "ok",
     "timestamp": 1694136424322,
     "user": {
      "displayName": "Carol Diaz",
      "userId": "03863088177087652040"
     },
     "user_tz": 180
    },
    "id": "Vg9E8V-y2HXE",
    "outputId": "799f2c33-29be-44c3-8c4e-35fd64925c4d"
   },
   "outputs": [],
   "source": [
    "d['k4']"
   ]
  },
  {
   "cell_type": "code",
   "execution_count": null,
   "metadata": {
    "colab": {
     "base_uri": "https://localhost:8080/"
    },
    "executionInfo": {
     "elapsed": 11,
     "status": "ok",
     "timestamp": 1694136426678,
     "user": {
      "displayName": "Carol Diaz",
      "userId": "03863088177087652040"
     },
     "user_tz": 180
    },
    "id": "h9loaccc2HXE",
    "outputId": "8256ef11-11b1-45fb-96e0-7b20f49dedac"
   },
   "outputs": [],
   "source": [
    "# Fíjate cómo obtenemos el valor de la llave del último elemento del diccionario d\n",
    "\n",
    "d['k4']['inside_key']"
   ]
  },
  {
   "cell_type": "markdown",
   "metadata": {
    "id": "IRMjmc8s2HXF"
   },
   "source": [
    "Si buscas una llave inexistente, te dará un error\n",
    "\n"
   ]
  },
  {
   "cell_type": "code",
   "execution_count": null,
   "metadata": {
    "colab": {
     "base_uri": "https://localhost:8080/",
     "height": 200
    },
    "executionInfo": {
     "elapsed": 472,
     "status": "error",
     "timestamp": 1694136428908,
     "user": {
      "displayName": "Carol Diaz",
      "userId": "03863088177087652040"
     },
     "user_tz": 180
    },
    "id": "OqHrazbU2HXF",
    "outputId": "7addfc7c-0075-4a42-a978-1854dfe96245"
   },
   "outputs": [],
   "source": [
    "# Esta celda arrojará un error\n",
    "d['oops']"
   ]
  },
  {
   "cell_type": "markdown",
   "metadata": {
    "id": "E6Ab4kcP2HXH"
   },
   "source": [
    "## <font color='blue'>**Métodos de diccionarios**</font>"
   ]
  },
  {
   "cell_type": "markdown",
   "metadata": {
    "id": "dH5iyxSN2HXG"
   },
   "source": [
    "Utiliza los diccionarios para cuando necesites estructuras veloces pero no necesariamente ordenadas.\n",
    "\n",
    "Por ejemplo, la siguiente información es perfecta para almacenarla en un diccionario:\n",
    "\n",
    "[Nombres claves de familiares de presidentes](https://en.wikipedia.org/wiki/Secret_Service_code_name)"
   ]
  },
  {
   "cell_type": "code",
   "execution_count": null,
   "metadata": {
    "executionInfo": {
     "elapsed": 326,
     "status": "ok",
     "timestamp": 1694137115115,
     "user": {
      "displayName": "Carol Diaz",
      "userId": "03863088177087652040"
     },
     "user_tz": 180
    },
    "id": "uLPeAEru2HXG"
   },
   "outputs": [],
   "source": [
    "code_names = {\"Trump\":'Mogul',\n",
    "              \"Obama\":'Renegade',\n",
    "              \"Bush\":'Trailblazer',\n",
    "              \"Reagan\":\"Rawhide\",\n",
    "              \"Ford\":\"Passkey\"\n",
    "             }"
   ]
  },
  {
   "cell_type": "code",
   "execution_count": null,
   "metadata": {
    "colab": {
     "base_uri": "https://localhost:8080/",
     "height": 36
    },
    "executionInfo": {
     "elapsed": 420,
     "status": "ok",
     "timestamp": 1694136433585,
     "user": {
      "displayName": "Carol Diaz",
      "userId": "03863088177087652040"
     },
     "user_tz": 180
    },
    "id": "KDY8GFBk2HXG",
    "outputId": "33928ef8-d6f7-4ec9-c758-7341f8764509"
   },
   "outputs": [],
   "source": [
    "code_names[\"Ford\"]"
   ]
  },
  {
   "cell_type": "markdown",
   "metadata": {
    "id": "FAHj6Ky32HXH"
   },
   "source": [
    "Otro ejemplo:\n",
    "\n",
    "[Lista de países y su población](https://en.wikipedia.org/wiki/List_of_countries_by_population_(United_Nations)"
   ]
  },
  {
   "cell_type": "code",
   "execution_count": null,
   "metadata": {
    "executionInfo": {
     "elapsed": 15,
     "status": "ok",
     "timestamp": 1694136434921,
     "user": {
      "displayName": "Carol Diaz",
      "userId": "03863088177087652040"
     },
     "user_tz": 180
    },
    "id": "hrE7PIZG2HXH"
   },
   "outputs": [],
   "source": [
    "pop_in_mil = {\"Chile\":18,\n",
    "              \"USA\":323,\n",
    "              \"Germany\": 83,\n",
    "              \"India\": 1324\n",
    "             }"
   ]
  },
  {
   "cell_type": "code",
   "execution_count": null,
   "metadata": {
    "colab": {
     "base_uri": "https://localhost:8080/"
    },
    "executionInfo": {
     "elapsed": 12,
     "status": "ok",
     "timestamp": 1694136436777,
     "user": {
      "displayName": "Carol Diaz",
      "userId": "03863088177087652040"
     },
     "user_tz": 180
    },
    "id": "ijvduQbb2HXH",
    "outputId": "c7fc5bc8-4214-4a1a-d5d9-a8690baed34b"
   },
   "outputs": [],
   "source": [
    "pop_in_mil[\"Chile\"]"
   ]
  },
  {
   "cell_type": "code",
   "execution_count": null,
   "metadata": {
    "colab": {
     "base_uri": "https://localhost:8080/"
    },
    "executionInfo": {
     "elapsed": 13,
     "status": "ok",
     "timestamp": 1694136438612,
     "user": {
      "displayName": "Carol Diaz",
      "userId": "03863088177087652040"
     },
     "user_tz": 180
    },
    "id": "8Nb8I6zv2HXI",
    "outputId": "30dd248a-c30b-4ff4-f756-71fdf401641f"
   },
   "outputs": [],
   "source": [
    "# Llaves\n",
    "code_names.keys()"
   ]
  },
  {
   "cell_type": "code",
   "execution_count": null,
   "metadata": {
    "colab": {
     "base_uri": "https://localhost:8080/"
    },
    "executionInfo": {
     "elapsed": 11,
     "status": "ok",
     "timestamp": 1694136439891,
     "user": {
      "displayName": "Carol Diaz",
      "userId": "03863088177087652040"
     },
     "user_tz": 180
    },
    "id": "LaWmQCFW2HXI",
    "outputId": "34cd93b3-4b70-4e62-8ff6-68ebc85bc266"
   },
   "outputs": [],
   "source": [
    "# Valores\n",
    "code_names.values()"
   ]
  },
  {
   "cell_type": "code",
   "execution_count": null,
   "metadata": {
    "colab": {
     "base_uri": "https://localhost:8080/"
    },
    "executionInfo": {
     "elapsed": 358,
     "status": "ok",
     "timestamp": 1694136442150,
     "user": {
      "displayName": "Carol Diaz",
      "userId": "03863088177087652040"
     },
     "user_tz": 180
    },
    "id": "F3ZaBv4H2HXI",
    "outputId": "65db6efe-5a7f-4936-cc6b-0cbdf06ef15f"
   },
   "outputs": [],
   "source": [
    "# Pares de llaves y valores\n",
    "code_names.items()"
   ]
  },
  {
   "cell_type": "markdown",
   "metadata": {
    "id": "UK1dCIAI9lk_"
   },
   "source": [
    "## <font color='blue'>__Ejercicios__</font>"
   ]
  },
  {
   "cell_type": "markdown",
   "metadata": {
    "id": "B8oKNxfG2HXA"
   },
   "source": [
    "### <font color='green'>Actividad 1:</font>\n",
    "### Imprime el contenido de la llave  *'lobo'* desde el diccionario _'animals'_.\n",
    "Tip:\n",
    "1. Obtén el valor de \"lobo\" usando el indexador \\['lobo' \\]\n",
    "2. Utiliza las funciones de impresión print() y f-Strign para imprimir el la frase\n",
    "\n",
    "```python\n",
    "\"El nombre científico del lobo es ...\"\n",
    "```"
   ]
  },
  {
   "cell_type": "code",
   "execution_count": null,
   "metadata": {
    "colab": {
     "base_uri": "https://localhost:8080/"
    },
    "executionInfo": {
     "elapsed": 434,
     "status": "ok",
     "timestamp": 1694136454888,
     "user": {
      "displayName": "Carol Diaz",
      "userId": "03863088177087652040"
     },
     "user_tz": 180
    },
    "id": "izMLcEDj2HXA",
    "outputId": "df4333db-595a-44ba-f26a-c701c4f790b0"
   },
   "outputs": [],
   "source": [
    "print('El nombre científico del lobo es', animals['lobo'])\n"
   ]
  },
  {
   "cell_type": "markdown",
   "metadata": {
    "id": "raxkCmT52HXB"
   },
   "source": [
    "<font color='green'>Fin actividad 1</font>"
   ]
  },
  {
   "cell_type": "markdown",
   "metadata": {
    "id": "uRaeCN4k2HXB"
   },
   "source": [
    "### <font color='green'>Actividad 2:</font>\n",
    "### Añade dos pares de animales-nombre científico al diccionario *'animals'*"
   ]
  },
  {
   "cell_type": "code",
   "execution_count": null,
   "metadata": {
    "colab": {
     "base_uri": "https://localhost:8080/"
    },
    "executionInfo": {
     "elapsed": 373,
     "status": "ok",
     "timestamp": 1694137120596,
     "user": {
      "displayName": "Carol Diaz",
      "userId": "03863088177087652040"
     },
     "user_tz": 180
    },
    "id": "zWlxLSj92HXC",
    "outputId": "5ad75e31-582a-47d1-eff0-f021f456b0ab"
   },
   "outputs": [],
   "source": [
    "animals.update({'gato' : 'Felis catus', 'perro' : 'Canis lupus'})\n",
    "animals"
   ]
  },
  {
   "cell_type": "markdown",
   "metadata": {
    "id": "l_vFvH8m2HXC"
   },
   "source": [
    "<font color='green'>Fin actividad 2</font>"
   ]
  },
  {
   "cell_type": "markdown",
   "metadata": {
    "id": "1xJ0Axmr2HXE"
   },
   "source": [
    "### <font color='green'>Actividad 3:</font>\n",
    "### Crea un diccionario llamado *'serpientes'* como el mostrado a continuación. Investiga otras formas idiomáticas para crearlo:\n",
    "```pyhton\n",
    "serpientes = {'víbora': 'vipera latastei', 'anaconda': 'eunectes marinus'}\n",
    "```"
   ]
  },
  {
   "cell_type": "code",
   "execution_count": null,
   "metadata": {
    "colab": {
     "base_uri": "https://localhost:8080/"
    },
    "executionInfo": {
     "elapsed": 351,
     "status": "ok",
     "timestamp": 1694137127112,
     "user": {
      "displayName": "Carol Diaz",
      "userId": "03863088177087652040"
     },
     "user_tz": 180
    },
    "id": "OgaWH-ni2HXE",
    "outputId": "142d92a2-a532-4c61-e205-46ac8f36eb0b"
   },
   "outputs": [],
   "source": [
    "# Crear un diccionario a partir de listas de pares clave-valor\n",
    "claves = [\"vibora\", \"anaconda\", \"cobra real\", \"anaconda verde\", \"pitones\"]\n",
    "valores = [\"vipera latastei\", \"eunectes marinus\", \"Ophiophagus hannah\", \"Eunectes murinus\", \"Pythonidae\"]\n",
    "Serpientes = dict(zip(claves, valores))\n",
    "\n",
    "print(type(Serpientes))\n",
    "print(f'serpientes =', Serpientes)\n",
    "\n",
    "#'''\n",
    "#Serpientes = {'víbora': 'vipera latastei',\n",
    "#              'anaconda': 'eunectes marinus',\n",
    "#              'Cobra Real': 'Ophiophagus hannah',\n",
    "#              'Anaconda verde': 'Eunectes murinus',\n",
    "#              'Pitones': 'Pythonidae'\n",
    "#              }\n",
    "#Serpientes\n",
    "#'''"
   ]
  },
  {
   "cell_type": "markdown",
   "metadata": {
    "id": "S_rZrXWj2HXF"
   },
   "source": [
    "<font color='green'>Fin actividad 3</font>"
   ]
  },
  {
   "cell_type": "markdown",
   "metadata": {
    "id": "iXdIv2BR2HXF"
   },
   "source": [
    "### <font color='green'>Actividad 4:</font>\n",
    "### Inserta el diccionario *'serpientes'* en el diccionario *'animals'*"
   ]
  },
  {
   "cell_type": "code",
   "execution_count": null,
   "metadata": {
    "colab": {
     "base_uri": "https://localhost:8080/"
    },
    "executionInfo": {
     "elapsed": 356,
     "status": "ok",
     "timestamp": 1694137130541,
     "user": {
      "displayName": "Carol Diaz",
      "userId": "03863088177087652040"
     },
     "user_tz": 180
    },
    "id": "u5NG17tT2HXF",
    "outputId": "54b5667c-d05c-40f2-b9ea-f7dc8688e840"
   },
   "outputs": [],
   "source": [
    "animals['Serpientes'] = Serpientes\n",
    "\n",
    "animals"
   ]
  },
  {
   "cell_type": "markdown",
   "metadata": {
    "id": "-Y7bc5562HXF"
   },
   "source": [
    "<font color='green'>Fin actividad 4</font>"
   ]
  },
  {
   "cell_type": "markdown",
   "metadata": {
    "id": "wQWgCnYj2HXG"
   },
   "source": [
    "### <font color='green'>Actividad 5:</font>\n",
    "### Busca una llave inexistente en el diccionario *'animals'*"
   ]
  },
  {
   "cell_type": "code",
   "execution_count": null,
   "metadata": {
    "colab": {
     "base_uri": "https://localhost:8080/",
     "height": 219
    },
    "executionInfo": {
     "elapsed": 379,
     "status": "error",
     "timestamp": 1694137205072,
     "user": {
      "displayName": "Carol Diaz",
      "userId": "03863088177087652040"
     },
     "user_tz": 180
    },
    "id": "WHQVbQm92HXG",
    "outputId": "17c9e2f4-9ae6-4187-e95a-008e386738c6"
   },
   "outputs": [],
   "source": [
    "#valor = animals.get('leon', 'Panthera leo')\n",
    "#valor\n",
    "\n",
    "animals['leon']"
   ]
  },
  {
   "cell_type": "markdown",
   "metadata": {
    "id": "8wGWFrXL2HXG",
    "tags": []
   },
   "source": [
    "<font color='green'>Fin actividad 5</font>"
   ]
  },
  {
   "cell_type": "markdown",
   "metadata": {
    "id": "d1C9MYy62HXI"
   },
   "source": [
    "### <font color='green'>Actividad 6:</font>\n",
    "### Aplica los métodos vistos al diccionario *'animals'*\n"
   ]
  },
  {
   "cell_type": "code",
   "execution_count": null,
   "metadata": {
    "colab": {
     "base_uri": "https://localhost:8080/"
    },
    "executionInfo": {
     "elapsed": 13,
     "status": "ok",
     "timestamp": 1694137213138,
     "user": {
      "displayName": "Carol Diaz",
      "userId": "03863088177087652040"
     },
     "user_tz": 180
    },
    "id": "r0Zi_96Y2HXI",
    "outputId": "e2eff004-2f35-49aa-d5f9-018fd484a5d8"
   },
   "outputs": [],
   "source": [
    "print(animals.keys(), '\\n')\n",
    "\n",
    "print(*animals.keys(), sep='\\n')"
   ]
  },
  {
   "cell_type": "code",
   "execution_count": null,
   "metadata": {
    "colab": {
     "base_uri": "https://localhost:8080/"
    },
    "executionInfo": {
     "elapsed": 355,
     "status": "ok",
     "timestamp": 1694137238137,
     "user": {
      "displayName": "Carol Diaz",
      "userId": "03863088177087652040"
     },
     "user_tz": 180
    },
    "id": "UqLOo7Fwkte2",
    "outputId": "cc1eaca6-d3c9-45a0-9872-b4c68f3c0b9c"
   },
   "outputs": [],
   "source": [
    "print(animals.values(), '\\n')\n",
    "\n",
    "print(*animals.values(), sep='\\n')"
   ]
  },
  {
   "cell_type": "code",
   "execution_count": null,
   "metadata": {
    "colab": {
     "base_uri": "https://localhost:8080/"
    },
    "executionInfo": {
     "elapsed": 369,
     "status": "ok",
     "timestamp": 1694137242670,
     "user": {
      "displayName": "Carol Diaz",
      "userId": "03863088177087652040"
     },
     "user_tz": 180
    },
    "id": "xVVrxQXDkuDS",
    "outputId": "11965dac-eedb-49e7-f493-42c39d3f15be"
   },
   "outputs": [],
   "source": [
    "print(animals.items(), '\\n')\n",
    "\n",
    "print(*animals.items(), sep='\\n')"
   ]
  },
  {
   "cell_type": "markdown",
   "metadata": {
    "id": "nEr14vBN2HXJ"
   },
   "source": [
    "<font color='green'>Fin actividad 6</font>"
   ]
  },
  {
   "cell_type": "markdown",
   "metadata": {
    "id": "1qDbzzYk2HXJ"
   },
   "source": [
    "Gran trabajo Hackers, recuerden que los diccionarios (y las listas) son una de las estructuras de datos más útiles en cualquier lenguaje de programación y también en Python."
   ]
  }
 ],
 "metadata": {
  "colab": {
   "provenance": [
    {
     "file_id": "13wqgTfNqENOPGHt0QqTnoWkjTiks9lzH",
     "timestamp": 1692232794688
    }
   ]
  },
  "kernelspec": {
   "display_name": "Python 3 (ipykernel)",
   "language": "python",
   "name": "python3"
  },
  "language_info": {
   "codemirror_mode": {
    "name": "ipython",
    "version": 3
   },
   "file_extension": ".py",
   "mimetype": "text/x-python",
   "name": "python",
   "nbconvert_exporter": "python",
   "pygments_lexer": "ipython3",
   "version": "3.8.11"
  }
 },
 "nbformat": 4,
 "nbformat_minor": 0
}
