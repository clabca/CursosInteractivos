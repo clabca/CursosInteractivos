{
 "cells": [
  {
   "cell_type": "markdown",
   "metadata": {
    "id": "wokqh2w_dTI5"
   },
   "source": [
    "# **Introducción a Python**\n",
    "# FP12. Control de flujo (Contro Flow)"
   ]
  },
  {
   "cell_type": "markdown",
   "metadata": {
    "id": "QkGx3Xx_dTI9"
   },
   "source": [
    "\n",
    "##<font color='blue'>**`if` , `elif` , y `else` statements**</font>\n",
    "\n",
    "A veces necesitamos tomar decisiones en nuestro código. Necesitamos realizar algunas acciones u otras distintas dependiendo de si se cumplen o no ciertas condiciones. Para ello usamos las declaraciones `if`, `elif` y `else` para controlar estos casos.\n",
    "\n",
    "Veamos cómo funcionan !!!"
   ]
  },
  {
   "cell_type": "markdown",
   "metadata": {
    "id": "Mo4CpFr5dTI9"
   },
   "source": [
    "## <font color='blue'>**La instrucción `if`**</font>\n",
    "La forma más simple de la sentencia `if` es la siguiente:\n",
    "```Python\n",
    "    if some_condition:\n",
    "        # Do Something\n",
    "```"
   ]
  },
  {
   "cell_type": "code",
   "execution_count": null,
   "metadata": {
    "colab": {
     "base_uri": "https://localhost:8080/"
    },
    "executionInfo": {
     "elapsed": 19,
     "status": "ok",
     "timestamp": 1694173083402,
     "user": {
      "displayName": "Carol Diaz",
      "userId": "03863088177087652040"
     },
     "user_tz": 180
    },
    "id": "WKPaJ8KodTI-",
    "outputId": "dee0a3eb-ccb5-435e-ef70-d6bc3390fedb"
   },
   "outputs": [],
   "source": [
    "if 1 < 2:\n",
    "    print('Uno es menor que dos')"
   ]
  },
  {
   "cell_type": "markdown",
   "metadata": {
    "id": "wQrmemVrdTI_"
   },
   "source": [
    "**Pyhtonista:** El operador lógico siempre lleva un espacio antes y después."
   ]
  },
  {
   "cell_type": "code",
   "execution_count": null,
   "metadata": {
    "executionInfo": {
     "elapsed": 12,
     "status": "ok",
     "timestamp": 1694173086542,
     "user": {
      "displayName": "Carol Diaz",
      "userId": "03863088177087652040"
     },
     "user_tz": 180
    },
    "id": "YUlpiXzqdTI_"
   },
   "outputs": [],
   "source": [
    "if 1 > 2:\n",
    "    print(\"Uno es más grande que dos?\")"
   ]
  },
  {
   "cell_type": "markdown",
   "metadata": {
    "id": "xkT_LshWdTJA"
   },
   "source": [
    "Observa lo que sucede, el bloque de código sangrado solo se ejecuta cuando la condición `if` es verdadera (`True`)."
   ]
  },
  {
   "cell_type": "code",
   "execution_count": null,
   "metadata": {
    "colab": {
     "base_uri": "https://localhost:8080/"
    },
    "executionInfo": {
     "elapsed": 457,
     "status": "ok",
     "timestamp": 1694173089886,
     "user": {
      "displayName": "Carol Diaz",
      "userId": "03863088177087652040"
     },
     "user_tz": 180
    },
    "id": "iS3XZnoVdTJA",
    "outputId": "cb421c4e-cee2-4838-aab5-73f82710b452"
   },
   "outputs": [],
   "source": [
    "# Podemos usar una variable booleana\n",
    "\n",
    "if True:\n",
    "    print(\"La sentencia 'if' se evaluó afirmativamente\")"
   ]
  },
  {
   "cell_type": "markdown",
   "metadata": {
    "id": "yNDVTw-QdTJB"
   },
   "source": [
    "**ATENCION con la indentación**.\n",
    "\n",
    "\n",
    "La **indentación** (sangría del código) le permite a Python saber cuáles líneas de código pertenecen a un mismo bloque. Unas celdas más abajo veremos reglas detalladas de cómo hacerlo."
   ]
  },
  {
   "cell_type": "markdown",
   "metadata": {
    "id": "08frzTUvdTJB"
   },
   "source": [
    "## <font color='blue'>**La instrucción `if` `else`**</font>\n",
    "Ahora agreguemos una acción alternativa en caso de que `if` no sea `True` usando la instrucción `else`.\n",
    "\n",
    "Observa el formato y cómo se alinean los bloques de código con **indentación**, ¡esto es crucial en Python!"
   ]
  },
  {
   "cell_type": "code",
   "execution_count": null,
   "metadata": {
    "colab": {
     "base_uri": "https://localhost:8080/"
    },
    "executionInfo": {
     "elapsed": 294,
     "status": "ok",
     "timestamp": 1694173092283,
     "user": {
      "displayName": "Carol Diaz",
      "userId": "03863088177087652040"
     },
     "user_tz": 180
    },
    "id": "xiHdmOsRdTJC",
    "outputId": "a2ffa2b7-e1b4-466c-9d56-acf0b1a77dec"
   },
   "outputs": [],
   "source": [
    "if 1 == 1:\n",
    "    print(\"Uno es igual a uno, obvio !!\")\n",
    "else:\n",
    "    print(\"La comparación no es correcta\")"
   ]
  },
  {
   "cell_type": "code",
   "execution_count": null,
   "metadata": {
    "colab": {
     "base_uri": "https://localhost:8080/"
    },
    "executionInfo": {
     "elapsed": 406,
     "status": "ok",
     "timestamp": 1694173095373,
     "user": {
      "displayName": "Carol Diaz",
      "userId": "03863088177087652040"
     },
     "user_tz": 180
    },
    "id": "gmUQOlgUdTJC",
    "outputId": "fba07dcf-5bd6-4465-c2bb-b3952bc33ef3"
   },
   "outputs": [],
   "source": [
    "if 1 == 2:\n",
    "    print(\"Uno es igual a uno, obvio !!\")\n",
    "else:\n",
    "    print(\"La comparación no es Verdadera (True)\")"
   ]
  },
  {
   "cell_type": "markdown",
   "metadata": {
    "id": "2AdoSuqudTJC"
   },
   "source": [
    "## <font color='blue'>**La instrucción `if`, `elif`, `else`**</font>\n",
    "\n",
    "Ahora imaginemos que tenemos varias condiciones para verificar antes de la declaración `else` final, aquí es donde podemos usar la palabra clave `elif` para verificar tantas condiciones individuales como sea necesario:"
   ]
  },
  {
   "cell_type": "code",
   "execution_count": null,
   "metadata": {
    "colab": {
     "base_uri": "https://localhost:8080/"
    },
    "executionInfo": {
     "elapsed": 314,
     "status": "ok",
     "timestamp": 1694173098246,
     "user": {
      "displayName": "Carol Diaz",
      "userId": "03863088177087652040"
     },
     "user_tz": 180
    },
    "id": "mPnGX3cCdTJD",
    "outputId": "53c6249f-e8e2-4108-b70a-e6468e64006e"
   },
   "outputs": [],
   "source": [
    "if 2 == 0:\n",
    "    print('La primera comparación es Verdadera (True)')\n",
    "elif 2 == 1:\n",
    "    print(\"La segunda comparación es Verdadera (True)\")\n",
    "elif 2 == 2:\n",
    "    print(\"La tercera comparación es Verdadera (True)\")\n",
    "else:\n",
    "    print(\"Ninguna de las comparaciones anteriores es Verdadera (True)\")"
   ]
  },
  {
   "cell_type": "code",
   "execution_count": null,
   "metadata": {
    "colab": {
     "base_uri": "https://localhost:8080/"
    },
    "executionInfo": {
     "elapsed": 287,
     "status": "ok",
     "timestamp": 1694173099965,
     "user": {
      "displayName": "Carol Diaz",
      "userId": "03863088177087652040"
     },
     "user_tz": 180
    },
    "id": "slzUF9e9dTJD",
    "outputId": "1979dc8c-1b61-43e6-f827-6d650ba30369"
   },
   "outputs": [],
   "source": [
    "if 2 == 0:\n",
    "    print('La primera comparación es Verdadera (True)')\n",
    "elif 2 == 1:\n",
    "    print(\"La segunda comparación es Verdadera (True)\")\n",
    "elif 2 == 100:\n",
    "    print(\"La tercera comparación es Verdadera (True)\")\n",
    "else:\n",
    "    print(\"Ninguna de las comparaciones anteriores es Verdadera (True)\")"
   ]
  },
  {
   "cell_type": "markdown",
   "metadata": {
    "id": "UgS3N9WsdTJD"
   },
   "source": [
    "Veamos qué sucede si tuviéramos múltiples condiciones `True`:"
   ]
  },
  {
   "cell_type": "code",
   "execution_count": null,
   "metadata": {
    "colab": {
     "base_uri": "https://localhost:8080/"
    },
    "executionInfo": {
     "elapsed": 10,
     "status": "ok",
     "timestamp": 1694173102204,
     "user": {
      "displayName": "Carol Diaz",
      "userId": "03863088177087652040"
     },
     "user_tz": 180
    },
    "id": "goEE74kmdTJE",
    "outputId": "f22a02a8-c389-42b2-e9d2-e06e52cf02ce"
   },
   "outputs": [],
   "source": [
    "if 2 == 2:\n",
    "    print('La primera comparación es Verdadera (True)')\n",
    "elif 2 == 2:\n",
    "    print(\"La segunda comparación es Verdadera (True)\")\n",
    "elif 2 == 2:\n",
    "    print(\"La tercera comparación es Verdadera (True)\")\n",
    "else:\n",
    "    print(\"Ninguna de las comparaciones anteriores es Verdadera (True)\")"
   ]
  },
  {
   "cell_type": "markdown",
   "metadata": {
    "id": "rRsQb16udTJE"
   },
   "source": [
    "Observa cómo solo se ejecutará el bloque de código de la primera condición verdadera, ¡ten esto en cuenta al escribir sus scripts!"
   ]
  },
  {
   "cell_type": "markdown",
   "metadata": {
    "id": "PfGLXFyHdTJE"
   },
   "source": [
    "Es importante tener una buena comprensión de cómo funciona la **indentación** en Python para mantener la estructura y el orden de su código. ¡Tocaremos este tema nuevamente cuando comencemos a construir funciones!"
   ]
  },
  {
   "cell_type": "markdown",
   "metadata": {
    "id": "CaeVnu5mdTJE"
   },
   "source": [
    "## <font color='blue'>**Veamos un poco más acerca de la indentación**</font>\n",
    "### Reglas\n",
    "1. Cada nivel de indentación utiliza 4 espacios\n",
    "2. Aún cuando funcionan, se recomienda NO usar tabs para las indentaciones\n",
    "3. NUNCA combines tabs y espacios para indentar código"
   ]
  },
  {
   "cell_type": "code",
   "execution_count": null,
   "metadata": {
    "colab": {
     "base_uri": "https://localhost:8080/"
    },
    "executionInfo": {
     "elapsed": 328,
     "status": "ok",
     "timestamp": 1694173105456,
     "user": {
      "displayName": "Carol Diaz",
      "userId": "03863088177087652040"
     },
     "user_tz": 180
    },
    "id": "KtmNheOodTJF",
    "outputId": "0a0ea573-140f-4160-98a2-5366bf700b61"
   },
   "outputs": [],
   "source": [
    "if True:\n",
    "    print(\"Esta impresión está dentro del bloque 'if'\")\n",
    "    print(\"Esta impresión está dentro del bloque 'if'\")\n",
    "    print(\"Esta impresión está dentro del bloque 'if'\")\n",
    "print(\"Esta impresión está fuera del bloque 'if'\")"
   ]
  },
  {
   "cell_type": "code",
   "execution_count": null,
   "metadata": {
    "colab": {
     "base_uri": "https://localhost:8080/"
    },
    "executionInfo": {
     "elapsed": 282,
     "status": "ok",
     "timestamp": 1694173108165,
     "user": {
      "displayName": "Carol Diaz",
      "userId": "03863088177087652040"
     },
     "user_tz": 180
    },
    "id": "-68bbq7WdTJF",
    "outputId": "c1568ffc-88f3-41d7-db93-4ce88c1460e8"
   },
   "outputs": [],
   "source": [
    "# Veamos que ocurre cuando cambiamos la condición a False\n",
    "\n",
    "if False:\n",
    "    print(\"Esta impresión está dentro del bloque 'if'\")\n",
    "    print(\"Esta impresión está dentro del bloque 'if'\")\n",
    "    print(\"Esta impresión está dentro del bloque 'if'\")\n",
    "print(\"Esta impresión está fuera del bloque 'if'\")"
   ]
  },
  {
   "cell_type": "code",
   "execution_count": null,
   "metadata": {
    "colab": {
     "base_uri": "https://localhost:8080/",
     "height": 145
    },
    "executionInfo": {
     "elapsed": 24,
     "status": "error",
     "timestamp": 1694173110083,
     "user": {
      "displayName": "Carol Diaz",
      "userId": "03863088177087652040"
     },
     "user_tz": 180
    },
    "id": "vhQfWr0IdTJF",
    "outputId": "e406c06d-826e-4048-a5b2-79c49bfcda9d"
   },
   "outputs": [],
   "source": [
    "# En este caso hemos introducido una indentación de tres espacios.\n",
    "# Esto genererá un error del tipo *IndentationEror*\n",
    "\n",
    "if False:\n",
    "    print(\"Esta impresión está dentro del bloque 'if'\")\n",
    "   print(\"Esta impresión está dentro del bloque 'if'\")\n",
    "    print(\"Esta impresión está dentro del bloque 'if'\")\n",
    "print(\"Esta impresión está fuera del bloque 'if'\")"
   ]
  },
  {
   "cell_type": "markdown",
   "metadata": {
    "id": "f55-b8I7dTJG"
   },
   "source": [
    "## <font color='blue'>**Agreguemos todo en un ejemplo final**</font>\n"
   ]
  },
  {
   "cell_type": "code",
   "execution_count": null,
   "metadata": {
    "executionInfo": {
     "elapsed": 255,
     "status": "ok",
     "timestamp": 1694173115084,
     "user": {
      "displayName": "Carol Diaz",
      "userId": "03863088177087652040"
     },
     "user_tz": 180
    },
    "id": "upDamKFhdTJG"
   },
   "outputs": [],
   "source": [
    "agent_code = 231912\n",
    "access = False"
   ]
  },
  {
   "cell_type": "code",
   "execution_count": null,
   "metadata": {
    "colab": {
     "base_uri": "https://localhost:8080/"
    },
    "executionInfo": {
     "elapsed": 315,
     "status": "ok",
     "timestamp": 1694173117594,
     "user": {
      "displayName": "Carol Diaz",
      "userId": "03863088177087652040"
     },
     "user_tz": 180
    },
    "id": "yZCMKijVdTJG",
    "outputId": "6f1cfed5-795f-45a6-a68d-18d2137a53cb"
   },
   "outputs": [],
   "source": [
    "if agent_code == 12345:\n",
    "    print('Código reinicializado')\n",
    "    print(\"Comuníquese con el supervisor\")\n",
    "elif agent_code == 231912:\n",
    "    print('Bienvenido agente')\n",
    "    print('Inicializando su aceso a condición: Verdadera')\n",
    "    access = True\n",
    "else:\n",
    "    print(\"Código erréneo\")"
   ]
  },
  {
   "cell_type": "code",
   "execution_count": null,
   "metadata": {
    "colab": {
     "base_uri": "https://localhost:8080/"
    },
    "executionInfo": {
     "elapsed": 12,
     "status": "ok",
     "timestamp": 1694173119341,
     "user": {
      "displayName": "Carol Diaz",
      "userId": "03863088177087652040"
     },
     "user_tz": 180
    },
    "id": "ME9i8WCydTJG",
    "outputId": "cd9f5692-9351-48ce-cacc-adf84db39537"
   },
   "outputs": [],
   "source": [
    "# Ahora podemos iniciar otro conjunto de lógica de flujo de control aquí.\n",
    "\n",
    "if access == True:\n",
    "    print('Acceso concedido')\n",
    "else:\n",
    "    print('Access denegado')"
   ]
  },
  {
   "cell_type": "markdown",
   "metadata": {
    "id": "Jh4pBHmsdTJG"
   },
   "source": [
    "Echa un vistazo al último conjunto del bloque `if` ...  `else`, dado que la variable **access** en sí es un booleano, también podríamos haberlo escrito así:"
   ]
  },
  {
   "cell_type": "code",
   "execution_count": null,
   "metadata": {
    "colab": {
     "base_uri": "https://localhost:8080/"
    },
    "executionInfo": {
     "elapsed": 313,
     "status": "ok",
     "timestamp": 1694173121941,
     "user": {
      "displayName": "Carol Diaz",
      "userId": "03863088177087652040"
     },
     "user_tz": 180
    },
    "id": "D0BxQJLrdTJG",
    "outputId": "5282de51-f994-4b57-f900-cbc9cd3524fe"
   },
   "outputs": [],
   "source": [
    "if access:\n",
    "    print('Acceso concedido')\n",
    "else:\n",
    "    print('Access denegado')"
   ]
  },
  {
   "cell_type": "markdown",
   "metadata": {
    "id": "3KbmAL8VdTJG"
   },
   "source": [
    "Escribir código como acabamos de hacer en la celda anterior es más limpio. Puedes nombrar tus variables de manera diferente para que también sea aún más legible tu código; por ejemplo, cambia el nombre de **access** a __access_request__ (solicitud_acceso) de forma que el código quede como sigue:\n",
    "\n",
    "```python\n",
    "if access_request:\n",
    "```"
   ]
  },
  {
   "cell_type": "markdown",
   "metadata": {
    "id": "QEQrP-aQsEXm"
   },
   "source": [
    "## <font color='blue'>__Ejercicios__</font>"
   ]
  },
  {
   "cell_type": "markdown",
   "metadata": {
    "id": "pMbinNgGdTJG"
   },
   "source": [
    "### <font color='green'>Actividad 1:</font>\n",
    "### Juego de adivina el número\n",
    "\n",
    "Juego: el computador generará un número aleatorio; intenta adivinarlo !!!\n",
    "\n",
    "Pasos:\n",
    "1. Ingresa un número desde el teclado usando la función de entrada y guárdalo en una variable llamada 'my_guess_number'\n",
    "2. Genera un número aleatorio y guárdalo en una variable llamada 'número_secreto'\n",
    "3. Compara los números e imprime un mensaje: si lo adivinó, imprime \"¡Bingo, tú ganas!\" y si no, imprime \"Inténtalo de nuevo\""
   ]
  },
  {
   "cell_type": "code",
   "execution_count": null,
   "metadata": {
    "colab": {
     "base_uri": "https://localhost:8080/"
    },
    "executionInfo": {
     "elapsed": 4239,
     "status": "ok",
     "timestamp": 1694173128823,
     "user": {
      "displayName": "Carol Diaz",
      "userId": "03863088177087652040"
     },
     "user_tz": 180
    },
    "id": "HWg-Ag0kdTJG",
    "outputId": "59f05a18-d9ce-438c-cbf2-62e5bf14b19e"
   },
   "outputs": [],
   "source": [
    "# Primero vamos a importar una biblioteca llamada 'numpy'\n",
    "# Hablaremos mucho de bibliotecas muy pronto; por ahora decir que en ellas hay mucho código pre-armado\n",
    "# Por ahora ejecuta esta celda\n",
    "\n",
    "import numpy as np\n",
    "#import random\n",
    "\n",
    "numero_secreto = np.random.randint(0, 9)\n",
    "mensaje = 'Ingrese un número entre 0 y 9: '\n",
    "#print(numero_secreto)\n",
    "\n",
    "my_guess_number = int(input(mensaje))\n",
    "\n",
    "if my_guess_number == numero_secreto:\n",
    "    print('¡Bingo, tú ganas!')\n",
    "else:\n",
    "    print('Inténtalo de nuevo')\n"
   ]
  },
  {
   "cell_type": "markdown",
   "metadata": {
    "id": "yTojLC0bdTJH"
   },
   "source": [
    "<font color='green'>Fin actividad 1</font>"
   ]
  },
  {
   "cell_type": "markdown",
   "metadata": {
    "id": "3hlZzXdhdTJH",
    "tags": []
   },
   "source": [
    "### <font color='green'>Actividad 2: Super challenging</font>\n",
    "### Año bisiesto\n",
    "Un año bisiesto (también conocido como año intercalario o año bissextil) es un año calendario que contiene un día adicional. Cada año bisiesto tiene 366 días en lugar de los 365 habituales, extendiendo febrero a 29 días en lugar de los 28 habituales.\n",
    "\n",
    "En el calendario gregoriano, un año normal consta de 365 días. Debido a que la duración real de un año sideral (el tiempo necesario para que la Tierra gire una vez alrededor del Sol) es en realidad 365.2425 días, un \"año bisiesto\" de 366 días se utiliza una vez cada cuatro años para eliminar el error causado por tres años normales (pero cortos).\n",
    "\n",
    "Cualquier año divisible por 4 es un año bisiesto: por ejemplo, 1988, 1992 y 1996 son años bisiestos.\n",
    "\n",
    "Sin embargo, hay un pequeño error de cálculo que debe tenerse en cuenta. Para eliminar este error, el calendario gregoriano estipula que un año que es divisible por 100 (por ejemplo, 1900) es un año bisiesto solo si también es divisible por 400.\n",
    "\n",
    "Por esta razón, los años siguientes no son años bisiestos:\n",
    "1700, 1800, 1900, 2100, 2200, 2300, 2500, 2600\n",
    "\n",
    "Esto se debe a que son divisibles por 100 pero no por 400.\n",
    "\n",
    "Los años siguientes son años bisiestos: 1600, 2000, 2400\n",
    "Esto se debe a que son divisibles por 100 y 400.\n",
    "\n",
    "### Algoritmo para calcular si un año es bisiesto\n",
    "\n",
    "Comprueba las siguientes condiciones en el orden en que se presentan:\n",
    "\n",
    "**Condición_1:** si el año es exactamente divisible por 4<br>\n",
    "**Condición_2:** si el año es divisible por 100<br>\n",
    "**Condición_3:** si el año es exactamente divisible por 400. <br>\n",
    "\n",
    "El pseudo-código que se suele usar para establecer si un año es bisiesto sería:\n",
    "\n",
    "```python\n",
    "si condición_1 y (no condición_2 o condición_3) entonces:\n",
    "    es año bisiesto\n",
    "sino\n",
    "    no es bisiesto\n",
    "```\n",
    "Por ejemplo, los años 1700, 1800 y 1900 no fueron años bisiestos, pero los años 1600 y 2000 sí lo fueron.\n",
    "\n",
    "Desafío: determina si un año específico es bisiesto o no.\n",
    "\n",
    "Pasos:\n",
    "1. Ingrese un año desde el teclado usando la función de entrada y guárdelo en una variable llamada 'input_year'\n",
    "2. Cree un código que determine si 'input_year' es o no es un año bisiesto.\n",
    "3. Imprima un mensaje que indique que input_year 'es un año bisiesto' o 'no es un año bisiesto'\n",
    "\n",
    "Tips:\n",
    "\n",
    "1. Use las funciones de entrada para ingresar el año\n",
    "2. Utilice el operador `%` (módulo) para hacer las divisiones"
   ]
  },
  {
   "cell_type": "code",
   "execution_count": null,
   "metadata": {
    "colab": {
     "base_uri": "https://localhost:8080/"
    },
    "executionInfo": {
     "elapsed": 279,
     "status": "ok",
     "timestamp": 1694173134890,
     "user": {
      "displayName": "Carol Diaz",
      "userId": "03863088177087652040"
     },
     "user_tz": 180
    },
    "id": "IDmbIdvYdTJH",
    "outputId": "b0d25995-4040-4f19-c701-678093851ea7"
   },
   "outputs": [],
   "source": [
    "# Tip 2: recuerda el operador %\n",
    "\n",
    "2200 % 4"
   ]
  },
  {
   "cell_type": "code",
   "execution_count": null,
   "metadata": {
    "colab": {
     "base_uri": "https://localhost:8080/"
    },
    "executionInfo": {
     "elapsed": 6706,
     "status": "ok",
     "timestamp": 1694173142979,
     "user": {
      "displayName": "Carol Diaz",
      "userId": "03863088177087652040"
     },
     "user_tz": 180
    },
    "id": "cvblWUQ_dTJH",
    "outputId": "e8cb9706-f4ad-476a-a0ed-e403072679ba"
   },
   "outputs": [],
   "source": [
    "# Tu código aquí ...\n",
    "\n",
    "mensaje2 = 'Ingrese el año: '\n",
    "input_year = int(input(mensaje2))\n",
    "\n",
    "if (input_year % 4 == 0 and input_year % 100 != 0) or (input_year % 100 == 0 and input_year % 400 == 0):\n",
    "    print(f'El año {input_year} es bisiesto')\n",
    "else:\n",
    "    print(f'El año {input_year} NO es bisiesto')\n"
   ]
  },
  {
   "cell_type": "markdown",
   "metadata": {
    "id": "fBYazfNWdTJH"
   },
   "source": [
    "<font color='green'>Fin actividad 2</font>"
   ]
  },
  {
   "cell_type": "markdown",
   "metadata": {
    "id": "l2zr0weLbhk_"
   },
   "source": [
    "<img src=\"https://drive.google.com/uc?export=view&id=1Igtn9UXg6NGeRWsqh4hefQUjV0hmzlBv\" width=\"100\" align=\"left\" title=\"Runa-perth\">\n",
    "<br clear=\"left\">\n",
    "Contenido opcional\n",
    "\n",
    "##<font color='blue'>__Ejercicios avanzados__</font>\n",
    "\n",
    "Si quieres aprender más, anímate a desarrollar los siguientes ejercicios utilizando sólo lo aprendido hasta el momento: tipos de datos, estructuras y sus métodos (e.g., listas, diccionarios, conjuntos, tuplas), slicing e indexing, y control de flujo.\n",
    "\n",
    "No puedes utilizar funciones, lambdas, ciclos (`for`, `while`) o librerías de apoyo.\n",
    "\n",
    "Imprime un mensaje con `print()` indicando si la condición solicitada en el ejercicio se cumple o no; e.g., la Actividad 3 debería tener una salida condicional del tipo:\n",
    "\n",
    "```python\n",
    "print(\"La primera lista es un subconjunto de la segunda lista.\")\n",
    "````\n",
    "o si no se cumple la condición ...\n",
    "```python\n",
    "print(\"La primera lista no es un subconjunto de la segunda lista.\")\n",
    "```"
   ]
  },
  {
   "cell_type": "markdown",
   "metadata": {
    "id": "1uo6_TkGb2aW"
   },
   "source": [
    "### <font color='green'>Actividad 3</font>\n",
    "Dadas dos listas, verificar si la primera lista es un subconjunto de la segunda lista. Imprime un mensaje correspondiente para cada caso."
   ]
  },
  {
   "cell_type": "code",
   "execution_count": null,
   "metadata": {
    "colab": {
     "base_uri": "https://localhost:8080/"
    },
    "executionInfo": {
     "elapsed": 324,
     "status": "ok",
     "timestamp": 1694173146883,
     "user": {
      "displayName": "Carol Diaz",
      "userId": "03863088177087652040"
     },
     "user_tz": 180
    },
    "id": "kIVx6VclbwCY",
    "outputId": "b06d2ffe-8c34-49ab-937e-be8fbec440d1"
   },
   "outputs": [],
   "source": [
    "lista1 = [1, 2, 3]\n",
    "lista2 = [1, 2, 3, 4, 5]\n",
    "\n",
    "# Tu código aquí ...\n",
    "\n",
    "conjunto1 = set(lista1)\n",
    "conjunto2 = set(lista2)\n",
    "\n",
    "if conjunto1.issubset(conjunto2):\n",
    "    print(\"lista1 es un subconjunto de lista2\")\n",
    "else:\n",
    "    print(\"lista1 NO es un subconjunto de lista2\")"
   ]
  },
  {
   "cell_type": "markdown",
   "metadata": {
    "id": "ZpVSlqfhcB0W"
   },
   "source": [
    "### <font color='green'>Actividad 4</font>\n",
    "Verificar si una tupla es palíndromo. Imprime un mensaje correspondiente para cada caso."
   ]
  },
  {
   "cell_type": "code",
   "execution_count": null,
   "metadata": {
    "colab": {
     "base_uri": "https://localhost:8080/"
    },
    "executionInfo": {
     "elapsed": 336,
     "status": "ok",
     "timestamp": 1694173149558,
     "user": {
      "displayName": "Carol Diaz",
      "userId": "03863088177087652040"
     },
     "user_tz": 180
    },
    "id": "EKUGwDhecCsV",
    "outputId": "9a19a51d-e1f0-4691-9daf-792dcecc0b7a"
   },
   "outputs": [],
   "source": [
    "tupla = (\"a\", \"b\", \"c\", \"b\", \"a\")\n",
    "\n",
    "# Tu código aquí ...\n",
    "\n",
    "if tupla == tupla[::-1]:\n",
    "    print(\"La tupla es un palíndromo\")\n",
    "else:\n",
    "    print(\"La tupla NO es un palíndromo\")\n"
   ]
  },
  {
   "cell_type": "markdown",
   "metadata": {
    "id": "wzkQPWihcDX8"
   },
   "source": [
    "### <font color='green'>Actividad 5</font>\n",
    " Verificar si un diccionario tiene alguna clave duplicada. Imprime un mensaje correspondiente para cada caso."
   ]
  },
  {
   "cell_type": "code",
   "execution_count": null,
   "metadata": {
    "colab": {
     "base_uri": "https://localhost:8080/"
    },
    "executionInfo": {
     "elapsed": 8,
     "status": "ok",
     "timestamp": 1694173151888,
     "user": {
      "displayName": "Carol Diaz",
      "userId": "03863088177087652040"
     },
     "user_tz": 180
    },
    "id": "c_YlB5accECr",
    "outputId": "1d4119a5-5d0a-494f-fcbb-e5de042be7a0"
   },
   "outputs": [],
   "source": [
    "diccionario = {1: \"a\", 2: \"b\", 3: \"c\", 2: \"d\"}\n",
    "\n",
    "# Tu código aquí ...\n",
    "\n",
    "#print(len(diccionario))\n",
    "#print(len(diccionario.keys()))\n",
    "\n",
    "if len(diccionario) != len(set(diccionario.keys())):\n",
    "    print(\"Claves duplicadas en diccionario\")\n",
    "else:\n",
    "    print(\"No existen llaves duplicadas en diccionario\")\n"
   ]
  },
  {
   "cell_type": "markdown",
   "metadata": {
    "id": "hOVGQ2X-cEll"
   },
   "source": [
    "### <font color='green'>Actividad 6</font>\n",
    "Verificar si un número está presente en un conjunto. Imprime un mensaje correspondiente para cada caso."
   ]
  },
  {
   "cell_type": "code",
   "execution_count": null,
   "metadata": {
    "colab": {
     "base_uri": "https://localhost:8080/"
    },
    "executionInfo": {
     "elapsed": 269,
     "status": "ok",
     "timestamp": 1694173154267,
     "user": {
      "displayName": "Carol Diaz",
      "userId": "03863088177087652040"
     },
     "user_tz": 180
    },
    "id": "BoT3tJrIcFZ_",
    "outputId": "cb8ede8a-3fb3-41af-b56a-dab151a7eb4f"
   },
   "outputs": [],
   "source": [
    "conjunto = {1, 2, 3, 4, 5}\n",
    "numero = 3\n",
    "\n",
    "# Tu código aquí ...\n",
    "\n",
    "if numero in conjunto:\n",
    "    print(f'El numero {numero} está en el conjunto')\n",
    "else:\n",
    "    print(f'El numero {numero} NO está en el conjunto')\n"
   ]
  },
  {
   "cell_type": "markdown",
   "metadata": {
    "id": "volbvTuIcFzh"
   },
   "source": [
    "### <font color='green'>Actividad 7</font>\n",
    " Verificar si una lista está vacía o no. Imprime un mensaje correspondiente para cada caso."
   ]
  },
  {
   "cell_type": "code",
   "execution_count": null,
   "metadata": {
    "colab": {
     "base_uri": "https://localhost:8080/"
    },
    "executionInfo": {
     "elapsed": 400,
     "status": "ok",
     "timestamp": 1694173161776,
     "user": {
      "displayName": "Carol Diaz",
      "userId": "03863088177087652040"
     },
     "user_tz": 180
    },
    "id": "_RT3GWMncGn5",
    "outputId": "0286d7a7-8208-41ae-8c9b-3b3b17a35c78"
   },
   "outputs": [],
   "source": [
    "lista = []\n",
    "\n",
    "# Tu código aquí ...\n",
    "\n",
    "if len(lista) == 0:\n",
    "    print('La lista esta vacia')\n",
    "else:\n",
    "    print('La lista NO esta vacia')"
   ]
  },
  {
   "cell_type": "markdown",
   "metadata": {
    "id": "KGw-7LyccHE1"
   },
   "source": [
    "### <font color='green'>Actividad 8</font>\n",
    "Verificar si todos los elementos en una lista son únicos. Imprime un mensaje correspondiente para cada caso."
   ]
  },
  {
   "cell_type": "code",
   "execution_count": null,
   "metadata": {
    "colab": {
     "base_uri": "https://localhost:8080/"
    },
    "executionInfo": {
     "elapsed": 313,
     "status": "ok",
     "timestamp": 1694173164455,
     "user": {
      "displayName": "Carol Diaz",
      "userId": "03863088177087652040"
     },
     "user_tz": 180
    },
    "id": "ZP70CS9tcH6x",
    "outputId": "e5e04d63-00b7-4a64-c6d6-364cc0ba16c8"
   },
   "outputs": [],
   "source": [
    "lista = [1, 2, 3, 2]\n",
    "\n",
    "# Tu código aquí ...\n",
    "\n",
    "if len(lista) == len(set(lista)):\n",
    "    print('La lista tiene elementos únicos')\n",
    "else:\n",
    "    print('La lista NO tiene elementos únicos')\n"
   ]
  },
  {
   "cell_type": "markdown",
   "metadata": {
    "id": "ULKMovy1cIfB"
   },
   "source": [
    "### <font color='green'>Actividad 9</font>\n",
    "Verificar si una tupla contiene solamente números enteros. Imprime un mensaje correspondiente para cada caso."
   ]
  },
  {
   "cell_type": "code",
   "execution_count": null,
   "metadata": {
    "colab": {
     "base_uri": "https://localhost:8080/"
    },
    "executionInfo": {
     "elapsed": 289,
     "status": "ok",
     "timestamp": 1694173167401,
     "user": {
      "displayName": "Carol Diaz",
      "userId": "03863088177087652040"
     },
     "user_tz": 180
    },
    "id": "sdCed0nUcJOt",
    "outputId": "5b18b0a4-efca-4bcc-b512-e05c4717ba55"
   },
   "outputs": [],
   "source": [
    "tupla = (1, 2, \"3\")\n",
    "\n",
    "# Tu código aquí ...\n",
    "\n",
    "if set(tupla).issubset({int}):\n",
    "  print('La tupla solo tiene números enteros')\n",
    "else:\n",
    "  print('La tupla NO tiene solo números enteros')\n"
   ]
  },
  {
   "cell_type": "markdown",
   "metadata": {
    "id": "xfrucFOhgMry"
   },
   "source": [
    "### <font color='green'>Actividad 10</font>\n",
    "Dados dos conjuntos, verifica si el primer conjunto es un subconjunto del segundo conjunto, si el segundo conjunto es un subconjunto del primer conjunto, o si ninguno de estos casos se cumple. Imprime un mensaje correspondiente para cada caso."
   ]
  },
  {
   "cell_type": "code",
   "execution_count": null,
   "metadata": {
    "colab": {
     "base_uri": "https://localhost:8080/"
    },
    "executionInfo": {
     "elapsed": 290,
     "status": "ok",
     "timestamp": 1694173169549,
     "user": {
      "displayName": "Carol Diaz",
      "userId": "03863088177087652040"
     },
     "user_tz": 180
    },
    "id": "Lf2Fnby5gOQG",
    "outputId": "c3a5f8fc-1822-44dc-9718-170f6a9f674f"
   },
   "outputs": [],
   "source": [
    "conjunto1 = {1, 2, 3, 4, 5}\n",
    "conjunto2 = {1, 2, 3, 6}\n",
    "\n",
    "# Tu código aquí ...\n",
    "\n",
    "if conjunto1.issubset(conjunto2):\n",
    "    print(\"El conjunto 1 es un subconjunto del conjunto 2\")\n",
    "elif conjunto2.issubset(conjunto1):\n",
    "  print(\"El conjunto 2 es un subconjunto del conjunto 1\")\n",
    "else:\n",
    "    print(\"Ningún conjunto es subconjunto del otro\")"
   ]
  },
  {
   "cell_type": "markdown",
   "metadata": {
    "id": "gpwVaGLlixnp"
   },
   "source": [
    "<img src=\"https://drive.google.com/uc?export=view&id=1Igtn9UXg6NGeRWsqh4hefQUjV0hmzlBv\" width=\"50\" align=\"left\" title=\"Runa-perth\">"
   ]
  }
 ],
 "metadata": {
  "colab": {
   "provenance": [
    {
     "file_id": "1NOwDkLEW-t0b97tnO7vvwJVhyEBZM6WK",
     "timestamp": 1692973060600
    }
   ]
  },
  "kernelspec": {
   "display_name": "Python 3 (ipykernel)",
   "language": "python",
   "name": "python3"
  },
  "language_info": {
   "codemirror_mode": {
    "name": "ipython",
    "version": 3
   },
   "file_extension": ".py",
   "mimetype": "text/x-python",
   "name": "python",
   "nbconvert_exporter": "python",
   "pygments_lexer": "ipython3",
   "version": "3.8.11"
  }
 },
 "nbformat": 4,
 "nbformat_minor": 0
}
