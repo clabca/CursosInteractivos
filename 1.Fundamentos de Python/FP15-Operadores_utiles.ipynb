{
 "cells": [
  {
   "cell_type": "markdown",
   "metadata": {
    "id": "DhKT9tKvi-QV"
   },
   "source": [
    "# **Introducción a Python**\n",
    "# FP15. Operadores útiles (operators)\n"
   ]
  },
  {
   "cell_type": "markdown",
   "metadata": {
    "id": "TLU54VrBi-QX"
   },
   "source": [
    "Hay algunas funciones pre-hechas y operadores incorporados en Python que no encajan bien en ninguna categoría, así que los repasaremos en esta lección, ¡comencemos!"
   ]
  },
  {
   "cell_type": "markdown",
   "metadata": {
    "id": "wH65GDwdi-QX"
   },
   "source": [
    "## <font color='blue'>**Operadores básicos**</font>"
   ]
  },
  {
   "cell_type": "markdown",
   "metadata": {
    "id": "MMe2T38pi-QX"
   },
   "source": [
    "### __La función `range()`__\n",
    "\n",
    "La función `range( )` te permite generar rápidamente una lista de números enteros, esto es muy útil. Toma nota de cómo usarlo!\n",
    "\n",
    "Hay 3 parámetros que se le pueden pasar a la función:\n",
    "\n",
    "* un inicio\n",
    "* una parada\n",
    "* un tamaño de paso\n",
    "\n",
    "Veamos algunos ejemplos:"
   ]
  },
  {
   "cell_type": "code",
   "execution_count": null,
   "metadata": {
    "colab": {
     "base_uri": "https://localhost:8080/"
    },
    "executionInfo": {
     "elapsed": 11,
     "status": "ok",
     "timestamp": 1694206490584,
     "user": {
      "displayName": "Carol Diaz",
      "userId": "03863088177087652040"
     },
     "user_tz": 180
    },
    "id": "KZH9lcZai-QY",
    "outputId": "d4eac90a-0083-468c-d9a8-f4d7c6367ab7"
   },
   "outputs": [],
   "source": [
    "range(0, 11)"
   ]
  },
  {
   "cell_type": "code",
   "execution_count": null,
   "metadata": {
    "colab": {
     "base_uri": "https://localhost:8080/"
    },
    "executionInfo": {
     "elapsed": 11,
     "status": "ok",
     "timestamp": 1694206493695,
     "user": {
      "displayName": "Carol Diaz",
      "userId": "03863088177087652040"
     },
     "user_tz": 180
    },
    "id": "zaVxBYfXi-QZ",
    "outputId": "f6da0cc3-25f7-4707-b3fd-b329bd6fdec3"
   },
   "outputs": [],
   "source": [
    "type(range(0, 11))"
   ]
  },
  {
   "cell_type": "code",
   "execution_count": null,
   "metadata": {
    "colab": {
     "base_uri": "https://localhost:8080/"
    },
    "executionInfo": {
     "elapsed": 9,
     "status": "ok",
     "timestamp": 1694206496685,
     "user": {
      "displayName": "Carol Diaz",
      "userId": "03863088177087652040"
     },
     "user_tz": 180
    },
    "id": "qZ5-tOsMi-QZ",
    "outputId": "4647cada-aaff-43f2-e79a-51bbb2a481b0"
   },
   "outputs": [],
   "source": [
    "a = range(0, 11)\n",
    "print(a)"
   ]
  },
  {
   "cell_type": "markdown",
   "metadata": {
    "id": "9qQTQcBbi-QZ"
   },
   "source": [
    "Ten en cuenta que esta es una función generadora (**generator**), por lo que para obtener una lista, necesitamos convertirla en una lista con `list()`.\n",
    "\n",
    "¿Qué es un generador? Es un tipo especial de función que generará un resultado a la vez, conforme se le solicita; esto permite un uso muy eficiente de la memoria de tu computador. Un generador es una función que devuelve un objeto (del tipo iterador) sobre el que podemos iterar (un valor a la vez). Aún no hemos hablado de funciones o generadores, así que mantén esto en tus notas por ahora, ¡lo discutiremos con mucho más detalle más adelante en tu capacitación!"
   ]
  },
  {
   "cell_type": "code",
   "execution_count": null,
   "metadata": {
    "id": "A1weYuTYi-QZ"
   },
   "outputs": [],
   "source": [
    "# Fíjate como el 11 no se incluye en el resultado. Es hasta 11 pero sin el 11.\n",
    "# Tal como cuando hacemos slicing\n",
    "\n",
    "list(range(0, 11))"
   ]
  },
  {
   "cell_type": "code",
   "execution_count": null,
   "metadata": {
    "colab": {
     "base_uri": "https://localhost:8080/"
    },
    "executionInfo": {
     "elapsed": 455,
     "status": "ok",
     "timestamp": 1694206502372,
     "user": {
      "displayName": "Carol Diaz",
      "userId": "03863088177087652040"
     },
     "user_tz": 180
    },
    "id": "27PjU8M3i-Qa",
    "outputId": "8c5df779-ee62-46a3-f1f7-72c071b9140d"
   },
   "outputs": [],
   "source": [
    "list(range(0, 12))"
   ]
  },
  {
   "cell_type": "code",
   "execution_count": null,
   "metadata": {
    "colab": {
     "base_uri": "https://localhost:8080/"
    },
    "executionInfo": {
     "elapsed": 362,
     "status": "ok",
     "timestamp": 1694206503761,
     "user": {
      "displayName": "Carol Diaz",
      "userId": "03863088177087652040"
     },
     "user_tz": 180
    },
    "id": "YVaNllNri-Qa",
    "outputId": "87010a8f-d40a-4420-c577-5a50e0b2868c"
   },
   "outputs": [],
   "source": [
    "# El tercer parámetro es el tamaño del paso!\n",
    "# el tamaño del paso solo significa qué tan grande es un salto o paso\n",
    "# toma del número inicial para pasar al siguiente número.\n",
    "\n",
    "list(range(0, 11, 2))"
   ]
  },
  {
   "cell_type": "code",
   "execution_count": null,
   "metadata": {
    "colab": {
     "base_uri": "https://localhost:8080/"
    },
    "executionInfo": {
     "elapsed": 277,
     "status": "ok",
     "timestamp": 1694206505447,
     "user": {
      "displayName": "Carol Diaz",
      "userId": "03863088177087652040"
     },
     "user_tz": 180
    },
    "id": "s_vZnjvTi-Qa",
    "outputId": "0dcfa713-4b95-4a2a-ba8e-c05e57db10a9"
   },
   "outputs": [],
   "source": [
    "list(range(0, 101, 10))"
   ]
  },
  {
   "cell_type": "markdown",
   "metadata": {
    "id": "vQvico21i-Qb"
   },
   "source": [
    "### __La función `enumerate()`__\n",
    "\n",
    "`enumerate()` es una función muy útil para usar con `for` loops.\n",
    "Imagina la siguiente situación:"
   ]
  },
  {
   "cell_type": "code",
   "execution_count": null,
   "metadata": {
    "colab": {
     "base_uri": "https://localhost:8080/"
    },
    "executionInfo": {
     "elapsed": 318,
     "status": "ok",
     "timestamp": 1694206507413,
     "user": {
      "displayName": "Carol Diaz",
      "userId": "03863088177087652040"
     },
     "user_tz": 180
    },
    "id": "0b1t4gAyi-Qb",
    "outputId": "571a1ef2-c867-460d-b594-8d5bfbc73173"
   },
   "outputs": [],
   "source": [
    "index_count = 0\n",
    "\n",
    "for letter in 'abcde':\n",
    "    print(f\"En el índice {index_count} la letra es {letter}\")\n",
    "    index_count += 1"
   ]
  },
  {
   "cell_type": "markdown",
   "metadata": {
    "id": "Mc7ss360i-Qb"
   },
   "source": [
    "Hacer un seguimiento de cuántos ciclos o bucles se han generado es tan común, que se creó la `enumerate()` para no tener que preocuparse por crear y actualizar esta variable *index_coun*t o *loop_count*."
   ]
  },
  {
   "cell_type": "code",
   "execution_count": null,
   "metadata": {
    "colab": {
     "base_uri": "https://localhost:8080/"
    },
    "executionInfo": {
     "elapsed": 6,
     "status": "ok",
     "timestamp": 1694206509783,
     "user": {
      "displayName": "Carol Diaz",
      "userId": "03863088177087652040"
     },
     "user_tz": 180
    },
    "id": "YBB6-kNJi-Qb",
    "outputId": "9f61d3c0-4772-49b1-9a75-e3b738597ea9"
   },
   "outputs": [],
   "source": [
    "# enumarate() crea tuplas con las letras del string y su indice.\n",
    "# Fíjate en el desempaquetado de la tupla (tuple unpacking) en la cláusula for!\n",
    "\n",
    "for i,letter in enumerate('abcde'):\n",
    "    print(f\"En el índice {i} la letra es {letter}\")"
   ]
  },
  {
   "cell_type": "code",
   "execution_count": null,
   "metadata": {
    "colab": {
     "base_uri": "https://localhost:8080/"
    },
    "executionInfo": {
     "elapsed": 275,
     "status": "ok",
     "timestamp": 1694206512378,
     "user": {
      "displayName": "Carol Diaz",
      "userId": "03863088177087652040"
     },
     "user_tz": 180
    },
    "id": "8J_LZmbKi-Qc",
    "outputId": "e47849bd-3fd0-453a-f91f-fbad6573649a"
   },
   "outputs": [],
   "source": [
    "type(enumerate('abcde'))"
   ]
  },
  {
   "cell_type": "markdown",
   "metadata": {
    "id": "ITZrETGhi-Qc"
   },
   "source": [
    "### __La función `zip()`__\n",
    "\n",
    "Observa lo que `enumerate` realmente devuelve, echemos un vistazo transformándolo en una lista."
   ]
  },
  {
   "cell_type": "code",
   "execution_count": null,
   "metadata": {
    "colab": {
     "base_uri": "https://localhost:8080/"
    },
    "executionInfo": {
     "elapsed": 293,
     "status": "ok",
     "timestamp": 1694206514483,
     "user": {
      "displayName": "Carol Diaz",
      "userId": "03863088177087652040"
     },
     "user_tz": 180
    },
    "id": "3JWpus_ui-Qc",
    "outputId": "3e4806a5-bf48-42e1-e95c-19c35eb374d8"
   },
   "outputs": [],
   "source": [
    "list(enumerate('abcde'))"
   ]
  },
  {
   "cell_type": "markdown",
   "metadata": {
    "id": "GHSV09WAi-Qc"
   },
   "source": [
    "Era una lista de tuplas, lo que significa que podríamos usar el desempaquetado de tuplas durante nuestro ciclo for. Esta estructura de datos es muy común en Python, especialmente cuando se trabaja con bibliotecas externas. Puede utilizar la función `zip()` para crear rápidamente una lista de tuplas \"comprimiendo\" dos listas juntas."
   ]
  },
  {
   "cell_type": "code",
   "execution_count": null,
   "metadata": {
    "id": "rfjXYBgBi-Qc"
   },
   "outputs": [],
   "source": [
    "# Creamos dos listas\n",
    "\n",
    "mylist1 = [1, 2, 3, 4, 5]\n",
    "mylist2 = ['a', 'b', 'c', 'd', 'e']"
   ]
  },
  {
   "cell_type": "code",
   "execution_count": null,
   "metadata": {
    "colab": {
     "base_uri": "https://localhost:8080/"
    },
    "executionInfo": {
     "elapsed": 5,
     "status": "ok",
     "timestamp": 1694206518629,
     "user": {
      "displayName": "Carol Diaz",
      "userId": "03863088177087652040"
     },
     "user_tz": 180
    },
    "id": "Qwld5c3Li-Qc",
    "outputId": "608c5668-76d7-4859-90e5-5ea041eb8bfd"
   },
   "outputs": [],
   "source": [
    "# ¡Este también es un generador! Explicaremos esto más adelante, pero por ahora transformémoslo\n",
    "# en una lista.\n",
    "# Al ejecutarlo no entregará nada útil. Debemos recorrerlo e iterar sobre él\n",
    "\n",
    "zip(mylist1, mylist2)"
   ]
  },
  {
   "cell_type": "code",
   "execution_count": null,
   "metadata": {
    "colab": {
     "base_uri": "https://localhost:8080/"
    },
    "executionInfo": {
     "elapsed": 387,
     "status": "ok",
     "timestamp": 1694206520783,
     "user": {
      "displayName": "Carol Diaz",
      "userId": "03863088177087652040"
     },
     "user_tz": 180
    },
    "id": "WcQU5-OPi-Qc",
    "outputId": "d804a0df-a5b4-4d5b-c16e-eb2f02ce9b39"
   },
   "outputs": [],
   "source": [
    "list(zip(mylist1, mylist2))"
   ]
  },
  {
   "cell_type": "markdown",
   "metadata": {
    "id": "1Nbe_yTki-Qd"
   },
   "source": [
    "Para usar el generador, podríamos usar un ciclo `for`"
   ]
  },
  {
   "cell_type": "code",
   "execution_count": null,
   "metadata": {
    "colab": {
     "base_uri": "https://localhost:8080/"
    },
    "executionInfo": {
     "elapsed": 8,
     "status": "ok",
     "timestamp": 1694206522394,
     "user": {
      "displayName": "Carol Diaz",
      "userId": "03863088177087652040"
     },
     "user_tz": 180
    },
    "id": "LiT9yt0Ei-Qd",
    "outputId": "38f12e96-7327-47af-a0a4-53df2b3d7ef4"
   },
   "outputs": [],
   "source": [
    "for item1, item2 in zip(mylist1, mylist2):\n",
    "    print(f'En esta tupla, el primer elemento es {item1}, y el segundo elemento es {item2}')"
   ]
  },
  {
   "cell_type": "markdown",
   "metadata": {
    "id": "fE4Nxothi-Qd"
   },
   "source": [
    "### __El operador `in`__\n",
    "Ya hemos visto la palabra clave `in` durante el ciclo `for`, pero también podemos usarla para verificar rápidamente si un objeto está en una lista."
   ]
  },
  {
   "cell_type": "code",
   "execution_count": null,
   "metadata": {
    "colab": {
     "base_uri": "https://localhost:8080/"
    },
    "executionInfo": {
     "elapsed": 10,
     "status": "ok",
     "timestamp": 1694206524858,
     "user": {
      "displayName": "Carol Diaz",
      "userId": "03863088177087652040"
     },
     "user_tz": 180
    },
    "id": "DDSnlBuqi-Qd",
    "outputId": "e025f229-12bf-4112-976c-67843cd9424c"
   },
   "outputs": [],
   "source": [
    "'x' in ['x','y','z']"
   ]
  },
  {
   "cell_type": "code",
   "execution_count": null,
   "metadata": {
    "colab": {
     "base_uri": "https://localhost:8080/"
    },
    "executionInfo": {
     "elapsed": 5,
     "status": "ok",
     "timestamp": 1694206526879,
     "user": {
      "displayName": "Carol Diaz",
      "userId": "03863088177087652040"
     },
     "user_tz": 180
    },
    "id": "nslm9OJDi-Qd",
    "outputId": "96911feb-5203-4bf2-9efe-617de35c87c1"
   },
   "outputs": [],
   "source": [
    "'x' in [1, 2, 3]"
   ]
  },
  {
   "cell_type": "code",
   "execution_count": null,
   "metadata": {
    "colab": {
     "base_uri": "https://localhost:8080/"
    },
    "executionInfo": {
     "elapsed": 279,
     "status": "ok",
     "timestamp": 1694206528541,
     "user": {
      "displayName": "Carol Diaz",
      "userId": "03863088177087652040"
     },
     "user_tz": 180
    },
    "id": "lQb4Nmqgi-Qd",
    "outputId": "077e1ea7-a550-43be-9470-04fa9a0d007c"
   },
   "outputs": [],
   "source": [
    "# Cuidado con las mayúsculas y minúsculas\n",
    "'homer' in ['Marge', 'Bart', 'Homer', 'Lisa']"
   ]
  },
  {
   "cell_type": "code",
   "execution_count": null,
   "metadata": {
    "colab": {
     "base_uri": "https://localhost:8080/"
    },
    "executionInfo": {
     "elapsed": 261,
     "status": "ok",
     "timestamp": 1694206530105,
     "user": {
      "displayName": "Carol Diaz",
      "userId": "03863088177087652040"
     },
     "user_tz": 180
    },
    "id": "PnkQ4OARi-Qd",
    "outputId": "cf581e1b-d4e5-48b8-cb82-037fc3698079"
   },
   "outputs": [],
   "source": [
    "simpson = ['Marge', 'Bart', 'Homer', 'Lisa']\n",
    "'Homer' in simpson"
   ]
  },
  {
   "cell_type": "markdown",
   "metadata": {
    "id": "eoxX8pLKi-Qd"
   },
   "source": [
    "No sólo con listas; intenta usar `in` con conjuntos (_sets_), diccionarios, strings, etc."
   ]
  },
  {
   "cell_type": "code",
   "execution_count": null,
   "metadata": {
    "colab": {
     "base_uri": "https://localhost:8080/"
    },
    "executionInfo": {
     "elapsed": 288,
     "status": "ok",
     "timestamp": 1694206531764,
     "user": {
      "displayName": "Carol Diaz",
      "userId": "03863088177087652040"
     },
     "user_tz": 180
    },
    "id": "iVhm-YrDi-Qd",
    "outputId": "4e9d00e1-2ff0-48c4-c8a5-de89b5f0f526"
   },
   "outputs": [],
   "source": [
    "s = {1, 2, 3, 4, 5}\n",
    "3 in s"
   ]
  },
  {
   "cell_type": "code",
   "execution_count": null,
   "metadata": {
    "colab": {
     "base_uri": "https://localhost:8080/"
    },
    "executionInfo": {
     "elapsed": 16,
     "status": "ok",
     "timestamp": 1694206534108,
     "user": {
      "displayName": "Carol Diaz",
      "userId": "03863088177087652040"
     },
     "user_tz": 180
    },
    "id": "VFYZH26Mi-Qd",
    "outputId": "8a8c5f60-07aa-4c7b-f074-fa7a638e96cc"
   },
   "outputs": [],
   "source": [
    "d = {'a': 1, 'b': 2, 'c': 3}\n",
    "'a' in d"
   ]
  },
  {
   "cell_type": "code",
   "execution_count": null,
   "metadata": {
    "colab": {
     "base_uri": "https://localhost:8080/"
    },
    "executionInfo": {
     "elapsed": 11,
     "status": "ok",
     "timestamp": 1694206535869,
     "user": {
      "displayName": "Carol Diaz",
      "userId": "03863088177087652040"
     },
     "user_tz": 180
    },
    "id": "z23ElEhNi-Qe",
    "outputId": "e23fe56c-8f2f-48ff-f66f-898cebaa2f1b"
   },
   "outputs": [],
   "source": [
    "1 in d.values()"
   ]
  },
  {
   "cell_type": "code",
   "execution_count": null,
   "metadata": {
    "colab": {
     "base_uri": "https://localhost:8080/"
    },
    "executionInfo": {
     "elapsed": 16,
     "status": "ok",
     "timestamp": 1694206537308,
     "user": {
      "displayName": "Carol Diaz",
      "userId": "03863088177087652040"
     },
     "user_tz": 180
    },
    "id": "H_qv4eami-Qe",
    "outputId": "24109871-aaa8-4c7b-d7cf-4d0ea934b80b"
   },
   "outputs": [],
   "source": [
    "'hola' in 'hola mundo'"
   ]
  },
  {
   "cell_type": "markdown",
   "metadata": {
    "id": "Wg1axrSTi-Qe"
   },
   "source": [
    "### __Las funciones `min()` y `max()`__\n",
    "Comprueba el mínimo o el máximo de una lista con estas funciones."
   ]
  },
  {
   "cell_type": "code",
   "execution_count": null,
   "metadata": {
    "id": "hhMHVbU1i-Qe"
   },
   "outputs": [],
   "source": [
    "mylist = [10, 20, 30, 40, 100]"
   ]
  },
  {
   "cell_type": "code",
   "execution_count": null,
   "metadata": {
    "colab": {
     "base_uri": "https://localhost:8080/"
    },
    "executionInfo": {
     "elapsed": 11,
     "status": "ok",
     "timestamp": 1694206540763,
     "user": {
      "displayName": "Carol Diaz",
      "userId": "03863088177087652040"
     },
     "user_tz": 180
    },
    "id": "MmI5Lq5li-Qe",
    "outputId": "66224131-2fd8-4d6f-8f75-f5a3eb2b490f"
   },
   "outputs": [],
   "source": [
    "min(mylist)"
   ]
  },
  {
   "cell_type": "code",
   "execution_count": null,
   "metadata": {
    "colab": {
     "base_uri": "https://localhost:8080/"
    },
    "executionInfo": {
     "elapsed": 298,
     "status": "ok",
     "timestamp": 1694206542824,
     "user": {
      "displayName": "Carol Diaz",
      "userId": "03863088177087652040"
     },
     "user_tz": 180
    },
    "id": "Yupxi6oKi-Qe",
    "outputId": "442ac81a-2ed6-4c32-d408-e9dcd98e46c3"
   },
   "outputs": [],
   "source": [
    "max(mylist)"
   ]
  },
  {
   "cell_type": "code",
   "execution_count": null,
   "metadata": {
    "colab": {
     "base_uri": "https://localhost:8080/",
     "height": 36
    },
    "executionInfo": {
     "elapsed": 277,
     "status": "ok",
     "timestamp": 1694206544387,
     "user": {
      "displayName": "Carol Diaz",
      "userId": "03863088177087652040"
     },
     "user_tz": 180
    },
    "id": "QfaRovaii-Qe",
    "outputId": "3088aefe-6975-45f3-f87d-d710ed1c127b"
   },
   "outputs": [],
   "source": [
    "min(simpson)"
   ]
  },
  {
   "cell_type": "markdown",
   "metadata": {
    "id": "lX6yAgwTi-Qe"
   },
   "source": [
    "### __La función `random()`__\n",
    "\n",
    "Python viene con una biblioteca para generar números aleatorios incorporada. Hay muchas funciones incluidas en esta biblioteca, por lo que solo te mostraremos dos funciones útiles por ahora."
   ]
  },
  {
   "cell_type": "code",
   "execution_count": null,
   "metadata": {
    "id": "WNa0RSAei-Qe"
   },
   "outputs": [],
   "source": [
    "from random import shuffle"
   ]
  },
  {
   "cell_type": "code",
   "execution_count": null,
   "metadata": {
    "id": "EYwvMY76i-Qe"
   },
   "outputs": [],
   "source": [
    "# Esto baraja o cambia de posición los elementos de la lista \"en el lugar\", lo que significa que no volverá\n",
    "# cualquier cosa, en su lugar, afectará el orden de la lista pasada como argumento de la función\n",
    "\n",
    "shuffle(mylist)"
   ]
  },
  {
   "cell_type": "code",
   "execution_count": null,
   "metadata": {
    "colab": {
     "base_uri": "https://localhost:8080/"
    },
    "executionInfo": {
     "elapsed": 9,
     "status": "ok",
     "timestamp": 1694206555272,
     "user": {
      "displayName": "Carol Diaz",
      "userId": "03863088177087652040"
     },
     "user_tz": 180
    },
    "id": "ngOqwM2Ai-Qe",
    "outputId": "1a6be645-49e9-42b9-8eea-9e6c53159b7e"
   },
   "outputs": [],
   "source": [
    "mylist"
   ]
  },
  {
   "cell_type": "code",
   "execution_count": null,
   "metadata": {
    "id": "ezJ3dHjai-Qf"
   },
   "outputs": [],
   "source": [
    "from random import randint"
   ]
  },
  {
   "cell_type": "code",
   "execution_count": null,
   "metadata": {
    "colab": {
     "base_uri": "https://localhost:8080/"
    },
    "executionInfo": {
     "elapsed": 13,
     "status": "ok",
     "timestamp": 1694206559658,
     "user": {
      "displayName": "Carol Diaz",
      "userId": "03863088177087652040"
     },
     "user_tz": 180
    },
    "id": "6CKORlL7i-Qf",
    "outputId": "1a064b9a-4a06-4eef-f1cd-11deeead4f96"
   },
   "outputs": [],
   "source": [
    "# Devuelve un número entero aleatorio en el rango [a, b], incluidos ambos puntos finales.\n",
    "\n",
    "randint(0, 100)"
   ]
  },
  {
   "cell_type": "code",
   "execution_count": null,
   "metadata": {
    "colab": {
     "base_uri": "https://localhost:8080/"
    },
    "executionInfo": {
     "elapsed": 16,
     "status": "ok",
     "timestamp": 1694206561209,
     "user": {
      "displayName": "Carol Diaz",
      "userId": "03863088177087652040"
     },
     "user_tz": 180
    },
    "id": "58cx47KUi-Qf",
    "outputId": "d0c2be21-f943-492a-9c5e-3f3088e89342"
   },
   "outputs": [],
   "source": [
    "# Otra vez para chequear ...\n",
    "\n",
    "randint(0,100)"
   ]
  },
  {
   "cell_type": "markdown",
   "metadata": {
    "id": "OKErwIUvi-Qf",
    "tags": []
   },
   "source": [
    "### __La función `input()`__\n",
    "Esta función ya la hemos usado. Recuerda que devuelve un string."
   ]
  },
  {
   "cell_type": "code",
   "execution_count": null,
   "metadata": {
    "colab": {
     "base_uri": "https://localhost:8080/"
    },
    "executionInfo": {
     "elapsed": 4507,
     "status": "ok",
     "timestamp": 1694206568105,
     "user": {
      "displayName": "Carol Diaz",
      "userId": "03863088177087652040"
     },
     "user_tz": 180
    },
    "id": "MCJrgqbdi-Qf",
    "outputId": "065474dd-2101-4900-e334-a3a12a309a74"
   },
   "outputs": [],
   "source": [
    "num= input('Ingresa un número: ')\n",
    "type(num)"
   ]
  },
  {
   "cell_type": "code",
   "execution_count": null,
   "metadata": {
    "colab": {
     "base_uri": "https://localhost:8080/"
    },
    "executionInfo": {
     "elapsed": 8089,
     "status": "ok",
     "timestamp": 1694206578187,
     "user": {
      "displayName": "Carol Diaz",
      "userId": "03863088177087652040"
     },
     "user_tz": 180
    },
    "id": "Gdi23eAii-Qf",
    "outputId": "7c30224e-2967-4168-cd7a-805a421f7105"
   },
   "outputs": [],
   "source": [
    "name = input('Ingresa tu nombre: ')\n",
    "print(f'Mi nombre es {name}')"
   ]
  },
  {
   "cell_type": "markdown",
   "metadata": {
    "id": "1juzVYxFi-Qf"
   },
   "source": [
    "## <font color='blue'>**Operadores de comparación**</font>\n",
    "Hemos visto operadores de comparación anteriormente, pero repasemos rápidamente todos ellos:"
   ]
  },
  {
   "cell_type": "code",
   "execution_count": null,
   "metadata": {
    "colab": {
     "base_uri": "https://localhost:8080/"
    },
    "executionInfo": {
     "elapsed": 314,
     "status": "ok",
     "timestamp": 1694206581220,
     "user": {
      "displayName": "Carol Diaz",
      "userId": "03863088177087652040"
     },
     "user_tz": 180
    },
    "id": "-DrFXNAFi-Qf",
    "outputId": "a73f5dfd-15f0-4d94-875e-61af4b201bc1"
   },
   "outputs": [],
   "source": [
    "# Less Than (menor que)\n",
    "1 < 2"
   ]
  },
  {
   "cell_type": "code",
   "execution_count": null,
   "metadata": {
    "colab": {
     "base_uri": "https://localhost:8080/"
    },
    "executionInfo": {
     "elapsed": 13,
     "status": "ok",
     "timestamp": 1694206583459,
     "user": {
      "displayName": "Carol Diaz",
      "userId": "03863088177087652040"
     },
     "user_tz": 180
    },
    "id": "ohFFQCbKi-Qf",
    "outputId": "09208448-85f6-46d2-ee70-75d8db749ce1"
   },
   "outputs": [],
   "source": [
    "# Great Than (mayor que)\n",
    "1 > 2"
   ]
  },
  {
   "cell_type": "code",
   "execution_count": null,
   "metadata": {
    "colab": {
     "base_uri": "https://localhost:8080/"
    },
    "executionInfo": {
     "elapsed": 287,
     "status": "ok",
     "timestamp": 1694206585534,
     "user": {
      "displayName": "Carol Diaz",
      "userId": "03863088177087652040"
     },
     "user_tz": 180
    },
    "id": "NJNjNf58i-Qf",
    "outputId": "99ffd7ac-5ea0-4538-8ad9-8daf2d7cf05d"
   },
   "outputs": [],
   "source": [
    "# Check for equality (igualdad)\n",
    "1 == 1"
   ]
  },
  {
   "cell_type": "code",
   "execution_count": null,
   "metadata": {
    "colab": {
     "base_uri": "https://localhost:8080/"
    },
    "executionInfo": {
     "elapsed": 10,
     "status": "ok",
     "timestamp": 1694206587124,
     "user": {
      "displayName": "Carol Diaz",
      "userId": "03863088177087652040"
     },
     "user_tz": 180
    },
    "id": "Z1oZ0qWdi-Qg",
    "outputId": "20520f3f-c3db-4f24-fabf-709a3ac08c0f"
   },
   "outputs": [],
   "source": [
    "# Check for inequality (desigualdad)\n",
    "1 != 1"
   ]
  },
  {
   "cell_type": "code",
   "execution_count": null,
   "metadata": {
    "colab": {
     "base_uri": "https://localhost:8080/"
    },
    "executionInfo": {
     "elapsed": 13,
     "status": "ok",
     "timestamp": 1694206588660,
     "user": {
      "displayName": "Carol Diaz",
      "userId": "03863088177087652040"
     },
     "user_tz": 180
    },
    "id": "SA4BbgLFi-Qg",
    "outputId": "a86f90e9-2705-41e2-fa4d-f0adbe8efab7"
   },
   "outputs": [],
   "source": [
    "# Less than or equal to (menor o igua que)\n",
    "1 <= 3"
   ]
  },
  {
   "cell_type": "code",
   "execution_count": null,
   "metadata": {
    "colab": {
     "base_uri": "https://localhost:8080/"
    },
    "executionInfo": {
     "elapsed": 256,
     "status": "ok",
     "timestamp": 1694206590257,
     "user": {
      "displayName": "Carol Diaz",
      "userId": "03863088177087652040"
     },
     "user_tz": 180
    },
    "id": "2Li-BJpFi-Qg",
    "outputId": "3ec5771c-223c-4080-86a7-557b82388a29"
   },
   "outputs": [],
   "source": [
    "# Greater than of equal to (mayor o igual que)\n",
    "1 >= 1"
   ]
  },
  {
   "cell_type": "markdown",
   "metadata": {
    "id": "XHD6WXK-i-Qg"
   },
   "source": [
    "## <font color='blue'>**Operadores lógicos (_Logical Operators_)**</font>\n",
    "\n",
    "Ahora que conocemos los operadores de comparación, podemos usar operadores lógicos para combinar múltiples comparaciones (en general, múltiples declaraciones booleanas)"
   ]
  },
  {
   "cell_type": "markdown",
   "metadata": {
    "id": "M5OANatoi-Qg"
   },
   "source": [
    "### __El operador `and`__\n",
    "Úsalo cuando quieras comprobar que ambas declaraciones son verdaderas (`True`)"
   ]
  },
  {
   "cell_type": "code",
   "execution_count": null,
   "metadata": {
    "colab": {
     "base_uri": "https://localhost:8080/"
    },
    "executionInfo": {
     "elapsed": 12,
     "status": "ok",
     "timestamp": 1694206592962,
     "user": {
      "displayName": "Carol Diaz",
      "userId": "03863088177087652040"
     },
     "user_tz": 180
    },
    "id": "tAE0yWVKi-Qg",
    "outputId": "65171cb8-8565-4fb1-ef54-10ad86a9d593"
   },
   "outputs": [],
   "source": [
    "# Verdadero y Verdadero es Verdadero\n",
    "\n",
    "1 == 1 and 2 == 2"
   ]
  },
  {
   "cell_type": "code",
   "execution_count": null,
   "metadata": {
    "colab": {
     "base_uri": "https://localhost:8080/"
    },
    "executionInfo": {
     "elapsed": 326,
     "status": "ok",
     "timestamp": 1694206594784,
     "user": {
      "displayName": "Carol Diaz",
      "userId": "03863088177087652040"
     },
     "user_tz": 180
    },
    "id": "yO42QhZii-Qg",
    "outputId": "b22bb3a1-6129-4023-be05-ddd9ceab1145"
   },
   "outputs": [],
   "source": [
    "# Verdadero y Falso es Falso\n",
    "1 == 1 and 2 == 1"
   ]
  },
  {
   "cell_type": "code",
   "execution_count": null,
   "metadata": {
    "colab": {
     "base_uri": "https://localhost:8080/"
    },
    "executionInfo": {
     "elapsed": 279,
     "status": "ok",
     "timestamp": 1694206596311,
     "user": {
      "displayName": "Carol Diaz",
      "userId": "03863088177087652040"
     },
     "user_tz": 180
    },
    "id": "ycYdXMGbi-Qg",
    "outputId": "12e56c38-c5a2-4b0a-cdf3-c4150dd7004a"
   },
   "outputs": [],
   "source": [
    "# Falso y Falso es Falso\n",
    "1 == 2 and 2 == 1"
   ]
  },
  {
   "cell_type": "markdown",
   "metadata": {
    "id": "Y6fJnwPhi-Qg"
   },
   "source": [
    "### __El operador `or`__\n",
    "Úsalo cuando solo una declaración debe ser verdadera (`True`)"
   ]
  },
  {
   "cell_type": "code",
   "execution_count": null,
   "metadata": {
    "colab": {
     "base_uri": "https://localhost:8080/"
    },
    "executionInfo": {
     "elapsed": 432,
     "status": "ok",
     "timestamp": 1694206598742,
     "user": {
      "displayName": "Carol Diaz",
      "userId": "03863088177087652040"
     },
     "user_tz": 180
    },
    "id": "bu_VXEk_i-Qg",
    "outputId": "1593b98b-445f-46a6-9be4-90a97e6d9c38"
   },
   "outputs": [],
   "source": [
    "# Verdadero o Verdadero es Verdadero\n",
    "\n",
    "1 == 1 or 2 == 2"
   ]
  },
  {
   "cell_type": "code",
   "execution_count": null,
   "metadata": {
    "colab": {
     "base_uri": "https://localhost:8080/"
    },
    "executionInfo": {
     "elapsed": 12,
     "status": "ok",
     "timestamp": 1694206600920,
     "user": {
      "displayName": "Carol Diaz",
      "userId": "03863088177087652040"
     },
     "user_tz": 180
    },
    "id": "hx7L_BA_i-Qh",
    "outputId": "050004b8-f0ec-434a-ccb8-37cfd5242f09"
   },
   "outputs": [],
   "source": [
    "# Verdadero o Falso es Verdadero\n",
    "\n",
    "1 == 1 or 2 == 10"
   ]
  },
  {
   "cell_type": "code",
   "execution_count": null,
   "metadata": {
    "colab": {
     "base_uri": "https://localhost:8080/"
    },
    "executionInfo": {
     "elapsed": 590,
     "status": "ok",
     "timestamp": 1694206602769,
     "user": {
      "displayName": "Carol Diaz",
      "userId": "03863088177087652040"
     },
     "user_tz": 180
    },
    "id": "mZy0kIfTi-Qh",
    "outputId": "2ddb7f98-f83d-4289-ab18-483907b2a7c5"
   },
   "outputs": [],
   "source": [
    "# Falso o Falso es Falso\n",
    "\n",
    "1 == 2 or 2 == 10"
   ]
  },
  {
   "cell_type": "markdown",
   "metadata": {
    "id": "u97GZVV6i-Qh"
   },
   "source": [
    "### __El operador `not`__\n",
    "El operador `not`  invierte el valor booleano"
   ]
  },
  {
   "cell_type": "code",
   "execution_count": null,
   "metadata": {
    "colab": {
     "base_uri": "https://localhost:8080/"
    },
    "executionInfo": {
     "elapsed": 279,
     "status": "ok",
     "timestamp": 1694206604880,
     "user": {
      "displayName": "Carol Diaz",
      "userId": "03863088177087652040"
     },
     "user_tz": 180
    },
    "id": "Eg-LFIiCi-Qo",
    "outputId": "eb057c9a-4ced-4b24-8296-fd335471e51b"
   },
   "outputs": [],
   "source": [
    "not 1 == 1"
   ]
  },
  {
   "cell_type": "code",
   "execution_count": null,
   "metadata": {
    "colab": {
     "base_uri": "https://localhost:8080/"
    },
    "executionInfo": {
     "elapsed": 282,
     "status": "ok",
     "timestamp": 1694206606328,
     "user": {
      "displayName": "Carol Diaz",
      "userId": "03863088177087652040"
     },
     "user_tz": 180
    },
    "id": "a82Sn_Yzi-Qo",
    "outputId": "cee227df-a090-4ff2-8f9b-7c23a3588781"
   },
   "outputs": [],
   "source": [
    "# No es muy común ver algo como esto, pero funciona\n",
    "\n",
    "1 == 1 and not 2 == 3"
   ]
  },
  {
   "cell_type": "code",
   "execution_count": null,
   "metadata": {
    "colab": {
     "base_uri": "https://localhost:8080/"
    },
    "executionInfo": {
     "elapsed": 290,
     "status": "ok",
     "timestamp": 1694206608487,
     "user": {
      "displayName": "Carol Diaz",
      "userId": "03863088177087652040"
     },
     "user_tz": 180
    },
    "id": "tLpw4LN_i-Qo",
    "outputId": "270bb2d6-ecc8-48ed-ca30-a1ce52d0f33c"
   },
   "outputs": [],
   "source": [
    "# Un ejemplo más realista\n",
    "\n",
    "respuesta = 'no'\n",
    "if 1 == 1 and not respuesta == 'yes':\n",
    "    print(\"Exito!\")"
   ]
  },
  {
   "cell_type": "code",
   "execution_count": null,
   "metadata": {
    "colab": {
     "base_uri": "https://localhost:8080/"
    },
    "executionInfo": {
     "elapsed": 12,
     "status": "ok",
     "timestamp": 1694206609600,
     "user": {
      "displayName": "Carol Diaz",
      "userId": "03863088177087652040"
     },
     "user_tz": 180
    },
    "id": "4UTxu6HYi-Qo",
    "outputId": "1260f4f2-2e01-4bf8-ca6b-5447871c93f0"
   },
   "outputs": [],
   "source": [
    "# Lo mismo\n",
    "\n",
    "respuesta = 'no'\n",
    "if 1 ==1 and respuesta != 'yes':\n",
    "    print(\"Exito!\")"
   ]
  },
  {
   "cell_type": "markdown",
   "metadata": {
    "id": "qHL2SIMODKGz"
   },
   "source": [
    "## <font color='blue'>__Ejercicios__</font>"
   ]
  },
  {
   "cell_type": "markdown",
   "metadata": {
    "id": "e0AfElkEi-Qa"
   },
   "source": [
    "### <font color='green'>Actividad 1</font>\n",
    "### Crea una lista con enteros, partiendo desde 0, hasta 102, con paso 3\n"
   ]
  },
  {
   "cell_type": "code",
   "execution_count": null,
   "metadata": {
    "colab": {
     "base_uri": "https://localhost:8080/"
    },
    "executionInfo": {
     "elapsed": 310,
     "status": "ok",
     "timestamp": 1694206613552,
     "user": {
      "displayName": "Carol Diaz",
      "userId": "03863088177087652040"
     },
     "user_tz": 180
    },
    "id": "EwamL41bi-Qa",
    "outputId": "ce571778-31d7-4717-b9a2-792b06f70623"
   },
   "outputs": [],
   "source": [
    "# Tu código aquí ...\n",
    "lista= []\n",
    "\n",
    "for ka in range(0,103, 3):\n",
    "  lista.append(ka)\n",
    "\n",
    "print(lista)\n"
   ]
  },
  {
   "cell_type": "markdown",
   "metadata": {
    "id": "IeKtYD12i-Qb"
   },
   "source": [
    "<font color='green'>Fin actividad 1</font>"
   ]
  },
  {
   "cell_type": "markdown",
   "metadata": {
    "id": "ss2-CMHXi-Qo"
   },
   "source": [
    "### <font color='green'>Actividad 2: </font>\n",
    "### Trabajando con Operadores Lógicos\n",
    "¿Cuál es el resultado (`True` o `False`) de una expresión como esta?\n",
    "```Python\n",
    "    True and False or True and False\n",
    "```"
   ]
  },
  {
   "cell_type": "code",
   "execution_count": null,
   "metadata": {
    "colab": {
     "base_uri": "https://localhost:8080/"
    },
    "executionInfo": {
     "elapsed": 287,
     "status": "ok",
     "timestamp": 1694206617979,
     "user": {
      "displayName": "Carol Diaz",
      "userId": "03863088177087652040"
     },
     "user_tz": 180
    },
    "id": "FMB_mAgNi-Qo",
    "outputId": "a8c83f0d-f904-4583-a1d3-18698d8acd23"
   },
   "outputs": [],
   "source": [
    "# Tu código aquí ...\n",
    "\n",
    "True and False or True and False\n",
    "\n",
    "# (True and False) or (True and False)"
   ]
  },
  {
   "cell_type": "markdown",
   "metadata": {
    "id": "cBa_LAqTi-Qo"
   },
   "source": [
    "<font color='green'>Fin actividad 2</font>"
   ]
  },
  {
   "cell_type": "markdown",
   "metadata": {
    "id": "JOa6s2qji-Qo"
   },
   "source": [
    "### <font color='green'>Actividad 3: </font>\n",
    "### Trabajando con Operadores Lógicos\n",
    "\n",
    "¿Cuál es el resultado (`True` o `False`) de una expresión como esta?\n",
    "```Python\n",
    "    True or False and True or False\n",
    "```"
   ]
  },
  {
   "cell_type": "code",
   "execution_count": null,
   "metadata": {
    "colab": {
     "base_uri": "https://localhost:8080/"
    },
    "executionInfo": {
     "elapsed": 296,
     "status": "ok",
     "timestamp": 1694206621709,
     "user": {
      "displayName": "Carol Diaz",
      "userId": "03863088177087652040"
     },
     "user_tz": 180
    },
    "id": "YiYZUd0hi-Qo",
    "outputId": "57e141d1-0158-4d1a-d83c-454e37e5063d"
   },
   "outputs": [],
   "source": [
    "# Tu código aquí ...\n",
    "\n",
    "True or False and True or False\n",
    "\n",
    "# True or (False and True) or False\n"
   ]
  },
  {
   "cell_type": "markdown",
   "metadata": {
    "id": "PnYgZTfai-Qp"
   },
   "source": [
    "<font color='green'>Fin actividad 3</font>"
   ]
  },
  {
   "cell_type": "markdown",
   "metadata": {
    "id": "wQaVU3zAi-Qp"
   },
   "source": [
    "### <font color='green'>Actividad 4: </font>\n",
    "### Trabajando con Operadores Lógicos\n",
    "Escribe una expresión como la siguiente, pero usando números\n",
    "```Python\n",
    "    True or False and True or False\n",
    "```\n",
    "Tip:\n",
    "```Python\n",
    "    1 == 1\n",
    "    True\n",
    "```"
   ]
  },
  {
   "cell_type": "code",
   "execution_count": null,
   "metadata": {
    "colab": {
     "base_uri": "https://localhost:8080/"
    },
    "executionInfo": {
     "elapsed": 399,
     "status": "ok",
     "timestamp": 1694206625649,
     "user": {
      "displayName": "Carol Diaz",
      "userId": "03863088177087652040"
     },
     "user_tz": 180
    },
    "id": "6Zh3OQZji-Qp",
    "outputId": "322da796-aa22-488e-d751-827111e3ee1c"
   },
   "outputs": [],
   "source": [
    "# Tu código aquí ...\n",
    "\n",
    "1 == 1 or 1 == 2 and 3 == 3 or 5 == 4\n",
    "\n",
    "# (1 == 1) or (1 == 2 and 3 == 3) or (5 == 4)"
   ]
  },
  {
   "cell_type": "markdown",
   "metadata": {
    "id": "q9Whm0tIi-Qp"
   },
   "source": [
    "<font color='green'>Fin actividad 4</font>"
   ]
  }
 ],
 "metadata": {
  "colab": {
   "provenance": [
    {
     "file_id": "1r1w4_KlL0ceqQmf5Kq1vPi1TCBCkCufp",
     "timestamp": 1692973239980
    }
   ]
  },
  "kernelspec": {
   "display_name": "Python 3 (ipykernel)",
   "language": "python",
   "name": "python3"
  },
  "language_info": {
   "codemirror_mode": {
    "name": "ipython",
    "version": 3
   },
   "file_extension": ".py",
   "mimetype": "text/x-python",
   "name": "python",
   "nbconvert_exporter": "python",
   "pygments_lexer": "ipython3",
   "version": "3.8.11"
  }
 },
 "nbformat": 4,
 "nbformat_minor": 0
}
