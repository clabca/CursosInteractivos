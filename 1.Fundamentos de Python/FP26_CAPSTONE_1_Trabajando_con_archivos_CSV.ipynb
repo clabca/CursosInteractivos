{
 "cells": [
  {
   "cell_type": "markdown",
   "metadata": {
    "id": "5W9zR2MLFuFy"
   },
   "source": [
    "# **Introducción a Python**\n",
    "# FP28. Capstone 1\n",
    "## Trabajando con archivos CSV\n",
    "\n",
    "¡Bienvenido Agente! Analicemos cómo trabajar con archivos CSV (**Comma Separeted Values**) en Python. Un archivo con la extensión de archivo CSV es un archivo de valores separados por comas. Todos los archivos CSV son de texto sin formato, contienen caracteres alfanuméricos y estructuran los datos contenidos en ellos en forma tabular. No confunda los archivos de Excel con los archivos csv, mientras que los archivos csv tienen un formato muy similar al de los archivos de Excel, no tienen tipos de datos para sus valores, todos son cadenas sin fuente ni color. Tampoco tienen hojas de trabajo como lo hace un archivo de Excel. Python tiene varias bibliotecas para trabajar con archivos de Excel, puede consultarlas [aquí](http://www.python-excel.org/) y [aquí](https://www.xlwings.org/).\n",
    "\n",
    "Los archivos en formato CSV se utilizan generalmente para intercambiar datos, generalmente cuando hay una gran cantidad, entre diferentes aplicaciones. Los programas de bases de datos, el software analítico y otras aplicaciones que almacenan cantidades masivas de información (como contactos y datos de clientes), generalmente admitirán el formato CSV.\n",
    "\n",
    "Exploremos cómo podemos abrir un archivo csv con la biblioteca csv incorporada de Python."
   ]
  },
  {
   "cell_type": "markdown",
   "metadata": {
    "id": "PVRFLMirFuF1"
   },
   "source": [
    "## <font color='green'>Misión</font>\n",
    "\n",
    "Has conseguido acceso a un archivo clasificado de agentes.\n",
    "Tu misión consiste en lo siguiente:<br>\n",
    "1. Abrir el archivo\n",
    "2. Leer el archivo\n",
    "3. Interpreta qué tipo de información tiene el archivo\n",
    "4. Extrae los emails del archivo\n",
    "5. Extrae los nombres reales completos\n",
    "6. Escribe en un archivo csv nuevo"
   ]
  },
  {
   "cell_type": "markdown",
   "metadata": {
    "id": "DzZxvrLgFuF2"
   },
   "source": [
    "## <font color='green'>Actividad 1:</font> Abrir archivo CSV\n",
    "\n",
    "Nombre del archivo: *agentes.csv*\n",
    "\n",
    "TIP:\n",
    "\n",
    "1. Utiliza la sentencia  `with open()`\n",
    "```python\n",
    "with open(nombre archivo) ...\n",
    "```\n",
    "2. Utiliza la librería `cvs`; investiga su uso"
   ]
  },
  {
   "cell_type": "code",
   "execution_count": null,
   "metadata": {
    "colab": {
     "base_uri": "https://localhost:8080/"
    },
    "id": "A6lH4Ku90KbK",
    "outputId": "26ccaa51-4994-4108-e58b-055b57f22fe6"
   },
   "outputs": [],
   "source": [
    "from google.colab import drive\n",
    "drive.mount('/content/drive')"
   ]
  },
  {
   "cell_type": "markdown",
   "metadata": {
    "id": "NbYrxbMp95LX"
   },
   "source": [
    "# Investigacion Libreria CSV\n",
    "\n",
    "La librería `csv` en Python se utiliza para trabajar con archivos CSV (Comma-Separated Values),\n",
    "que son un formato común para almacenar datos tabulares.\n",
    "A continuación, información sobre cómo usar la librería `csv` en Python:\n",
    "\n",
    "La librería `csv` es parte de la biblioteca estándar de Python,\n",
    "por lo que no es necesario instalarla por separado.\n",
    "Puedes usarla importándola en tu código:\n",
    "\n",
    "import csv\n",
    "\n",
    "cómo realizar algunas operaciones comunes utilizando la librería `csv`:\n",
    "\n",
    "1. **Lectura de archivos CSV:**\n",
    "\n",
    "   Puedes abrir y leer un archivo CSV de la siguiente manera:\n",
    "\n",
    "\n",
    "    with open('archivo.csv', 'r') as archivo_csv:\n",
    "       lector_csv = csv.reader(archivo_csv)\n",
    "       for fila in lector_csv:\n",
    "           print(fila)\n",
    "\n",
    "   Esto abrirá el archivo CSV llamado \"archivo.csv\" y lo leerá fila por fila.\n",
    "\n",
    "2. **Escritura en archivos CSV:**\n",
    "\n",
    "   Puedes crear y escribir en un archivo CSV de la siguiente manera:\n",
    "\n",
    "   datos = [\n",
    "       [\"Nombre\", \"Edad\"],\n",
    "       [\"Juan\", 25],\n",
    "       [\"María\", 30],\n",
    "       [\"Carlos\", 22]\n",
    "   ]\n",
    "\n",
    "    with open('nuevo_archivo.csv', 'w', newline='') as archivo_csv:\n",
    "        escritor_csv = csv.writer(archivo_csv)\n",
    "        escritor_csv.writerows(datos)\n",
    "\n",
    "\n",
    "   Esto creará un nuevo archivo CSV llamado \"nuevo_archivo.csv\" y escribirá los datos en él.\n",
    "\n",
    "Documentacion Oficial\n",
    "\n",
    "https://docs.python.org/es/3/library/csv.html\n",
    "\n",
    "'''"
   ]
  },
  {
   "cell_type": "code",
   "execution_count": null,
   "metadata": {
    "colab": {
     "base_uri": "https://localhost:8080/"
    },
    "id": "A5sN63JLyMsW",
    "outputId": "4b80b4ce-d031-4e04-bf11-67159b9d77f0"
   },
   "outputs": [],
   "source": [
    "import csv\n",
    "\n",
    "\n",
    "with open('/content/drive/MyDrive/Colab Notebooks/Diplomado Ciencia de Datos UDD/01 Fundamentos de Python/Archivos Con Cambios/Archivos/example.csv') as data:\n",
    "  print(data)"
   ]
  },
  {
   "cell_type": "markdown",
   "metadata": {
    "id": "BlpSPXvIFuF4"
   },
   "source": [
    "## <font color='green'>Actividad 2:</font> Leer archivo CSV y verificar codificación\n",
    "\n",
    "Confirma que *agentes.csv* se abrió correctamente. Lee el archivo y verifica si está bien codificado. En algunos entornos de Python, los archivos csv pueden contener caracteres que no pueden interpretarse correctamente; los símbolos `@`, o incluso caracteres con tildes pueden producir esto.\n",
    "\n",
    "TIP:\n",
    "\n",
    "1. Para leer utiliza la función `reader` de la libreria `csv`\n",
    "2. Si la lectura tuvo problemas, vuelve al abrir el archivo con `encoding='utf-8'`. Utiliza la función\n",
    "```python\n",
    "with open(nombre archivo, encoding=\"utf-8\") ...\n",
    "```\n",
    "3. Investiga en interner más sobre cómo leer archivos cvs en Python\n",
    "4. Imprime la primera y tercera línea del archivo"
   ]
  },
  {
   "cell_type": "code",
   "execution_count": null,
   "metadata": {
    "colab": {
     "base_uri": "https://localhost:8080/"
    },
    "id": "NC0xoM1cFuF4",
    "outputId": "14e301bf-7d7e-4575-aad7-4c5e467580e5"
   },
   "outputs": [],
   "source": [
    "# Tu código aquí ...\n",
    "with open('/content/drive/MyDrive/Colab Notebooks/Diplomado Ciencia de Datos UDD/01 Fundamentos de Python/Archivos Con Cambios/Archivos/example.csv') as data:\n",
    "  # print(data)\n",
    "  csv_data = csv.reader(data)\n",
    "  data_lines = list(csv_data)\n",
    "  print(data_lines[0], '\\n')\n",
    "  print(data_lines[2])\n"
   ]
  },
  {
   "cell_type": "markdown",
   "metadata": {
    "id": "pnXhb06WFuF5"
   },
   "source": [
    "Ten en cuenta que el primer elemento de la lista es la línea de encabezado, la cual contiene la información sobre lo que representa cada columna."
   ]
  },
  {
   "cell_type": "markdown",
   "metadata": {
    "id": "VdF1vKtCFuF5"
   },
   "source": [
    "## <font color='green'>Actividad 3:</font> Qué información tiene el archivo?\n",
    "\n",
    "Lee las tres primeras líneas e imprímelas para verificar qué tipo de información tiene el archivo.\n",
    "\n",
    "1. Cuántos campos tiene cada registro?\n",
    "2. Cuantos regitros tiene el archivo?"
   ]
  },
  {
   "cell_type": "code",
   "execution_count": null,
   "metadata": {
    "colab": {
     "base_uri": "https://localhost:8080/"
    },
    "id": "tDU3RhW9FuF5",
    "outputId": "87db55ae-10fb-4cbd-cebf-cf0465379ed1"
   },
   "outputs": [],
   "source": [
    "# Tu código aquí...\n",
    "\n",
    "with open('/content/drive/MyDrive/Colab Notebooks/Diplomado Ciencia de Datos UDD/01 Fundamentos de Python/Archivos Con Cambios/Archivos/example.csv') as data:\n",
    "    csv_data = csv.reader(data)\n",
    "    data_lines = list(csv_data)\n",
    "    for linea in data_lines[:3]:\n",
    "        print(linea, end='\\n\\n')\n",
    "    campos = len(data_lines[0])\n",
    "    print(f'Cada registro tiene {campos} campos\\n')\n",
    "    registros = len(data_lines) - 1\n",
    "    print(f'El archivo tiene {registros} registros')"
   ]
  },
  {
   "cell_type": "markdown",
   "metadata": {
    "id": "OHG8veyMFuF6"
   },
   "source": [
    "## <font color='green'>Actividad 4:</font> Extrae los emails si existen?\n",
    "\n",
    "1. Extrae los 20 primeros emails de los registros; si es que existen, por supuesto!!<br>\n",
    "2. Guárdalos en una lista y comprueba que sean 20.\n",
    "3. Imprímelos hacia abajo desde la lista ."
   ]
  },
  {
   "cell_type": "code",
   "execution_count": null,
   "metadata": {
    "colab": {
     "base_uri": "https://localhost:8080/"
    },
    "id": "a1GlLrOHFuF6",
    "outputId": "52c41584-2cc6-45ec-a0b3-8572607f5688"
   },
   "outputs": [],
   "source": [
    "# Tu código aquí ...\n",
    "\n",
    "emails = []\n",
    "\n",
    "with open('/content/drive/MyDrive/Colab Notebooks/Diplomado Ciencia de Datos UDD/01 Fundamentos de Python/Archivos Con Cambios/Archivos/example.csv') as data:\n",
    "\n",
    "    csv_data = csv.reader(data)\n",
    "    data_lines = list(csv_data)\n",
    "    for linea in data_lines[1:21]:\n",
    "        emails.append(linea[3])\n",
    "\n",
    "print(f'Se extaen los primeros {len(emails)} mails\\n')\n",
    "for email in emails:\n",
    "    print(f'{email}')\n"
   ]
  },
  {
   "cell_type": "markdown",
   "metadata": {
    "id": "RGbpwLu0FuF7"
   },
   "source": [
    "## <font color='green'>Actividad 5:</font> Extrae los nombres reales completos\n",
    "\n",
    "1. Extrae los 20 primeros nombres completos **de mujeres** de los registros.\n",
    "2. Guárdalos en una lista y comprueba que sean 20.\n",
    "3. Imprímelos desde la lista ordenada ascendente."
   ]
  },
  {
   "cell_type": "code",
   "execution_count": null,
   "metadata": {
    "colab": {
     "base_uri": "https://localhost:8080/"
    },
    "id": "ds3pqYWjFuF7",
    "outputId": "b055a921-cea4-47ae-d428-6f4157eaefe9"
   },
   "outputs": [],
   "source": [
    "# Tu código aquí ...\n",
    "\n",
    "nombres = []\n",
    "cont = 0\n",
    "with open('/content/drive/MyDrive/Colab Notebooks/Diplomado Ciencia de Datos UDD/01 Fundamentos de Python/Archivos Con Cambios/Archivos/example.csv') as data:\n",
    "    csv_data = csv.reader(data)\n",
    "    data_lines = list(csv_data)\n",
    "    for linea in data_lines:\n",
    "        if linea[4] == 'Female':\n",
    "            nombres.append(f'{linea[1]} {linea[2]}')\n",
    "            cont += 1\n",
    "            if cont == 20:\n",
    "                break\n",
    "\n",
    "nombres.sort()\n",
    "\n",
    "print(f'Se extaen los primeros {len(nombres)} nombres')\n",
    "print('Orden ascendente\\n')\n",
    "for nombre in nombres:\n",
    "    print(f'{nombre}')"
   ]
  },
  {
   "cell_type": "markdown",
   "metadata": {
    "id": "892js788FuF7"
   },
   "source": [
    "## <font color='green'>Actividad 6:</font> Escribe en un archivo csv nuevo\n",
    "\n",
    "Toma los nombres de la Tarea 5 y escríbelos en un archivo *cvs*. Llama al archivo *agentes_vigilar*\n",
    "\n",
    "Tips:\n",
    "1. Abre un archivo nuevo en modo escritura (modo `w`).\n",
    "2. Escribe en él desde la lista de la Tarea 5, utilizando un ciclo `for` y el método `writerow` de la librería `csv`.\n",
    "3. Verifica la correcta escritura: abre el archivo y lee su contenido.\n"
   ]
  },
  {
   "cell_type": "code",
   "execution_count": null,
   "metadata": {
    "colab": {
     "base_uri": "https://localhost:8080/"
    },
    "id": "bXr-udU4FuF8",
    "outputId": "e18db4d4-a053-45ad-8e86-5e641e899eb3"
   },
   "outputs": [],
   "source": [
    "# Tu código aquí ...\n",
    "\n",
    "out_file = '/content/drive/MyDrive/Colab Notebooks/Diplomado Ciencia de Datos UDD/01 Fundamentos de Python/Archivos Con Cambios/Archivos/agentes_vigilar.csv'\n",
    "with open(out_file, mode='w') as csv_out:\n",
    "    csv_writer = csv.writer(csv_out,  delimiter=',')\n",
    "    for linea in nombres:\n",
    "        csv_writer.writerow([linea])\n",
    "\n",
    "in_file = '/content/drive/MyDrive/Colab Notebooks/Diplomado Ciencia de Datos UDD/01 Fundamentos de Python/Archivos Con Cambios/Archivos/agentes_vigilar.csv'\n",
    "with open(in_file) as data:\n",
    "    csv_reader = csv.reader(data, delimiter=',')\n",
    "    dl = list(csv_reader)\n",
    "\n",
    "    for nombre in dl:\n",
    "        print(f'{nombre[0]}')"
   ]
  },
  {
   "cell_type": "markdown",
   "metadata": {
    "id": "09fTVF7IFuF8"
   },
   "source": [
    "En Python se trabaja con archivos CSV con frecuencia. Más adelante trabajarás con la poderosa biblioteca [`pandas`](https://pandas.pydata.org/) y en ella es frecuente su uso."
   ]
  }
 ],
 "metadata": {
  "colab": {
   "provenance": []
  },
  "kernelspec": {
   "display_name": "Python 3 (ipykernel)",
   "language": "python",
   "name": "python3"
  },
  "language_info": {
   "codemirror_mode": {
    "name": "ipython",
    "version": 3
   },
   "file_extension": ".py",
   "mimetype": "text/x-python",
   "name": "python",
   "nbconvert_exporter": "python",
   "pygments_lexer": "ipython3",
   "version": "3.8.11"
  }
 },
 "nbformat": 4,
 "nbformat_minor": 0
}
