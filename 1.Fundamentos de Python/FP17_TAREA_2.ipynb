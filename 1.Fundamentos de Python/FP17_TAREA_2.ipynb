{
 "cells": [
  {
   "cell_type": "markdown",
   "metadata": {
    "id": "KjnJ9uhgms3u"
   },
   "source": [
    "# **Introducción a Python**\n",
    "# FP17. Tarea 2\n",
    "\n",
    "Hola hackers. Aquí tienes una nueva tarea, la cual debes desarrollar una vez terminado el notebook **FP16**\n"
   ]
  },
  {
   "cell_type": "markdown",
   "metadata": {
    "id": "CcbQX_r3ms3x"
   },
   "source": [
    "## <font color='green'>Actividad 1: Challenging</font>\n",
    "Usa un ciclo `for` y e *indexing* para imprimir solo las palabras que comienzan con **p** en esta oración:\n",
    "```python\n",
    "     \"Saber programar en Python nos enseña a pensar\".\n",
    "```\n",
    "Tips:\n",
    "1. Utiliza el método `split()` para dividir la oración en palabras individuales\n",
    "2. Utiliza el método `lower()` para convertir todas las letras a minúsculas. Recuerda que **p** no es igual a **P**\n",
    "3. Utilice un bucle `for` para iterar sobre las palabras de la cadena **mystring**"
   ]
  },
  {
   "cell_type": "code",
   "execution_count": null,
   "metadata": {
    "executionInfo": {
     "elapsed": 15,
     "status": "ok",
     "timestamp": 1694206850647,
     "user": {
      "displayName": "Carol Diaz",
      "userId": "03863088177087652040"
     },
     "user_tz": 180
    },
    "id": "PTeLbL4rms3y"
   },
   "outputs": [],
   "source": [
    "mystring = \"Saber programar en Python nos enseña a pensar.\""
   ]
  },
  {
   "cell_type": "code",
   "execution_count": null,
   "metadata": {
    "colab": {
     "base_uri": "https://localhost:8080/"
    },
    "executionInfo": {
     "elapsed": 14,
     "status": "ok",
     "timestamp": 1694206853305,
     "user": {
      "displayName": "Carol Diaz",
      "userId": "03863088177087652040"
     },
     "user_tz": 180
    },
    "id": "RzUZJHIPms3z",
    "outputId": "de828c33-7c1c-4ac2-95bd-d7ec7ac02d52"
   },
   "outputs": [],
   "source": [
    "\n",
    "# Tu código aquí ...\n",
    "for palabra in mystring.split():\n",
    "\n",
    "    primera_letra = palabra.lower()[0]\n",
    "\n",
    "    if primera_letra == 'p':\n",
    "        print(palabra)\n",
    "\n"
   ]
  },
  {
   "cell_type": "code",
   "execution_count": null,
   "metadata": {
    "colab": {
     "base_uri": "https://localhost:8080/"
    },
    "executionInfo": {
     "elapsed": 309,
     "status": "ok",
     "timestamp": 1694206857751,
     "user": {
      "displayName": "Carol Diaz",
      "userId": "03863088177087652040"
     },
     "user_tz": 180
    },
    "id": "qJeSswrAuLPr",
    "outputId": "dbe2b96a-daf8-4590-942d-6af81b25529c"
   },
   "outputs": [],
   "source": [
    "# CODIGO ALTERNATIVO\n",
    "mystring = \"Saber programar en Python nos enseña a pensar.\"\n",
    "\n",
    "palabras = mystring.split() # Dividir la oración en palabras individuales\n",
    "\n",
    "palabras_en_minusculas = [palabra.lower() for palabra in palabras] # Convertir todas las letras a minúsculas\n",
    "\n",
    "for palabra in palabras:\n",
    "    if palabra.startswith('p') or palabra.startswith('P'):\n",
    "        print(palabra)\n"
   ]
  },
  {
   "cell_type": "markdown",
   "metadata": {
    "id": "bSFl_p36ms30"
   },
   "source": [
    "Tu salida debería verse como esto:\n",
    "\n",
    "```Python\n",
    "programar\n",
    "Python\n",
    "pensar.\n",
    "```"
   ]
  },
  {
   "cell_type": "markdown",
   "metadata": {
    "id": "KX2jIJYhms31"
   },
   "source": [
    "## <font color='green'>Actividad 2: Challenging</font>\n",
    "Usando la misma cadena que se usó anteriormente (**mystring**):\n",
    "```python\n",
    "mystring = \"Saber programar en Python nos enseña a pensar\".\n",
    "```\n",
    "\n",
    "Usa un bucle `for` para imprimir solo las palabras con un número par de caracteres / letras.\n",
    "\n",
    "Tips:\n",
    "1. Utiliza el método `split()` para dividir la oración en palabras individuales\n",
    "2. Para obtener la longitud de una palabra, puede usar el método `len()`.\n",
    "```python\n",
    "     len (mi_variable_aquí)\n",
    "```\n",
    "3. Recuerda el uso del operador `%`. Devuelve el módulo de una división.\n",
    "```python\n",
    "     if len (my_variable_here)% 2 == 0:\n",
    "```\n",
    "4. Imprime usando la función `print()` y `f-strings`"
   ]
  },
  {
   "cell_type": "code",
   "execution_count": null,
   "metadata": {
    "colab": {
     "base_uri": "https://localhost:8080/"
    },
    "executionInfo": {
     "elapsed": 325,
     "status": "ok",
     "timestamp": 1694206872913,
     "user": {
      "displayName": "Carol Diaz",
      "userId": "03863088177087652040"
     },
     "user_tz": 180
    },
    "id": "yxgfKQG5ms32",
    "outputId": "7527bf90-4ce0-4293-b29f-2d02a0d35d10"
   },
   "outputs": [],
   "source": [
    "# Tu código aquí ...\n",
    "\n",
    "for palabra in mystring.split():\n",
    "    if len(palabra) % 2 == 0:\n",
    "        print(palabra)"
   ]
  },
  {
   "cell_type": "code",
   "execution_count": null,
   "metadata": {
    "colab": {
     "base_uri": "https://localhost:8080/"
    },
    "executionInfo": {
     "elapsed": 13,
     "status": "ok",
     "timestamp": 1693023586956,
     "user": {
      "displayName": "JAVIER ANDRES GONZALEZ",
      "userId": "16506599148398782727"
     },
     "user_tz": 240
    },
    "id": "PLhoSF8ZxLJO",
    "outputId": "b56d8fbf-a95d-4285-e975-5f8890ec0541"
   },
   "outputs": [],
   "source": [
    "# CODIGO ALTERNATIVO\n",
    "mystring = \"Saber programar en Python nos enseña a pensar.\"\n",
    "\n",
    "palabras = mystring.split()\n",
    "\n",
    "for palabra in palabras:\n",
    "    if len(palabra)%2 == 0:\n",
    "      print(f'{palabra}')"
   ]
  },
  {
   "cell_type": "markdown",
   "metadata": {
    "id": "FYgMDpdfms32"
   },
   "source": [
    "Tu salida debería verse como esto:\n",
    "\n",
    "```Python\n",
    "en\n",
    "Python\n",
    "enseña\n",
    "```"
   ]
  },
  {
   "cell_type": "markdown",
   "metadata": {
    "id": "uCaqqVHRms33"
   },
   "source": [
    "## <font color='green'>Actividad 3:</font>\n",
    "\n",
    "Utiliza un **list comprehension** para crear una lista de cada primera letra de esta cadena:\n",
    "```python\n",
    "     mystring = \"Saber programar en Python nos enseña a pensar.\"\n",
    "```\n",
    "Tip:\n",
    "1. Utiliza la estructura básica de una lista de comprensión\n",
    "```Python\n",
    "[variable for variable in mystring.split()]\n",
    "```\n",
    "2. Utiliza **indexing** para obtener la primera letra de cada palabra, de esta forma:\n",
    "```Python\n",
    "variable [n] # n es la posición de la letra\n",
    "```"
   ]
  },
  {
   "cell_type": "code",
   "execution_count": null,
   "metadata": {
    "executionInfo": {
     "elapsed": 281,
     "status": "ok",
     "timestamp": 1694206877880,
     "user": {
      "displayName": "Carol Diaz",
      "userId": "03863088177087652040"
     },
     "user_tz": 180
    },
    "id": "XKt_IWeoms33"
   },
   "outputs": [],
   "source": [
    "mystring = \"Saber programar en Python nos enseña a pensar.\""
   ]
  },
  {
   "cell_type": "code",
   "execution_count": null,
   "metadata": {
    "colab": {
     "base_uri": "https://localhost:8080/"
    },
    "executionInfo": {
     "elapsed": 13,
     "status": "ok",
     "timestamp": 1694206879930,
     "user": {
      "displayName": "Carol Diaz",
      "userId": "03863088177087652040"
     },
     "user_tz": 180
    },
    "id": "LLPKTuwVms33",
    "outputId": "09f5016e-5356-4ea9-c757-4d31241a490b"
   },
   "outputs": [],
   "source": [
    "# Tu código aquí ...\n",
    "\n",
    "[palabra[0] for palabra in mystring.split()]"
   ]
  },
  {
   "cell_type": "markdown",
   "metadata": {
    "id": "aQBbsjoims34"
   },
   "source": [
    "Tu salida debería verse como esto:\n",
    "\n",
    "```Python\n",
    "['S', 'p', 'e', 'P', 'n', 'e', 'a', 'p']\n",
    "```"
   ]
  },
  {
   "cell_type": "markdown",
   "metadata": {
    "id": "qmUnlsVkms34"
   },
   "source": [
    "## <font color='green'>Actividad 4:</font>\n",
    "\n",
    "Utiliza **list comprehension** para crear una lista de todos los números pares del 0 al 10.\n",
    "\n",
    "Tip:\n",
    "1. Ver y revisar **FP16-List-Comprehensions.ipynb**\n",
    "2. Combina una declaración **if** dentro de la **list-comprehensions**."
   ]
  },
  {
   "cell_type": "code",
   "execution_count": null,
   "metadata": {
    "colab": {
     "base_uri": "https://localhost:8080/"
    },
    "executionInfo": {
     "elapsed": 279,
     "status": "ok",
     "timestamp": 1694206883458,
     "user": {
      "displayName": "Carol Diaz",
      "userId": "03863088177087652040"
     },
     "user_tz": 180
    },
    "id": "t7LqdA6Yms34",
    "outputId": "83eff9cf-1b4f-4d27-dd32-97bb2eb07cc0"
   },
   "outputs": [],
   "source": [
    "# Tu Código aquí ...\n",
    "\n",
    "[n for n in range(0,11) if n%2==0]"
   ]
  },
  {
   "cell_type": "code",
   "execution_count": null,
   "metadata": {
    "colab": {
     "base_uri": "https://localhost:8080/"
    },
    "executionInfo": {
     "elapsed": 222,
     "status": "ok",
     "timestamp": 1693020327234,
     "user": {
      "displayName": "JAVIER ANDRES GONZALEZ",
      "userId": "16506599148398782727"
     },
     "user_tz": 240
    },
    "id": "b5Avbphh3pQi",
    "outputId": "ebfc9278-76a4-431b-9c8b-ad824dd780d3"
   },
   "outputs": [],
   "source": [
    "# CODIGO ALTERNATIVO\n",
    "num_pares = []\n",
    "\n",
    "for n in range(0,11):\n",
    "  if n%2==0:\n",
    "    num_pares.append(n)\n",
    "\n",
    "print(num_pares)\n"
   ]
  },
  {
   "cell_type": "markdown",
   "metadata": {
    "id": "ROK7mAeums35"
   },
   "source": [
    "Tu salida debería verse como esto:\n",
    "```Python\n",
    "[0, 2, 4, 6, 8, 10]\n",
    "```"
   ]
  },
  {
   "cell_type": "markdown",
   "metadata": {
    "id": "QTPHXK3gms35"
   },
   "source": [
    "## <font color='green'>Actividad 5:</font>\n",
    "\n",
    "Utiliza la función de `range()` para crear una lista de todos los números pares del 0 al 10.\n",
    "\n",
    "Tip:\n",
    "\n",
    "Recuerda que la función `rango()` tiene un parámetro de paso"
   ]
  },
  {
   "cell_type": "code",
   "execution_count": null,
   "metadata": {
    "colab": {
     "base_uri": "https://localhost:8080/"
    },
    "id": "Ag3Clmlzms35",
    "outputId": "f1ab9430-fc93-41bb-ed9b-8a50a660ed36"
   },
   "outputs": [],
   "source": [
    "# Tu Código aquí ...\n",
    "\n",
    "list(range(0,11,2))"
   ]
  },
  {
   "cell_type": "markdown",
   "metadata": {
    "id": "0T48wc6Zms36"
   },
   "source": [
    "Tu salida debería verse como esto:\n",
    "\n",
    "```Python\n",
    "[0, 2, 4, 6, 8, 10]\n",
    "```"
   ]
  },
  {
   "cell_type": "markdown",
   "metadata": {
    "id": "rTpSREdFms36"
   },
   "source": [
    "## <font color='green'>Actividad 6:</font>\n",
    "\n",
    "Crea un bucle `for` que utilice la biblioteca `random` para generar una lista de 10 números aleatorios. <br>\n",
    "Los números aleatorios deben estar entre 10 y 1000.\n",
    "\n",
    "Tip:\n",
    "1. Necesitas crear una lista vacía para almacenar los números\n",
    "```Python\n",
    "mylist = []\n",
    "```\n",
    "2. Recuerda agregar el elemento a la lista usando el método `append()`\n",
    "```Python\n",
    "mylist.append (algo)\n",
    "```\n",
    "2. Necesitas utilizar las siguientes funciones\n",
    "```Python\n",
    "random.randint (10,1000)\n",
    "rango (0,10)\n",
    "```"
   ]
  },
  {
   "cell_type": "code",
   "execution_count": null,
   "metadata": {
    "colab": {
     "base_uri": "https://localhost:8080/"
    },
    "id": "dm1kXvXnms36",
    "outputId": "8b963f2a-c60c-4603-a8ab-905ff6d4c1a3"
   },
   "outputs": [],
   "source": [
    "# Tu código aquí ...\n",
    "import random\n",
    "res = []\n",
    "for x in range(0,10):\n",
    "    res.append(random.randint(0,100))\n",
    "print(res)\n"
   ]
  },
  {
   "cell_type": "code",
   "execution_count": null,
   "metadata": {
    "colab": {
     "base_uri": "https://localhost:8080/"
    },
    "executionInfo": {
     "elapsed": 241,
     "status": "ok",
     "timestamp": 1693020553116,
     "user": {
      "displayName": "JAVIER ANDRES GONZALEZ",
      "userId": "16506599148398782727"
     },
     "user_tz": 240
    },
    "id": "bW5cfKXK4oCR",
    "outputId": "ec430347-80f6-4276-caa0-ecec369e72c0"
   },
   "outputs": [],
   "source": [
    "# CODIGO ALTERNATIVO\n",
    "import random\n",
    "lista = []\n",
    "\n",
    "for x in range(0,10):\n",
    "    lista.append(random.randint(0,1000)) # los numeros random deben ser del 0 al 1000\n",
    "\n",
    "print(lista)"
   ]
  },
  {
   "cell_type": "markdown",
   "metadata": {
    "id": "f1Sll7Dems36"
   },
   "source": [
    "Tu salida debería verse como esto, pero con otros números:\n",
    "\n",
    "```Python\n",
    "[72, 27, 8, 94, 82, 32, 22, 93, 94, 70]\n",
    "```"
   ]
  },
  {
   "cell_type": "markdown",
   "metadata": {
    "id": "yAoqKJ86ms36"
   },
   "source": [
    "## <font color='green'>Actividad 7:</font>\n",
    "\n",
    "Utiliza la **List-Comprehensions** y la biblioteca `random` para crear una lista de 10 números aleatorios <br>\n",
    "Los números aleatorios deben estar entre 10 y 1000.\n",
    "\n",
    "Tip:\n",
    "1. Ver y revisar notebook de **List-Comprehensions**\n",
    "2. Combina una función `range()` dentro de la **list-comprehension**."
   ]
  },
  {
   "cell_type": "code",
   "execution_count": null,
   "metadata": {
    "colab": {
     "base_uri": "https://localhost:8080/"
    },
    "id": "uJ5NlGO-ms37",
    "outputId": "2144e5b5-3442-4935-8205-5f4be1b32df6"
   },
   "outputs": [],
   "source": [
    "# Tu código aquí ...\n",
    "\n",
    "import random\n",
    "\n",
    "[random.randint(10,1000) for n in range(0,10)]"
   ]
  },
  {
   "cell_type": "markdown",
   "metadata": {
    "id": "aQr2R-hkms37"
   },
   "source": [
    "Tu salida debería verse como esto, pero con otros números:\n",
    "\n",
    "```Python\n",
    "[767, 39, 966, 465, 449, 725, 64, 708, 745, 190]\n",
    "```"
   ]
  },
  {
   "cell_type": "markdown",
   "metadata": {
    "id": "tNsswWK7ms37"
   },
   "source": [
    "## <font color='green'>Actividad 8: Super challenging</font>\n",
    "\n",
    "Crea un ciclo `while` el cual le pida al usuario que ingrese un número par. Debes seguir repitiendo la solicitud hasta que se proporcione un número entero par. <br>\n",
    "Solo debes esperar que se pasen enteros, si el usuario proporciona una cadena u otra cosa que no se puede transformar en un entero con `int()`, entonces el ciclo debería romperse con un error.\n",
    "\n",
    "Tips:\n",
    "1. Utiliza la siguiente función:\n",
    "```Python\n",
    " input()\n",
    "```\n",
    "2. Investiga en internet el uso de la función\n",
    "```Python\n",
    " isdigit()\n",
    "```\n",
    "2. Utiliza `while`, `continue`, `break`, `if`, `else`"
   ]
  },
  {
   "cell_type": "code",
   "execution_count": null,
   "metadata": {
    "colab": {
     "base_uri": "https://localhost:8080/"
    },
    "executionInfo": {
     "elapsed": 2835,
     "status": "ok",
     "timestamp": 1693020914092,
     "user": {
      "displayName": "JAVIER ANDRES GONZALEZ",
      "userId": "16506599148398782727"
     },
     "user_tz": 240
    },
    "id": "s0PlJdVHms37",
    "outputId": "8f613987-d9bb-492d-c353-ec42616d073e"
   },
   "outputs": [],
   "source": [
    "# Tu código aquí ...\n",
    "\n",
    "while True:\n",
    "    numero = input(\"Ingrese un número Par: \")\n",
    "\n",
    "    if numero.isdigit():\n",
    "        numero = int(numero)\n",
    "        if numero % 2 != 0:\n",
    "            continue\n",
    "        else:\n",
    "            print(\"Bien Hecho\")\n",
    "            break\n",
    "    else:\n",
    "        print('Error: Dato ingresado no es un Digito Entero ')\n",
    "        break"
   ]
  },
  {
   "cell_type": "markdown",
   "metadata": {
    "id": "P0HRL7wUB_8e"
   },
   "source": [
    "## <font color='green'>Actividad 9: Super challenging</font>\n",
    "\n",
    "Dada una lista de tuplas, donde cada tupla contiene dos elementos: un nombre de producto y su precio, encuentra el producto más caro y el más barato. Si hay varios productos con el mismo precio más alto o más bajo, devuelve todos."
   ]
  },
  {
   "cell_type": "code",
   "execution_count": null,
   "metadata": {
    "colab": {
     "base_uri": "https://localhost:8080/"
    },
    "id": "JUHlDFlsCI9P",
    "outputId": "7daf5fd5-c3c7-425f-df0c-0eddefacf3e5"
   },
   "outputs": [],
   "source": [
    "productos = [(\"manzana\", 1.2), (\"plátano\", 0.5), (\"naranja\", 0.8), (\"kiwi\", 1.2), (\"uva\", 0.5), ('palta', 1.1)]\n",
    "\n",
    "# Tu código aquí ...\n",
    "\n",
    "precios = [precio for _, precio in productos]\n",
    "\n",
    "min_precio = min(precios)\n",
    "max_precio = max(precios)\n",
    "\n",
    "productos_min_precio = [producto for producto, precio in productos if precio == min_precio]\n",
    "productos_max_precio = [producto for producto, precio in productos if precio == max_precio]\n",
    "\n",
    "print(f\"Productos más baratos: {productos_min_precio}\")\n",
    "print(f\"Productos más caros: {productos_max_precio}\")"
   ]
  },
  {
   "cell_type": "code",
   "execution_count": null,
   "metadata": {
    "colab": {
     "base_uri": "https://localhost:8080/"
    },
    "executionInfo": {
     "elapsed": 244,
     "status": "ok",
     "timestamp": 1693023435618,
     "user": {
      "displayName": "JAVIER ANDRES GONZALEZ",
      "userId": "16506599148398782727"
     },
     "user_tz": 240
    },
    "id": "6ZeDdzfk6sBU",
    "outputId": "4dadb558-1169-430e-97c3-305f92a5c9d9"
   },
   "outputs": [],
   "source": [
    "# CODIGO ALTERNATIVO\n",
    "productos = [(\"manzana\", 1.2), (\"plátano\", 0.5), (\"naranja\", 0.8), (\"kiwi\", 1.2), (\"uva\", 0.5), ('palta', 1.1)]\n",
    "\n",
    "fruta = []\n",
    "precios = []\n",
    "for x in productos:\n",
    "  fruta.append(x[0])\n",
    "  precios.append(x[1])\n",
    "\n",
    "valor_minimo = min(precios)\n",
    "valor_maximo = max(precios)\n",
    "\n",
    "for i, valor in enumerate(precios):\n",
    "  if valor == valor_minimo:\n",
    "    print(f\"El producto {fruta[i]} tiene el precio mínimo de {precios[i]}\")\n",
    "\n",
    "print('\\n')\n",
    "\n",
    "for i, valor in enumerate(precios):\n",
    "  if valor == valor_maximo:\n",
    "    print(f\"El producto {fruta[i]} tiene el precio máximo de {precios[i]}\")\n"
   ]
  },
  {
   "cell_type": "markdown",
   "metadata": {
    "id": "uQgJInpGXoLr"
   },
   "source": [
    "## <font color='green'>Actividad 10: Super challenging</font>\n",
    "\n",
    "Eres el administrador de una tienda en línea. Cada producto en la tienda tiene un identificador único y un precio. Los datos de los productos se almacenan en una lista de diccionarios, donde cada diccionario representa un producto y contiene dos claves: \"id\" para el identificador y \"precio\" para el precio del producto.\n",
    "\n",
    "Debes encontrar el primer producto cuyo precio sea mayor que el precio medio de todos los productos y que no haya sido visitado por ningún cliente antes. Los productos visitados están almacenados en un conjunto llamado \"productos_visitados\". Si todos los productos han sido visitados o el precio de un producto no visitado no es mayor que el precio medio, debes imprimir \"No hay productos que cumplan con las condiciones\"."
   ]
  },
  {
   "cell_type": "code",
   "execution_count": null,
   "metadata": {
    "colab": {
     "base_uri": "https://localhost:8080/"
    },
    "executionInfo": {
     "elapsed": 239,
     "status": "ok",
     "timestamp": 1693077281227,
     "user": {
      "displayName": "JAVIER ANDRES GONZALEZ",
      "userId": "16506599148398782727"
     },
     "user_tz": 240
    },
    "id": "7UD8YcS3Z9YH",
    "outputId": "0a55be1a-ede4-4e54-a53e-405eb7be72b9"
   },
   "outputs": [],
   "source": [
    "\n",
    "productos = [\n",
    "    {\"id\": 1, \"precio\": 100},\n",
    "    {\"id\": 2, \"precio\": 200},\n",
    "    {\"id\": 5, \"precio\": 500},\n",
    "    {\"id\": 3, \"precio\": 300},\n",
    "    {\"id\": 4, \"precio\": 400},\n",
    "    {\"id\": 6, \"precio\": 80}\n",
    "]\n",
    "\n",
    "productos_visitados = {1, 2, 4}\n",
    "\n",
    "# Tu código aquí ...\n",
    "\n",
    "p_medio = sum([producto[\"precio\"] for producto in productos]) / len(productos)\n",
    "\n",
    "print(p_medio)\n",
    "\n",
    "for producto in productos:\n",
    "    if producto[\"precio\"] > p_medio and producto[\"id\"] not in productos_visitados:\n",
    "        print(f\"El primer producto que cumple con las condiciones tiene el id: {producto['id']}\")\n",
    "        break\n",
    "else:\n",
    "    print(\"No hay productos que cumplan con las condiciones.\")\n",
    "\n"
   ]
  },
  {
   "cell_type": "code",
   "execution_count": null,
   "metadata": {
    "colab": {
     "base_uri": "https://localhost:8080/"
    },
    "executionInfo": {
     "elapsed": 258,
     "status": "ok",
     "timestamp": 1693077856676,
     "user": {
      "displayName": "JAVIER ANDRES GONZALEZ",
      "userId": "16506599148398782727"
     },
     "user_tz": 240
    },
    "id": "wIXeTQeCfnW9",
    "outputId": "4c04e3bd-9e3b-491c-a99c-6a8a9493f0f1"
   },
   "outputs": [],
   "source": [
    "\n",
    "# CODIGO ALTERNATIVO\n",
    "\n",
    "productos = [\n",
    "    {\"id\": 1, \"precio\": 100},\n",
    "    {\"id\": 2, \"precio\": 200},\n",
    "    {\"id\": 5, \"precio\": 500},\n",
    "    {\"id\": 3, \"precio\": 300},\n",
    "    {\"id\": 4, \"precio\": 400},\n",
    "    {\"id\": 6, \"precio\": 80}\n",
    "]\n",
    "\n",
    "productos_visitados = {1, 2, 4}\n",
    "\n",
    "precios = []\n",
    "for producto in productos:\n",
    "  precios.append(producto['precio'])\n",
    "\n",
    "precio_medio = sum(precios)/len(productos)\n",
    "print(f'El precio edio de los productos es: {precio_medio}')\n",
    "\n",
    "for producto in productos:\n",
    "  if producto['precio'] > precio_medio and producto['id'] not in productos_visitados:\n",
    "    print(f\"El primer producto cuyo precio es mayor que el precio medio y no esta en los productos visitados, es el producto de id: {producto['id']}\")\n",
    "    break\n",
    "else:\n",
    "  print('No hay productos que cumplan con las condiciones')"
   ]
  },
  {
   "cell_type": "markdown",
   "metadata": {
    "id": "OTSpRuxNms37"
   },
   "source": [
    "Buena suerte hackers!"
   ]
  }
 ],
 "metadata": {
  "colab": {
   "provenance": []
  },
  "kernelspec": {
   "display_name": "Python 3 (ipykernel)",
   "language": "python",
   "name": "python3"
  },
  "language_info": {
   "codemirror_mode": {
    "name": "ipython",
    "version": 3
   },
   "file_extension": ".py",
   "mimetype": "text/x-python",
   "name": "python",
   "nbconvert_exporter": "python",
   "pygments_lexer": "ipython3",
   "version": "3.8.11"
  }
 },
 "nbformat": 4,
 "nbformat_minor": 0
}
