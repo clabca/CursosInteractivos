{
 "cells": [
  {
   "cell_type": "markdown",
   "metadata": {
    "id": "Ovaf2vWDgk1P"
   },
   "source": [
    "# **Introducción a Python**\n",
    "# FP14. Ciclos for (for loop)"
   ]
  },
  {
   "cell_type": "markdown",
   "metadata": {
    "id": "7Wmh4IoTgk1S"
   },
   "source": [
    "¡Bienvenidos de nuevo Hackers, es hora de aprender un nuevo ciclo!\n",
    "\n",
    "## <font color='blue'>**Ciclo `for`**</font>\n",
    "Un bucle `for` actúa como un iterador en Python, pasa por elementos que están en una secuencia o cualquier otro **objeto iterable**. Los objetos que hemos aprendido, sobre los que podemos iterar incluyen: cadenas o strings, listas, tuplas e incluso iterables incorporados para diccionarios, como las claves o los valores.\n",
    "\n",
    "Aquí está el formato general para un bucle `for` en Python:\n",
    "```python\n",
    "     for item in object:\n",
    "         your code\n",
    "         your code\n",
    "```        \n",
    "El nombre de la variable utilizado para el *item* depende completamente del programador (o sea, tú!!), así que usa tu mejor criterio para elegir un nombre que tenga sentido y que podrás entenderlo cuando vuelvas a revisar tu código. Puedes utiliza esa variable **sólo dentro del bucle**, fuera del mismo no tendrá un valor asignado.\n",
    "\n",
    "Sigamos adelante y trabajemos con varios ejemplos de bucles `for` utilizando una variedad de tipos de objetos de datos."
   ]
  },
  {
   "cell_type": "markdown",
   "metadata": {
    "id": "aRdor3a1gk1S"
   },
   "source": [
    "## <font color='blue'>**`for` con listas**</font>\n",
    "\n",
    "Con `for`podemos ecorrer los elementos de una lista."
   ]
  },
  {
   "cell_type": "code",
   "execution_count": null,
   "metadata": {
    "colab": {
     "base_uri": "https://localhost:8080/"
    },
    "executionInfo": {
     "elapsed": 287,
     "status": "ok",
     "timestamp": 1694202973541,
     "user": {
      "displayName": "Carol Diaz",
      "userId": "03863088177087652040"
     },
     "user_tz": 180
    },
    "id": "1LW0galigk1T",
    "outputId": "21341edb-158f-4a91-b84b-9af567420112"
   },
   "outputs": [],
   "source": [
    "mylist = [1, 2, 3, 4, 5, 6, 7, 8, 9, 10]\n",
    "# La lista es un objeto iterable por esencia\n",
    "# Esto significa que podemos recorrerla\n",
    "\n",
    "for num in mylist:\n",
    "    print(num)"
   ]
  },
  {
   "cell_type": "code",
   "execution_count": null,
   "metadata": {
    "colab": {
     "base_uri": "https://localhost:8080/"
    },
    "executionInfo": {
     "elapsed": 308,
     "status": "ok",
     "timestamp": 1694202977301,
     "user": {
      "displayName": "Carol Diaz",
      "userId": "03863088177087652040"
     },
     "user_tz": 180
    },
    "id": "aBYXCgz5RIdU",
    "outputId": "0668e25e-8be2-427f-94ec-886a9142706f"
   },
   "outputs": [],
   "source": [
    "help(str)"
   ]
  },
  {
   "cell_type": "code",
   "execution_count": null,
   "metadata": {
    "colab": {
     "base_uri": "https://localhost:8080/"
    },
    "executionInfo": {
     "elapsed": 323,
     "status": "ok",
     "timestamp": 1694173357133,
     "user": {
      "displayName": "Carol Diaz",
      "userId": "03863088177087652040"
     },
     "user_tz": 180
    },
    "id": "R-83gTcAgk1U",
    "outputId": "e4520a02-1810-4576-ad7e-a1a5722b3ef4"
   },
   "outputs": [],
   "source": [
    "for la_variable_puede_ser_cualquier_cosa in mylist:\n",
    "    print(la_variable_puede_ser_cualquier_cosa)"
   ]
  },
  {
   "cell_type": "markdown",
   "metadata": {
    "id": "4WH3o1BMgk1V"
   },
   "source": [
    "Pero no creo que te atrevas a usar un nombre variable como este!! O sí?"
   ]
  },
  {
   "cell_type": "code",
   "execution_count": null,
   "metadata": {
    "colab": {
     "base_uri": "https://localhost:8080/"
    },
    "executionInfo": {
     "elapsed": 9,
     "status": "ok",
     "timestamp": 1694202989605,
     "user": {
      "displayName": "Carol Diaz",
      "userId": "03863088177087652040"
     },
     "user_tz": 180
    },
    "id": "iThKtaHbgk1V",
    "outputId": "1d70665c-3595-44fb-ce31-c8f51359d631"
   },
   "outputs": [],
   "source": [
    "for num in mylist:\n",
    "    print(num, end=' ')"
   ]
  },
  {
   "cell_type": "code",
   "execution_count": null,
   "metadata": {
    "colab": {
     "base_uri": "https://localhost:8080/"
    },
    "executionInfo": {
     "elapsed": 14,
     "status": "ok",
     "timestamp": 1694202991573,
     "user": {
      "displayName": "Carol Diaz",
      "userId": "03863088177087652040"
     },
     "user_tz": 180
    },
    "id": "6l8W9Q5iSXgW",
    "outputId": "c5d54a9c-464c-4bd4-e6cf-e0baa82ba28c"
   },
   "outputs": [],
   "source": [
    "print(*mylist)"
   ]
  },
  {
   "cell_type": "code",
   "execution_count": null,
   "metadata": {
    "colab": {
     "base_uri": "https://localhost:8080/"
    },
    "executionInfo": {
     "elapsed": 288,
     "status": "ok",
     "timestamp": 1694202993116,
     "user": {
      "displayName": "Carol Diaz",
      "userId": "03863088177087652040"
     },
     "user_tz": 180
    },
    "id": "zSqYKEtogk1V",
    "outputId": "83193f3c-e8d3-446f-c376-5ce0e23677cd"
   },
   "outputs": [],
   "source": [
    "for num in mylist:\n",
    "    print(\"Este texto se imprimirá tantas veces como elementos haya en la lista\")"
   ]
  },
  {
   "cell_type": "markdown",
   "metadata": {
    "id": "GmAde9pwgk1W"
   },
   "source": [
    "## <font color='blue'>**`for` con strings**</font>\n",
    "También podemos recorrer los caracteres de un string."
   ]
  },
  {
   "cell_type": "code",
   "execution_count": null,
   "metadata": {
    "colab": {
     "base_uri": "https://localhost:8080/"
    },
    "executionInfo": {
     "elapsed": 309,
     "status": "ok",
     "timestamp": 1694203179337,
     "user": {
      "displayName": "Carol Diaz",
      "userId": "03863088177087652040"
     },
     "user_tz": 180
    },
    "id": "q1GXtN76gk1X",
    "outputId": "7636294b-271d-4676-f0bd-0b8089393a3d"
   },
   "outputs": [],
   "source": [
    "for letter in \"Esto es un string\":\n",
    "    print(letter)"
   ]
  },
  {
   "cell_type": "code",
   "execution_count": null,
   "metadata": {
    "colab": {
     "base_uri": "https://localhost:8080/"
    },
    "executionInfo": {
     "elapsed": 279,
     "status": "ok",
     "timestamp": 1694203182017,
     "user": {
      "displayName": "Carol Diaz",
      "userId": "03863088177087652040"
     },
     "user_tz": 180
    },
    "id": "tz6VQdFxgk1X",
    "outputId": "481f5b1b-6f91-4e35-fa89-f07584521165"
   },
   "outputs": [],
   "source": [
    "mystring = 'This is a string Hackers'\n",
    "\n",
    "for word in mystring.split(): #split() por palabra\n",
    "    print(word)"
   ]
  },
  {
   "cell_type": "markdown",
   "metadata": {
    "id": "VGdzluvagk1X"
   },
   "source": [
    "## <font color='blue'>**`for` con tuplas**</font>"
   ]
  },
  {
   "cell_type": "code",
   "execution_count": null,
   "metadata": {
    "colab": {
     "base_uri": "https://localhost:8080/"
    },
    "executionInfo": {
     "elapsed": 404,
     "status": "ok",
     "timestamp": 1694203187591,
     "user": {
      "displayName": "Carol Diaz",
      "userId": "03863088177087652040"
     },
     "user_tz": 180
    },
    "id": "hCitaqh1gk1Y",
    "outputId": "22c93f30-5511-49ef-8179-d83579c03868"
   },
   "outputs": [],
   "source": [
    "tup = (1, 2, 3, 4)\n",
    "\n",
    "for num in tup:\n",
    "    print(num)"
   ]
  },
  {
   "cell_type": "markdown",
   "metadata": {
    "id": "qbMF41QPgk1Y"
   },
   "source": [
    "## <font color='blue'>**Desempaquetado de tuplas (_tuple unpacking_)**</font>"
   ]
  },
  {
   "cell_type": "code",
   "execution_count": null,
   "metadata": {
    "executionInfo": {
     "elapsed": 314,
     "status": "ok",
     "timestamp": 1694203190656,
     "user": {
      "displayName": "Carol Diaz",
      "userId": "03863088177087652040"
     },
     "user_tz": 180
    },
    "id": "VEjEJAGqgk1Y"
   },
   "outputs": [],
   "source": [
    "list_of_tups = [(1, 2), (3, 4), (5, 6), (7, 8), (9, 10)]"
   ]
  },
  {
   "cell_type": "code",
   "execution_count": null,
   "metadata": {
    "colab": {
     "base_uri": "https://localhost:8080/"
    },
    "executionInfo": {
     "elapsed": 10,
     "status": "ok",
     "timestamp": 1694203191955,
     "user": {
      "displayName": "Carol Diaz",
      "userId": "03863088177087652040"
     },
     "user_tz": 180
    },
    "id": "9Tv1hIwVgk1Y",
    "outputId": "1aea835a-9694-4dcb-84ed-f94dc1be53d2"
   },
   "outputs": [],
   "source": [
    "for x in list_of_tups:\n",
    "    print(x)"
   ]
  },
  {
   "cell_type": "code",
   "execution_count": null,
   "metadata": {
    "colab": {
     "base_uri": "https://localhost:8080/"
    },
    "executionInfo": {
     "elapsed": 13,
     "status": "ok",
     "timestamp": 1694203195099,
     "user": {
      "displayName": "Carol Diaz",
      "userId": "03863088177087652040"
     },
     "user_tz": 180
    },
    "id": "OE5rWnXTgk1Z",
    "outputId": "ae2f6b8f-7a49-4fc9-fd71-79588dec1569"
   },
   "outputs": [],
   "source": [
    "# Imprimimos el primer elemento de cada tupla\n",
    "for x in list_of_tups:\n",
    "    print(x[0])"
   ]
  },
  {
   "cell_type": "code",
   "execution_count": null,
   "metadata": {
    "colab": {
     "base_uri": "https://localhost:8080/"
    },
    "executionInfo": {
     "elapsed": 313,
     "status": "ok",
     "timestamp": 1694203193956,
     "user": {
      "displayName": "Carol Diaz",
      "userId": "03863088177087652040"
     },
     "user_tz": 180
    },
    "id": "ghpIEFomgk1Z",
    "outputId": "a6f61423-b69b-4d44-f336-1e814c5efc57"
   },
   "outputs": [],
   "source": [
    "# Imprimimos el segundo elemento de cada tupla\n",
    "for x in list_of_tups:\n",
    "    print(x[1])"
   ]
  },
  {
   "cell_type": "markdown",
   "metadata": {
    "id": "_DW8-Zx_gk1a"
   },
   "source": [
    "Continuemos"
   ]
  },
  {
   "cell_type": "code",
   "execution_count": null,
   "metadata": {
    "colab": {
     "base_uri": "https://localhost:8080/"
    },
    "executionInfo": {
     "elapsed": 14,
     "status": "ok",
     "timestamp": 1694203197709,
     "user": {
      "displayName": "Carol Diaz",
      "userId": "03863088177087652040"
     },
     "user_tz": 180
    },
    "id": "nAPLSRiGgk1a",
    "outputId": "22d461a7-29c9-4354-e389-b143b0a2b7d2"
   },
   "outputs": [],
   "source": [
    "for (num1,num2) in list_of_tups:\n",
    "    print(num1)\n",
    "    print(num2)\n",
    "    print('\\n')"
   ]
  },
  {
   "cell_type": "code",
   "execution_count": null,
   "metadata": {
    "colab": {
     "base_uri": "https://localhost:8080/"
    },
    "executionInfo": {
     "elapsed": 9,
     "status": "ok",
     "timestamp": 1694203203694,
     "user": {
      "displayName": "Carol Diaz",
      "userId": "03863088177087652040"
     },
     "user_tz": 180
    },
    "id": "q-b5J3VIgk1a",
    "outputId": "b1fb72fa-622a-4289-ff5a-e128d40265cb"
   },
   "outputs": [],
   "source": [
    "# No necesitamos el paréntesis\n",
    "\n",
    "for num1, num2 in list_of_tups:\n",
    "    print(num1)\n",
    "    print(num2)\n",
    "    print('\\n')"
   ]
  },
  {
   "cell_type": "markdown",
   "metadata": {
    "id": "byfWAhbsgk1a"
   },
   "source": [
    "## <font color='blue'>**`for` con diccionarios**</font>\n",
    "Recuerda que los diccionarios no mantienen ningún orden. Al recorrerlos hay que tener esto en mente."
   ]
  },
  {
   "cell_type": "code",
   "execution_count": null,
   "metadata": {
    "executionInfo": {
     "elapsed": 9,
     "status": "ok",
     "timestamp": 1694203210409,
     "user": {
      "displayName": "Carol Diaz",
      "userId": "03863088177087652040"
     },
     "user_tz": 180
    },
    "id": "98Ws1d4lgk1a"
   },
   "outputs": [],
   "source": [
    "countries_populations = {'Chile':'18', 'USA':'323', 'Germany':'83', 'India':'1324', 'Spain':'45'}"
   ]
  },
  {
   "cell_type": "code",
   "execution_count": null,
   "metadata": {
    "colab": {
     "base_uri": "https://localhost:8080/"
    },
    "executionInfo": {
     "elapsed": 296,
     "status": "ok",
     "timestamp": 1694203212027,
     "user": {
      "displayName": "Carol Diaz",
      "userId": "03863088177087652040"
     },
     "user_tz": 180
    },
    "id": "f9bdBSJ9gk1b",
    "outputId": "58fba7c7-d77e-483f-8fb4-6f40f3d14db6"
   },
   "outputs": [],
   "source": [
    "for item in countries_populations:\n",
    "    print(item)"
   ]
  },
  {
   "cell_type": "code",
   "execution_count": null,
   "metadata": {
    "colab": {
     "base_uri": "https://localhost:8080/"
    },
    "executionInfo": {
     "elapsed": 16,
     "status": "ok",
     "timestamp": 1694203214071,
     "user": {
      "displayName": "Carol Diaz",
      "userId": "03863088177087652040"
     },
     "user_tz": 180
    },
    "id": "oFBGMBMSgk1b",
    "outputId": "69030302-3ed4-4ec3-fd9e-d8cab265c720"
   },
   "outputs": [],
   "source": [
    "for k in countries_populations.keys():\n",
    "    print(k)"
   ]
  },
  {
   "cell_type": "code",
   "execution_count": null,
   "metadata": {
    "colab": {
     "base_uri": "https://localhost:8080/"
    },
    "executionInfo": {
     "elapsed": 297,
     "status": "ok",
     "timestamp": 1694203217824,
     "user": {
      "displayName": "Carol Diaz",
      "userId": "03863088177087652040"
     },
     "user_tz": 180
    },
    "id": "zzTNfw4dgk1b",
    "outputId": "ba186ff7-52c1-4ef3-a885-1e12876b5c47"
   },
   "outputs": [],
   "source": [
    "for values in countries_populations.values():\n",
    "    print(values)"
   ]
  },
  {
   "cell_type": "code",
   "execution_count": null,
   "metadata": {
    "colab": {
     "base_uri": "https://localhost:8080/"
    },
    "executionInfo": {
     "elapsed": 304,
     "status": "ok",
     "timestamp": 1694203223760,
     "user": {
      "displayName": "Carol Diaz",
      "userId": "03863088177087652040"
     },
     "user_tz": 180
    },
    "id": "d1LLe5GjwwtM",
    "outputId": "396b5d37-ce97-4138-ac2f-a471b81ff48c"
   },
   "outputs": [],
   "source": [
    "for k, v in countries_populations.items():\n",
    "    print(f'{k} : {v} millones.')"
   ]
  },
  {
   "cell_type": "markdown",
   "metadata": {
    "id": "7SfHfxydgk1b"
   },
   "source": [
    "## <font color='blue'>**Más usos de `for`**</font>"
   ]
  },
  {
   "cell_type": "code",
   "execution_count": null,
   "metadata": {
    "colab": {
     "base_uri": "https://localhost:8080/"
    },
    "executionInfo": {
     "elapsed": 361,
     "status": "ok",
     "timestamp": 1694203238368,
     "user": {
      "displayName": "Carol Diaz",
      "userId": "03863088177087652040"
     },
     "user_tz": 180
    },
    "id": "w22KyGS9gk1b",
    "outputId": "8662fef9-885d-416e-e7de-2050656f568a"
   },
   "outputs": [],
   "source": [
    "for name in \"Sebastián\", \"Zavi\", \"Isidora\":\n",
    "    print(\"Hello \" + name)"
   ]
  },
  {
   "cell_type": "code",
   "execution_count": null,
   "metadata": {
    "colab": {
     "base_uri": "https://localhost:8080/"
    },
    "executionInfo": {
     "elapsed": 385,
     "status": "ok",
     "timestamp": 1694203241372,
     "user": {
      "displayName": "Carol Diaz",
      "userId": "03863088177087652040"
     },
     "user_tz": 180
    },
    "id": "uxGdUwx4gk1b",
    "outputId": "10304fb5-a913-4628-cc33-331c50e838ae"
   },
   "outputs": [],
   "source": [
    "for i in range(10):\n",
    "    print(i)"
   ]
  },
  {
   "cell_type": "code",
   "execution_count": null,
   "metadata": {
    "colab": {
     "base_uri": "https://localhost:8080/"
    },
    "executionInfo": {
     "elapsed": 280,
     "status": "ok",
     "timestamp": 1694203243042,
     "user": {
      "displayName": "Carol Diaz",
      "userId": "03863088177087652040"
     },
     "user_tz": 180
    },
    "id": "OJm7C-rZgk1c",
    "outputId": "6ff62c29-9a2f-4dd9-ca3e-711c2f21a273"
   },
   "outputs": [],
   "source": [
    "total = 0\n",
    "for i in 5, 7, 11, 13:\n",
    "    print(i)\n",
    "    total = total + i  # total += i\n",
    "\n",
    "print(total)"
   ]
  },
  {
   "cell_type": "code",
   "execution_count": null,
   "metadata": {
    "colab": {
     "base_uri": "https://localhost:8080/"
    },
    "executionInfo": {
     "elapsed": 13,
     "status": "ok",
     "timestamp": 1694203244782,
     "user": {
      "displayName": "Carol Diaz",
      "userId": "03863088177087652040"
     },
     "user_tz": 180
    },
    "id": "YwrLdQjcoRZi",
    "outputId": "8a20befe-db1b-4836-85c2-bdc084407708"
   },
   "outputs": [],
   "source": [
    "lista_tuplas = [('Seba', 24), ('Mati', 20), ('Zoé', 23)]\n",
    "for persona, edad in lista_tuplas:\n",
    "    if edad >= 23:\n",
    "        print(f'{persona} tiene {edad} años')"
   ]
  },
  {
   "cell_type": "markdown",
   "metadata": {
    "id": "cN_EFnvUgk1c"
   },
   "source": [
    "## <font color='blue'>**La sentencia `continue`**</font>\n",
    "\n",
    "La palabra clave `continue`puede ser un poco complicada para ver su utilidad. Te permite continuar con el ciclo de nivel superior, básicamente lo opuesto a `break`. Pasará tiempo antes de que te des cuenta de una buena situación para usarla, pero aquí hay un ejemplo simple:"
   ]
  },
  {
   "cell_type": "code",
   "execution_count": null,
   "metadata": {
    "colab": {
     "base_uri": "https://localhost:8080/"
    },
    "executionInfo": {
     "elapsed": 311,
     "status": "ok",
     "timestamp": 1694203247338,
     "user": {
      "displayName": "Carol Diaz",
      "userId": "03863088177087652040"
     },
     "user_tz": 180
    },
    "id": "Gqp1IEdEgk1c",
    "outputId": "ad9da627-1256-4a97-8109-8be481ee9018"
   },
   "outputs": [],
   "source": [
    "for letter in 'code':\n",
    "    if letter == 'd':\n",
    "        continue\n",
    "\n",
    "    print(f'La letra actual es: {letter}')"
   ]
  },
  {
   "cell_type": "code",
   "execution_count": null,
   "metadata": {
    "colab": {
     "base_uri": "https://localhost:8080/"
    },
    "executionInfo": {
     "elapsed": 392,
     "status": "ok",
     "timestamp": 1694203249877,
     "user": {
      "displayName": "Carol Diaz",
      "userId": "03863088177087652040"
     },
     "user_tz": 180
    },
    "id": "CguOgXdUgk1c",
    "outputId": "a3e19309-6abf-4435-b063-f43295932c5e"
   },
   "outputs": [],
   "source": [
    "list = []\n",
    "string = 'A este string le eliminaremos los espacios'\n",
    "for letra in string:\n",
    "    if letra != ' ':\n",
    "        list.append(letra)\n",
    "    else:\n",
    "        continue\n",
    "print(*list, sep='')"
   ]
  },
  {
   "cell_type": "markdown",
   "metadata": {
    "id": "cqdrb36Fgk1c"
   },
   "source": [
    "Intenta explicar qué paso aquí!!"
   ]
  },
  {
   "cell_type": "markdown",
   "metadata": {
    "id": "NgsnychLl-am"
   },
   "source": [
    "## <font color='blue'>__Ejercicios__</font>"
   ]
  },
  {
   "cell_type": "markdown",
   "metadata": {
    "id": "L0Hf37-Cgk1Z"
   },
   "source": [
    "### <font color='green'>Actividad 1:</font>  \n",
    "### Desempaque el elemento numérico de cada tupla\n",
    "Ejecuta la siguiente celda donde creamos una lista de tuplas.<br>\n",
    "Extrae e imprime los números de las tuplas usando un bucle `for`\n",
    "\n",
    "Pasos:\n",
    "1. Ejecuta la celda para crear la lista de tuplas.\n",
    "2. Extrae e imprime los números usando un bucle `for` e indexado\n",
    "\n",
    "Challenge:\n",
    "3. Imprime los números en una única fila separados por un espacio; así: 1 4 6 8 10"
   ]
  },
  {
   "cell_type": "code",
   "execution_count": null,
   "metadata": {
    "executionInfo": {
     "elapsed": 321,
     "status": "ok",
     "timestamp": 1694203274684,
     "user": {
      "displayName": "Carol Diaz",
      "userId": "03863088177087652040"
     },
     "user_tz": 180
    },
    "id": "J5_rF_47gk1Z"
   },
   "outputs": [],
   "source": [
    "# EJECUTA ESTA CELDA. NO LA MODIFIQUES !!!\n",
    "\n",
    "list_of_tuples = [('A', ['B', 1]),\n",
    "                  ('C', ['D', 4]),\n",
    "                  ('E', ['F', 6]),\n",
    "                  ('G', ['H', 8]),\n",
    "                  ('I', ['J', 10])]"
   ]
  },
  {
   "cell_type": "code",
   "execution_count": null,
   "metadata": {
    "colab": {
     "base_uri": "https://localhost:8080/"
    },
    "executionInfo": {
     "elapsed": 275,
     "status": "ok",
     "timestamp": 1694203277019,
     "user": {
      "displayName": "Carol Diaz",
      "userId": "03863088177087652040"
     },
     "user_tz": 180
    },
    "id": "baULOhDSgk1a",
    "outputId": "16487f5c-43b3-4559-fea0-b8b7e806aa86"
   },
   "outputs": [],
   "source": [
    "# Tu código aquí ...\n",
    "lista = []\n",
    "for x in list_of_tuples:\n",
    "    y = x[1]\n",
    "    lista.append(y[1])\n",
    "\n",
    "print(*lista, sep=' ')\n"
   ]
  },
  {
   "cell_type": "markdown",
   "metadata": {
    "id": "gOheKUXEgk1a"
   },
   "source": [
    "<font color='green'>Fin actividad 1</font>"
   ]
  },
  {
   "cell_type": "markdown",
   "metadata": {
    "id": "8zTGvUTKgk1b"
   },
   "source": [
    "### <font color='green'>Actividad 2:</font>\n",
    "### Imprimiendo países y poblaciones. Buscando en [stackoverflow](https://stackoverflow.com/)\n",
    "\n",
    "Crea un programa que imprima el nombre del país y su población, de esta manera:\n",
    "\n",
    "      En Chile hay 18 millones de habitantes.\n",
    "\n",
    "Imprime un país por línea<br>\n",
    "Deja una línea en blanco entre países\n",
    "\n",
    "Pasos:\n",
    "1. Utiliza un bucle `for` para recorrer el diccionario.\n",
    "2. Busca en [stackoverflow](https://stackoverflow.com/) cómo desempaquetar un diccionario en un ciclo for\n",
    "3. Imprima utilizando la función de `print()` y `f-strings`.\n",
    "4. Deje una línea en blanco usando el carácter de control `'\\n'` dentro de la función `print()`."
   ]
  },
  {
   "cell_type": "code",
   "execution_count": null,
   "metadata": {
    "colab": {
     "base_uri": "https://localhost:8080/"
    },
    "executionInfo": {
     "elapsed": 273,
     "status": "ok",
     "timestamp": 1694203289188,
     "user": {
      "displayName": "Carol Diaz",
      "userId": "03863088177087652040"
     },
     "user_tz": 180
    },
    "id": "j95ncbo0gk1b",
    "outputId": "2217786e-b315-4f3f-eb3c-7373ed056d4e"
   },
   "outputs": [],
   "source": [
    "# Tu código aquí ...\n",
    "\n",
    "countries_populations = {'Chile':'18', 'USA':'323', 'Germany':'83', 'India':'1324', 'Spain':'45'}\n",
    "\n",
    "for a,b in countries_populations.items():\n",
    "    print(f'En {a} hay {b} millones de habitantes. \\n')\n"
   ]
  },
  {
   "cell_type": "markdown",
   "metadata": {
    "id": "PMRtK7Iggk1b"
   },
   "source": [
    "<font color='green'>Fin actividad 2</font>"
   ]
  },
  {
   "cell_type": "markdown",
   "metadata": {
    "id": "b9wI0aPfme1q"
   },
   "source": [
    "<img src=\"https://drive.google.com/uc?export=view&id=1Igtn9UXg6NGeRWsqh4hefQUjV0hmzlBv\" width=\"100\" align=\"left\" title=\"Runa-perth\">\n",
    "<br clear=\"left\">\n",
    "Contenido opcional\n",
    "\n",
    "##<font color='blue'>__Ejercicios avanzados__</font>\n",
    "\n",
    "Si quieres aprender más, anímate a desarrollar los siguientes ejercicios utilizando sólo lo aprendido hasta el momento: tipos de datos, estructuras y sus métodos (e.g., listas, diccionarios, conjuntos, tuplas), slicing e indexing, control de flujo y ciclos (`for`, `while`).\n",
    "\n",
    "No puedes utilizar funciones incorporadas (salvo `print()` y `len()`), lambdas o librerías de apoyo.\n",
    "\n",
    "Imprime un mensaje con `print()` indicando si la condición solicitada en el ejercicio se cumple o no; e.g., la Actividad 3 debería tener una salida condicional del tipo:\n",
    "\n",
    "```python\n",
    "print(\"El primer número duplicado es:\")\n",
    "````\n",
    "o si no se cumple la condición ...\n",
    "```python\n",
    "print(\"No hay números duplicados.\")\n",
    "```"
   ]
  },
  {
   "cell_type": "markdown",
   "metadata": {
    "id": "txUX7fz9mxNd"
   },
   "source": [
    "### <font color='green'>Actividad 3</font>\n",
    "Dada una lista de números, encuentra el primer número duplicado. Si no hay números duplicados, imprime \"No hay números duplicados\"."
   ]
  },
  {
   "cell_type": "code",
   "execution_count": null,
   "metadata": {
    "colab": {
     "base_uri": "https://localhost:8080/"
    },
    "executionInfo": {
     "elapsed": 300,
     "status": "ok",
     "timestamp": 1694203307779,
     "user": {
      "displayName": "Carol Diaz",
      "userId": "03863088177087652040"
     },
     "user_tz": 180
    },
    "id": "PCOb7uk8m5Xt",
    "outputId": "9bd2072b-f550-4d97-aa71-44f5e7ba6760"
   },
   "outputs": [],
   "source": [
    "lista = [1, 2, 3, 2, 5, 6, 7, 8, 9]\n",
    "\n",
    "copia = []\n",
    "\n",
    "for x in lista:\n",
    "    if x in copia:\n",
    "        print(f'El número duplicado es {x}')\n",
    "        break\n",
    "    else:\n",
    "        copia.append(x)\n",
    "else:\n",
    "    print('No hay números duplicados')\n"
   ]
  },
  {
   "cell_type": "markdown",
   "metadata": {
    "id": "y000BU-ynvqm"
   },
   "source": [
    "### <font color='green'>Actividad 4</font>\n",
    "Dada una lista de tuplas, cada una conteniendo dos elementos (un número y una cadena), imprime la cadena asociada a cada número impar."
   ]
  },
  {
   "cell_type": "code",
   "execution_count": null,
   "metadata": {
    "colab": {
     "base_uri": "https://localhost:8080/"
    },
    "executionInfo": {
     "elapsed": 351,
     "status": "ok",
     "timestamp": 1694203312199,
     "user": {
      "displayName": "Carol Diaz",
      "userId": "03863088177087652040"
     },
     "user_tz": 180
    },
    "id": "yyF99uYInLDE",
    "outputId": "431d8652-3a7d-4f98-f77d-a6210946dc63"
   },
   "outputs": [],
   "source": [
    "lista = [(1, 'a'), (2, 'b'), (3, 'c'), (4, 'd'), (5, 'e')]\n",
    "\n",
    "# Tu código aquí ...\n",
    "\n",
    "for z in lista:\n",
    "    if int(z[0])%2 != 0:\n",
    "        print(z)\n",
    "\n"
   ]
  },
  {
   "cell_type": "markdown",
   "metadata": {
    "id": "TSHqyLR6tysu"
   },
   "source": [
    "### <font color='green'>Actividad 5</font>\n",
    "Dado un diccionario, imprime cada clave hasta que encuentres una clave que sea una cadena de longitud 3."
   ]
  },
  {
   "cell_type": "code",
   "execution_count": null,
   "metadata": {
    "colab": {
     "base_uri": "https://localhost:8080/"
    },
    "executionInfo": {
     "elapsed": 379,
     "status": "ok",
     "timestamp": 1694203323108,
     "user": {
      "displayName": "Carol Diaz",
      "userId": "03863088177087652040"
     },
     "user_tz": 180
    },
    "id": "Uy3mtk7dt6xW",
    "outputId": "6ed72606-da11-4b7c-fd27-573ede7ae784"
   },
   "outputs": [],
   "source": [
    "diccionario = {\"a\": 1, \"bb\": 2, \"ccc\": 3, \"dddd\": 4}\n",
    "\n",
    "# Tu código aquí ...\n",
    "\n",
    "for l in diccionario.keys():\n",
    "    if len(l) == 3:\n",
    "        break\n",
    "    else:\n",
    "        print(l)\n"
   ]
  },
  {
   "cell_type": "markdown",
   "metadata": {
    "id": "cwNcmzsRt0YS"
   },
   "source": [
    "### <font color='green'>Actividad 6</font>\n",
    "Dado un diccionario de acrónimos, imprime todos aquellos cuya llave tenga un largo distinto de 3 caracteres. Haz que tu salida quede correctamente tabulada de esta forma:\n",
    "```python\n",
    "HTML   : HyperText Markup Language\n",
    "JSON   : JavaScript Object Notation\n",
    "HTTPS  : Hypertext Transfer Protocol Secure\n",
    "AI     : Artificial Intelligence\n",
    "```\n",
    "\n"
   ]
  },
  {
   "cell_type": "code",
   "execution_count": null,
   "metadata": {
    "colab": {
     "base_uri": "https://localhost:8080/"
    },
    "executionInfo": {
     "elapsed": 321,
     "status": "ok",
     "timestamp": 1694203335022,
     "user": {
      "displayName": "Carol Diaz",
      "userId": "03863088177087652040"
     },
     "user_tz": 180
    },
    "id": "g1e9M5ZGtbhw",
    "outputId": "8a983e76-243c-434e-d36b-466155331992"
   },
   "outputs": [],
   "source": [
    "acronimos = {\n",
    "    'HTML': 'HyperText Markup Language',\n",
    "    'CSS': 'Cascading Style Sheets',\n",
    "    'API': 'Application Programming Interface',\n",
    "    'SQL': 'Structured Query Language',\n",
    "    'JSON': 'JavaScript Object Notation',\n",
    "    'VPN': 'Virtual Private Network',\n",
    "    'HTTPS': 'Hypertext Transfer Protocol Secure',\n",
    "    'IoT': 'Internet of Things',\n",
    "    'AI': 'Artificial Intelligence',\n",
    "    'DNS': 'Domain Name System'\n",
    "}\n",
    "\n",
    "# Tu código aquí ...\n",
    "\n",
    "for cl, ll in acronimos.items():\n",
    "    if len(cl) != 3:\n",
    "        #print(f'{cl.ljust(6)} : {ll}')\n",
    "        print(f'{cl:<6} : {ll}')\n"
   ]
  },
  {
   "cell_type": "markdown",
   "metadata": {
    "id": "bsPhKuRAys-Z"
   },
   "source": [
    "### <font color='green'>Actividad 7</font>\n",
    "Dada una lista de números enteros positivos desordenada, encuentra el menor número que no está en el rango de la lista. Por ejemplo, en la lista:\n",
    "\n",
    "```python\n",
    "lista = [4, 3, 6, 1, 7, 9]\n",
    "```\n",
    "el menor número faltante es el 2.\n",
    "Si todos los números están presentes, imprime \"Todos los números están presentes\".\n",
    "\n",
    "No puedes usar funciones incorporadas, salvo `print()`."
   ]
  },
  {
   "cell_type": "code",
   "execution_count": null,
   "metadata": {
    "colab": {
     "base_uri": "https://localhost:8080/"
    },
    "executionInfo": {
     "elapsed": 12,
     "status": "ok",
     "timestamp": 1694204309861,
     "user": {
      "displayName": "Carol Diaz",
      "userId": "03863088177087652040"
     },
     "user_tz": 180
    },
    "id": "XLcZZx7gwGKy",
    "outputId": "b7a65f1b-591d-48bb-a38f-29adfa5c9216"
   },
   "outputs": [],
   "source": [
    "#Versión 1\n",
    "#lista = [4, 3, 6, 7, 9]\n",
    "lista = [4, 3, 6, 7, 9, 2, 8, 1, 5]\n",
    "\n",
    "# Tu cópdigo aquí\n",
    "\n",
    "n = len(lista) + 1\n",
    "\n",
    "for k in range(1, n):\n",
    "    if k not in lista:\n",
    "        print(f'falta {k}')\n",
    "        break\n",
    "    else:\n",
    "        continue\n",
    "print(\"Todos los números están presentes\")\n"
   ]
  },
  {
   "cell_type": "code",
   "execution_count": null,
   "metadata": {
    "colab": {
     "base_uri": "https://localhost:8080/"
    },
    "executionInfo": {
     "elapsed": 306,
     "status": "ok",
     "timestamp": 1694204526215,
     "user": {
      "displayName": "Carol Diaz",
      "userId": "03863088177087652040"
     },
     "user_tz": 180
    },
    "id": "nTzc8WM5ZjFF",
    "outputId": "616da9d3-e2b2-4b82-ce79-5d90cee44814"
   },
   "outputs": [],
   "source": [
    "#Segunda versión\n",
    "lista3 = [4, 3, 6, 1, 7, 9]\n",
    "#lista3 = [4, 3, 6, 10, 7, 9]\n",
    "\n",
    "minimo = lista3[0]\n",
    "maximo = lista3[0]\n",
    "m = 0\n",
    "for m in lista3[1:]:\n",
    "    if m < minimo:\n",
    "        minimo = m\n",
    "    if m > maximo:\n",
    "        maximo = m\n",
    "while True:\n",
    "    if minimo not in lista2:\n",
    "        print(f\"Nro menor no presente en la lista: {minimo}\")\n",
    "        break\n",
    "    elif minimo == maximo:\n",
    "        print(f\"Todos los números están presentes.\")\n",
    "        break\n",
    "    minimo += 1"
   ]
  },
  {
   "cell_type": "markdown",
   "metadata": {
    "id": "PwNciJMJ7MMk"
   },
   "source": [
    "### <font color='green'>Actividad 8</font>\n",
    "Dada una lista de cadenas, genera una salida impresa indicando si las cadenas son o no un palíndromo. Ejemplo:\n",
    "\n",
    "```python\n",
    "hola       : no es palíndromo\n",
    "mundo      : no es palíndromo\n",
    "python     : no es palíndromo\n",
    "radar      : es palíndromo\n",
    "IA         : no es palíndromo\n",
    "```\n"
   ]
  },
  {
   "cell_type": "code",
   "execution_count": null,
   "metadata": {
    "colab": {
     "base_uri": "https://localhost:8080/"
    },
    "executionInfo": {
     "elapsed": 299,
     "status": "ok",
     "timestamp": 1694204534659,
     "user": {
      "displayName": "Carol Diaz",
      "userId": "03863088177087652040"
     },
     "user_tz": 180
    },
    "id": "-HKkxEEg7Mv_",
    "outputId": "c35c0e4c-7b25-4035-8207-06d114acb991"
   },
   "outputs": [],
   "source": [
    "lista = [\"hola\", \"mundo\", \"python\", \"radar\", \"IA\"]\n",
    "\n",
    "# Tu código aquí ...\n",
    "\n",
    "for i in lista:\n",
    "    if i == i[::-1]:\n",
    "        print(f\"{i:<10} : es palíndromo\")\n",
    "    else:\n",
    "        print(f\"{i:<10} : no es palíndromo\")\n",
    "\n"
   ]
  },
  {
   "cell_type": "markdown",
   "metadata": {
    "id": "TPEZyyNi6pMx"
   },
   "source": [
    "<img src=\"https://drive.google.com/uc?export=view&id=1Igtn9UXg6NGeRWsqh4hefQUjV0hmzlBv\" width=\"50\" align=\"left\" title=\"Runa-perth\">"
   ]
  }
 ],
 "metadata": {
  "colab": {
   "provenance": [
    {
     "file_id": "1IwFpAivQIsxxRTMmRa_rTxVXGud2nKLm",
     "timestamp": 1692973208056
    }
   ]
  },
  "kernelspec": {
   "display_name": "Python 3 (ipykernel)",
   "language": "python",
   "name": "python3"
  },
  "language_info": {
   "codemirror_mode": {
    "name": "ipython",
    "version": 3
   },
   "file_extension": ".py",
   "mimetype": "text/x-python",
   "name": "python",
   "nbconvert_exporter": "python",
   "pygments_lexer": "ipython3",
   "version": "3.8.11"
  }
 },
 "nbformat": 4,
 "nbformat_minor": 0
}
