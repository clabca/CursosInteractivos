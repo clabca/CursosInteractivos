{
 "cells": [
  {
   "cell_type": "markdown",
   "metadata": {
    "id": "OvB-blRIacnw"
   },
   "source": [
    "# **Introducción a Python**\n",
    "# FP11. Tarea 1\n",
    "\n",
    "Hola hackers. Aquí tienes una tarea. Hay desafíos de distinto tipo, trata de superarlos todos.\n",
    "Buena suerte !!\n"
   ]
  },
  {
   "cell_type": "markdown",
   "metadata": {
    "id": "yXqkSFE7acnz"
   },
   "source": [
    "## <font color='green'>Actividad 1:</font>\n",
    "Abre el archivo **exam.txt** con Python. La apertura debe ser solo con permiso de lectura y almacena el contenido en una lista llamada **exam_lines**. <br>\n",
    "Imprime la lista de **exam_lines**\n",
    "\n",
    "Tip:\n",
    "1. Use la sentencia with ..., de esta forma:\n",
    "\n",
    "```python\n",
    "     with open ('.....') as f:\n",
    "         lineas = f.readlines ()\n",
    "```\n",
    "2. Imprime usando la función **print()**"
   ]
  },
  {
   "cell_type": "code",
   "execution_count": null,
   "metadata": {
    "colab": {
     "base_uri": "https://localhost:8080/"
    },
    "executionInfo": {
     "elapsed": 4238,
     "status": "ok",
     "timestamp": 1694172081154,
     "user": {
      "displayName": "Carol Diaz",
      "userId": "03863088177087652040"
     },
     "user_tz": 180
    },
    "id": "Y4CeeBJLT28R",
    "outputId": "c47612e0-2926-4e48-8c24-831d4cd7cc2b"
   },
   "outputs": [],
   "source": [
    "from google.colab import drive\n",
    "drive.mount('/content/drive')"
   ]
  },
  {
   "cell_type": "code",
   "execution_count": null,
   "metadata": {
    "colab": {
     "base_uri": "https://localhost:8080/"
    },
    "executionInfo": {
     "elapsed": 642,
     "status": "ok",
     "timestamp": 1694172229649,
     "user": {
      "displayName": "Carol Diaz",
      "userId": "03863088177087652040"
     },
     "user_tz": 180
    },
    "id": "mW6uR4fwacn0",
    "outputId": "06cb4e6c-a0bb-4c1c-b09d-69de8e6d42cb"
   },
   "outputs": [],
   "source": [
    "# Tu código aquí ...\n",
    "\n",
    "# Editar esta linea segun ubicacion del archivo exam.txt\n",
    "# with open('/content/drive/MyDrive/Colab Notebooks/Diplomado Ciencia de Datos UDD/01 Fundamentos de Python/Archivos Con Cambios/Archivos/exam.txt') as f:\n",
    "\n",
    "with open('/content/drive/MyDrive/Fund_de_Python(V1)/exam.txt') as f:\n",
    "    exam_lineas = f.readlines()\n",
    "print(exam_lineas)\n"
   ]
  },
  {
   "cell_type": "markdown",
   "metadata": {
    "id": "nXZY0_jvacn1"
   },
   "source": [
    "Tu salida debería verse como esto:\n",
    "\n",
    "```Python\n",
    "['Bienvenido a su Primera Prueba aspirante a espía.\\n', 'Si trabajas duro en clase y en casa podrás completarlo.\\n', '¿Completaste todos los cuadernos?\\n', '¿Pediste ayuda cuando tuviste alguna duda?\\n', 'Si practicaste, debería ser bastante simple.\\n', 'Empecemos.\\n', 'Mucha suerte, Hacker.']\n",
    "```"
   ]
  },
  {
   "cell_type": "markdown",
   "metadata": {
    "id": "kwzyoZ6Aacn2"
   },
   "source": [
    "## <font color='green'>Actividad 2:</font>\n",
    "\n",
    "Verifica que **exam_lines** es una lista.\n",
    "\n",
    "Tip:\n",
    "1. Usa la función `type()`."
   ]
  },
  {
   "cell_type": "code",
   "execution_count": null,
   "metadata": {
    "id": "cDaVNeJ8acn2"
   },
   "outputs": [],
   "source": [
    "# Tu código aquí ...\n",
    "type(exam_lineas)\n"
   ]
  },
  {
   "cell_type": "markdown",
   "metadata": {
    "id": "lY3oCmxqacn2"
   },
   "source": [
    "Tu salida debería verse como esto:\n",
    "\n",
    "```Python\n",
    "list\n",
    "```"
   ]
  },
  {
   "cell_type": "markdown",
   "metadata": {
    "id": "sF_Sq9kKacn3"
   },
   "source": [
    "## <font color='green'>Actividad 3:</font>\n",
    "\n",
    "Cuántas líneas tiene el archivo?\n",
    "\n",
    "Tip:\n",
    "1. Usa la función `len()`."
   ]
  },
  {
   "cell_type": "code",
   "execution_count": null,
   "metadata": {
    "colab": {
     "base_uri": "https://localhost:8080/"
    },
    "executionInfo": {
     "elapsed": 1088,
     "status": "ok",
     "timestamp": 1694172256138,
     "user": {
      "displayName": "Carol Diaz",
      "userId": "03863088177087652040"
     },
     "user_tz": 180
    },
    "id": "8ERr2K3Kacn4",
    "outputId": "cb4f1762-2a6f-483b-8584-215003c84f33"
   },
   "outputs": [],
   "source": [
    "# Tu código aquí ...\n",
    "len(exam_lineas)\n",
    "\n"
   ]
  },
  {
   "cell_type": "markdown",
   "metadata": {
    "id": "npHI5TIQacn4"
   },
   "source": [
    "Tu salida debería verse como esto:\n",
    "\n",
    "```Python\n",
    "7\n",
    "```"
   ]
  },
  {
   "cell_type": "markdown",
   "metadata": {
    "id": "g-Xyz__uacn5"
   },
   "source": [
    "## <font color='green'>Actividad 4:</font>\n",
    "Imprime la 5ta linea del archivo.\n",
    "\n",
    "Tip:\n",
    "1. Usa la función `print()`.\n",
    "2. Haga una indexación de la lista usando corchetes $[]$."
   ]
  },
  {
   "cell_type": "code",
   "execution_count": null,
   "metadata": {
    "colab": {
     "base_uri": "https://localhost:8080/"
    },
    "executionInfo": {
     "elapsed": 18,
     "status": "ok",
     "timestamp": 1694172259140,
     "user": {
      "displayName": "Carol Diaz",
      "userId": "03863088177087652040"
     },
     "user_tz": 180
    },
    "id": "L9z-nxchacn5",
    "outputId": "4b6b1ef3-ee68-4a9f-8c5d-88a865fdba39"
   },
   "outputs": [],
   "source": [
    "# Tu código aquí ...\n",
    "\n",
    "print(exam_lineas[4])"
   ]
  },
  {
   "cell_type": "markdown",
   "metadata": {
    "id": "DlYdjQu0acn5"
   },
   "source": [
    "Tu salida debería verse como esto:\n",
    "\n",
    "```Python\n",
    "Si practicaste, debería ser bastante simple.\n",
    "```"
   ]
  },
  {
   "cell_type": "markdown",
   "metadata": {
    "id": "-aclwDOjacn5"
   },
   "source": [
    "## <font color='green'>Actividad 5:</font>\n",
    "Imprime la última línea del **exam_lines**\n",
    "\n",
    "Tip:\n",
    "1. Puede indexar el último elemento de una lista usando el índice **- 1**, así:\n",
    "```python\n",
    "     nombre_de_la_lista[-1]\n",
    "```"
   ]
  },
  {
   "cell_type": "code",
   "execution_count": null,
   "metadata": {
    "colab": {
     "base_uri": "https://localhost:8080/",
     "height": 36
    },
    "executionInfo": {
     "elapsed": 309,
     "status": "ok",
     "timestamp": 1694172266910,
     "user": {
      "displayName": "Carol Diaz",
      "userId": "03863088177087652040"
     },
     "user_tz": 180
    },
    "id": "8jJMw1_Zacn6",
    "outputId": "c223c19a-124e-4efb-f3a3-a44877414562"
   },
   "outputs": [],
   "source": [
    "# Tu código aquí ...\n",
    "\n",
    "exam_lineas[-1]\n"
   ]
  },
  {
   "cell_type": "markdown",
   "metadata": {
    "id": "-HaH2Xgaacn6"
   },
   "source": [
    "Tu salida debería verse como esto:\n",
    "\n",
    "```Python\n",
    "'Mucha suerte, Hacker.'\n",
    "```"
   ]
  },
  {
   "cell_type": "markdown",
   "metadata": {
    "id": "yYntmoiXacn6"
   },
   "source": [
    "## <font color='green'>Actividad 6:</font>\n",
    "Use la indexación para tomar la letra 'H' de la última línea del archivo."
   ]
  },
  {
   "cell_type": "code",
   "execution_count": null,
   "metadata": {
    "colab": {
     "base_uri": "https://localhost:8080/",
     "height": 36
    },
    "executionInfo": {
     "elapsed": 289,
     "status": "ok",
     "timestamp": 1694172271467,
     "user": {
      "displayName": "Carol Diaz",
      "userId": "03863088177087652040"
     },
     "user_tz": 180
    },
    "id": "AC048X5bacn6",
    "outputId": "05f101a4-268a-4781-b589-afee0c0154e8"
   },
   "outputs": [],
   "source": [
    "# Tu código aquí ...\n",
    "\n",
    "Ultima_linea = exam_lineas[-1]\n",
    "Ultima_linea[-7]"
   ]
  },
  {
   "cell_type": "markdown",
   "metadata": {
    "id": "FuihAddJacn6"
   },
   "source": [
    "Tu salida debería verse como esto:\n",
    "\n",
    "```Python\n",
    "'H'\n",
    "```"
   ]
  },
  {
   "cell_type": "markdown",
   "metadata": {
    "id": "OX9ZMHEBacn7"
   },
   "source": [
    "## <font color='green'>Actividad 7:</font>\n",
    "¿Cómo podrías usar Python para contar cuántas palabras hay en la última línea del archivo?\n",
    "\n",
    "Tip:\n",
    "\n",
    "1. Revise el método `split()` en el cuaderno __FP04-Python-Strings__"
   ]
  },
  {
   "cell_type": "code",
   "execution_count": null,
   "metadata": {
    "colab": {
     "base_uri": "https://localhost:8080/"
    },
    "executionInfo": {
     "elapsed": 308,
     "status": "ok",
     "timestamp": 1694172274341,
     "user": {
      "displayName": "Carol Diaz",
      "userId": "03863088177087652040"
     },
     "user_tz": 180
    },
    "id": "w8Grlkwhacn7",
    "outputId": "171b8e8a-989d-4af0-e0c6-0a90d641055b"
   },
   "outputs": [],
   "source": [
    "# Tu código aquí ...\n",
    "len(Ultima_linea.split())\n"
   ]
  },
  {
   "cell_type": "markdown",
   "metadata": {
    "id": "zYnarFdyacn7"
   },
   "source": [
    "Tu salida debería verse como esto:\n",
    "\n",
    "```Python\n",
    "3\n",
    "```"
   ]
  },
  {
   "cell_type": "markdown",
   "metadata": {
    "id": "VVbWh1Ckacn7"
   },
   "source": [
    "## <font color='green'>Actividad 8:</font>\n",
    "Qué tipos de datos devuelven las siguientes líneas de código:\n",
    "\n",
    "     1.) 2 / 3\n",
    "     2.) 2 + 2.0\n",
    "     3.) 1 + 1\n",
    "     4.) \"2\" + \"2\"\n",
    "     5.) 1 > 2\n",
    "    \n",
    "Tip:\n",
    "1. Intenta responder esto mentalmente antes de verificar ejecutando el código en Python.\n",
    "2. Utiliza la función `type()`"
   ]
  },
  {
   "cell_type": "code",
   "execution_count": null,
   "metadata": {
    "colab": {
     "base_uri": "https://localhost:8080/"
    },
    "executionInfo": {
     "elapsed": 286,
     "status": "ok",
     "timestamp": 1694172283337,
     "user": {
      "displayName": "Carol Diaz",
      "userId": "03863088177087652040"
     },
     "user_tz": 180
    },
    "id": "ZQCbTf4Tacn8",
    "outputId": "28182bbb-a053-40d2-8369-c00c0a538bc1"
   },
   "outputs": [],
   "source": [
    "# Tu código aquí ...\n",
    "print(type(2 / 3))\n",
    "print(type(2 + 2.0))\n",
    "print(type(1 + 1))\n",
    "print(type(\"2\" + \"2\"))\n",
    "print(type(1 > 2))"
   ]
  },
  {
   "cell_type": "markdown",
   "metadata": {
    "id": "jT4Fr9MMacn8"
   },
   "source": [
    "## <font color='green'>Actividad 9: Super challenging</font>\n",
    "¿Qué tan bien comprendes la indexación (en listas) y el uso de las llaves (en diccionarios)?\n",
    "\n",
    "Aquí te presentamos un conjunto de diccionarios y listas que están anidados (incluidos) dentro de un único diccionario $d$:"
   ]
  },
  {
   "cell_type": "code",
   "execution_count": null,
   "metadata": {
    "executionInfo": {
     "elapsed": 320,
     "status": "ok",
     "timestamp": 1694172318105,
     "user": {
      "displayName": "Carol Diaz",
      "userId": "03863088177087652040"
     },
     "user_tz": 180
    },
    "id": "S5qkvzexacn8"
   },
   "outputs": [],
   "source": [
    "# Ejecuta esta celda\n",
    "\n",
    "d = {\"nivel 1\":[1, 2, {'nivel 2':[5, 6, [1,['sácame de aquí por favor !!!']]]}]}"
   ]
  },
  {
   "cell_type": "markdown",
   "metadata": {
    "id": "DbNLv8i4acn9"
   },
   "source": [
    "Tu tarea es recuperar la cadena \"sácame de aquí por favor !!!\" del diccionario utilizando *indexing* y *keys*\n",
    "\n",
    "Tip:\n",
    "1. Aproxímate a la solución paso a paso, agregando lentamente más y más llamadas de índice.\n",
    "2. Extraiga valores del diccionario usando **[name_of_key]**\n",
    "3. Extraiga elementos de la lista usando indexing con **[número]**\n",
    "4. Utiliza tantas celdas como necesites"
   ]
  },
  {
   "cell_type": "code",
   "execution_count": null,
   "metadata": {
    "colab": {
     "base_uri": "https://localhost:8080/"
    },
    "executionInfo": {
     "elapsed": 273,
     "status": "ok",
     "timestamp": 1694172331537,
     "user": {
      "displayName": "Carol Diaz",
      "userId": "03863088177087652040"
     },
     "user_tz": 180
    },
    "id": "9ytPg-gBacn9",
    "outputId": "c74450f4-9fc0-4572-d6d2-38cf058a9da1"
   },
   "outputs": [],
   "source": [
    "# Tu código aquí ...\n",
    "print(d['nivel 1'])\n",
    "print(d['nivel 1'][2])\n",
    "print(d['nivel 1'][2]['nivel 2'])\n",
    "print(d['nivel 1'][2]['nivel 2'][2])\n",
    "print(d['nivel 1'][2]['nivel 2'][2][1])\n",
    "print(d['nivel 1'][2]['nivel 2'][2][1][0])\n",
    "\n"
   ]
  },
  {
   "cell_type": "markdown",
   "metadata": {
    "id": "4P0PFFImacn9"
   },
   "source": [
    "Tu salida debería verse como esto:\n",
    "\n",
    "```Python\n",
    "'sácame de aquí por favor !!!'\n",
    "```"
   ]
  },
  {
   "cell_type": "markdown",
   "metadata": {
    "id": "5Y8Jj4iIacn9"
   },
   "source": [
    "### <font color='green'>Actividad 10: Challenging</font>\n",
    "¿Cuántos enteros únicos hay en esta lista?\n",
    "\n",
    "Tip:\n",
    "1. Utilice la función `set()` mostrada en **FP08-Sets**.\n",
    "2. Utiliza la función `len()`"
   ]
  },
  {
   "cell_type": "code",
   "execution_count": null,
   "metadata": {
    "executionInfo": {
     "elapsed": 256,
     "status": "ok",
     "timestamp": 1694172341015,
     "user": {
      "displayName": "Carol Diaz",
      "userId": "03863088177087652040"
     },
     "user_tz": 180
    },
    "id": "NlzL0qDRacn-"
   },
   "outputs": [],
   "source": [
    "# Ejecuta esta celda\n",
    "\n",
    "mylist = [1, 2, 3, 4, 5, 6, 4, 3, 2, 1, 2, 3, 4, 5, 6, 6, 7, 8, 5, 6, 7, 8,\n",
    "          9, 8, 9, 8, 9, 7, 10, 1, 23 ,1 ,2 ,2 ,3 ,1 ,3 ,2 ,4 ,1 ,4 ,4 ,1 ,\n",
    "          2, 22, 3, 4, 1, 4, 1, 3, 1, 22, 3, 6, 3, 1, 23, 4, 6, 1, 2, 10, 1]"
   ]
  },
  {
   "cell_type": "code",
   "execution_count": null,
   "metadata": {
    "colab": {
     "base_uri": "https://localhost:8080/"
    },
    "executionInfo": {
     "elapsed": 279,
     "status": "ok",
     "timestamp": 1694172343473,
     "user": {
      "displayName": "Carol Diaz",
      "userId": "03863088177087652040"
     },
     "user_tz": 180
    },
    "id": "b7XJCt6xacn-",
    "outputId": "89b9cf38-d7c0-47a5-e1cf-49e6ea9509db"
   },
   "outputs": [],
   "source": [
    "# Tu código aquí ...\n",
    "\n",
    "set(mylist)"
   ]
  },
  {
   "cell_type": "code",
   "execution_count": null,
   "metadata": {
    "colab": {
     "base_uri": "https://localhost:8080/"
    },
    "executionInfo": {
     "elapsed": 580,
     "status": "ok",
     "timestamp": 1694172345688,
     "user": {
      "displayName": "Carol Diaz",
      "userId": "03863088177087652040"
     },
     "user_tz": 180
    },
    "id": "Nw0MAEm8XN3s",
    "outputId": "541f89cb-aaa6-4116-ee85-9969431d6386"
   },
   "outputs": [],
   "source": [
    "len(set(mylist))"
   ]
  },
  {
   "cell_type": "markdown",
   "metadata": {
    "id": "Ffb3NP04acn-"
   },
   "source": [
    "Tu salida debería verse como esto:\n",
    "\n",
    "```Python\n",
    "12\n",
    "```"
   ]
  },
  {
   "cell_type": "markdown",
   "metadata": {
    "id": "7PiKMIz9acn-"
   },
   "source": [
    "Excelente trabajo Hackers !!!"
   ]
  }
 ],
 "metadata": {
  "colab": {
   "provenance": []
  },
  "kernelspec": {
   "display_name": "Python 3 (ipykernel)",
   "language": "python",
   "name": "python3"
  },
  "language_info": {
   "codemirror_mode": {
    "name": "ipython",
    "version": 3
   },
   "file_extension": ".py",
   "mimetype": "text/x-python",
   "name": "python",
   "nbconvert_exporter": "python",
   "pygments_lexer": "ipython3",
   "version": "3.8.11"
  }
 },
 "nbformat": 4,
 "nbformat_minor": 0
}
