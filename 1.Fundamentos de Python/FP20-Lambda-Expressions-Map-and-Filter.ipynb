{
 "cells": [
  {
   "cell_type": "markdown",
   "metadata": {
    "id": "5H371uVRVQa5"
   },
   "source": [
    "# **Introducción a Python**\n",
    "# FP20. Expresiones Lambda, Map y Filter"
   ]
  },
  {
   "cell_type": "markdown",
   "metadata": {
    "id": "cboFi8FzVQa_"
   },
   "source": [
    "Ahora es el momento de aprender sobre dos funciones integradas, `filter` y `map`. Una vez que aprendamos cómo funcionan, podemos aprender sobre la expresión `lambda`, que será útil cuando comiences a desarrollar más tus habilidades."
   ]
  },
  {
   "cell_type": "markdown",
   "metadata": {
    "id": "owNzerYJVQa_"
   },
   "source": [
    "## <font color='blue'>**Función `map()`**</font>\n",
    "La función `map()` te permite \"asignar\" una función a un objeto iterable (e.g. un string o una lista). Es decir, puedes llamar rápidamente a la misma función para todos los elementos que constituyen el objeto iterable.<br>\n",
    "Veamos un ejemplo:"
   ]
  },
  {
   "cell_type": "code",
   "execution_count": null,
   "metadata": {
    "executionInfo": {
     "elapsed": 19,
     "status": "ok",
     "timestamp": 1694207492927,
     "user": {
      "displayName": "Carol Diaz",
      "userId": "03863088177087652040"
     },
     "user_tz": 180
    },
    "id": "ZOPew8c1VQbA"
   },
   "outputs": [],
   "source": [
    "# Definimos una función\n",
    "def square(num):\n",
    "    return num ** 2"
   ]
  },
  {
   "cell_type": "code",
   "execution_count": null,
   "metadata": {
    "executionInfo": {
     "elapsed": 10,
     "status": "ok",
     "timestamp": 1694207497542,
     "user": {
      "displayName": "Carol Diaz",
      "userId": "03863088177087652040"
     },
     "user_tz": 180
    },
    "id": "BIdlzY4rVQbC"
   },
   "outputs": [],
   "source": [
    "# Y ahora una lista\n",
    "my_nums = [1, 2, 3, 4, 5]"
   ]
  },
  {
   "cell_type": "markdown",
   "metadata": {
    "id": "YLHYTBNJVQbC"
   },
   "source": [
    "Aplicamos `map` a la función y la lista (iterable)"
   ]
  },
  {
   "cell_type": "code",
   "execution_count": null,
   "metadata": {
    "colab": {
     "base_uri": "https://localhost:8080/"
    },
    "executionInfo": {
     "elapsed": 12,
     "status": "ok",
     "timestamp": 1694207500390,
     "user": {
      "displayName": "Carol Diaz",
      "userId": "03863088177087652040"
     },
     "user_tz": 180
    },
    "id": "2jPVHiXnVQbC",
    "outputId": "72bb248f-d69c-4fc6-a740-d5a7f8dfc17e"
   },
   "outputs": [],
   "source": [
    "map(square, my_nums)"
   ]
  },
  {
   "cell_type": "markdown",
   "metadata": {
    "id": "3Jr0pkWHVQbE"
   },
   "source": [
    "No nos devuelve nada porque es un iterable. Hay que iterar sobre él, o desempaquetarlo o convertirlo en otro objeto (lista)."
   ]
  },
  {
   "cell_type": "code",
   "execution_count": null,
   "metadata": {
    "colab": {
     "base_uri": "https://localhost:8080/"
    },
    "executionInfo": {
     "elapsed": 806,
     "status": "ok",
     "timestamp": 1694207531742,
     "user": {
      "displayName": "Carol Diaz",
      "userId": "03863088177087652040"
     },
     "user_tz": 180
    },
    "id": "YfDFFrIvVQbF",
    "outputId": "99f8b3b8-eb78-4f13-d0a2-e077b2b667ce"
   },
   "outputs": [],
   "source": [
    "# Iteramos sobre el objeto map\n",
    "for i in map(square, my_nums):\n",
    "    print(i, end=' ')"
   ]
  },
  {
   "cell_type": "code",
   "execution_count": null,
   "metadata": {
    "colab": {
     "base_uri": "https://localhost:8080/"
    },
    "executionInfo": {
     "elapsed": 5,
     "status": "ok",
     "timestamp": 1694207533303,
     "user": {
      "displayName": "Carol Diaz",
      "userId": "03863088177087652040"
     },
     "user_tz": 180
    },
    "id": "ncbI8DewVQbG",
    "outputId": "846d0ab7-3b8c-4e70-9d33-1d1bedc2eaca"
   },
   "outputs": [],
   "source": [
    "# Lo desempaquetamos dentro de un print()\n",
    "print(*map(square, my_nums))"
   ]
  },
  {
   "cell_type": "code",
   "execution_count": null,
   "metadata": {
    "colab": {
     "base_uri": "https://localhost:8080/"
    },
    "executionInfo": {
     "elapsed": 6,
     "status": "ok",
     "timestamp": 1694207535469,
     "user": {
      "displayName": "Carol Diaz",
      "userId": "03863088177087652040"
     },
     "user_tz": 180
    },
    "id": "nTl4ovuHVQbH",
    "outputId": "ccbd175d-948c-4164-d733-d506568ac96d"
   },
   "outputs": [],
   "source": [
    "# O simplemente lo ponermos como argumento de la función list\n",
    "list(map(square, my_nums))"
   ]
  },
  {
   "cell_type": "markdown",
   "metadata": {
    "id": "debHqFPDVQbH"
   },
   "source": [
    "Las funciones pueden ser mucho más complejas"
   ]
  },
  {
   "cell_type": "code",
   "execution_count": null,
   "metadata": {
    "executionInfo": {
     "elapsed": 438,
     "status": "ok",
     "timestamp": 1694207538049,
     "user": {
      "displayName": "Carol Diaz",
      "userId": "03863088177087652040"
     },
     "user_tz": 180
    },
    "id": "T3QFDFK_VQbI"
   },
   "outputs": [],
   "source": [
    "def splicer(mystring):\n",
    "    if len(mystring) % 2 == 0:\n",
    "        return 'es par'\n",
    "    else:\n",
    "        return 'es impar' #"
   ]
  },
  {
   "cell_type": "code",
   "execution_count": null,
   "metadata": {
    "executionInfo": {
     "elapsed": 6,
     "status": "ok",
     "timestamp": 1694207539514,
     "user": {
      "displayName": "Carol Diaz",
      "userId": "03863088177087652040"
     },
     "user_tz": 180
    },
    "id": "vjJVVHNlVQbI"
   },
   "outputs": [],
   "source": [
    "mynames = ['Juan', 'Andrea', 'Julia', 'Beto', 'Zoe']"
   ]
  },
  {
   "cell_type": "code",
   "execution_count": null,
   "metadata": {
    "colab": {
     "base_uri": "https://localhost:8080/"
    },
    "executionInfo": {
     "elapsed": 11,
     "status": "ok",
     "timestamp": 1694207540981,
     "user": {
      "displayName": "Carol Diaz",
      "userId": "03863088177087652040"
     },
     "user_tz": 180
    },
    "id": "GF5KjtYNVQbJ",
    "outputId": "764ec6f1-30b4-41db-b895-3b470d5f7b0d"
   },
   "outputs": [],
   "source": [
    "list(map(splicer,mynames))"
   ]
  },
  {
   "cell_type": "markdown",
   "metadata": {
    "id": "-CuYOt4tVQbK"
   },
   "source": [
    "## <font color='blue'>**Función `filter()`**</font>\n",
    "\n",
    "La función `filter()` devuelve un iterador donde los elementos se filtran a través de una función para probar si el elemento es aceptado o no, i.e., que cumpla con una confición o no. Esto qué significa? Que debe filtrar por una función que devuelva `True` o `False`."
   ]
  },
  {
   "cell_type": "code",
   "execution_count": null,
   "metadata": {
    "executionInfo": {
     "elapsed": 8,
     "status": "ok",
     "timestamp": 1694207543397,
     "user": {
      "displayName": "Carol Diaz",
      "userId": "03863088177087652040"
     },
     "user_tz": 180
    },
    "id": "E63xYDv1VQbK"
   },
   "outputs": [],
   "source": [
    "def check_even(num):\n",
    "    \"\"\"\n",
    "    Esta función chequea si el número ingresado es par o impar\n",
    "    Devuelve True o False\n",
    "    \"\"\"\n",
    "    return num % 2 == 0"
   ]
  },
  {
   "cell_type": "code",
   "execution_count": null,
   "metadata": {
    "colab": {
     "base_uri": "https://localhost:8080/"
    },
    "executionInfo": {
     "elapsed": 9,
     "status": "ok",
     "timestamp": 1694207544844,
     "user": {
      "displayName": "Carol Diaz",
      "userId": "03863088177087652040"
     },
     "user_tz": 180
    },
    "id": "PZ0rLp2nVQbK",
    "outputId": "bcbe4deb-102f-48b6-c9e9-9df802243427"
   },
   "outputs": [],
   "source": [
    "check_even(3)"
   ]
  },
  {
   "cell_type": "code",
   "execution_count": null,
   "metadata": {
    "colab": {
     "base_uri": "https://localhost:8080/"
    },
    "executionInfo": {
     "elapsed": 5,
     "status": "ok",
     "timestamp": 1694207546967,
     "user": {
      "displayName": "Carol Diaz",
      "userId": "03863088177087652040"
     },
     "user_tz": 180
    },
    "id": "BV_McKpmVQbL",
    "outputId": "7d81a705-4be2-4781-982e-e77051253491"
   },
   "outputs": [],
   "source": [
    "check_even(8)"
   ]
  },
  {
   "cell_type": "code",
   "execution_count": null,
   "metadata": {
    "executionInfo": {
     "elapsed": 422,
     "status": "ok",
     "timestamp": 1694207549207,
     "user": {
      "displayName": "Carol Diaz",
      "userId": "03863088177087652040"
     },
     "user_tz": 180
    },
    "id": "cG1KrfsdVQbL"
   },
   "outputs": [],
   "source": [
    "nums = [0, 1, 2, 3, 4, 5, 6, 7, 8, 9, 10]"
   ]
  },
  {
   "cell_type": "markdown",
   "metadata": {
    "id": "UxB2o6G2VQbM"
   },
   "source": [
    "Apliquémosla a una lista con una función `filter()`"
   ]
  },
  {
   "cell_type": "code",
   "execution_count": null,
   "metadata": {
    "colab": {
     "base_uri": "https://localhost:8080/"
    },
    "executionInfo": {
     "elapsed": 9,
     "status": "ok",
     "timestamp": 1694207550551,
     "user": {
      "displayName": "Carol Diaz",
      "userId": "03863088177087652040"
     },
     "user_tz": 180
    },
    "id": "SQx576ehVQbM",
    "outputId": "f0f26830-3f71-451e-9b07-24c9d415e16a"
   },
   "outputs": [],
   "source": [
    "filter(check_even, nums)"
   ]
  },
  {
   "cell_type": "markdown",
   "metadata": {
    "id": "os8q0myHVQbM"
   },
   "source": [
    "Nuevamente nos devuelve un iterador"
   ]
  },
  {
   "cell_type": "code",
   "execution_count": null,
   "metadata": {
    "colab": {
     "base_uri": "https://localhost:8080/"
    },
    "executionInfo": {
     "elapsed": 8,
     "status": "ok",
     "timestamp": 1694207552190,
     "user": {
      "displayName": "Carol Diaz",
      "userId": "03863088177087652040"
     },
     "user_tz": 180
    },
    "id": "f0yUITjaVQbM",
    "outputId": "e2da190e-0e42-460e-a4e3-15625b8470da"
   },
   "outputs": [],
   "source": [
    "even = filter(check_even, nums)\n",
    "print(*even)"
   ]
  },
  {
   "cell_type": "markdown",
   "metadata": {
    "id": "P7FV2z6PVQbN"
   },
   "source": [
    "## <font color='blue'>**Generators (generadores)**</font>\n",
    "\n",
    "Los generadores (**generators**) fueron introducidos en el [PEP255](https://www.python.org/dev/peps/pep-0255/). Son funciones especiales que retornan un iterador de tipo *lazzy*. Una **evaluación lazzy** es aquella que retrasa la evaluación de una expresión hasta el momento preciso en que se necesita su valor (evaluación no estricta) y no inmediatamemte cuando aparece en nuestro código.\n",
    "\n",
    "Como resultado de la generación *lazzy* (bajo demanda) de valores, se produce una mejora del rendimiento y un menor uso de memoria. Además, no necesitamos esperar hasta que se hayan generado todos los elementos antes de empezar a utilizarlos. Esto es similar a los beneficios proporcionados por los iteradores."
   ]
  },
  {
   "cell_type": "code",
   "execution_count": null,
   "metadata": {
    "executionInfo": {
     "elapsed": 6,
     "status": "ok",
     "timestamp": 1694207555159,
     "user": {
      "displayName": "Carol Diaz",
      "userId": "03863088177087652040"
     },
     "user_tz": 180
    },
    "id": "K3-BrQPyVQbN"
   },
   "outputs": [],
   "source": [
    "generador = filter(check_even, nums)"
   ]
  },
  {
   "cell_type": "code",
   "execution_count": null,
   "metadata": {
    "colab": {
     "base_uri": "https://localhost:8080/"
    },
    "executionInfo": {
     "elapsed": 14,
     "status": "ok",
     "timestamp": 1694207558667,
     "user": {
      "displayName": "Carol Diaz",
      "userId": "03863088177087652040"
     },
     "user_tz": 180
    },
    "id": "b34T4-AlVQbN",
    "outputId": "14a849b2-870b-4c8e-be86-0dc010b25430"
   },
   "outputs": [],
   "source": [
    "generador"
   ]
  },
  {
   "cell_type": "code",
   "execution_count": null,
   "metadata": {
    "colab": {
     "base_uri": "https://localhost:8080/"
    },
    "executionInfo": {
     "elapsed": 5,
     "status": "ok",
     "timestamp": 1694207560907,
     "user": {
      "displayName": "Carol Diaz",
      "userId": "03863088177087652040"
     },
     "user_tz": 180
    },
    "id": "y0_v3lS0VQbO",
    "outputId": "11c4ae2e-0f28-4f6b-c8d1-dd249d21b60e"
   },
   "outputs": [],
   "source": [
    "# Ejecuta esta celda repetidas veces, verás como next( ) nos entrega un valor a la vez.\n",
    "# Le pide a la función 'check_even' que genere un valor a la vez.\n",
    "# Nota que en algún punto el generador se agota y ya no entrega más valores y devuelve un error\n",
    "# de 'StopIteration'\n",
    "\n",
    "next(generador)"
   ]
  },
  {
   "cell_type": "markdown",
   "metadata": {
    "id": "13ehNHOrVQbO"
   },
   "source": [
    "Si quieres utilizar el generador deberás recrearlo nuevamente:\n",
    "```Python\n",
    "generador = filter(check_even, nums)\n",
    "```\n",
    "Como te habrás fijado, el generador devuelve un valor a la vez, lo cual es muy eficiente para el uso de memoria. Por ejemplo, si desempaquetas todos los elementos con una lista (`list()`):\n",
    "```Python\n",
    "list(generador)\n",
    "```\n",
    "... estarás utilizando el máximo de memoria asociado a la operación; si el generador es muy grande, podrías complicar el uso de memoria en tu equipo."
   ]
  },
  {
   "cell_type": "code",
   "execution_count": null,
   "metadata": {
    "colab": {
     "base_uri": "https://localhost:8080/"
    },
    "executionInfo": {
     "elapsed": 392,
     "status": "ok",
     "timestamp": 1694207564718,
     "user": {
      "displayName": "Carol Diaz",
      "userId": "03863088177087652040"
     },
     "user_tz": 180
    },
    "id": "CyW_x9_rVQbO",
    "outputId": "a9f41f4f-0a9e-4fc6-b954-566f245f1fb6"
   },
   "outputs": [],
   "source": [
    "# La función map() también devuelve un generador\n",
    "a = map(square, my_nums)\n",
    "next(a)"
   ]
  },
  {
   "cell_type": "code",
   "execution_count": null,
   "metadata": {
    "colab": {
     "base_uri": "https://localhost:8080/"
    },
    "executionInfo": {
     "elapsed": 9,
     "status": "ok",
     "timestamp": 1694207567459,
     "user": {
      "displayName": "Carol Diaz",
      "userId": "03863088177087652040"
     },
     "user_tz": 180
    },
    "id": "P0I4xQYpVQbP",
    "outputId": "031a8085-213d-4993-ac65-497e9852326a"
   },
   "outputs": [],
   "source": [
    "next(a)"
   ]
  },
  {
   "cell_type": "markdown",
   "metadata": {
    "id": "QwZ4MlbbVQbP"
   },
   "source": [
    "## <font color='blue'>**Funciones de usuario generadoras**</font>"
   ]
  },
  {
   "cell_type": "markdown",
   "metadata": {
    "id": "yAjyxMM_VQbP"
   },
   "source": [
    "Podemos definir nuestras propias funciones generadores, para ello utilizaremos la expresión `yield` en vez de `return` en ellas."
   ]
  },
  {
   "cell_type": "code",
   "execution_count": null,
   "metadata": {
    "executionInfo": {
     "elapsed": 420,
     "status": "ok",
     "timestamp": 1694207573519,
     "user": {
      "displayName": "Carol Diaz",
      "userId": "03863088177087652040"
     },
     "user_tz": 180
    },
    "id": "xKyDLVJsVQbP"
   },
   "outputs": [],
   "source": [
    "# Definimos una función generadora\n",
    "# Nota el uso de 'yield' en vez de 'return'\n",
    "\n",
    "def secuencia_infinita():\n",
    "    num = 0\n",
    "    while True:\n",
    "        yield num\n",
    "        num += 1"
   ]
  },
  {
   "cell_type": "code",
   "execution_count": null,
   "metadata": {
    "executionInfo": {
     "elapsed": 514,
     "status": "ok",
     "timestamp": 1694207575800,
     "user": {
      "displayName": "Carol Diaz",
      "userId": "03863088177087652040"
     },
     "user_tz": 180
    },
    "id": "8VfheX0gVQbP"
   },
   "outputs": [],
   "source": [
    "# Creamos un generador\n",
    "\n",
    "generador_2 = secuencia_infinita()"
   ]
  },
  {
   "cell_type": "code",
   "execution_count": null,
   "metadata": {
    "colab": {
     "base_uri": "https://localhost:8080/"
    },
    "executionInfo": {
     "elapsed": 13,
     "status": "ok",
     "timestamp": 1694207577576,
     "user": {
      "displayName": "Carol Diaz",
      "userId": "03863088177087652040"
     },
     "user_tz": 180
    },
    "id": "N5kbThoAVQbP",
    "outputId": "14666c5d-a158-4c6f-9297-1937cbb1a290"
   },
   "outputs": [],
   "source": [
    "next(generador_2)"
   ]
  },
  {
   "cell_type": "code",
   "execution_count": null,
   "metadata": {
    "colab": {
     "base_uri": "https://localhost:8080/"
    },
    "executionInfo": {
     "elapsed": 534,
     "status": "ok",
     "timestamp": 1694207579556,
     "user": {
      "displayName": "Carol Diaz",
      "userId": "03863088177087652040"
     },
     "user_tz": 180
    },
    "id": "kqwwPItGVQbQ",
    "outputId": "4bb58358-effb-4ac2-fb36-b19d6c0d0d0d"
   },
   "outputs": [],
   "source": [
    "next(generador_2)"
   ]
  },
  {
   "cell_type": "code",
   "execution_count": null,
   "metadata": {
    "executionInfo": {
     "elapsed": 5,
     "status": "ok",
     "timestamp": 1694207581006,
     "user": {
      "displayName": "Carol Diaz",
      "userId": "03863088177087652040"
     },
     "user_tz": 180
    },
    "id": "SSZy0LgaVQbQ"
   },
   "outputs": [],
   "source": [
    "generador_2.close()"
   ]
  },
  {
   "cell_type": "code",
   "execution_count": null,
   "metadata": {
    "colab": {
     "base_uri": "https://localhost:8080/",
     "height": 193
    },
    "executionInfo": {
     "elapsed": 22,
     "status": "error",
     "timestamp": 1694207583720,
     "user": {
      "displayName": "Carol Diaz",
      "userId": "03863088177087652040"
     },
     "user_tz": 180
    },
    "id": "er_BGIOiVQbQ",
    "outputId": "ae3973db-c245-47fb-abc8-15941f42ca13"
   },
   "outputs": [],
   "source": [
    "# Esta celda dará un error ya que hemos cerrado (close) el generador\n",
    "next(generador_2)"
   ]
  },
  {
   "cell_type": "markdown",
   "metadata": {
    "id": "WIEOudTsI-cm"
   },
   "source": [
    "## <font color='blue'>__Ejercicios__</font>"
   ]
  },
  {
   "cell_type": "markdown",
   "metadata": {
    "id": "wSvgSf41VQbQ"
   },
   "source": [
    "### <font color='green'>Actividad 1: </font>\n",
    "### Crea un generador\n",
    "Desarrolla un generador utilizando la función `map()` aplicando una función a una lista"
   ]
  },
  {
   "cell_type": "code",
   "execution_count": null,
   "metadata": {
    "colab": {
     "base_uri": "https://localhost:8080/"
    },
    "executionInfo": {
     "elapsed": 400,
     "status": "ok",
     "timestamp": 1694207591009,
     "user": {
      "displayName": "Carol Diaz",
      "userId": "03863088177087652040"
     },
     "user_tz": 180
    },
    "id": "ARhHez1xVQbQ",
    "outputId": "5bc02681-3587-4234-a667-7d6816641c36"
   },
   "outputs": [],
   "source": [
    "# Tu código aquí ...\n",
    "\n",
    "def cuadrado(x):\n",
    "  return x**2\n",
    "\n",
    "lista = [1, 2, 3, 4, 5]\n",
    "\n",
    "for i in map(cuadrado, lista):\n",
    "  print(i)\n",
    "\n",
    "print('\\n')\n",
    "print(list(map(cuadrado, lista)))"
   ]
  },
  {
   "cell_type": "markdown",
   "metadata": {
    "id": "LzOexuimVQbR"
   },
   "source": [
    "<font color='green'>Fin actividad 1</font>"
   ]
  },
  {
   "cell_type": "markdown",
   "metadata": {
    "id": "FZfrp7h8VQbR"
   },
   "source": [
    "### <font color='green'>Actividad 2: Challenging</font>\n",
    "### Crea un generador de lectura de archivos\n",
    "Desarrolla un generador para leer un archivo (supuestamente muy) grande\n",
    "\n",
    "Pasos:\n",
    "1. Crea una función llamada **txt_reader** que reciba el nombre de un archivo y lo abra en modo lectura\n",
    "2. Haz que la función recorra las líneas del archivo con un ciclo for\n",
    "3. Retorna cada línea leída con un `yield`\n",
    "4. Crea un generador asociado a tu funcion generadora\n",
    "4. Prueba tu generador con la función `next()` y `close()`.\n",
    "\n",
    "Tip:<br>\n",
    "1. Utiliza esta estructura\n",
    "```python\n",
    "def txt_reader(file_name):\n",
    "    with open ... # Abre el archivo de forma pythonista\n",
    "        for ...:  # recórrelo\n",
    "        yield row\n",
    "```\n",
    "2. Prueba tu función generadora con el archivo ***poblaciones.txt***\n",
    "3. Recuerda corregir la ruta de acceso si estás trabajando en la nube."
   ]
  },
  {
   "cell_type": "code",
   "execution_count": null,
   "metadata": {
    "executionInfo": {
     "elapsed": 406,
     "status": "ok",
     "timestamp": 1694208298082,
     "user": {
      "displayName": "Carol Diaz",
      "userId": "03863088177087652040"
     },
     "user_tz": 180
    },
    "id": "0km0P6IpVQbR"
   },
   "outputs": [],
   "source": [
    "# Tu código aquí ...\n",
    "\n",
    "def txt_reader(archivo):\n",
    "    with open(archivo, \"r\") as f:\n",
    "        for line in f:\n",
    "            yield line"
   ]
  },
  {
   "cell_type": "code",
   "execution_count": null,
   "metadata": {
    "colab": {
     "base_uri": "https://localhost:8080/",
     "height": 36
    },
    "executionInfo": {
     "elapsed": 418,
     "status": "ok",
     "timestamp": 1694208304032,
     "user": {
      "displayName": "Carol Diaz",
      "userId": "03863088177087652040"
     },
     "user_tz": 180
    },
    "id": "aG1khyB5qPxG",
    "outputId": "918091c4-1e3f-47b5-859a-fef15292e654"
   },
   "outputs": [],
   "source": [
    "# Creación de generador\n",
    "gen = txt_reader('/content/drive/MyDrive/Fund_de_Python(V1)/poblaciones.txt')\n",
    "\n",
    "# Extracción de elemento\n",
    "next(gen)\n"
   ]
  },
  {
   "cell_type": "code",
   "execution_count": null,
   "metadata": {
    "executionInfo": {
     "elapsed": 382,
     "status": "ok",
     "timestamp": 1694208306147,
     "user": {
      "displayName": "Carol Diaz",
      "userId": "03863088177087652040"
     },
     "user_tz": 180
    },
    "id": "p1RSC74erqCu"
   },
   "outputs": [],
   "source": [
    "gen.close()"
   ]
  },
  {
   "cell_type": "markdown",
   "metadata": {
    "id": "wxDXPQkDVQbS"
   },
   "source": [
    "<font color='green'>Fin actividad 2</font>"
   ]
  },
  {
   "cell_type": "markdown",
   "metadata": {
    "id": "MX_Xq5soVQbS"
   },
   "source": [
    "## <font color='blue'>**Expresiones `lambda`**</font>\n",
    "\n",
    "Una de las herramientas más útiles de Python (y potencialmente confusa) es la expresión `lambda`. Las expresiones `lambda` nos permiten crear funciones \"anónimas\", es decir, sin nombre. Básicamente, esto significa que podemos crear funciones ad-hoc rápidamente sin necesidad de definir correctamente una función usando `def`.\n",
    "\n",
    "Los objetos de función devueltos al ejecutar expresiones `lambda` funcionan exactamente igual que los creados y asignados por `def`.\n",
    "\n",
    "Existe una diferencia clave que hace que lambda sea útil en roles especializados:\n",
    "\n",
    "* El cuerpo de `lambda` es una expresión única, no un bloque de declaraciones.\n",
    "\n",
    "* Debido a que se limita a una expresión, una `lambda` es menos general que una `def`.\n",
    "\n",
    "* `lambda` está diseñado para codificar funciones simples y `def` maneja las tareas más grandes y complejas.\n",
    "\n",
    "* Las funciones `def` son reutilizables, las `lambda` no."
   ]
  },
  {
   "cell_type": "markdown",
   "metadata": {
    "id": "XdAguhhJVQbS"
   },
   "source": [
    "Analicemos lentamente una expresión lambda deconstruyendo una función:"
   ]
  },
  {
   "cell_type": "code",
   "execution_count": null,
   "metadata": {
    "executionInfo": {
     "elapsed": 369,
     "status": "ok",
     "timestamp": 1694208323413,
     "user": {
      "displayName": "Carol Diaz",
      "userId": "03863088177087652040"
     },
     "user_tz": 180
    },
    "id": "w_kYYBxJVQbS"
   },
   "outputs": [],
   "source": [
    "def square(num):\n",
    "    \"\"\"\n",
    "    Esta función calcula el cuadrado de un número\n",
    "    \"\"\"\n",
    "    result = num ** 2\n",
    "    return result"
   ]
  },
  {
   "cell_type": "code",
   "execution_count": null,
   "metadata": {
    "colab": {
     "base_uri": "https://localhost:8080/"
    },
    "executionInfo": {
     "elapsed": 590,
     "status": "ok",
     "timestamp": 1694208327554,
     "user": {
      "displayName": "Carol Diaz",
      "userId": "03863088177087652040"
     },
     "user_tz": 180
    },
    "id": "478eZvjzVQbS",
    "outputId": "28c629df-8d6c-4099-e56b-215c48d9de96"
   },
   "outputs": [],
   "source": [
    "square(2)"
   ]
  },
  {
   "cell_type": "markdown",
   "metadata": {
    "id": "eiRgyQpjVQbS"
   },
   "source": [
    "La podemos simplificar así:"
   ]
  },
  {
   "cell_type": "code",
   "execution_count": null,
   "metadata": {
    "executionInfo": {
     "elapsed": 428,
     "status": "ok",
     "timestamp": 1694208336061,
     "user": {
      "displayName": "Carol Diaz",
      "userId": "03863088177087652040"
     },
     "user_tz": 180
    },
    "id": "GZJVsIAMVQbS"
   },
   "outputs": [],
   "source": [
    "def square(num):\n",
    "    return num ** 2"
   ]
  },
  {
   "cell_type": "code",
   "execution_count": null,
   "metadata": {
    "colab": {
     "base_uri": "https://localhost:8080/"
    },
    "executionInfo": {
     "elapsed": 11,
     "status": "ok",
     "timestamp": 1694208338524,
     "user": {
      "displayName": "Carol Diaz",
      "userId": "03863088177087652040"
     },
     "user_tz": 180
    },
    "id": "BwWt9IeIVQbT",
    "outputId": "88849e5b-e5ae-41e5-fd21-4584d6aeb61b"
   },
   "outputs": [],
   "source": [
    "square(2)"
   ]
  },
  {
   "cell_type": "markdown",
   "metadata": {
    "id": "iHt64628VQbT"
   },
   "source": [
    "Idiomáticamente hablando, incluso podríamos escribir todo esto en una sola línea."
   ]
  },
  {
   "cell_type": "code",
   "execution_count": null,
   "metadata": {
    "executionInfo": {
     "elapsed": 7,
     "status": "ok",
     "timestamp": 1694208339995,
     "user": {
      "displayName": "Carol Diaz",
      "userId": "03863088177087652040"
     },
     "user_tz": 180
    },
    "id": "p_la0SzDVQbT"
   },
   "outputs": [],
   "source": [
    "def square(num): return num ** 2"
   ]
  },
  {
   "cell_type": "code",
   "execution_count": null,
   "metadata": {
    "colab": {
     "base_uri": "https://localhost:8080/"
    },
    "executionInfo": {
     "elapsed": 6,
     "status": "ok",
     "timestamp": 1694208341556,
     "user": {
      "displayName": "Carol Diaz",
      "userId": "03863088177087652040"
     },
     "user_tz": 180
    },
    "id": "Y_8o9akNVQbT",
    "outputId": "94e57b56-2bd3-4625-8fb0-9053025da883"
   },
   "outputs": [],
   "source": [
    "square(2)"
   ]
  },
  {
   "cell_type": "markdown",
   "metadata": {
    "id": "SQV6ON0VVQbT"
   },
   "source": [
    "Esta es jústamente la forma que una expresión *`lambda`* intenta replicar. Una expresión *`lambda`* se puede escribir como:"
   ]
  },
  {
   "cell_type": "code",
   "execution_count": null,
   "metadata": {
    "colab": {
     "base_uri": "https://localhost:8080/"
    },
    "executionInfo": {
     "elapsed": 20,
     "status": "ok",
     "timestamp": 1694208343309,
     "user": {
      "displayName": "Carol Diaz",
      "userId": "03863088177087652040"
     },
     "user_tz": 180
    },
    "id": "i29xZxNFVQbT",
    "outputId": "0e185739-8ae2-4b46-d980-5fcacf70874a"
   },
   "outputs": [],
   "source": [
    "lambda num: num ** 2"
   ]
  },
  {
   "cell_type": "code",
   "execution_count": null,
   "metadata": {
    "executionInfo": {
     "elapsed": 8,
     "status": "ok",
     "timestamp": 1694208345486,
     "user": {
      "displayName": "Carol Diaz",
      "userId": "03863088177087652040"
     },
     "user_tz": 180
    },
    "id": "PcXRikPCVQbT"
   },
   "outputs": [],
   "source": [
    "# Normalmente, no asignaremos una variable a una expresión lambda\n",
    "# esto es solo para demostración!\n",
    "\n",
    "square = lambda num: num **2"
   ]
  },
  {
   "cell_type": "code",
   "execution_count": null,
   "metadata": {
    "colab": {
     "base_uri": "https://localhost:8080/"
    },
    "executionInfo": {
     "elapsed": 596,
     "status": "ok",
     "timestamp": 1694208347764,
     "user": {
      "displayName": "Carol Diaz",
      "userId": "03863088177087652040"
     },
     "user_tz": 180
    },
    "id": "21rw28mBVQbT",
    "outputId": "01342e15-7659-4313-9fa7-6fbf1ab58183"
   },
   "outputs": [],
   "source": [
    "square(2)"
   ]
  },
  {
   "cell_type": "markdown",
   "metadata": {
    "id": "gof6i5FnVQbU"
   },
   "source": [
    "Entonces, ¿por qué usaríamos esto?\n",
    "\n",
    "Muchas llamadas a funciones necesitan una función creada anteriormente (más arriba en nuestro código), como en los casos de `map` y `filter`. Sin embargo, a veces solo se necesita usar la función una vez, por lo que en lugar de definirla formalmente con `def`), usamos una expresión `lambda`.\n",
    "\n",
    "Repitamos algunos de los ejemplos anteriores con una expresión `lambda`."
   ]
  },
  {
   "cell_type": "code",
   "execution_count": null,
   "metadata": {
    "colab": {
     "base_uri": "https://localhost:8080/"
    },
    "executionInfo": {
     "elapsed": 439,
     "status": "ok",
     "timestamp": 1694208349711,
     "user": {
      "displayName": "Carol Diaz",
      "userId": "03863088177087652040"
     },
     "user_tz": 180
    },
    "id": "hrscxHo4VQbU",
    "outputId": "5d6b8312-c8fa-481e-8bfb-8e13161680f7"
   },
   "outputs": [],
   "source": [
    "list(map(lambda num: num ** 2, my_nums))"
   ]
  },
  {
   "cell_type": "code",
   "execution_count": null,
   "metadata": {
    "colab": {
     "base_uri": "https://localhost:8080/"
    },
    "executionInfo": {
     "elapsed": 10,
     "status": "ok",
     "timestamp": 1694208351225,
     "user": {
      "displayName": "Carol Diaz",
      "userId": "03863088177087652040"
     },
     "user_tz": 180
    },
    "id": "Wl4LtqfGVQbU",
    "outputId": "d3a5f7a0-b21a-41cc-c353-b04933603dd2"
   },
   "outputs": [],
   "source": [
    "list(filter(lambda n: n % 2 == 0, nums))"
   ]
  },
  {
   "cell_type": "markdown",
   "metadata": {
    "id": "msVQz6mjVQbU"
   },
   "source": [
    "Ten en cuenta que cuanto más compleja sea una función, más difícil será traducirla a una expresión `lambda`, lo que significa que a veces es más fácil (y a menudo la única forma) crear la función con `def`.\n",
    "\n",
    "A continuación algunos ejemplos más."
   ]
  },
  {
   "cell_type": "markdown",
   "metadata": {
    "id": "eAVXIeaVVQbU"
   },
   "source": [
    "### Expresión `lambda` para capturar el primer carácter de una cadena"
   ]
  },
  {
   "cell_type": "code",
   "execution_count": null,
   "metadata": {
    "colab": {
     "base_uri": "https://localhost:8080/"
    },
    "executionInfo": {
     "elapsed": 10,
     "status": "ok",
     "timestamp": 1694208354005,
     "user": {
      "displayName": "Carol Diaz",
      "userId": "03863088177087652040"
     },
     "user_tz": 180
    },
    "id": "fy3da_xjVQbU",
    "outputId": "47b4c22b-30a8-4b77-83a3-f626a0175b54"
   },
   "outputs": [],
   "source": [
    "cadena = lambda s: s[0]\n",
    "print(cadena('Hola'))"
   ]
  },
  {
   "cell_type": "markdown",
   "metadata": {
    "id": "yLGhvqE5VQbU"
   },
   "source": [
    "### Expresión `lambda` para invertir una cadena"
   ]
  },
  {
   "cell_type": "code",
   "execution_count": null,
   "metadata": {
    "colab": {
     "base_uri": "https://localhost:8080/"
    },
    "executionInfo": {
     "elapsed": 412,
     "status": "ok",
     "timestamp": 1694208356286,
     "user": {
      "displayName": "Carol Diaz",
      "userId": "03863088177087652040"
     },
     "user_tz": 180
    },
    "id": "QjAnO01kVQbU",
    "outputId": "2406e5eb-bcd7-45e3-9206-4243bb51e359"
   },
   "outputs": [],
   "source": [
    "cadena_invertida = lambda s: s[::-1]\n",
    "print(cadena_invertida('Hola'))"
   ]
  },
  {
   "cell_type": "markdown",
   "metadata": {
    "id": "ifHkLAFrVQbU"
   },
   "source": [
    "Incluso puedes pasar varios argumentos a una expresión `lambda`. Nuevamente, ten en cuenta que no todas las funciones se pueden traducir a una expresión `lambda`."
   ]
  },
  {
   "cell_type": "markdown",
   "metadata": {
    "id": "tCT-p7NIVQbU"
   },
   "source": [
    "### Expresión `lambda` para sumar dos números"
   ]
  },
  {
   "cell_type": "code",
   "execution_count": null,
   "metadata": {
    "colab": {
     "base_uri": "https://localhost:8080/"
    },
    "executionInfo": {
     "elapsed": 407,
     "status": "ok",
     "timestamp": 1694208359079,
     "user": {
      "displayName": "Carol Diaz",
      "userId": "03863088177087652040"
     },
     "user_tz": 180
    },
    "id": "h2EBkUn_VQbV",
    "outputId": "71d62e57-9caf-4546-b14c-ca7ad4b677c4"
   },
   "outputs": [],
   "source": [
    "suma_2_num = lambda x,y : x + y\n",
    "suma_2_num(3, 4)"
   ]
  },
  {
   "cell_type": "markdown",
   "metadata": {
    "id": "q9Q8iWbNVQbV"
   },
   "source": [
    "### Expresión `lambda` para sumar muchos números"
   ]
  },
  {
   "cell_type": "code",
   "execution_count": null,
   "metadata": {
    "colab": {
     "base_uri": "https://localhost:8080/"
    },
    "executionInfo": {
     "elapsed": 457,
     "status": "ok",
     "timestamp": 1694208361641,
     "user": {
      "displayName": "Carol Diaz",
      "userId": "03863088177087652040"
     },
     "user_tz": 180
    },
    "id": "8yJ1LIUVVQbV",
    "outputId": "fb4e69ae-2fdb-42e9-a849-5eb3dcdb0cdd"
   },
   "outputs": [],
   "source": [
    "suma_n_num = lambda *args: sum(args)\n",
    "suma_n_num(1, 2, 3, 4, 5, 6, 7, 8, 9)"
   ]
  },
  {
   "cell_type": "markdown",
   "metadata": {
    "id": "pWCQevdZVQbV"
   },
   "source": [
    "Más adelante verás que ciertas librerías de Python (e.g. Pandas) utilizan mucho las expresiones `lambda`."
   ]
  },
  {
   "cell_type": "markdown",
   "metadata": {
    "id": "jG41TV9pJleJ"
   },
   "source": [
    "<img src=\"https://drive.google.com/uc?export=view&id=1Igtn9UXg6NGeRWsqh4hefQUjV0hmzlBv\" width=\"100\" align=\"left\" title=\"Runa-perth\">\n",
    "<br clear=\"left\">\n",
    "Contenido opcional\n",
    "\n",
    "##<font color='blue'>__Ejercicios avanzados__</font>\n",
    "\n",
    "Desarrolla los siguientes ejercicios si quieres profundizar tus conocimientos en expresiones `lambda`."
   ]
  },
  {
   "cell_type": "markdown",
   "metadata": {
    "id": "JC3fG6bIJv0G"
   },
   "source": [
    "### <font color='green'>Actividad 3</font>\n",
    "Dada una lista de tuplas que representan productos en un inventario, donde cada tupla contiene el nombre del producto como una cadena y su cantidad en el inventario como un número entero, escribe una expresión lambda que tome dicha lista y devuelva la misma lista ordenada por la cantidad de producto en orden descendente."
   ]
  },
  {
   "cell_type": "code",
   "execution_count": null,
   "metadata": {
    "id": "Jcr5TaGiERQ6"
   },
   "outputs": [],
   "source": [
    "productos = [(\"manzanas\", 10), (\"plátanos\", 40), (\"bananas\", 20), (\"naranjas\", 30)]\n",
    "\n",
    "# Tu código aquí ...\n",
    "# -> [('plátanos', 40), ('naranjas', 30), ('bananas', 20), ('manzanas', 10)]\n",
    "\n",
    "\n"
   ]
  },
  {
   "cell_type": "markdown",
   "metadata": {
    "id": "7UUrAZQiKYex"
   },
   "source": [
    "### <font color='green'>Actividad 4</font>\n",
    "Escribe una expresión lambda que tome una lista de cadenas y devuelva una nueva lista que contenga solo las cadenas que tienen una longitud de exactamente tres caracteres."
   ]
  },
  {
   "cell_type": "code",
   "execution_count": null,
   "metadata": {
    "id": "wPeaacSzLLVw"
   },
   "outputs": [],
   "source": [
    "# Probemos tu expresión con el siguiente texto\n",
    "noticia = \"\"\"El Planeta. Los astrónomos han descubierto un fenómeno sorprendente en nuestro sistema solar. Un planeta, previamente no identificado, parece haber entrado en nuestro sistema solar desde el espacio interestelar.\n",
    "Este planeta, provisionalmente denominado \"Eris II!\", ha causado un gran revuelo en la comunidad astronómica. Según los primeros informes, el planeta es aproximadamente del tamaño de Marte y parece tener una composición similar a la de los planetas gigantes gaseosos como Júpiter y Saturno.\n",
    "El planeta fue descubierto por un equipo de astrónomos de la Universidad de California, que estaban utilizando el telescopio espacial Kepler para estudiar las estrellas en la constelación de Cygnus. El equipo se dio cuenta de que una estrella parecía oscurecerse periódicamente, un signo clásico de un planeta en tránsito.\n",
    "\"Estábamos buscando planetas alrededor de otras estrellas, así que fue una gran sorpresa cuando nos dimos cuenta de que este planeta estaba mucho más cerca de casa\", dijo la Dra. Jane Foster, líder del equipo de investigación.\n",
    "El descubrimiento de este nuevo planeta plantea muchas preguntas. ¿Cómo logró este planeta entrar en nuestro sistema solar sin ser detectado antes? ¿Podría haber otros planetas desconocidos en nuestro sistema solar? ¿Y qué efectos podría tener este planeta en los otros planetas de nuestro sistema solar?\n",
    "\"Este es un momento emocionante para la ciencia planetaria\", dijo el Dr. Foster. \"Cada nuevo planeta que descubrimos nos enseña algo nuevo sobre nuestro sistema solar y sobre cómo se forman y evolucionan los planetas\".\n",
    "La búsqueda de respuestas a estas preguntas está en marcha. Los astrónomos de todo el mundo están apuntando sus telescopios hacia este nuevo planeta, y las misiones espaciales futuras podrían ser redirigidas para estudiar este intrigante nuevo miembro de nuestro sistema solar.\n",
    "Mientras tanto, el planeta Eris II sigue su camino a través de nuestro sistema solar, un recordatorio de cuánto queda por descubrir en nuestra propia esquina del universo.\n",
    "\"\"\""
   ]
  },
  {
   "cell_type": "code",
   "execution_count": null,
   "metadata": {
    "id": "XhC2RcCtKhdu"
   },
   "outputs": [],
   "source": [
    "# Tu código aquí ...\n",
    "\n"
   ]
  },
  {
   "cell_type": "markdown",
   "metadata": {
    "id": "oCy7AJfqKZPS"
   },
   "source": [
    "### <font color='green'>Actividad 5</font>\n",
    "Dada una lista de números, escribe una expresión lambda que tome dicha lista y devuelva la suma de todos los números en la lista que sean múltiplos de tres o cinco."
   ]
  },
  {
   "cell_type": "code",
   "execution_count": null,
   "metadata": {
    "id": "QOnikNvLNRef"
   },
   "outputs": [],
   "source": [
    "numeros = [1, 2, 3, 4, 5, 6, 7, 8, 9, 10]\n",
    "\n",
    "# Tu código aquí ...\n",
    "# -> 33\n",
    "\n"
   ]
  },
  {
   "cell_type": "markdown",
   "metadata": {
    "id": "DAEyfWt6KZWV"
   },
   "source": [
    "### <font color='green'>Actividad 6: Challenging</font>\n",
    "Escribe una expresión lambda que tome una lista de cadenas y devuelva una nueva lista que contenga las mismas cadenas pero con todas las vocales eliminadas."
   ]
  },
  {
   "cell_type": "code",
   "execution_count": null,
   "metadata": {
    "id": "za5u8o1yNkM3"
   },
   "outputs": [],
   "source": [
    "palabras = [\"hola\", \"mundo\", \"soy\", \"un\", \"programador\", \"atómico\"]\n",
    "\n",
    "# Tu código aquí ...\n",
    "# -> ['hl', 'mnd', 'sy', 'n', 'prgrmdr', 'tmc']\n",
    "\n"
   ]
  },
  {
   "cell_type": "markdown",
   "metadata": {
    "id": "fIo0IRRCOkKj"
   },
   "source": [
    "<img src=\"https://drive.google.com/uc?export=view&id=1Igtn9UXg6NGeRWsqh4hefQUjV0hmzlBv\" width=\"50\" align=\"left\" title=\"Runa-perth\">"
   ]
  },
  {
   "cell_type": "markdown",
   "metadata": {
    "id": "r60z14QLOlY7"
   },
   "source": [
    "<img src=\"https://drive.google.com/uc?export=view&id=1Igtn9UXg6NGeRWsqh4hefQUjV0hmzlBv\" width=\"100\" align=\"left\" title=\"Runa-perth\">\n",
    "<br clear=\"left\">\n",
    "Contenido opcional\n",
    "\n",
    "##<font color='blue'>__Función `reduce()`__</font>\n",
    "\n",
    "La función `reduce()` es una función incorporada en Python (disponible en el módulo functools) que aplica una función de dos argumentos de manera acumulativa a los elementos de un iterable (como una lista), de manera que reduce el iterable a un único valor de salida.\n",
    "\n",
    "Por ejemplo, si tienes una lista de números y quieres encontrar el producto de todos los números en la lista, puedes usar `reduce()` con una función que multiplica dos números.\n",
    "\n",
    "Aquí está el código que demuestra esto:"
   ]
  },
  {
   "cell_type": "code",
   "execution_count": null,
   "metadata": {
    "id": "5ykZNlUwPQlr"
   },
   "outputs": [],
   "source": [
    "from functools import reduce\n",
    "\n",
    "# Definimos una función que multiplica dos números\n",
    "def multiplica(x, y):\n",
    "    return x * y\n",
    "\n",
    "# Tenemos una lista de números\n",
    "numeros = [1, 2, 3, 4, 5]\n",
    "\n",
    "# Usamos reduce para multiplicar todos los números en la lista\n",
    "producto = reduce(multiplica, numeros)\n",
    "\n",
    "print(producto)  # Debería imprimir: 120"
   ]
  },
  {
   "cell_type": "markdown",
   "metadata": {
    "id": "CdkXL54UPs9i"
   },
   "source": [
    "La función `reduce()` es especialmente útil cuando necesitas aplicar una función específica a todos los elementos de un iterable y acumular un resultado. Esto puede ser muy útil en varias situaciones, a continuación\n",
    " algunos ejemplos:\n",
    "\n",
    "* __Cálculos acumulativos__: `reduce()` se puede usar para calcular la suma, el producto, el mínimo, el máximo, etc., de todos los elementos en un iterable. Por ejemplo, podrías usar `reduce()` para calcular el producto de todos los elementos en una lista de números, o para encontrar el número más grande en una lista.\n",
    "* __Transformación de datos__: `reduce()` también se puede usar para transformar un iterable en una forma acumulativa. Por ejemplo, podrías usar `reduce(`) para convertir una lista de cadenas en una sola cadena que contenga todas las cadenas concatenadas, o para convertir una lista de diccionarios en un solo diccionario que contenga todas las claves y valores de los diccionarios.\n",
    "* __Procesamiento de secuencias__: `reduce()` puede ser útil para procesar secuencias de datos en un solo paso. Por ejemplo, podrías usar `reduce()` para procesar una lista de transacciones y calcular el saldo de una cuenta bancaria.\n",
    "* __Programación funcional__: `reduce()` es una herramienta clave en la programación funcional, un paradigma de programación en el que las funciones son ciudadanos de primera clase y el estado y los datos mutables son evitados. En la programación funcional, las funciones como `reduce()` se utilizan para evitar los bucles y las variables de estado."
   ]
  },
  {
   "cell_type": "markdown",
   "metadata": {
    "id": "7YdccbRjKZab"
   },
   "source": [
    "### <font color='green'>Actividad 3</font>\n",
    "Dada una lista de números, escribe una expresión lambda que tome dicha lista y devuelva el producto de todos los números en la lista."
   ]
  },
  {
   "cell_type": "code",
   "execution_count": null,
   "metadata": {
    "id": "h0UGOka6O1Cq"
   },
   "outputs": [],
   "source": [
    "from functools import reduce\n",
    "\n",
    "numeros = [1, 2, 3, 4, 5]\n",
    "\n",
    "# Tu código aquí ...\n",
    "# -> 120\n",
    "\n",
    "producto = reduce(lambda x, y: x * y, numeros)\n",
    "print(producto)"
   ]
  },
  {
   "cell_type": "markdown",
   "metadata": {
    "id": "leGE6Az2RA1Q"
   },
   "source": [
    "<img src=\"https://drive.google.com/uc?export=view&id=1Igtn9UXg6NGeRWsqh4hefQUjV0hmzlBv\" width=\"50\" align=\"left\" title=\"Runa-perth\">"
   ]
  }
 ],
 "metadata": {
  "colab": {
   "provenance": [
    {
     "file_id": "1SimGnJPRRmPMuTb0Dghp5iB5hXSi65PH",
     "timestamp": 1693436268947
    }
   ]
  },
  "kernelspec": {
   "display_name": "Python 3 (ipykernel)",
   "language": "python",
   "name": "python3"
  },
  "language_info": {
   "codemirror_mode": {
    "name": "ipython",
    "version": 3
   },
   "file_extension": ".py",
   "mimetype": "text/x-python",
   "name": "python",
   "nbconvert_exporter": "python",
   "pygments_lexer": "ipython3",
   "version": "3.8.11"
  }
 },
 "nbformat": 4,
 "nbformat_minor": 0
}
