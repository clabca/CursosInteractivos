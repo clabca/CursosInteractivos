{
 "cells": [
  {
   "cell_type": "markdown",
   "metadata": {
    "id": "k2dQF-o-HQO6"
   },
   "source": [
    "# **Introducción a Python**\n",
    "# FP19. Tarea 3\n",
    "\n",
    "Hola hackers. Aquí tienes una tarea exclusiva de funciones. Hay desafíos de distinto tipo, trata de superarlos todos.\n",
    "Buena suerte !!\n"
   ]
  },
  {
   "cell_type": "markdown",
   "metadata": {
    "id": "rkIZsxKkHQO8"
   },
   "source": [
    "## <font color='green'>Tarea 1: Challenging</font>  \n",
    "Crea una función que tome un número del 1 al 10 y que devuelva la tabla de multiplicación de dicho número (hasta x 10).<br>\n",
    "Verifica que el númeor ingresado sea mayor que 0 y menor que 11, en caso contrario despliega un mensaje.\n",
    "Nombra la función como **tabla_mult**\n",
    "\n",
    "El resultado debería verse como\n",
    "```python\n",
    "tabla_mult(3)\n",
    "```\n",
    " 1 x 3 =   3 <br>\n",
    " 2 x 3 =   6 <br>\n",
    " 3 x 3 =   9 <br>\n",
    " 4 x 3 =  12 <br>\n",
    " 5 x 3 =  15 <br>\n",
    " 6 x 3 =  18 <br>\n",
    " 7 x 3 =  21 <br>\n",
    " 8 x 3 =  24 <br>\n",
    " 9 x 3 =  27 <br>\n",
    "10 x 3 =  30 <br>"
   ]
  },
  {
   "cell_type": "code",
   "execution_count": null,
   "metadata": {
    "executionInfo": {
     "elapsed": 5,
     "status": "ok",
     "timestamp": 1694207322909,
     "user": {
      "displayName": "Carol Diaz",
      "userId": "03863088177087652040"
     },
     "user_tz": 180
    },
    "id": "cMJ_ntnLHQO8"
   },
   "outputs": [],
   "source": [
    "# Tu código aquí ...\n",
    "\n",
    "def tabla_mult(num):\n",
    "    if num > 0 and num < 11:\n",
    "        for i in range(1, 11):\n",
    "            print(f'{i:>02d} x {num} = {i * num:>03d}')\n",
    "    else:\n",
    "        print(f'El Número debe estar entre 1 y 10')"
   ]
  },
  {
   "cell_type": "code",
   "execution_count": null,
   "metadata": {
    "colab": {
     "base_uri": "https://localhost:8080/"
    },
    "id": "ZfRNUEXsHQO9",
    "outputId": "5562d262-0725-4113-ca69-3bf7ae54102c"
   },
   "outputs": [],
   "source": [
    "tabla_mult(3)"
   ]
  },
  {
   "cell_type": "code",
   "execution_count": null,
   "metadata": {
    "colab": {
     "base_uri": "https://localhost:8080/"
    },
    "id": "XIIJnqQ2HQO-",
    "outputId": "58145231-3e69-406a-be22-eaacd9da9407"
   },
   "outputs": [],
   "source": [
    "tabla_mult(5)"
   ]
  },
  {
   "cell_type": "code",
   "execution_count": null,
   "metadata": {
    "colab": {
     "base_uri": "https://localhost:8080/"
    },
    "id": "3j9fsnojHQO-",
    "outputId": "8f30ab58-5de0-49b0-c8d7-fcbef040b334"
   },
   "outputs": [],
   "source": [
    "tabla_mult(15)"
   ]
  },
  {
   "cell_type": "markdown",
   "metadata": {
    "id": "fSNEHhh_HQO-"
   },
   "source": [
    "## <font color='green'>Tarea 2:</font>\n",
    "Crea una función que tome un entero y devuelva **True** si es par y **False** si es impar.<br>\n",
    "Nombra la función como **check_par_impar**"
   ]
  },
  {
   "cell_type": "code",
   "execution_count": null,
   "metadata": {
    "executionInfo": {
     "elapsed": 315,
     "status": "ok",
     "timestamp": 1694207335055,
     "user": {
      "displayName": "Carol Diaz",
      "userId": "03863088177087652040"
     },
     "user_tz": 180
    },
    "id": "5e9DMWoXHQO-"
   },
   "outputs": [],
   "source": [
    "# Tu código aquí ...\n",
    "def check_par_impar(num):\n",
    "    if num % 2 == 0:\n",
    "        return True\n",
    "    else:\n",
    "        return False\n"
   ]
  },
  {
   "cell_type": "code",
   "execution_count": null,
   "metadata": {
    "colab": {
     "base_uri": "https://localhost:8080/"
    },
    "executionInfo": {
     "elapsed": 280,
     "status": "ok",
     "timestamp": 1694207337962,
     "user": {
      "displayName": "Carol Diaz",
      "userId": "03863088177087652040"
     },
     "user_tz": 180
    },
    "id": "O_OBFBZFHQO_",
    "outputId": "d274b99a-c73d-4995-ca1c-d6142181dd9e"
   },
   "outputs": [],
   "source": [
    "check_par_impar(10)"
   ]
  },
  {
   "cell_type": "code",
   "execution_count": null,
   "metadata": {
    "colab": {
     "base_uri": "https://localhost:8080/"
    },
    "executionInfo": {
     "elapsed": 298,
     "status": "ok",
     "timestamp": 1694207341199,
     "user": {
      "displayName": "Carol Diaz",
      "userId": "03863088177087652040"
     },
     "user_tz": 180
    },
    "id": "EKJTW7lkHQO_",
    "outputId": "e79ee53e-b2e9-4ed6-9ad5-e939877ca5a0"
   },
   "outputs": [],
   "source": [
    "check_par_impar(7)"
   ]
  },
  {
   "cell_type": "markdown",
   "metadata": {
    "id": "Ji-HlWDCHQO_"
   },
   "source": [
    "## <font color='green'>Tarea 3:</font>\n",
    "\n",
    "Crea una función que tome una cadena y devuelva el primer carácter de esa cadena en mayúsculas y el resto en minúsculas.<br>\n",
    "Nombra la función como **first_upper**\n",
    "\n",
    "Tip:\n",
    "\n",
    "Busca en internet cómo concatenar strings en Python"
   ]
  },
  {
   "cell_type": "code",
   "execution_count": null,
   "metadata": {
    "id": "aUUeGnenHQO_"
   },
   "outputs": [],
   "source": [
    "# Tu código aquí ...\n",
    "def first_upper(cadena):\n",
    "    return cadena[0].upper() + cadena[1:].lower()\n"
   ]
  },
  {
   "cell_type": "code",
   "execution_count": null,
   "metadata": {
    "colab": {
     "base_uri": "https://localhost:8080/",
     "height": 35
    },
    "id": "NXb0EejrHQPA",
    "outputId": "99741fb0-fdbf-4ff1-f8e4-69f1dadc313f"
   },
   "outputs": [],
   "source": [
    "first_upper('hello') # -> 'Hello'"
   ]
  },
  {
   "cell_type": "code",
   "execution_count": null,
   "metadata": {
    "colab": {
     "base_uri": "https://localhost:8080/",
     "height": 35
    },
    "id": "uTleqzZSHQPA",
    "outputId": "d26be30f-49cb-46ed-b07f-278c68bba460"
   },
   "outputs": [],
   "source": [
    "first_upper('agent') # -> 'Agent'"
   ]
  },
  {
   "cell_type": "code",
   "execution_count": null,
   "metadata": {
    "colab": {
     "base_uri": "https://localhost:8080/",
     "height": 35
    },
    "id": "wY2sfJI1HQPA",
    "outputId": "0d21715d-ff1c-4a39-8534-a66235bc8c81"
   },
   "outputs": [],
   "source": [
    "first_upper('el EspíA que vinO del frÍo') # -> 'El espia que vino del frío'"
   ]
  },
  {
   "cell_type": "markdown",
   "metadata": {
    "id": "X_ykrqtsHQPA"
   },
   "source": [
    "## <font color='green'>Tarea 4:</font>\n",
    "\n",
    "Crea una función que tome una cadena y devuelva los dos últimos caracteres. Si hay menos de dos caracteres, devuelve la palabra: \"Error\".<br>\n",
    "Nombra la función como **last_two**\n",
    "\n",
    "Tip:\n",
    "[Usa este link si necesitas ayuda](https://stackoverflow.com/questions/7983820/get-the-last-4-characters-of-a-string)\n",
    "\n",
    "Acostúmbrate a buscar ayuda en internet!!!"
   ]
  },
  {
   "cell_type": "code",
   "execution_count": null,
   "metadata": {
    "id": "CByZ3UwHHQPA"
   },
   "outputs": [],
   "source": [
    "# Tu código aquí ...\n",
    "\n",
    "def last_two(texto):\n",
    "    if len(texto) < 2:\n",
    "        return \"Error\"\n",
    "    else:\n",
    "        return texto[-2:]"
   ]
  },
  {
   "cell_type": "code",
   "execution_count": null,
   "metadata": {
    "colab": {
     "base_uri": "https://localhost:8080/",
     "height": 35
    },
    "id": "Cz-e8e8DHQPB",
    "outputId": "4a6b9f6d-3229-4020-fea6-b69b3bf3a611"
   },
   "outputs": [],
   "source": [
    "last_two('hello') # -> 'lo'"
   ]
  },
  {
   "cell_type": "code",
   "execution_count": null,
   "metadata": {
    "colab": {
     "base_uri": "https://localhost:8080/",
     "height": 35
    },
    "id": "d4BQFkflHQPB",
    "outputId": "6c41e0d2-f757-4a64-9010-e428f586acff"
   },
   "outputs": [],
   "source": [
    "last_two('hi') # -> 'hi'"
   ]
  },
  {
   "cell_type": "code",
   "execution_count": null,
   "metadata": {
    "colab": {
     "base_uri": "https://localhost:8080/",
     "height": 35
    },
    "id": "1tUgJqbbHQPB",
    "outputId": "3ad089af-aa05-47d3-e260-81d8e7009a40"
   },
   "outputs": [],
   "source": [
    "last_two('a') # -> 'Error'"
   ]
  },
  {
   "cell_type": "markdown",
   "metadata": {
    "id": "AvOReBVxHQPB"
   },
   "source": [
    "## <font color='green'>Tarea 5: Challenging</font>\n",
    "Dada una lista de enteros, devuelve **True** si la secuencia [1, 2, 3] está en algún lugar de la lista.\n",
    "<br>\n",
    "Nombra la función como **seq_check**\n",
    "\n",
    "Tip:\n",
    "\n",
    "Use *slicing* y un bucle **for**."
   ]
  },
  {
   "cell_type": "code",
   "execution_count": null,
   "metadata": {
    "id": "A7m1ZRcQHQPB"
   },
   "outputs": [],
   "source": [
    "# Tu código aquí ...\n",
    "def seq_check(lista):\n",
    "    for i in range(len(lista) - 2):\n",
    "        if lista[i] == 1 and lista[i+1] == 2 and lista[i+2] == 3:\n",
    "            return True\n",
    "    return False\n"
   ]
  },
  {
   "cell_type": "code",
   "execution_count": null,
   "metadata": {
    "colab": {
     "base_uri": "https://localhost:8080/"
    },
    "id": "KyybCPynHQPB",
    "outputId": "f5a2297d-0c28-4b62-f66b-263fdb7cc1aa"
   },
   "outputs": [],
   "source": [
    "seq_check([1, 2, 3])  # -> True"
   ]
  },
  {
   "cell_type": "code",
   "execution_count": null,
   "metadata": {
    "colab": {
     "base_uri": "https://localhost:8080/"
    },
    "id": "jKuv99dNHQPB",
    "outputId": "c6db100e-012a-4a39-b14b-d1b7f6c1afc3"
   },
   "outputs": [],
   "source": [
    "seq_check([7, 7, 7, 1, 2, 3, 7, 7, 7]) # -> True"
   ]
  },
  {
   "cell_type": "code",
   "execution_count": null,
   "metadata": {
    "colab": {
     "base_uri": "https://localhost:8080/"
    },
    "id": "NIalLiNmHQPB",
    "outputId": "7afaa3cf-5d87-4bc1-8347-591b270d0b46"
   },
   "outputs": [],
   "source": [
    "seq_check([3, 2, 1, 3, 2, 1, 1, 1, 2, 2, 3, 3, 3]) # -> False"
   ]
  },
  {
   "cell_type": "code",
   "execution_count": null,
   "metadata": {
    "colab": {
     "base_uri": "https://localhost:8080/"
    },
    "id": "6gwshsXvHQPB",
    "outputId": "3dc76902-5489-4185-b2fe-99b75d01e556"
   },
   "outputs": [],
   "source": [
    "seq_check([1, 2]) # -> False"
   ]
  },
  {
   "cell_type": "code",
   "execution_count": null,
   "metadata": {
    "colab": {
     "base_uri": "https://localhost:8080/"
    },
    "id": "pGVcAZtsHQPB",
    "outputId": "c834a97a-fd70-487b-b13c-1f2ae76ced27"
   },
   "outputs": [],
   "source": [
    "seq_check([1]) # ->  False"
   ]
  },
  {
   "cell_type": "markdown",
   "metadata": {
    "id": "7SSBTJFBHQPB"
   },
   "source": [
    "## <font color='green'>Tarea 6: Challenging</font>\n",
    "\n",
    "Dados 2 strings (cadenas), crea una función que devuelva la diferencia de longitud entre ellas. Esta diferencia de longitud siempre debe ser un número positivo (o sólo 0). <br>\n",
    "Nombra la función como **compare_len**\n",
    "\n",
    "Tip:\n",
    "\n",
    "Busca en internet la función de valor absoluto en Python"
   ]
  },
  {
   "cell_type": "code",
   "execution_count": null,
   "metadata": {
    "id": "T0-eJH8yHQPC"
   },
   "outputs": [],
   "source": [
    "# Tu código aquí ...\n",
    "\n",
    "def compare_len(texto1,texto2):\n",
    "    return abs(len(texto1)-len(texto2))"
   ]
  },
  {
   "cell_type": "code",
   "execution_count": null,
   "metadata": {
    "colab": {
     "base_uri": "https://localhost:8080/"
    },
    "id": "fecG8j3fHQPC",
    "outputId": "935b9c80-7093-4f13-faed-f429dbb58306"
   },
   "outputs": [],
   "source": [
    "compare_len('aa','aa') # -> 0"
   ]
  },
  {
   "cell_type": "code",
   "execution_count": null,
   "metadata": {
    "colab": {
     "base_uri": "https://localhost:8080/"
    },
    "id": "UXm6FPj8HQPC",
    "outputId": "1b4952be-00af-493e-85bf-dd89fcae0535"
   },
   "outputs": [],
   "source": [
    "compare_len('a','bb') # -> 1"
   ]
  },
  {
   "cell_type": "code",
   "execution_count": null,
   "metadata": {
    "colab": {
     "base_uri": "https://localhost:8080/"
    },
    "id": "P09bEM1tHQPC",
    "outputId": "d12c04c4-3cf7-4c87-8794-85e6ab7fd68b"
   },
   "outputs": [],
   "source": [
    "compare_len('bb','a') # -> 1"
   ]
  },
  {
   "cell_type": "markdown",
   "metadata": {
    "id": "vKC9vBzTHQPC"
   },
   "source": [
    "## <font color='green'>Tarea 7:</font>\n",
    "\n",
    "Dada una lista de enteros, si la longitud de la lista es un número par, devuelve la suma de la lista. Si la longitud de la lista es impar, devuelva el valor máximo en esa lista.\n",
    "\n",
    "Nombra tu función como **sum_or_max**"
   ]
  },
  {
   "cell_type": "code",
   "execution_count": null,
   "metadata": {
    "id": "a6HcNU8wHQPC"
   },
   "outputs": [],
   "source": [
    "# Tu código aquí ...\n",
    "\n",
    "def sum_or_max(lista):\n",
    "    length = len(lista)\n",
    "\n",
    "    if length % 2 == 0:\n",
    "        return sum(lista)\n",
    "    else:\n",
    "        return max(lista)"
   ]
  },
  {
   "cell_type": "code",
   "execution_count": null,
   "metadata": {
    "colab": {
     "base_uri": "https://localhost:8080/"
    },
    "id": "G4qibe27HQPC",
    "outputId": "31c74041-2ef2-4a58-b6c5-8091c19c1495"
   },
   "outputs": [],
   "source": [
    "sum_or_max([1,2,3]) # -> 3"
   ]
  },
  {
   "cell_type": "code",
   "execution_count": null,
   "metadata": {
    "colab": {
     "base_uri": "https://localhost:8080/"
    },
    "id": "gQirSKKTHQPC",
    "outputId": "cff206a2-1e0d-4a7a-fff3-cff2267cebbe"
   },
   "outputs": [],
   "source": [
    "sum_or_max([0,1,2,3]) # -> 6"
   ]
  },
  {
   "cell_type": "markdown",
   "metadata": {
    "id": "tMDp_9XRHQPD"
   },
   "source": [
    "## <font color='green'>Tarea 8: Super challenging</font>\n",
    "\n",
    "Los agentes en el campo a veces necesitan hablar en código. Cree una función que tome un nombre (un string, por ejemplo, \"Juan Antonio\", \"Alejandra\", etc.) y haga lo siguiente:\n",
    "* Reemplace todas las vocales con la letra x. Para nuestros propósitos, consideremos estas letras como vocales: a, e, i, o, u, y sus respectivas mayúsculas.\n",
    "* Cambie la posición de la primera y última letra.\n",
    "* Entregue el resultado en mayúsculas.\n",
    "\n",
    "Tip:\n",
    "1. Esta tarea es desafiante, divídela en varias partes.\n",
    "2. AL trabajar sobre una lista, necesitarás unirla en un único string para devolver el resultado. Utiliza para ello el método **.join()** de los strings.\n",
    "\n",
    "Nombre tu función como **replace_and_switch**"
   ]
  },
  {
   "cell_type": "code",
   "execution_count": null,
   "metadata": {
    "id": "25x59X0VHQPD"
   },
   "outputs": [],
   "source": [
    "# Tu código aquí ...\n",
    "\n",
    "def replace_and_switch(texto):\n",
    "\n",
    "    resultado = list(range(len(texto)))\n",
    "#1 Reemplazar vocales\n",
    "    for n,letter in enumerate(texto):\n",
    "        if letter.lower() in ['a','e','i','o','u']:\n",
    "            resultado[n] = 'x'\n",
    "        else:\n",
    "            resultado[n] = letter\n",
    "#2 Cambio posicion letras\n",
    "    last = resultado[-1]\n",
    "    first = resultado[0]\n",
    "    resultado[0] = last\n",
    "    resultado[-1] = first\n",
    "\n",
    "#3 Resultado en Mayusculas\n",
    "    return ''.join(resultado).upper()"
   ]
  },
  {
   "cell_type": "code",
   "execution_count": null,
   "metadata": {
    "colab": {
     "base_uri": "https://localhost:8080/",
     "height": 35
    },
    "id": "5JnYb0NAHQPD",
    "outputId": "682685e7-837c-4365-8855-5e45586ab61a"
   },
   "outputs": [],
   "source": [
    "replace_and_switch('Juan Antonio') # -> 'XXXN XNTXNXJ'"
   ]
  },
  {
   "cell_type": "code",
   "execution_count": null,
   "metadata": {
    "colab": {
     "base_uri": "https://localhost:8080/",
     "height": 35
    },
    "id": "Q68fquZZHQPI",
    "outputId": "01cacf2d-2b16-4bab-bdfd-4bb0af176cac"
   },
   "outputs": [],
   "source": [
    "replace_and_switch(\"Marcela\") # -> 'XXRCXLM'"
   ]
  },
  {
   "cell_type": "markdown",
   "metadata": {
    "id": "RdxinN2pHzl9"
   },
   "source": [
    "<img src=\"https://drive.google.com/uc?export=view&id=1Igtn9UXg6NGeRWsqh4hefQUjV0hmzlBv\" width=\"100\" align=\"left\" title=\"Runa-perth\">\n",
    "<br clear=\"left\">\n",
    "Contenido opcional\n",
    "\n",
    "##<font color='blue'>__Ejercicios avanzados__</font>\n",
    "## <font color='green'>Tarea 9: Super challenging</font>\n",
    "###Calcular la suma máxima de una subsecuencia contigua.\n",
    "\n",
    "Dado un array de números, encuentra la suma máxima de cualquier subsecuencia contigua del array. Por ejemplo, dado el array [34, -50, 42, 14, -5, 86], la suma máxima sería 137, ya que tomaríamos los elementos 42, 14, -5 y 86. Dado el array [-5, -1, -8, -9], la suma máxima sería 0, ya que elegiríamos no tomar ningún elemento.\n",
    "\n",
    "1. Genera una solción utilizando una función que se llame `max_subarray_sum(array):`\n",
    "2. Mejora la solución anterior desarrollando una función que resuelva el problema leyendo solo un vez cada valor del arreglo."
   ]
  },
  {
   "cell_type": "code",
   "execution_count": null,
   "metadata": {
    "executionInfo": {
     "elapsed": 327,
     "status": "ok",
     "timestamp": 1694207406261,
     "user": {
      "displayName": "Carol Diaz",
      "userId": "03863088177087652040"
     },
     "user_tz": 180
    },
    "id": "HBZ4F47xJWXW"
   },
   "outputs": [],
   "source": [
    "# Tu código aquí ...\n",
    "\n",
    "def max_subarray_sum(array):\n",
    "    maxim = 0\n",
    "    for i in range(len(array) - 1):\n",
    "        for j in range(i, len(array)):\n",
    "            maxim = max(maxim, sum(array[i:j+1]))\n",
    "    return maxim\n",
    "\n",
    "# FALTA LA MEJORA"
   ]
  },
  {
   "cell_type": "code",
   "execution_count": null,
   "metadata": {
    "colab": {
     "base_uri": "https://localhost:8080/"
    },
    "executionInfo": {
     "elapsed": 350,
     "status": "ok",
     "timestamp": 1694207408742,
     "user": {
      "displayName": "Carol Diaz",
      "userId": "03863088177087652040"
     },
     "user_tz": 180
    },
    "id": "26eKm3ZlKbYh",
    "outputId": "da953086-c4fa-4dd3-cd2e-d0488c7b8eaf"
   },
   "outputs": [],
   "source": [
    "arr = [34, -50, 42, 14, -5, 86]\n",
    "max_subarray_sum(arr) # -> 137\n"
   ]
  },
  {
   "cell_type": "code",
   "execution_count": null,
   "metadata": {
    "colab": {
     "base_uri": "https://localhost:8080/"
    },
    "executionInfo": {
     "elapsed": 324,
     "status": "ok",
     "timestamp": 1694207411276,
     "user": {
      "displayName": "Carol Diaz",
      "userId": "03863088177087652040"
     },
     "user_tz": 180
    },
    "id": "9INaNOr4Lb4L",
    "outputId": "e7f95559-1e52-4903-b894-aa472ecef754"
   },
   "outputs": [],
   "source": [
    "arr = [1, -50, 2, 1]\n",
    "max_subarray_sum(arr) # -> 3"
   ]
  },
  {
   "cell_type": "markdown",
   "metadata": {
    "id": "AT5Hp6lhQVV5"
   },
   "source": [
    "<img src=\"https://drive.google.com/uc?export=view&id=1Igtn9UXg6NGeRWsqh4hefQUjV0hmzlBv\" width=\"50\" align=\"left\" title=\"Runa-perth\">"
   ]
  },
  {
   "cell_type": "markdown",
   "metadata": {
    "id": "nZqJVBR9HQPI"
   },
   "source": [
    "¡Excelente trabajo recluta! Más adelante, podrá combinar múltiples funciones para crear grandes piezas de código de trabajo que realizan tareas complejas."
   ]
  }
 ],
 "metadata": {
  "colab": {
   "provenance": []
  },
  "kernelspec": {
   "display_name": "Python 3 (ipykernel)",
   "language": "python",
   "name": "python3"
  },
  "language_info": {
   "codemirror_mode": {
    "name": "ipython",
    "version": 3
   },
   "file_extension": ".py",
   "mimetype": "text/x-python",
   "name": "python",
   "nbconvert_exporter": "python",
   "pygments_lexer": "ipython3",
   "version": "3.8.11"
  }
 },
 "nbformat": 4,
 "nbformat_minor": 0
}
