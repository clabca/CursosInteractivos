{
 "cells": [
  {
   "cell_type": "markdown",
   "metadata": {
    "id": "BINiVO9Cfckt"
   },
   "source": [
    "# **Introducción a Python**\n",
    "# FP13. Ciclos while (while loop)"
   ]
  },
  {
   "cell_type": "markdown",
   "metadata": {
    "id": "D9Cq-RUIfckx"
   },
   "source": [
    "Ahora que entendemos el flujo de control con las declaraciones `if`, `elif` y `else`, aprendamos sobre los bucles. El primer ciclo que aprenderemos es el `while`.\n",
    "\n",
    "## <font color='blue'>**Ciclo `while`**</font>\n",
    "\n",
    "Un ciclo `while` ejecutará repetidamente una sola declaración o grupo de declaraciones siempre que la condición que se comprueba sea verdadera. La razón por la que se llama un 'bucle' es porque las declaraciones de código se repiten una y otra vez hasta que la condición ya no se cumple.\n",
    "\n",
    "La **indentación** del código se vuelve muy importante a medida que comenzamos a trabajar con bucles y control de flujo. Veamos algunos ejemplos."
   ]
  },
  {
   "cell_type": "code",
   "execution_count": null,
   "metadata": {
    "colab": {
     "base_uri": "https://localhost:8080/"
    },
    "executionInfo": {
     "elapsed": 17,
     "status": "ok",
     "timestamp": 1694173231637,
     "user": {
      "displayName": "Carol Diaz",
      "userId": "03863088177087652040"
     },
     "user_tz": 180
    },
    "id": "ExN8guvVfckx",
    "outputId": "f65d619e-778c-4c86-8b30-7f1336b80ed5"
   },
   "outputs": [],
   "source": [
    "# Inicialicemos la variable x en 0\n",
    "\n",
    "x = 0\n",
    "\n",
    "while x < 3:\n",
    "    print(f'x actualmente es = {x}\\n')\n",
    "    print(f\"Añadimos 1 a x\")\n",
    "    x = x + 1 # otra forma de escribir esta sentencia sería  x += 1"
   ]
  },
  {
   "cell_type": "markdown",
   "metadata": {
    "id": "LbgIdoMJfckz"
   },
   "source": [
    "### Nota:\n",
    "\n",
    "```Python\n",
    "    x = x + 1\n",
    "```\n",
    "Puede se escrito como ...\n",
    "```Python\n",
    "    x += 1\n",
    "```\n",
    "Esta forma es más pythonista !!!"
   ]
  },
  {
   "cell_type": "markdown",
   "metadata": {
    "id": "5d3tAmRefckz"
   },
   "source": [
    "____\n",
    "### <font color='red'>Atención!!</font>\n",
    "¡Ten cuidado con los bucles `while`! Existe la posibilidad de escribir una condición que siempre permanece Verdadera, lo que significa que tendrás un ciclo `while` infinito en ejecución.\n",
    "\n",
    "Si esto te sucede, deberás interrumpir la ejecución del kernel de Python que estas usando. Para ello presiona haz lo siguiente:\n",
    "\n",
    "Si estás en Google Colab, haz click en el ícono que está en la esquina izquierda superior de tu celda (un pequeño cuadrado dentro de un circulo).\n",
    "\n",
    "Si estás trabajando en Jupyter o JupyterLab (en modo local) presiona el ícono de interrupción del kernel (cuadrado pequeño) en la barra superior.\n",
    "____\n",
    "\n",
    "Sigamos con algunos ejemplos más. Primero, le mostraremos cómo aceptar una entrada de un usuario:"
   ]
  },
  {
   "cell_type": "code",
   "execution_count": null,
   "metadata": {
    "colab": {
     "base_uri": "https://localhost:8080/"
    },
    "executionInfo": {
     "elapsed": 6612,
     "status": "ok",
     "timestamp": 1694173244326,
     "user": {
      "displayName": "Carol Diaz",
      "userId": "03863088177087652040"
     },
     "user_tz": 180
    },
    "id": "Q_bGUlW9fck0",
    "outputId": "58d0f89d-392e-4999-f455-70fdc327bf0f"
   },
   "outputs": [],
   "source": [
    "# Ejecuta esta celda solo una vez\n",
    "# Si lo vuelves a ejecutar sin proporcionar una\n",
    "# entrada, la celda se bloqueará con In [*]\n",
    "# Para solucionar este problema, reinicia el kernel.\n",
    "\n",
    "# Bien, ahora el código\n",
    "\n",
    "saved_input = input(\"Ingresa un número: \")"
   ]
  },
  {
   "cell_type": "code",
   "execution_count": null,
   "metadata": {
    "colab": {
     "base_uri": "https://localhost:8080/",
     "height": 36
    },
    "executionInfo": {
     "elapsed": 374,
     "status": "ok",
     "timestamp": 1694173246715,
     "user": {
      "displayName": "Carol Diaz",
      "userId": "03863088177087652040"
     },
     "user_tz": 180
    },
    "id": "h4qhmrZyfck0",
    "outputId": "1b3bc5e5-6cc2-45f6-e0b6-5a43c9c66e57"
   },
   "outputs": [],
   "source": [
    "saved_input"
   ]
  },
  {
   "cell_type": "markdown",
   "metadata": {
    "id": "EUOTAuxofck1"
   },
   "source": [
    "### <font color = 'red'>Atención</font>\n",
    "\n",
    "Qué tipo de dato devolvió `input()`?<br>\n",
    "Fíjate, es un string!<br>\n",
    "Siempre que necesites ingresar un valor numérico podrás encapsular la función `input()` con `int()` o `float()`.<br>\n",
    "Considera eso si que siempr deberas validar los datos que se ingresan desde el teclado.\n",
    "\n",
    "Veamos cómo podríamos usar esto:"
   ]
  },
  {
   "cell_type": "code",
   "execution_count": null,
   "metadata": {
    "colab": {
     "base_uri": "https://localhost:8080/"
    },
    "executionInfo": {
     "elapsed": 21703,
     "status": "ok",
     "timestamp": 1694173273149,
     "user": {
      "displayName": "Carol Diaz",
      "userId": "03863088177087652040"
     },
     "user_tz": 180
    },
    "id": "yKhpDaZzfck2",
    "outputId": "f224e1c6-29a3-4e42-a20a-597c07c0cee4"
   },
   "outputs": [],
   "source": [
    "print(\"Bienvenido hacker\")\n",
    "\n",
    "# comienza con alguna contraseña predeterminada (debe definirse antes de que comience el ciclo)\n",
    "\n",
    "password = 0\n",
    "\n",
    "while password != 123:\n",
    "    password = int(input(\"Ingresa tu password: \"))\n",
    "\n",
    "# Esto no se ejecutará hasta que el ciclo while sea\n",
    "# hecho debido a la indentación\n",
    "print(\"Password correcta!\")"
   ]
  },
  {
   "cell_type": "code",
   "execution_count": null,
   "metadata": {
    "colab": {
     "base_uri": "https://localhost:8080/"
    },
    "executionInfo": {
     "elapsed": 19758,
     "status": "ok",
     "timestamp": 1694173296832,
     "user": {
      "displayName": "Carol Diaz",
      "userId": "03863088177087652040"
     },
     "user_tz": 180
    },
    "id": "BBefA2Dpfck2",
    "outputId": "ca72108a-b22e-4309-ea68-146bcc740f46"
   },
   "outputs": [],
   "source": [
    "print(\"Bienvenido hacker\")\n",
    "\n",
    "# comienza con alguna contraseña predeterminada (debe definirse antes de que comience el ciclo)\n",
    "\n",
    "password = 0\n",
    "\n",
    "while password != 123:\n",
    "    password = int(input(\"Ingresa tu password: \"))\n",
    "\n",
    "    # Lógica de flujo de control anidado\n",
    "    if password != 123:\n",
    "        print(\"Password errónea\")\n",
    "        print(\"Intenta nuevamente ...\\n\")\n",
    "\n",
    "# Esto no se ejecutará hasta que el ciclo while sea\n",
    "# hecho debido a la indentación\n",
    "print(\"Password correcta!\")"
   ]
  },
  {
   "cell_type": "markdown",
   "metadata": {
    "id": "D7N3dRuPfck3"
   },
   "source": [
    "## <font color='blue'>**Rompiendo el flujo con `break`**</font>"
   ]
  },
  {
   "cell_type": "markdown",
   "metadata": {
    "id": "8qI_Jrw4fck3"
   },
   "source": [
    "La palabra clave `break` le permite \"salir\" del bucle. Por ejemplo:"
   ]
  },
  {
   "cell_type": "code",
   "execution_count": null,
   "metadata": {
    "colab": {
     "base_uri": "https://localhost:8080/"
    },
    "executionInfo": {
     "elapsed": 495,
     "status": "ok",
     "timestamp": 1694173299950,
     "user": {
      "displayName": "Carol Diaz",
      "userId": "03863088177087652040"
     },
     "user_tz": 180
    },
    "id": "0unSsTyDfck3",
    "outputId": "f39752ae-8c30-4eae-9efc-5fd70a7b64ba"
   },
   "outputs": [],
   "source": [
    "x = 0\n",
    "\n",
    "while x < 10:\n",
    "    print(x)\n",
    "    print('Suma 1 a x')\n",
    "    x += 1\n",
    "\n",
    "    if x == 3:   # Si x = 3 (Verdadero), esto causará la salida (break out) del bucle\n",
    "        break"
   ]
  },
  {
   "cell_type": "markdown",
   "metadata": {
    "id": "hxUVD4doj7Yf"
   },
   "source": [
    "## <font color='blue'>__Ejercicios__</font>"
   ]
  },
  {
   "cell_type": "markdown",
   "metadata": {
    "id": "UaP83pW6fck3"
   },
   "source": [
    "### <font color='green'>Actividad 1:</font>\n",
    "### Contando números\n",
    "\n",
    "Crea un programa que cuente de 1 a 10 utilizando `while`.\n",
    "Imprime cada número en una línea separada.\n",
    "\n",
    "Pasos:\n",
    "1. Crea e inicializa una variable para contar\n",
    "2. Crea el bucle `while`\n",
    "3. Imprime la variable\n",
    "4. Incrementa la variable usando += 1"
   ]
  },
  {
   "cell_type": "code",
   "execution_count": null,
   "metadata": {
    "colab": {
     "base_uri": "https://localhost:8080/"
    },
    "executionInfo": {
     "elapsed": 364,
     "status": "ok",
     "timestamp": 1694173303491,
     "user": {
      "displayName": "Carol Diaz",
      "userId": "03863088177087652040"
     },
     "user_tz": 180
    },
    "id": "n2U39LOMfck4",
    "outputId": "72bba0e5-959d-4306-dc77-07684b3b0d3b"
   },
   "outputs": [],
   "source": [
    "# Tu código aquí ...\n",
    "\n",
    "x = 1\n",
    "\n",
    "while x < 11:\n",
    "    print(x, '\\n')\n",
    "    x += 1\n",
    "\n"
   ]
  },
  {
   "cell_type": "markdown",
   "metadata": {
    "id": "RC2HXpVifck4"
   },
   "source": [
    "<font color='green'>Fin actividad 1</font>"
   ]
  },
  {
   "cell_type": "markdown",
   "metadata": {
    "id": "8beD4yINfck4"
   },
   "source": [
    "### <font color='green'>Actividad 2: Challenging</font>\n",
    "### Contar números, pero detenerse cuando la suma de los números contados sea > 50\n",
    "\n",
    "Crea un programa que cuente de 1 a 100 usando bucles `while`. <br>\n",
    "Imprime cada número en una línea separada. <br>\n",
    "Suma el número contado en otra variable y deja de contar cuando la suma sea mayor o igual a 50.\n",
    "    \n",
    "Pseudo código:\n",
    "1. Crea e inicializa una variable para contar\n",
    "2. Cree e inicialice una variable para sumar\n",
    "3. Crea el bucle while\n",
    "4. Imprime la variable de recuento\n",
    "5. Añade la variable de recuento a la variable de suma\n",
    "6. Compara si la variable suma es mayor o igual a 50. Si es así, imprime la variable suma y rompe el ciclo\n",
    "7. Incrementar la variable usando += 1"
   ]
  },
  {
   "cell_type": "code",
   "execution_count": null,
   "metadata": {
    "colab": {
     "base_uri": "https://localhost:8080/"
    },
    "executionInfo": {
     "elapsed": 404,
     "status": "ok",
     "timestamp": 1694173308596,
     "user": {
      "displayName": "Carol Diaz",
      "userId": "03863088177087652040"
     },
     "user_tz": 180
    },
    "id": "gr5uoqJtfck4",
    "outputId": "1ebc18cd-b3ea-407e-9d1c-ba8702539cb3"
   },
   "outputs": [],
   "source": [
    "# Tu código aquí ...\n",
    "\n",
    "x = 1\n",
    "suma = 0\n",
    "\n",
    "while x < 100:\n",
    "    suma = suma + x\n",
    "    print(x, '\\n')\n",
    "    if suma >= 50:\n",
    "        break\n",
    "\n",
    "    x += 1\n",
    "\n",
    "print(f'El conteo se detuvo pues la suma es: {suma}')\n"
   ]
  },
  {
   "cell_type": "markdown",
   "metadata": {
    "id": "bjT6Gmt5fck5"
   },
   "source": [
    "<font color='green'>Fin actividad 2</font>"
   ]
  },
  {
   "cell_type": "markdown",
   "metadata": {
    "id": "-HIoEzd7fck5"
   },
   "source": [
    "Excelente trabajo !!"
   ]
  }
 ],
 "metadata": {
  "colab": {
   "provenance": [
    {
     "file_id": "1OKiis2Wdj6OTBZuETNJgXhWAyGgpQDOI",
     "timestamp": 1692973108450
    }
   ]
  },
  "kernelspec": {
   "display_name": "Python 3 (ipykernel)",
   "language": "python",
   "name": "python3"
  },
  "language_info": {
   "codemirror_mode": {
    "name": "ipython",
    "version": 3
   },
   "file_extension": ".py",
   "mimetype": "text/x-python",
   "name": "python",
   "nbconvert_exporter": "python",
   "pygments_lexer": "ipython3",
   "version": "3.8.11"
  }
 },
 "nbformat": 4,
 "nbformat_minor": 0
}
