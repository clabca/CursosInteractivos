{
 "cells": [
  {
   "cell_type": "markdown",
   "metadata": {
    "id": "Uubr3gOe45dD"
   },
   "source": [
    "# **Introducción a Python**\n",
    "# FP02. Imprimiendo"
   ]
  },
  {
   "cell_type": "markdown",
   "metadata": {
    "id": "A_HrwolY45dH"
   },
   "source": [
    "## <font color='blue'>**La función `print()`**</font>"
   ]
  },
  {
   "cell_type": "code",
   "execution_count": null,
   "metadata": {
    "colab": {
     "base_uri": "https://localhost:8080/"
    },
    "executionInfo": {
     "elapsed": 33,
     "status": "ok",
     "timestamp": 1694133958750,
     "user": {
      "displayName": "Carol Diaz",
      "userId": "03863088177087652040"
     },
     "user_tz": 180
    },
    "id": "AFE_Aq-S45dH",
    "outputId": "ad121c8e-7562-4eae-8dd8-6ae60dca57b7"
   },
   "outputs": [],
   "source": [
    "print(\"Hello World\")"
   ]
  },
  {
   "cell_type": "markdown",
   "metadata": {
    "id": "iuQxBj0-45dJ"
   },
   "source": [
    "<div class=\"alert alert-block alert-warning\">\n",
    "<b>TIP: </b>En Python, las comillas simples, dobles y triples se utilizan para denotar una cadena o _string_. <br>\n",
    "La mayoría usa comillas simples al declarar un solo carácter. <br>\n",
    "Comillas dobles al declarar una línea y ... <br>\n",
    "Comillas triples al declarar un párrafo / varias líneas.\n",
    "</div>\n",
    "\n"
   ]
  },
  {
   "cell_type": "code",
   "execution_count": null,
   "metadata": {
    "colab": {
     "base_uri": "https://localhost:8080/"
    },
    "executionInfo": {
     "elapsed": 27,
     "status": "ok",
     "timestamp": 1694133958752,
     "user": {
      "displayName": "Carol Diaz",
      "userId": "03863088177087652040"
     },
     "user_tz": 180
    },
    "id": "yG9KoimR45dK",
    "outputId": "117a440c-7043-4e3f-b5aa-3d338657ee36"
   },
   "outputs": [],
   "source": [
    "print('A')"
   ]
  },
  {
   "cell_type": "code",
   "execution_count": null,
   "metadata": {
    "colab": {
     "base_uri": "https://localhost:8080/"
    },
    "executionInfo": {
     "elapsed": 285,
     "status": "ok",
     "timestamp": 1694133972798,
     "user": {
      "displayName": "Carol Diaz",
      "userId": "03863088177087652040"
     },
     "user_tz": 180
    },
    "id": "JPCF9aOd45dK",
    "outputId": "b9b64077-2f5c-4b54-e6d2-4f06ef79b9ca"
   },
   "outputs": [],
   "source": [
    "print(\"Hello World\")"
   ]
  },
  {
   "cell_type": "code",
   "execution_count": null,
   "metadata": {
    "colab": {
     "base_uri": "https://localhost:8080/"
    },
    "executionInfo": {
     "elapsed": 280,
     "status": "ok",
     "timestamp": 1694133974230,
     "user": {
      "displayName": "Carol Diaz",
      "userId": "03863088177087652040"
     },
     "user_tz": 180
    },
    "id": "ltpG5eD-45dL",
    "outputId": "39a1654c-e0b2-4713-dbc7-ae307e7bff48"
   },
   "outputs": [],
   "source": [
    "print (\"\"\"My name is <write your name here> and\n",
    "\n",
    "I love Python.\"\"\")"
   ]
  },
  {
   "cell_type": "markdown",
   "metadata": {
    "id": "e047uSG145dM"
   },
   "source": [
    "Las cadenas se pueden asignar a una variable, por ejemplo, _string1_ y _string2_, las cuales se pueden llamar cuando se usa la función de impresión."
   ]
  },
  {
   "cell_type": "code",
   "execution_count": null,
   "metadata": {
    "colab": {
     "base_uri": "https://localhost:8080/"
    },
    "executionInfo": {
     "elapsed": 318,
     "status": "ok",
     "timestamp": 1694133977019,
     "user": {
      "displayName": "Carol Diaz",
      "userId": "03863088177087652040"
     },
     "user_tz": 180
    },
    "id": "vihFnQz945dM",
    "outputId": "8be7e491-659c-4b7f-d867-41a9fac73314",
    "scrolled": true
   },
   "outputs": [],
   "source": [
    "string1 = 'World'\n",
    "print('Hello', string1)\n",
    "\n",
    "string2 = '!'\n",
    "print('Hello', string1, string2)"
   ]
  },
  {
   "cell_type": "markdown",
   "metadata": {
    "id": "4Jvw7PGO45dN"
   },
   "source": [
    "La concatenación de cadenas es la \"suma\" de dos cadenas. Observe que durante la concatenación no habrá espacio entre las dos cadenas o strings."
   ]
  },
  {
   "cell_type": "code",
   "execution_count": null,
   "metadata": {
    "colab": {
     "base_uri": "https://localhost:8080/"
    },
    "executionInfo": {
     "elapsed": 11,
     "status": "ok",
     "timestamp": 1694133979085,
     "user": {
      "displayName": "Carol Diaz",
      "userId": "03863088177087652040"
     },
     "user_tz": 180
    },
    "id": "FtmHxu-A45dN",
    "outputId": "3cd6194d-70ac-4997-9264-61269af15d5f"
   },
   "outputs": [],
   "source": [
    "print('Hello' + string1 + string2)"
   ]
  },
  {
   "cell_type": "markdown",
   "metadata": {
    "id": "AArQn7sJ45dO"
   },
   "source": [
    "## <font color='blue'>**String formating (formateo)**</font>\n",
    "\n",
    "Hay varias opciones para formatear las salidas de la funcion `print()` en Python. Dos de ellas ya están obsoletas (`%-formating` y `str.format()`), y la tercera es la que actualmente se usa (`f-Strings`).\n",
    "\n",
    "Encontrarás mucho código con las formas antiguas, así es que debes aprenderlas también."
   ]
  },
  {
   "cell_type": "markdown",
   "metadata": {
    "id": "L3D2jpmr45dP"
   },
   "source": [
    "## <font color='blue'>**Opción 1: `%-formatting` - La vieja escuela**</font>"
   ]
  },
  {
   "cell_type": "code",
   "execution_count": null,
   "metadata": {
    "colab": {
     "base_uri": "https://localhost:8080/",
     "height": 36
    },
    "executionInfo": {
     "elapsed": 290,
     "status": "ok",
     "timestamp": 1694133981785,
     "user": {
      "displayName": "Carol Diaz",
      "userId": "03863088177087652040"
     },
     "user_tz": 180
    },
    "id": "5xEADPNL45dP",
    "outputId": "6617ef62-b4e4-42fa-e487-4a4de5882df0"
   },
   "outputs": [],
   "source": [
    "nombre = \"Juan\"\n",
    "\"Hola, %s.\" % nombre"
   ]
  },
  {
   "cell_type": "code",
   "execution_count": null,
   "metadata": {
    "colab": {
     "base_uri": "https://localhost:8080/",
     "height": 36
    },
    "executionInfo": {
     "elapsed": 305,
     "status": "ok",
     "timestamp": 1694133984054,
     "user": {
      "displayName": "Carol Diaz",
      "userId": "03863088177087652040"
     },
     "user_tz": 180
    },
    "id": "dAl5XMMT45dP",
    "outputId": "9d0a7b52-aff9-4af2-946d-394a022d2c1a"
   },
   "outputs": [],
   "source": [
    "nombre = \"Juan\"\n",
    "edad = 34\n",
    "\n",
    "\"Hola, %s. Tú tienes %s años.\" % (nombre, edad)"
   ]
  },
  {
   "cell_type": "code",
   "execution_count": null,
   "metadata": {
    "colab": {
     "base_uri": "https://localhost:8080/",
     "height": 36
    },
    "executionInfo": {
     "elapsed": 17,
     "status": "ok",
     "timestamp": 1694133985451,
     "user": {
      "displayName": "Carol Diaz",
      "userId": "03863088177087652040"
     },
     "user_tz": 180
    },
    "id": "9F0C7T7g45dQ",
    "outputId": "4539d42d-7f63-43b9-a057-dbd423b05086"
   },
   "outputs": [],
   "source": [
    "# Si las líneas a imprimir son más de una necesitaremos usa la función print()\n",
    "nombre2 = \"Andrea\"\n",
    "edad2 = 38\n",
    "\"Hola, %s. Tú tienes %s años.\" % (nombre, edad)\n",
    "\"Hola, %s. Tú tienes %s años.\" % (nombre2, edad2)"
   ]
  },
  {
   "cell_type": "code",
   "execution_count": null,
   "metadata": {
    "colab": {
     "base_uri": "https://localhost:8080/"
    },
    "executionInfo": {
     "elapsed": 14,
     "status": "ok",
     "timestamp": 1694133987532,
     "user": {
      "displayName": "Carol Diaz",
      "userId": "03863088177087652040"
     },
     "user_tz": 180
    },
    "id": "I0tA0UiA45dQ",
    "outputId": "84781f31-a567-4ec8-c46c-5aaddfec1149"
   },
   "outputs": [],
   "source": [
    "# Ahora si la salida estándar (la partalla) mostrará las dos sentencias\n",
    "print(\"Hola, %s. Tú tienes %s años.\" % (nombre, edad))\n",
    "print(\"Hola, %s. Tú tienes %s años.\" % (nombre2, edad2))"
   ]
  },
  {
   "cell_type": "markdown",
   "metadata": {
    "id": "lRYQwC0n45dQ"
   },
   "source": [
    "Esta lógica de formateo resultó ser muy verborreica (verbose) y propensa a errores"
   ]
  },
  {
   "cell_type": "code",
   "execution_count": null,
   "metadata": {
    "colab": {
     "base_uri": "https://localhost:8080/",
     "height": 36
    },
    "executionInfo": {
     "elapsed": 31,
     "status": "ok",
     "timestamp": 1694133989548,
     "user": {
      "displayName": "Carol Diaz",
      "userId": "03863088177087652040"
     },
     "user_tz": 180
    },
    "id": "sCo4GBKi45dR",
    "outputId": "db263b1a-53da-4d4a-dc76-dbf8878c26af"
   },
   "outputs": [],
   "source": [
    "nombre = \"Juan\"\n",
    "apellido = \"Perez\"\n",
    "edad = 74\n",
    "profesion = \"comediante\"\n",
    "afiliacion = \"Monty Python\"\n",
    "\"Hola, %s %s. Tú tienes %s años. Eres un %s. Eres miembro de %s.\" % (nombre, apellido, edad, profesion, afiliacion)"
   ]
  },
  {
   "cell_type": "markdown",
   "metadata": {
    "id": "yF6DlCXb45dR"
   },
   "source": [
    "## <font color='blue'>**Opción 2: `str.format()` - Vieja escuela también**</font>\n",
    "En esta opción, se reemplazarán los campos marcados con corchetes { }"
   ]
  },
  {
   "cell_type": "code",
   "execution_count": null,
   "metadata": {
    "colab": {
     "base_uri": "https://localhost:8080/",
     "height": 36
    },
    "executionInfo": {
     "elapsed": 348,
     "status": "ok",
     "timestamp": 1694133992264,
     "user": {
      "displayName": "Carol Diaz",
      "userId": "03863088177087652040"
     },
     "user_tz": 180
    },
    "id": "luEj-0de45dR",
    "outputId": "0fbc704c-b594-48e1-97f7-42535ce05745"
   },
   "outputs": [],
   "source": [
    "\"Hello {}\".format(string1)"
   ]
  },
  {
   "cell_type": "code",
   "execution_count": null,
   "metadata": {
    "colab": {
     "base_uri": "https://localhost:8080/"
    },
    "executionInfo": {
     "elapsed": 275,
     "status": "ok",
     "timestamp": 1694133994076,
     "user": {
      "displayName": "Carol Diaz",
      "userId": "03863088177087652040"
     },
     "user_tz": 180
    },
    "id": "6TdzcSmz45dR",
    "outputId": "0d367d9f-eb90-4741-a61c-31ab414b54a8"
   },
   "outputs": [],
   "source": [
    "print(\"Hello {}\".format(string1))"
   ]
  },
  {
   "cell_type": "code",
   "execution_count": null,
   "metadata": {
    "colab": {
     "base_uri": "https://localhost:8080/",
     "height": 36
    },
    "executionInfo": {
     "elapsed": 413,
     "status": "ok",
     "timestamp": 1694133997098,
     "user": {
      "displayName": "Carol Diaz",
      "userId": "03863088177087652040"
     },
     "user_tz": 180
    },
    "id": "15VpXNn145dS",
    "outputId": "2d6400a8-b4c2-4394-cd6b-1304d0c2279b"
   },
   "outputs": [],
   "source": [
    "# Podemos manejar la posición de las variables en el string de salida\n",
    "\"Hola, {}. Tu tienes {}.\".format(nombre, edad)"
   ]
  },
  {
   "cell_type": "code",
   "execution_count": null,
   "metadata": {
    "colab": {
     "base_uri": "https://localhost:8080/",
     "height": 36
    },
    "executionInfo": {
     "elapsed": 258,
     "status": "ok",
     "timestamp": 1694133998540,
     "user": {
      "displayName": "Carol Diaz",
      "userId": "03863088177087652040"
     },
     "user_tz": 180
    },
    "id": "glQhCJYb45dS",
    "outputId": "355509c6-61ea-4d2b-fdd8-091d08b939cc"
   },
   "outputs": [],
   "source": [
    "\"Hola, {1}. Tu tienes {0}.\".format(edad, nombre)"
   ]
  },
  {
   "cell_type": "markdown",
   "metadata": {
    "id": "deOGmZTA45dS"
   },
   "source": [
    "Podemos utilizar otras notaciones numéricas durante el formateo\n",
    "\n",
    "    - %s -> string\n",
    "    - %d -> Integer\n",
    "    - %f -> Float\n",
    "    - %o -> Octal\n",
    "    - %x -> Hexadecimal\n",
    "    - %e -> exponential\n",
    "    \n",
    "Pueden ser utilizados dentro de la función `print()` para convertir los tipos de datos."
   ]
  },
  {
   "cell_type": "code",
   "execution_count": null,
   "metadata": {
    "colab": {
     "base_uri": "https://localhost:8080/"
    },
    "executionInfo": {
     "elapsed": 276,
     "status": "ok",
     "timestamp": 1694134001107,
     "user": {
      "displayName": "Carol Diaz",
      "userId": "03863088177087652040"
     },
     "user_tz": 180
    },
    "id": "dFV7piGs45dT",
    "outputId": "e0698cc0-007a-4ee6-b406-59238431eeda"
   },
   "outputs": [],
   "source": [
    "# Utilizando la Opción 1\n",
    "\n",
    "print (\"Actual Number = %d\" %18)\n",
    "print (\"Float of the number = %f\" %18)\n",
    "print (\"Octal equivalent of the number = %o\" %18)\n",
    "print (\"Hexadecimal equivalent of the number = %x\" %18)\n",
    "print (\"Exponential equivalent of the number = %e\" %18)"
   ]
  },
  {
   "cell_type": "code",
   "execution_count": null,
   "metadata": {
    "colab": {
     "base_uri": "https://localhost:8080/"
    },
    "executionInfo": {
     "elapsed": 293,
     "status": "ok",
     "timestamp": 1694134004174,
     "user": {
      "displayName": "Carol Diaz",
      "userId": "03863088177087652040"
     },
     "user_tz": 180
    },
    "id": "P5kAaN3w45dT",
    "outputId": "75bca454-022b-4c4c-cf51-a8757106d99d"
   },
   "outputs": [],
   "source": [
    "# Utilizando la opción 2\n",
    "\n",
    "print (\"Actual Number = {:d}\".format(18))\n",
    "print (\"Float of the number = {:f}\".format(18))\n",
    "print (\"Octal equivalent of the number = {:o}\".format(18))\n",
    "print (\"Hexadecimal equivalent of the number = {:x}\".format(18))\n",
    "print (\"Exponential equivalent of the number = {:e}\".format(18))"
   ]
  },
  {
   "cell_type": "markdown",
   "metadata": {
    "id": "MmRYYFzW45dT"
   },
   "source": [
    "\n",
    "Veamos distintas formas de integrar `print()`con `format()`.<br>\n",
    "Analiza y y comenta las diferentes salidas."
   ]
  },
  {
   "cell_type": "code",
   "execution_count": null,
   "metadata": {
    "colab": {
     "base_uri": "https://localhost:8080/"
    },
    "executionInfo": {
     "elapsed": 311,
     "status": "ok",
     "timestamp": 1694134115565,
     "user": {
      "displayName": "Carol Diaz",
      "userId": "03863088177087652040"
     },
     "user_tz": 180
    },
    "id": "ghkdb3mP45dT",
    "outputId": "9c73d689-3709-42a0-a7b4-6a072102871d"
   },
   "outputs": [],
   "source": [
    "print('1.  {1} {0}'.format('one', 'two'))\n",
    "# Alineación a la derecha\n",
    "print('2.  {:>10}'.format('test'))\n",
    "# Alineación izquierda (por defecto)\n",
    "print('3.  {:10}'.format('test'))\n",
    "# numeros\n",
    "print('4.  {:d}'.format(42))\n",
    "# Cantidad de decimales por defecto\n",
    "print('5.  {:f}'.format(3.141592653589793))\n",
    "# padding\n",
    "print('6.  {:4d}'.format(42))\n",
    "# Completa con ceros a la izquierda un float,\n",
    "# 6 caracteres y dos decimales,\n",
    "# el punto se considera caracter\n",
    "print('7.  {:06.2f}'.format(3.141592653589793))\n",
    "# completa con ceros a la izquierda un entero\n",
    "print('8.  {:04d}'.format(42))\n",
    "print('9.  {: d}'.format((- 23)))\n",
    "# Asigna nombres a los elementos a imprimir\n",
    "# esto permite imprimir variables de forma directa\n",
    "print('10. {first} {last}'.format(first='Hello', last='world!'))\n",
    "print(\"11. Hello {:s} {:s}\".format(string1, string2))"
   ]
  },
  {
   "cell_type": "markdown",
   "metadata": {
    "id": "qKfxMdz645dU"
   },
   "source": [
    "### Otros ejemplos"
   ]
  },
  {
   "cell_type": "markdown",
   "metadata": {
    "id": "8tiUa9F345dU"
   },
   "source": [
    "Las siguientes son otras formas diferentes de utilizar la declaración de impresión."
   ]
  },
  {
   "cell_type": "code",
   "execution_count": null,
   "metadata": {
    "colab": {
     "base_uri": "https://localhost:8080/"
    },
    "executionInfo": {
     "elapsed": 12,
     "status": "ok",
     "timestamp": 1694134118968,
     "user": {
      "displayName": "Carol Diaz",
      "userId": "03863088177087652040"
     },
     "user_tz": 180
    },
    "id": "AfsWhCYM45dU",
    "outputId": "e675248b-d5c4-45c9-dde3-fafe56f96c87"
   },
   "outputs": [],
   "source": [
    "print (\"I want to be printed {:s}\".format('here'))"
   ]
  },
  {
   "cell_type": "code",
   "execution_count": null,
   "metadata": {
    "colab": {
     "base_uri": "https://localhost:8080/"
    },
    "executionInfo": {
     "elapsed": 314,
     "status": "ok",
     "timestamp": 1694134120593,
     "user": {
      "displayName": "Carol Diaz",
      "userId": "03863088177087652040"
     },
     "user_tz": 180
    },
    "id": "sjKPBLnJ45dU",
    "outputId": "8b645cb8-29b7-47b1-d4ba-5e9d3b3eadac"
   },
   "outputs": [],
   "source": [
    "print('_A'*10)"
   ]
  },
  {
   "cell_type": "code",
   "execution_count": null,
   "metadata": {
    "colab": {
     "base_uri": "https://localhost:8080/"
    },
    "executionInfo": {
     "elapsed": 9,
     "status": "ok",
     "timestamp": 1694134122521,
     "user": {
      "displayName": "Carol Diaz",
      "userId": "03863088177087652040"
     },
     "user_tz": 180
    },
    "id": "_otIYuEJ45dV",
    "outputId": "bbb77f02-5e3d-4ed8-ac9b-a572cdb14c43"
   },
   "outputs": [],
   "source": [
    "# Con el caracter de control \\n saltamos una línea\n",
    "print(\"Jan\\nFeb\\nMar\\nApr\\nMay\\nJun\\nJul\\nAug\")"
   ]
  },
  {
   "cell_type": "code",
   "execution_count": null,
   "metadata": {
    "colab": {
     "base_uri": "https://localhost:8080/"
    },
    "executionInfo": {
     "elapsed": 10,
     "status": "ok",
     "timestamp": 1694134125455,
     "user": {
      "displayName": "Carol Diaz",
      "userId": "03863088177087652040"
     },
     "user_tz": 180
    },
    "id": "ZMcReAnP45dV",
    "outputId": "7305f384-2ca3-429e-d1d1-807a1151bb81"
   },
   "outputs": [],
   "source": [
    "# Si queremos imprimir el caracter \\n sin saltar línea duplicamos el backslash\n",
    "print(\"I want \\\\n to be printed.\")"
   ]
  },
  {
   "cell_type": "code",
   "execution_count": null,
   "metadata": {
    "colab": {
     "base_uri": "https://localhost:8080/"
    },
    "executionInfo": {
     "elapsed": 356,
     "status": "ok",
     "timestamp": 1694134127139,
     "user": {
      "displayName": "Carol Diaz",
      "userId": "03863088177087652040"
     },
     "user_tz": 180
    },
    "id": "nZDKHWkV45dV",
    "outputId": "6421c0b6-fc2f-445c-86df-dd1d405f7d41"
   },
   "outputs": [],
   "source": [
    "# Con \\t generamos una tabulación\n",
    "print(\"Look\\twhat\\thappens.\")"
   ]
  },
  {
   "cell_type": "code",
   "execution_count": null,
   "metadata": {
    "colab": {
     "base_uri": "https://localhost:8080/"
    },
    "executionInfo": {
     "elapsed": 283,
     "status": "ok",
     "timestamp": 1694134128976,
     "user": {
      "displayName": "Carol Diaz",
      "userId": "03863088177087652040"
     },
     "user_tz": 180
    },
    "id": "QzrtJxJn45dV",
    "outputId": "c86751df-7435-44ea-e6e1-b8be81debfd2"
   },
   "outputs": [],
   "source": [
    "print(\"\"\"\n",
    "Routine:\n",
    "\\t- Eat\n",
    "\\t- Sleep\\n\\t- Repeat\n",
    "\"\"\")"
   ]
  },
  {
   "cell_type": "markdown",
   "metadata": {
    "id": "H8wbB6al45dW"
   },
   "source": [
    "### Manejando la precisión y la cantidad de números a mostrar"
   ]
  },
  {
   "cell_type": "markdown",
   "metadata": {
    "id": "A0RfHiOr45dW"
   },
   "source": [
    "El ancho del campo es el ancho del número completo y la precisión es el ancho hacia la derecha desde el punto decimal. Se pueden modificar estos anchos según los requisitos.\n",
    "\n",
    "El ancho de precisión predeterminado se establece en 6."
   ]
  },
  {
   "cell_type": "code",
   "execution_count": null,
   "metadata": {
    "colab": {
     "base_uri": "https://localhost:8080/",
     "height": 36
    },
    "executionInfo": {
     "elapsed": 835,
     "status": "ok",
     "timestamp": 1694134132084,
     "user": {
      "displayName": "Carol Diaz",
      "userId": "03863088177087652040"
     },
     "user_tz": 180
    },
    "id": "eOU4ps6R45dW",
    "outputId": "cdde4b11-1e9e-44d5-c62c-62a1a388adea"
   },
   "outputs": [],
   "source": [
    "# predeterminado = 6\n",
    "\"%f\" % 3.121312312312"
   ]
  },
  {
   "cell_type": "markdown",
   "metadata": {
    "id": "ChP1QMM_45dW"
   },
   "source": [
    "Observa que se devuelven hasta 6 decimales. Para especificar el número de decimales, se utiliza\n",
    "\n",
    "`\"%(fieldwidth).(precisionwidth)f\"`"
   ]
  },
  {
   "cell_type": "code",
   "execution_count": null,
   "metadata": {
    "colab": {
     "base_uri": "https://localhost:8080/",
     "height": 36
    },
    "executionInfo": {
     "elapsed": 311,
     "status": "ok",
     "timestamp": 1694134133944,
     "user": {
      "displayName": "Carol Diaz",
      "userId": "03863088177087652040"
     },
     "user_tz": 180
    },
    "id": "6DSruVUL45dW",
    "outputId": "790579e5-51ae-422c-9937-bfb56fbc3963"
   },
   "outputs": [],
   "source": [
    "\"%.5f\" % 3.121312312312"
   ]
  },
  {
   "cell_type": "markdown",
   "metadata": {
    "id": "cwmh6wbu45dW"
   },
   "source": [
    "### Lo mismo pero usando la opción 2 con str.format()\n",
    "Cuál es la diferencia?\n",
    "\n",
    "TIP: busca en los pequeños detalles"
   ]
  },
  {
   "cell_type": "code",
   "execution_count": null,
   "metadata": {
    "colab": {
     "base_uri": "https://localhost:8080/"
    },
    "executionInfo": {
     "elapsed": 18,
     "status": "ok",
     "timestamp": 1694134136215,
     "user": {
      "displayName": "Carol Diaz",
      "userId": "03863088177087652040"
     },
     "user_tz": 180
    },
    "id": "Ts_y2LQ_45dW",
    "outputId": "638ab24f-7af0-4834-aa7e-6b09ce57baf6"
   },
   "outputs": [],
   "source": [
    "print(\"{:.5f}\".format(3.121312312312))"
   ]
  },
  {
   "cell_type": "code",
   "execution_count": null,
   "metadata": {
    "colab": {
     "base_uri": "https://localhost:8080/"
    },
    "executionInfo": {
     "elapsed": 382,
     "status": "ok",
     "timestamp": 1694134137878,
     "user": {
      "displayName": "Carol Diaz",
      "userId": "03863088177087652040"
     },
     "user_tz": 180
    },
    "id": "vylv688g45dX",
    "outputId": "836a6e35-c609-4d7a-857a-d4537b19dc72"
   },
   "outputs": [],
   "source": [
    "type(\"%.5f\" % 3.121312312312)"
   ]
  },
  {
   "cell_type": "code",
   "execution_count": null,
   "metadata": {
    "colab": {
     "base_uri": "https://localhost:8080/"
    },
    "executionInfo": {
     "elapsed": 8,
     "status": "ok",
     "timestamp": 1694134139222,
     "user": {
      "displayName": "Carol Diaz",
      "userId": "03863088177087652040"
     },
     "user_tz": 180
    },
    "id": "HfpEhviH45dX",
    "outputId": "96ed1539-5e78-4cbf-c5b4-1590cf2a5c9b"
   },
   "outputs": [],
   "source": [
    "type(print(\"{:.5f}\".format(3.121312312312)))"
   ]
  },
  {
   "cell_type": "markdown",
   "metadata": {
    "id": "Y_WrASVB45dX"
   },
   "source": [
    "Si el ancho del campo se establece más de lo necesario, los datos a la derecha se alinean para ajustarse a los valores especificados."
   ]
  },
  {
   "cell_type": "code",
   "execution_count": null,
   "metadata": {
    "id": "7BC2DMLA45dX"
   },
   "outputs": [],
   "source": [
    "\"%9.5f\" % 3.121312312312"
   ]
  },
  {
   "cell_type": "markdown",
   "metadata": {
    "id": "42TMoWfU45dY"
   },
   "source": [
    "Para una alineación adecuada, se puede dejar un espacio en blanco en el ancho del campo para que cuando se use un número negativo, se mantenga la alineación adecuada."
   ]
  },
  {
   "cell_type": "code",
   "execution_count": null,
   "metadata": {
    "colab": {
     "base_uri": "https://localhost:8080/"
    },
    "executionInfo": {
     "elapsed": 11,
     "status": "ok",
     "timestamp": 1694134141392,
     "user": {
      "displayName": "Carol Diaz",
      "userId": "03863088177087652040"
     },
     "user_tz": 180
    },
    "id": "rz_OGeb_45dY",
    "outputId": "6c6048db-dc0b-4a43-eaa5-9a3d63d6572f"
   },
   "outputs": [],
   "source": [
    "print(\"{:10f}\".format(3.121312312312)) # Recuerda que por defecto imprimirá 6 decimales\n",
    "print(\"{:10f}\".format(-3.121312312312))\n",
    "print(\"{: 9f}\".format(-3.121312312312))"
   ]
  },
  {
   "cell_type": "markdown",
   "metadata": {
    "id": "RaPrgRuy45dY"
   },
   "source": [
    "Como se mencionó anteriormente, los datos a la derecha se alinean cuando el ancho del campo mencionado es mayor que el ancho del campo real. Pero la alineación a la izquierda se puede hacer especificando un símbolo negativo en el ancho del campo."
   ]
  },
  {
   "cell_type": "markdown",
   "metadata": {
    "id": "fSmtBxN845dZ"
   },
   "source": [
    "## <font color='blue'>**Opción 3: `f-strings` - La nueva escuela**</font>"
   ]
  },
  {
   "cell_type": "markdown",
   "metadata": {
    "id": "89yCyAlw45dZ"
   },
   "source": [
    "La sintaxis es similar a la que usó con `str.format()` pero menos detallada (verbose). Mira lo fácil de leer que es:"
   ]
  },
  {
   "cell_type": "code",
   "execution_count": null,
   "metadata": {
    "colab": {
     "base_uri": "https://localhost:8080/",
     "height": 36
    },
    "executionInfo": {
     "elapsed": 24,
     "status": "ok",
     "timestamp": 1694134144581,
     "user": {
      "displayName": "Carol Diaz",
      "userId": "03863088177087652040"
     },
     "user_tz": 180
    },
    "id": "SjMfGAH345dZ",
    "outputId": "f5eaccda-cea7-4fee-d9eb-a7004f253961"
   },
   "outputs": [],
   "source": [
    "nombre = \"Pedro\"\n",
    "edad = 42\n",
    "f\"Hola, {nombre}. Tu tienes {edad} años.\""
   ]
  },
  {
   "cell_type": "code",
   "execution_count": null,
   "metadata": {
    "colab": {
     "base_uri": "https://localhost:8080/",
     "height": 36
    },
    "executionInfo": {
     "elapsed": 417,
     "status": "ok",
     "timestamp": 1694134146187,
     "user": {
      "displayName": "Carol Diaz",
      "userId": "03863088177087652040"
     },
     "user_tz": 180
    },
    "id": "w1jx-nLC45da",
    "outputId": "4a3e1766-bd51-40a1-c0e5-fb26d5847fe2"
   },
   "outputs": [],
   "source": [
    "# la f puede ser mayúscula tambien\n",
    "F\"Hola, {nombre}. Tu tienes {edad} años.\""
   ]
  },
  {
   "cell_type": "markdown",
   "metadata": {
    "id": "IQkBGWG045da"
   },
   "source": [
    "Los f-strings pueden evaluar operaciones en su interior"
   ]
  },
  {
   "cell_type": "code",
   "execution_count": null,
   "metadata": {
    "colab": {
     "base_uri": "https://localhost:8080/",
     "height": 36
    },
    "executionInfo": {
     "elapsed": 21,
     "status": "ok",
     "timestamp": 1694134147461,
     "user": {
      "displayName": "Carol Diaz",
      "userId": "03863088177087652040"
     },
     "user_tz": 180
    },
    "id": "XdYJ7FZk45da",
    "outputId": "06fa97f3-f675-466c-bf3b-93be1c535929"
   },
   "outputs": [],
   "source": [
    "f'{2 * 8}'"
   ]
  },
  {
   "cell_type": "code",
   "execution_count": null,
   "metadata": {
    "colab": {
     "base_uri": "https://localhost:8080/",
     "height": 36
    },
    "executionInfo": {
     "elapsed": 26,
     "status": "ok",
     "timestamp": 1694134149953,
     "user": {
      "displayName": "Carol Diaz",
      "userId": "03863088177087652040"
     },
     "user_tz": 180
    },
    "id": "QlUyUA2N45da",
    "outputId": "d212d358-f589-40a0-86e0-bbf4c979ef31"
   },
   "outputs": [],
   "source": [
    "f'{2} x {8} = {2 * 8}'"
   ]
  },
  {
   "cell_type": "code",
   "execution_count": null,
   "metadata": {
    "colab": {
     "base_uri": "https://localhost:8080/",
     "height": 36
    },
    "executionInfo": {
     "elapsed": 394,
     "status": "ok",
     "timestamp": 1694134151698,
     "user": {
      "displayName": "Carol Diaz",
      "userId": "03863088177087652040"
     },
     "user_tz": 180
    },
    "id": "LRTMK6jP45da",
    "outputId": "792ab731-0e8c-442b-d7c1-3f90f917a083"
   },
   "outputs": [],
   "source": [
    "# Igual que antes, si queremos imprimir más de una sentencia, deberemos usar la función print()\n",
    "F\"Hola, {nombre}. Tu tienes {edad} años.\"\n",
    "F\"Hola, {nombre2}. Tu tienes {edad2} años.\""
   ]
  },
  {
   "cell_type": "code",
   "execution_count": null,
   "metadata": {
    "colab": {
     "base_uri": "https://localhost:8080/"
    },
    "executionInfo": {
     "elapsed": 226,
     "status": "ok",
     "timestamp": 1694134153129,
     "user": {
      "displayName": "Carol Diaz",
      "userId": "03863088177087652040"
     },
     "user_tz": 180
    },
    "id": "BeZLJnht45da",
    "outputId": "fe962496-2730-41bf-c255-8cb602502610"
   },
   "outputs": [],
   "source": [
    "print(F\"Hola, {nombre}. Tu tienes {edad} años.\")\n",
    "print(F\"Hola, {nombre2}. Tu tienes {edad2} años.\")"
   ]
  },
  {
   "cell_type": "code",
   "execution_count": null,
   "metadata": {
    "colab": {
     "base_uri": "https://localhost:8080/"
    },
    "executionInfo": {
     "elapsed": 11,
     "status": "ok",
     "timestamp": 1694134155966,
     "user": {
      "displayName": "Carol Diaz",
      "userId": "03863088177087652040"
     },
     "user_tz": 180
    },
    "id": "H1q42gza45db",
    "outputId": "29417965-2c41-4898-c9bb-2c9f609596cb"
   },
   "outputs": [],
   "source": [
    "mensaje = (\n",
    "    F\"Hola, {nombre}. Tu tienes {edad} años. \\n\"\n",
    "    F\"Hola, {nombre2}. Tu tienes {edad2} años.\"\n",
    ")\n",
    "print(mensaje)"
   ]
  },
  {
   "cell_type": "code",
   "execution_count": null,
   "metadata": {
    "colab": {
     "base_uri": "https://localhost:8080/"
    },
    "executionInfo": {
     "elapsed": 10,
     "status": "ok",
     "timestamp": 1694134157559,
     "user": {
      "displayName": "Carol Diaz",
      "userId": "03863088177087652040"
     },
     "user_tz": 180
    },
    "id": "KChdbV2A45db",
    "outputId": "98fd5902-3940-473c-ef77-d84b38d421b3"
   },
   "outputs": [],
   "source": [
    "# Otras notaciones numéricas utilizando la Opción 3\n",
    "val = 18\n",
    "print (f\"Actual Number = {val: d}\")\n",
    "print (f\"Float of the number = {val: f}\")\n",
    "print (f\"Octal equivalent of the number = {val :o}\")\n",
    "print (f\"Hexadecimal equivalent of the number = {val :x}\")\n",
    "print (f\"Exponential equivalent of the number = {val :e}\")"
   ]
  },
  {
   "cell_type": "markdown",
   "metadata": {
    "id": "24o2fHbE45db"
   },
   "source": [
    "### Manejando la precisión y la cantidad de números a mostrar"
   ]
  },
  {
   "cell_type": "code",
   "execution_count": null,
   "metadata": {
    "colab": {
     "base_uri": "https://localhost:8080/"
    },
    "executionInfo": {
     "elapsed": 12,
     "status": "ok",
     "timestamp": 1694134160240,
     "user": {
      "displayName": "Carol Diaz",
      "userId": "03863088177087652040"
     },
     "user_tz": 180
    },
    "id": "4rs5fxEV45db",
    "outputId": "ca96cc54-7b4a-4470-cd34-220d2dcacb2a"
   },
   "outputs": [],
   "source": [
    "val2 = 3.121312312312\n",
    "print(f\"{val2:.2f}\")\n",
    "print(f\"{val2:.5f}\")\n",
    "print(f\"{val2:9.5f}\")\n",
    "print(f\"{val2:09.5f}\")"
   ]
  },
  {
   "cell_type": "markdown",
   "metadata": {
    "id": "pkUfuLRl45db"
   },
   "source": [
    "### Justificando y manejo de ancho con f-strings"
   ]
  },
  {
   "cell_type": "code",
   "execution_count": null,
   "metadata": {
    "colab": {
     "base_uri": "https://localhost:8080/"
    },
    "executionInfo": {
     "elapsed": 272,
     "status": "ok",
     "timestamp": 1694134162516,
     "user": {
      "displayName": "Carol Diaz",
      "userId": "03863088177087652040"
     },
     "user_tz": 180
    },
    "id": "Sd6wTu3O45db",
    "outputId": "3794813e-f991-419b-d2e8-8ca683522a2b"
   },
   "outputs": [],
   "source": [
    "s1 = 'a'\n",
    "s2 = 'ab'\n",
    "s3 = 'abc'\n",
    "s4 = 'abcd'\n",
    "\n",
    "print(f'{s1:>10}')\n",
    "print(f'{s2:>10}')\n",
    "print(f'{s3:>10}')\n",
    "print(f'{s4:>10}')"
   ]
  },
  {
   "cell_type": "markdown",
   "metadata": {
    "id": "Dz5nWGxW45dc"
   },
   "source": [
    "## <font color='blue'>**Ingresando datos desde el teclado**</font>"
   ]
  },
  {
   "cell_type": "code",
   "execution_count": null,
   "metadata": {
    "colab": {
     "base_uri": "https://localhost:8080/",
     "height": 54
    },
    "executionInfo": {
     "elapsed": 14330,
     "status": "ok",
     "timestamp": 1694134179556,
     "user": {
      "displayName": "Carol Diaz",
      "userId": "03863088177087652040"
     },
     "user_tz": 180
    },
    "id": "hilk0WYU45dc",
    "outputId": "7033d3af-4b11-462a-9d11-5e28e43ab4f4"
   },
   "outputs": [],
   "source": [
    "input(\"Mi nombre es: \")"
   ]
  },
  {
   "cell_type": "markdown",
   "metadata": {
    "id": "PxCiEN__wlv0"
   },
   "source": [
    "## <font color='blue'>__Ejercicios__</font>"
   ]
  },
  {
   "cell_type": "markdown",
   "metadata": {
    "id": "5AkVX3Et45dX"
   },
   "source": [
    "### <font color='green'>Actividad 1:</font>\n",
    "### Escribe sentencias con `str.format()`\n",
    "Escribe las sentencias utilizando la opción 2 con `str.format()`.\n",
    "\n",
    "1. Imprime la siguiente salida utilizando el valor de pi dado:\n",
    "\n",
    "```python\n",
    "El valor de Π es   3.14159\n",
    "```\n",
    "\n",
    "Tip: Con *chr(298))* obtendrás el caracter unicode de PI.\n",
    "\n",
    "2. Genera la siguiente impresión en base a *valor1* y *valor2*\n",
    "\n",
    "```python\n",
    "01234.123\n",
    "00001.123\n",
    "```\n",
    "\n",
    "Tip: El relleno de ceros (zero padding) se realiza agregando un 0 al comienzo del ancho de campo."
   ]
  },
  {
   "cell_type": "code",
   "execution_count": null,
   "metadata": {
    "colab": {
     "base_uri": "https://localhost:8080/"
    },
    "executionInfo": {
     "elapsed": 384,
     "status": "ok",
     "timestamp": 1694134669657,
     "user": {
      "displayName": "Carol Diaz",
      "userId": "03863088177087652040"
     },
     "user_tz": 180
    },
    "id": "RWJjVHWo45dX",
    "outputId": "fc912878-185d-4cfa-b41a-62c18398c18f"
   },
   "outputs": [],
   "source": [
    "# Tu código aquí ...\n",
    "\n",
    "import math\n",
    "pi = math.pi\n",
    "print(\"El valor de Π es {:9.5f}\".format(pi))\n",
    "\n",
    "#otra forma de escribir π\n",
    "print(\"El valor de \"+chr(960)+\" es {:9.5f}\".format(pi))"
   ]
  },
  {
   "cell_type": "code",
   "execution_count": null,
   "metadata": {
    "colab": {
     "base_uri": "https://localhost:8080/"
    },
    "executionInfo": {
     "elapsed": 247,
     "status": "ok",
     "timestamp": 1694134713169,
     "user": {
      "displayName": "Carol Diaz",
      "userId": "03863088177087652040"
     },
     "user_tz": 180
    },
    "id": "qQPetRRu45dY",
    "outputId": "321e370a-9499-475a-8cc1-34fb59a76f96"
   },
   "outputs": [],
   "source": [
    "# Tu código aquí ...\n",
    "\n",
    "num1 = 1234.123\n",
    "num2 = 1.123\n",
    "\n",
    "print(f\"   {num1:09.3f}\", '\\n')\n",
    "print(f\"   {num2:09.3f}\")\n"
   ]
  },
  {
   "cell_type": "markdown",
   "metadata": {
    "id": "ALV7jnGY45dY"
   },
   "source": [
    "<font color='green'>Fin actividad 1</font>"
   ]
  },
  {
   "cell_type": "markdown",
   "metadata": {
    "id": "-uVsgppx45dZ"
   },
   "source": [
    "### <font color='green'>Actividad 2:</font>\n",
    "### Cuál es la diferencia?\n",
    "Abre una nueva celda debajo de la siguiente y escribe un texto Markdown que explique cuál es la diferencia entre las dos siguientes declaraciones de impresión."
   ]
  },
  {
   "cell_type": "code",
   "execution_count": null,
   "metadata": {
    "colab": {
     "base_uri": "https://localhost:8080/"
    },
    "executionInfo": {
     "elapsed": 415,
     "status": "ok",
     "timestamp": 1694134914887,
     "user": {
      "displayName": "Carol Diaz",
      "userId": "03863088177087652040"
     },
     "user_tz": 180
    },
    "id": "OvxF8-vM45dZ",
    "outputId": "4127ad54-750c-4417-eb8e-cb53498055d1"
   },
   "outputs": [],
   "source": [
    "print(\"{:9.3f}\".format(3.121312312312))\n",
    "print(\"{:.3f}\".format(3.121312312312))"
   ]
  },
  {
   "cell_type": "markdown",
   "metadata": {
    "id": "pyndqGPn45dZ"
   },
   "source": [
    "<font color='yellow'> RESPUESTA:\n",
    "\n",
    "print(\"{:9.3f}\".format(3.121312312312)): La impresión tendra un largo de 9 caracteres para el número. Se imprimira el numero flotante con su parte entera y 3 decimales, ajustado a la derecha.\n",
    "\n",
    "print(\"{:.3f}\".format(3.121312312312)): No se especifica el ancho total del campo. Por lo tanto, el número flotante se imprimirá con su parte entera y 3 decimales, sin ajuste adicional.\n",
    "\n",
    "# </font>"
   ]
  },
  {
   "cell_type": "markdown",
   "metadata": {
    "id": "5gpyMpvs45dZ"
   },
   "source": [
    "<font color='green'>Fin actividad 2</font>"
   ]
  },
  {
   "cell_type": "markdown",
   "metadata": {
    "id": "mUCl1Ej245db"
   },
   "source": [
    "### <font color='green'>Actividad 3:</font>\n",
    "### Manejo de ancho con f-strings\n",
    "Ejecuta el siguiente ejemplo y luego desarrolla el desafío"
   ]
  },
  {
   "cell_type": "code",
   "execution_count": null,
   "metadata": {
    "colab": {
     "base_uri": "https://localhost:8080/"
    },
    "executionInfo": {
     "elapsed": 258,
     "status": "ok",
     "timestamp": 1694134281352,
     "user": {
      "displayName": "Carol Diaz",
      "userId": "03863088177087652040"
     },
     "user_tz": 180
    },
    "id": "1Unzkfu-45dc",
    "outputId": "cb9ebe04-a756-4d6d-a4e7-ee1f39fe7a35"
   },
   "outputs": [],
   "source": [
    "# El siguiente ejemplo imprime tres columnas del mismo ancho\n",
    "\n",
    "for x in range(1, 11):\n",
    "    print(f'{x:5} {x:5} {x:5}')"
   ]
  },
  {
   "cell_type": "code",
   "execution_count": null,
   "metadata": {
    "colab": {
     "base_uri": "https://localhost:8080/"
    },
    "executionInfo": {
     "elapsed": 5,
     "status": "ok",
     "timestamp": 1694134282955,
     "user": {
      "displayName": "Carol Diaz",
      "userId": "03863088177087652040"
     },
     "user_tz": 180
    },
    "id": "ZlHN2T9645dc",
    "outputId": "ea28a2c3-d4e4-444b-e75c-d951fcea47ba"
   },
   "outputs": [],
   "source": [
    "# Crea tres columnas similares a las anteriores en cuyas filas se escriba el número, su potencia de\n",
    "# dos y su potencia de tres\n",
    "# El ancho de las columnas debe ser 2 para la primera, 3 para la segunda y 4 para la tercera\n",
    "\n",
    "for x in range(1, 11):\n",
    "    print(f'{x:2} {x**2:3} {x**3:4}')"
   ]
  },
  {
   "cell_type": "markdown",
   "metadata": {
    "id": "J-hRFyE945dc"
   },
   "source": [
    "<font color='green'>Fin actividad 3</font>"
   ]
  },
  {
   "cell_type": "markdown",
   "metadata": {
    "id": "5wnFNkbc45dc"
   },
   "source": [
    "### <font color='green'>Actividad 4:</font>\n",
    "### Almacena el dato ingresado en una variable\n",
    "Almacena su nombre en una variable\n",
    "\n",
    "TIP: utilice la función input()\n"
   ]
  },
  {
   "cell_type": "code",
   "execution_count": null,
   "metadata": {
    "colab": {
     "base_uri": "https://localhost:8080/",
     "height": 54
    },
    "executionInfo": {
     "elapsed": 17856,
     "status": "ok",
     "timestamp": 1694134340075,
     "user": {
      "displayName": "Carol Diaz",
      "userId": "03863088177087652040"
     },
     "user_tz": 180
    },
    "id": "6YO-7g3b45dc",
    "outputId": "0c7d0860-92e9-403b-f5f3-d50e70a82f7e"
   },
   "outputs": [],
   "source": [
    "mi_nombre = input(\"Mi nombre es: \")\n",
    "mi_nombre"
   ]
  },
  {
   "cell_type": "markdown",
   "metadata": {
    "id": "wlib77m5m92o"
   },
   "source": [
    "### Escribe \"Hello world\" con tu nombre\n",
    "Escribe \"Hello world, \\<nombre\\>!!\" utilizando los tres métodos de formateo enseñados en la clase <br>\n",
    "\n",
    "TIP: utiliza la variable que contiene tu nombre<br>\n",
    "OUTPUT: \"Hello world, Andrés!!\""
   ]
  },
  {
   "cell_type": "code",
   "execution_count": null,
   "metadata": {
    "colab": {
     "base_uri": "https://localhost:8080/"
    },
    "executionInfo": {
     "elapsed": 17405,
     "status": "ok",
     "timestamp": 1694134360841,
     "user": {
      "displayName": "Carol Diaz",
      "userId": "03863088177087652040"
     },
     "user_tz": 180
    },
    "id": "DqR5kYjinD7m",
    "outputId": "342ec343-b94a-431e-f2f9-b457baf64d61"
   },
   "outputs": [],
   "source": [
    "mensaje = \"Ingrese su nombre: \"\n",
    "nombre = input(mensaje).strip()\n",
    "\n",
    "print(\"1. \\\"Hello world, %s!!\\\"\" % nombre)\n",
    "print(\"2. \\\"Hello world, {}!!\\\"\".format(nombre))\n",
    "print(f\"3. \\\"Hello world, {nombre}!!\\\"\")\n"
   ]
  },
  {
   "cell_type": "markdown",
   "metadata": {
    "id": "p_QdbBR_45dd"
   },
   "source": [
    "<font color='green'>Fin actividad 4</font>"
   ]
  },
  {
   "cell_type": "markdown",
   "metadata": {
    "id": "2BZMFmFS45dd"
   },
   "source": [
    "### <font color='green'>Actividad 5:</font>\n",
    "### Imprime datos de la tienda en línea\n",
    "\n",
    "Imagina que estás desarrollando un programa para una tienda en línea y necesitas mostrar la información de un producto, incluyendo su nombre, precio, descuento y precio final. Utilizando f-strings con opciones de formateo avanzado, crea una cadena formateada que muestre estos datos de manera adecuada y estilizada. Asegúrate de alinear correctamente el texto y los números, así como de mostrar los decimales y el símbolo de porcentaje según las especificaciones indicadas. Imprime la cadena formateada para visualizar los resultados.\n",
    "\n",
    "La salida debe verse de la siguiente forma:\n",
    "```Python\n",
    "Producto: Computadora portátil\n",
    "Precio:       $   1299.99\n",
    "Descuento:          15.00%\n",
    "Precio final: $   1104.99\n",
    "```"
   ]
  },
  {
   "cell_type": "code",
   "execution_count": null,
   "metadata": {
    "colab": {
     "base_uri": "https://localhost:8080/"
    },
    "executionInfo": {
     "elapsed": 932,
     "status": "ok",
     "timestamp": 1694134394095,
     "user": {
      "displayName": "Carol Diaz",
      "userId": "03863088177087652040"
     },
     "user_tz": 180
    },
    "id": "SgqOnfuO45dd",
    "outputId": "d839c1f9-83ef-416b-b58e-b654464e2bc4"
   },
   "outputs": [],
   "source": [
    "# Datos de una tienda en línea\n",
    "producto = \"Computadora portátil\"\n",
    "precio = 1299.99\n",
    "descuento = 0.15\n",
    "precio_final = precio * (1 - descuento)\n",
    "\n",
    "# en vez de los () puede ir '\\' al final de cada linea.\n",
    "\n",
    "cadena = (f\"Producto: {producto:>20}\\n\"\n",
    "          f\"Precio:       ${precio:10.2f}\\n\"\n",
    "          f\"Descuento:     {descuento*100:10.2f}%\\n\"\n",
    "          f\"Precio final: ${precio_final:10.2f}\")\n",
    "\n",
    "print(cadena)"
   ]
  },
  {
   "cell_type": "markdown",
   "metadata": {
    "id": "iPWbx9FS45dd"
   },
   "source": [
    "<font color='green'>Fin actividad 5</font>"
   ]
  },
  {
   "cell_type": "markdown",
   "metadata": {
    "id": "D9c0kiOveMcY"
   },
   "source": [
    "<img src=\"https://drive.google.com/uc?export=view&id=1DNuGbS1i-9it4Nyr3ZMncQz9cRhs2eJr\" width=\"100\" align=\"left\" title=\"Runa-perth\">\n",
    "<br clear=\"left\">\n",
    "\n",
    "## <font color='blue'>**Resumen**</font>\n",
    "\n",
    "A continuación un resumen de las formas de formatear números, texto y otros elementos en un `print` utilizando f-strings:\n",
    "\n",
    "### Formateo de Números:\n",
    "\n",
    "__Enteros__: Para formatear un número entero, puedes utilizar los siguientes especificadores de formato:\n",
    "```Python\n",
    "{n:d}    # Muestra el número entero n sin ningún formato adicional.\n",
    "{n:05d}  # Rellena con ceros a la izquierda hasta alcanzar\n",
    "         # una longitud total de 5 dígitos.\n",
    "{n:,}    # Agrega comas como separadores de miles para mejorar\n",
    "         # la legibilidad.\n",
    "```\n",
    "\n",
    "__Flotantes__: Para formatear un número de punto flotante, puedes utilizar los siguientes especificadores de formato:\n",
    "```Python\n",
    "{x:f}     # Muestra el número flotante x en su forma básica.\n",
    "{x:.2f}   # Muestra el número flotante x con 2 decimales.\n",
    "{x:,.2f}  # Muestra el número flotante x con 2 decimales\n",
    "          # y comas como separadores de miles.\n",
    "```\n",
    "\n",
    "### Formateo de Texto:\n",
    "\n",
    "__Cadenas de caracteres__: Puedes formatear una cadena de caracteres utilizando los siguientes especificadores de formato:\n",
    "```Python\n",
    "{s}      # Muestra la cadena de caracteres s sin ningún formato adicional.\n",
    "{s:10}   # Alinea la cadena de caracteres s a la derecha en un ancho de 10 caracteres.\n",
    "{s:<10}  # Alinea la cadena de caracteres s a la izquierda\n",
    "         # en un ancho de 10 caracteres.\n",
    "```\n",
    "\n",
    "### Formateo Avanzado:\n",
    "\n",
    "__Variables__: Puedes utilizar variables en tus f-strings para formatear múltiples valores en una sola línea. Por ejemplo:\n",
    "\n",
    "``` Python\n",
    "f\"El resultado es {x} y el número de intentos es {count}\"\n",
    "```\n",
    "__Expresiones__: Puedes realizar operaciones o utilizar expresiones dentro de un f-string. Por ejemplo:\n",
    "```Pyython\n",
    "f\"El resultado es {x * y}\"\n",
    "```\n",
    "\n",
    "__Formato Numérico Avanzado__: Puedes utilizar especificadores de formato avanzados para controlar la precisión, el relleno, la alineación y otros aspectos. Por ejemplo:\n",
    "\n",
    "```Python\n",
    "{x:0>8.2f}\n",
    "```\n",
    "\n",
    "__Formato de Fechas y Horas__: Puedes formatear fechas y horas utilizando el módulo `datetime` de Python. Por ejemplo:\n",
    "```Python\n",
    "{date:%Y-%m-%d}   #Muestra la fecha en formato AAAA-MM-DD.\n",
    "{time:%H:%M:%S}   #Muestra la hora en formato HH:MM:SS.\n",
    "```\n",
    "\n",
    "__Formateo de Números con Precisión Variable__: Puedes utilizar la expresión `{x:.nf}` para especificar la precisión decimal `n` de un número flotante x. Por ejemplo:\n",
    "```Python\n",
    "{x:.3f}  # Muestra el número flotante x con 3 decimales.\n",
    "{x:.2f}  # Muestra el número flotante x con 2 decimales\n",
    "```\n",
    "\n",
    "__Formateo de Números en Notación Científica__: Puedes utilizar el especificador de formato e para mostrar números en notación científica. Por ejemplo:\n",
    "```Python\n",
    "{x:e}: Muestra el número x en notación científica.\n",
    "```\n",
    "\n",
    "__Uso de Condiciones Ternarias__: Puedes utilizar una condición ternaria dentro de un f-string para mostrar diferentes valores según una condición. Por ejemplo:\n",
    "```Python\n",
    "{x if condition else y}   # Muestra el valor de x si la condición es verdadera;\n",
    "                          # de lo contrario, muestra el valor de y.\n",
    "```\n",
    "\n",
    "__Uso de Expresiones y Funciones__: Puedes realizar operaciones más complejas y utilizar funciones dentro de un f-string. Por ejemplo:\n",
    "```Python\n",
    "{(x + y) * z}   # Realiza la operación (x + y) * z dentro del f-string.\n",
    "{len(string)}   # Muestra la longitud de una cadena de caracteres string.\n",
    "```"
   ]
  },
  {
   "cell_type": "code",
   "execution_count": null,
   "metadata": {
    "id": "LlGyOaSQ45dd"
   },
   "outputs": [],
   "source": [
    "n = 10000\n",
    "f'{n:,.2f} is {n:.2e}'"
   ]
  },
  {
   "cell_type": "code",
   "execution_count": null,
   "metadata": {
    "id": "1Hb1CYHPivpY"
   },
   "outputs": [],
   "source": [
    "from datetime import datetime\n",
    "now = datetime.now()\n",
    "print(f\"Fecha y hora actual: {now:%Y-%m-%d %H:%M:%S}\")\n"
   ]
  },
  {
   "cell_type": "code",
   "execution_count": null,
   "metadata": {
    "id": "ZFERiqAXkvCW"
   },
   "outputs": [],
   "source": [
    "x = 1\n",
    "y = 0\n",
    "cond = False\n",
    "f'{x if cond else y}'"
   ]
  },
  {
   "cell_type": "markdown",
   "metadata": {
    "id": "Lbk74moSTmN-"
   },
   "source": [
    "<img src=\"https://drive.google.com/uc?export=view&id=1DNuGbS1i-9it4Nyr3ZMncQz9cRhs2eJr\" width=\"50\" align=\"left\" title=\"Runa-perth\">\n",
    "<br clear=\"left\">"
   ]
  }
 ],
 "metadata": {
  "colab": {
   "provenance": [
    {
     "file_id": "1lPH1XOm7YJk7thsFbZE5aTvrtX6SPVRG",
     "timestamp": 1692232427992
    }
   ]
  },
  "kernelspec": {
   "display_name": "Python 3 (ipykernel)",
   "language": "python",
   "name": "python3"
  },
  "language_info": {
   "codemirror_mode": {
    "name": "ipython",
    "version": 3
   },
   "file_extension": ".py",
   "mimetype": "text/x-python",
   "name": "python",
   "nbconvert_exporter": "python",
   "pygments_lexer": "ipython3",
   "version": "3.8.11"
  }
 },
 "nbformat": 4,
 "nbformat_minor": 0
}
